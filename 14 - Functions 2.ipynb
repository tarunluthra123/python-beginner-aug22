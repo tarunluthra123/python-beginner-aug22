{
 "cells": [
  {
   "cell_type": "markdown",
   "id": "347fb487",
   "metadata": {},
   "source": [
    "# Functions 2"
   ]
  },
  {
   "cell_type": "code",
   "execution_count": null,
   "id": "6c9d96c6",
   "metadata": {},
   "outputs": [],
   "source": []
  },
  {
   "cell_type": "markdown",
   "id": "8ad67bce",
   "metadata": {},
   "source": [
    "#### Quiz 1\n",
    "```\n",
    "function random():\n",
    "    return True\n",
    "\n",
    "random()\n",
    "```"
   ]
  },
  {
   "cell_type": "code",
   "execution_count": 1,
   "id": "57941d50",
   "metadata": {},
   "outputs": [
    {
     "ename": "SyntaxError",
     "evalue": "invalid syntax (992644156.py, line 1)",
     "output_type": "error",
     "traceback": [
      "\u001b[0;36m  File \u001b[0;32m\"/var/folders/jn/1bsrct314hv5xmfm7vrcdrzc0000gn/T/ipykernel_1803/992644156.py\"\u001b[0;36m, line \u001b[0;32m1\u001b[0m\n\u001b[0;31m    function random():\u001b[0m\n\u001b[0m             ^\u001b[0m\n\u001b[0;31mSyntaxError\u001b[0m\u001b[0;31m:\u001b[0m invalid syntax\n"
     ]
    }
   ],
   "source": [
    "function random():\n",
    "    return True\n",
    "\n",
    "random()"
   ]
  },
  {
   "cell_type": "code",
   "execution_count": null,
   "id": "4451f6fd",
   "metadata": {},
   "outputs": [],
   "source": []
  },
  {
   "cell_type": "markdown",
   "id": "bfcaa266",
   "metadata": {},
   "source": [
    "#### Quiz 2\n",
    "```\n",
    "def abc:\n",
    "    return \"I am a function!\"\n",
    "\n",
    "abc()\n",
    "```"
   ]
  },
  {
   "cell_type": "code",
   "execution_count": 2,
   "id": "c17efa13",
   "metadata": {},
   "outputs": [
    {
     "ename": "SyntaxError",
     "evalue": "invalid syntax (2677837596.py, line 1)",
     "output_type": "error",
     "traceback": [
      "\u001b[0;36m  File \u001b[0;32m\"/var/folders/jn/1bsrct314hv5xmfm7vrcdrzc0000gn/T/ipykernel_1803/2677837596.py\"\u001b[0;36m, line \u001b[0;32m1\u001b[0m\n\u001b[0;31m    def abc:\u001b[0m\n\u001b[0m           ^\u001b[0m\n\u001b[0;31mSyntaxError\u001b[0m\u001b[0;31m:\u001b[0m invalid syntax\n"
     ]
    }
   ],
   "source": [
    "def abc:\n",
    "    return \"I am a function!\"\n",
    "\n",
    "abc()"
   ]
  },
  {
   "cell_type": "code",
   "execution_count": null,
   "id": "02f20cdd",
   "metadata": {},
   "outputs": [],
   "source": []
  },
  {
   "cell_type": "markdown",
   "id": "29249b43",
   "metadata": {},
   "source": [
    "#### Quiz 3\n",
    "```py\n",
    "a = 10\n",
    "\n",
    "def calculator(number):\n",
    "    print(number * 10)\n",
    "\n",
    "calculator(a)\n",
    "print(number)\n",
    "print(a)\n",
    "\n",
    "```"
   ]
  },
  {
   "cell_type": "code",
   "execution_count": 3,
   "id": "6c788e7c",
   "metadata": {},
   "outputs": [
    {
     "name": "stdout",
     "output_type": "stream",
     "text": [
      "100\n"
     ]
    },
    {
     "ename": "NameError",
     "evalue": "name 'number' is not defined",
     "output_type": "error",
     "traceback": [
      "\u001b[0;31m---------------------------------------------------------------------------\u001b[0m",
      "\u001b[0;31mNameError\u001b[0m                                 Traceback (most recent call last)",
      "\u001b[0;32m/var/folders/jn/1bsrct314hv5xmfm7vrcdrzc0000gn/T/ipykernel_1803/3598147760.py\u001b[0m in \u001b[0;36m<module>\u001b[0;34m\u001b[0m\n\u001b[1;32m      5\u001b[0m \u001b[0;34m\u001b[0m\u001b[0m\n\u001b[1;32m      6\u001b[0m \u001b[0mcalculator\u001b[0m\u001b[0;34m(\u001b[0m\u001b[0ma\u001b[0m\u001b[0;34m)\u001b[0m\u001b[0;34m\u001b[0m\u001b[0;34m\u001b[0m\u001b[0m\n\u001b[0;32m----> 7\u001b[0;31m \u001b[0mprint\u001b[0m\u001b[0;34m(\u001b[0m\u001b[0mnumber\u001b[0m\u001b[0;34m)\u001b[0m\u001b[0;34m\u001b[0m\u001b[0;34m\u001b[0m\u001b[0m\n\u001b[0m\u001b[1;32m      8\u001b[0m \u001b[0mprint\u001b[0m\u001b[0;34m(\u001b[0m\u001b[0ma\u001b[0m\u001b[0;34m)\u001b[0m\u001b[0;34m\u001b[0m\u001b[0;34m\u001b[0m\u001b[0m\n",
      "\u001b[0;31mNameError\u001b[0m: name 'number' is not defined"
     ]
    }
   ],
   "source": [
    "a = 10\n",
    "\n",
    "def calculator(number):\n",
    "    print(number * 10)\n",
    "\n",
    "calculator(a)\n",
    "print(number)\n",
    "print(a)"
   ]
  },
  {
   "cell_type": "code",
   "execution_count": null,
   "id": "e577f4ce",
   "metadata": {},
   "outputs": [],
   "source": []
  },
  {
   "cell_type": "markdown",
   "id": "7dafe9f3",
   "metadata": {},
   "source": [
    "#### Quiz 4\n",
    "```py\n",
    "a = 10\n",
    "\n",
    "def calculator(number):\n",
    "    print(number * 10)\n",
    "\n",
    "calculator(a)\n",
    "print(a)\n",
    "```"
   ]
  },
  {
   "cell_type": "code",
   "execution_count": 4,
   "id": "07794183",
   "metadata": {},
   "outputs": [
    {
     "name": "stdout",
     "output_type": "stream",
     "text": [
      "100\n",
      "10\n"
     ]
    }
   ],
   "source": [
    "a = 10\n",
    "\n",
    "def calculator(number):\n",
    "    print(number * 10)\n",
    "\n",
    "calculator(a)\n",
    "print(a)"
   ]
  },
  {
   "cell_type": "code",
   "execution_count": null,
   "id": "ed172878",
   "metadata": {},
   "outputs": [],
   "source": []
  },
  {
   "cell_type": "code",
   "execution_count": null,
   "id": "9546c8a5",
   "metadata": {},
   "outputs": [],
   "source": []
  },
  {
   "cell_type": "code",
   "execution_count": null,
   "id": "1cd4f792",
   "metadata": {},
   "outputs": [],
   "source": []
  },
  {
   "cell_type": "markdown",
   "id": "8b11c293",
   "metadata": {},
   "source": [
    "#### Quiz 5\n",
    "```py\n",
    "def f(a, b, c):\n",
    "    print((a + b + c)/3)\n",
    "f(3, 5, 7)\n",
    "```"
   ]
  },
  {
   "cell_type": "code",
   "execution_count": 5,
   "id": "c914971c",
   "metadata": {},
   "outputs": [
    {
     "name": "stdout",
     "output_type": "stream",
     "text": [
      "5.0\n"
     ]
    }
   ],
   "source": [
    "def f(a, b, c):\n",
    "    print((a + b + c)/3)\n",
    "f(3, 5, 7)"
   ]
  },
  {
   "cell_type": "code",
   "execution_count": 9,
   "id": "64cc99a3",
   "metadata": {},
   "outputs": [
    {
     "name": "stdout",
     "output_type": "stream",
     "text": [
      "5\n"
     ]
    }
   ],
   "source": [
    "def f(a, b, c):\n",
    "    print((a + b + c) // 3)\n",
    "f(3, 5, 7)"
   ]
  },
  {
   "cell_type": "code",
   "execution_count": null,
   "id": "2b102346",
   "metadata": {},
   "outputs": [],
   "source": []
  },
  {
   "cell_type": "markdown",
   "id": "41fc4986",
   "metadata": {},
   "source": [
    "#### Quiz 6\n",
    "```py\n",
    "def power(number,exponent):\n",
    "    return number**exponent\n",
    "\n",
    "print(power(3, 2))\n",
    "```"
   ]
  },
  {
   "cell_type": "code",
   "execution_count": 7,
   "id": "79d1a4e0",
   "metadata": {},
   "outputs": [
    {
     "name": "stdout",
     "output_type": "stream",
     "text": [
      "9\n"
     ]
    }
   ],
   "source": [
    "def power(number,exponent):\n",
    "    return number**exponent\n",
    "\n",
    "print(power(3, 2))"
   ]
  },
  {
   "cell_type": "code",
   "execution_count": 8,
   "id": "77ecaa37",
   "metadata": {},
   "outputs": [
    {
     "name": "stdout",
     "output_type": "stream",
     "text": [
      "8\n"
     ]
    }
   ],
   "source": [
    "print(power(2, 3))"
   ]
  },
  {
   "cell_type": "code",
   "execution_count": null,
   "id": "cde888d7",
   "metadata": {},
   "outputs": [],
   "source": []
  },
  {
   "cell_type": "markdown",
   "id": "1a508650",
   "metadata": {},
   "source": [
    "### Keyword Arguments"
   ]
  },
  {
   "cell_type": "code",
   "execution_count": null,
   "id": "9f7a41ae",
   "metadata": {},
   "outputs": [],
   "source": []
  },
  {
   "cell_type": "code",
   "execution_count": 10,
   "id": "0805fe6f",
   "metadata": {},
   "outputs": [],
   "source": [
    "def introduce_family(me, father, mother, sibling):\n",
    "    print(\"Me = \", me)\n",
    "    print(\"Father =\", father)\n",
    "    print(\"Mother =\", mother)\n",
    "    print(\"Sibling =\", sibling)"
   ]
  },
  {
   "cell_type": "code",
   "execution_count": 16,
   "id": "6516f994",
   "metadata": {},
   "outputs": [
    {
     "name": "stdout",
     "output_type": "stream",
     "text": [
      "Me =  Ron\n",
      "Father = Arthur\n",
      "Mother = Molly\n",
      "Sibling = Ginny\n"
     ]
    }
   ],
   "source": [
    "introduce_family(father=\"Arthur\", sibling=\"Ginny\", mother=\"Molly\", me=\"Ron\")"
   ]
  },
  {
   "cell_type": "code",
   "execution_count": null,
   "id": "488e9b08",
   "metadata": {},
   "outputs": [],
   "source": []
  },
  {
   "cell_type": "code",
   "execution_count": null,
   "id": "b8644354",
   "metadata": {},
   "outputs": [],
   "source": []
  },
  {
   "cell_type": "code",
   "execution_count": 17,
   "id": "4633e92d",
   "metadata": {},
   "outputs": [],
   "source": [
    "def random(a, b, c, d):\n",
    "    print(a, b, c, d)"
   ]
  },
  {
   "cell_type": "code",
   "execution_count": 19,
   "id": "bbb9b0db",
   "metadata": {},
   "outputs": [
    {
     "name": "stdout",
     "output_type": "stream",
     "text": [
      "2 1 5 3\n"
     ]
    }
   ],
   "source": [
    "# Only keywords\n",
    "random(b=1, c=5, d=3, a=2)"
   ]
  },
  {
   "cell_type": "code",
   "execution_count": 20,
   "id": "ca8a6d2d",
   "metadata": {},
   "outputs": [
    {
     "name": "stdout",
     "output_type": "stream",
     "text": [
      "2 1 5 3\n"
     ]
    }
   ],
   "source": [
    "# Only positional\n",
    "random(2, 1, 5, 3)"
   ]
  },
  {
   "cell_type": "code",
   "execution_count": 21,
   "id": "bf163ce4",
   "metadata": {},
   "outputs": [
    {
     "name": "stdout",
     "output_type": "stream",
     "text": [
      "7 2 3 5\n"
     ]
    }
   ],
   "source": [
    "# Positional -> Keyword\n",
    "random(7, 2, d=5, c=3)"
   ]
  },
  {
   "cell_type": "code",
   "execution_count": 22,
   "id": "ec79f0c2",
   "metadata": {},
   "outputs": [
    {
     "ename": "TypeError",
     "evalue": "random() got multiple values for argument 'a'",
     "output_type": "error",
     "traceback": [
      "\u001b[0;31m---------------------------------------------------------------------------\u001b[0m",
      "\u001b[0;31mTypeError\u001b[0m                                 Traceback (most recent call last)",
      "\u001b[0;32m/var/folders/jn/1bsrct314hv5xmfm7vrcdrzc0000gn/T/ipykernel_1803/4284933265.py\u001b[0m in \u001b[0;36m<module>\u001b[0;34m\u001b[0m\n\u001b[0;32m----> 1\u001b[0;31m \u001b[0mrandom\u001b[0m\u001b[0;34m(\u001b[0m\u001b[0;36m7\u001b[0m\u001b[0;34m,\u001b[0m \u001b[0;36m2\u001b[0m\u001b[0;34m,\u001b[0m \u001b[0ma\u001b[0m\u001b[0;34m=\u001b[0m\u001b[0;36m8\u001b[0m\u001b[0;34m,\u001b[0m \u001b[0mb\u001b[0m\u001b[0;34m=\u001b[0m\u001b[0;36m6\u001b[0m\u001b[0;34m)\u001b[0m\u001b[0;34m\u001b[0m\u001b[0;34m\u001b[0m\u001b[0m\n\u001b[0m",
      "\u001b[0;31mTypeError\u001b[0m: random() got multiple values for argument 'a'"
     ]
    }
   ],
   "source": [
    "# Positional -> Keyword\n",
    "random(7, 2, a=8, b=6)\n",
    "# a got 2 values"
   ]
  },
  {
   "cell_type": "code",
   "execution_count": 23,
   "id": "f8ab62d6",
   "metadata": {},
   "outputs": [
    {
     "ename": "SyntaxError",
     "evalue": "positional argument follows keyword argument (2319815839.py, line 1)",
     "output_type": "error",
     "traceback": [
      "\u001b[0;36m  File \u001b[0;32m\"/var/folders/jn/1bsrct314hv5xmfm7vrcdrzc0000gn/T/ipykernel_1803/2319815839.py\"\u001b[0;36m, line \u001b[0;32m1\u001b[0m\n\u001b[0;31m    random(a=7, c=2, 8, 6)\u001b[0m\n\u001b[0m                         ^\u001b[0m\n\u001b[0;31mSyntaxError\u001b[0m\u001b[0;31m:\u001b[0m positional argument follows keyword argument\n"
     ]
    }
   ],
   "source": [
    "random(a=7, c=2, 8, 6)"
   ]
  },
  {
   "cell_type": "code",
   "execution_count": 24,
   "id": "85950cbe",
   "metadata": {},
   "outputs": [
    {
     "ename": "SyntaxError",
     "evalue": "positional argument follows keyword argument (4010754132.py, line 1)",
     "output_type": "error",
     "traceback": [
      "\u001b[0;36m  File \u001b[0;32m\"/var/folders/jn/1bsrct314hv5xmfm7vrcdrzc0000gn/T/ipykernel_1803/4010754132.py\"\u001b[0;36m, line \u001b[0;32m1\u001b[0m\n\u001b[0;31m    random(a=7, b=2, 8, 6)\u001b[0m\n\u001b[0m                         ^\u001b[0m\n\u001b[0;31mSyntaxError\u001b[0m\u001b[0;31m:\u001b[0m positional argument follows keyword argument\n"
     ]
    }
   ],
   "source": [
    "random(a=7, b=2, 8, 6)"
   ]
  },
  {
   "cell_type": "code",
   "execution_count": null,
   "id": "93ef5f14",
   "metadata": {},
   "outputs": [],
   "source": []
  },
  {
   "cell_type": "markdown",
   "id": "e3781123",
   "metadata": {},
   "source": [
    "#### Quiz 7\n",
    "```py\n",
    "def power(number,exponent):\n",
    "    return number**exponent\n",
    "\n",
    "power(exponent=2,number=3)\n",
    "```"
   ]
  },
  {
   "cell_type": "code",
   "execution_count": 25,
   "id": "c6181070",
   "metadata": {},
   "outputs": [
    {
     "data": {
      "text/plain": [
       "9"
      ]
     },
     "execution_count": 25,
     "metadata": {},
     "output_type": "execute_result"
    }
   ],
   "source": [
    "def power(number,exponent):\n",
    "    return number**exponent\n",
    "\n",
    "power(exponent=2,number=3)"
   ]
  },
  {
   "cell_type": "code",
   "execution_count": null,
   "id": "3c2662c6",
   "metadata": {},
   "outputs": [],
   "source": []
  },
  {
   "cell_type": "code",
   "execution_count": null,
   "id": "958f1560",
   "metadata": {},
   "outputs": [],
   "source": []
  },
  {
   "cell_type": "markdown",
   "id": "fb08e63f",
   "metadata": {},
   "source": [
    "## Default Arguments"
   ]
  },
  {
   "cell_type": "code",
   "execution_count": 26,
   "id": "f2d9bccd",
   "metadata": {},
   "outputs": [],
   "source": [
    "def simple_interest(p, t, r):\n",
    "    return (p * t * r) / 100"
   ]
  },
  {
   "cell_type": "code",
   "execution_count": null,
   "id": "d3203b7c",
   "metadata": {},
   "outputs": [],
   "source": [
    "# By default, we want rate of interest as 10%\n",
    "# However we can get other values as well"
   ]
  },
  {
   "cell_type": "code",
   "execution_count": 27,
   "id": "44f3878b",
   "metadata": {},
   "outputs": [],
   "source": [
    "def simple_interest(p, t, r=10):\n",
    "    return (p * t * r) / 100"
   ]
  },
  {
   "cell_type": "code",
   "execution_count": 28,
   "id": "30fd05c5",
   "metadata": {},
   "outputs": [
    {
     "data": {
      "text/plain": [
       "50.0"
      ]
     },
     "execution_count": 28,
     "metadata": {},
     "output_type": "execute_result"
    }
   ],
   "source": [
    "simple_interest(100, 5)"
   ]
  },
  {
   "cell_type": "code",
   "execution_count": 29,
   "id": "866358a5",
   "metadata": {},
   "outputs": [
    {
     "data": {
      "text/plain": [
       "75.0"
      ]
     },
     "execution_count": 29,
     "metadata": {},
     "output_type": "execute_result"
    }
   ],
   "source": [
    "simple_interest(100, 5, 15)"
   ]
  },
  {
   "cell_type": "code",
   "execution_count": null,
   "id": "fbea4ab8",
   "metadata": {},
   "outputs": [],
   "source": []
  },
  {
   "cell_type": "code",
   "execution_count": 33,
   "id": "07f1549d",
   "metadata": {},
   "outputs": [],
   "source": [
    "def simple_interest(p=50, t=1, r=10):\n",
    "    return (p * t * r) / 100"
   ]
  },
  {
   "cell_type": "code",
   "execution_count": 34,
   "id": "b8479608",
   "metadata": {},
   "outputs": [
    {
     "data": {
      "text/plain": [
       "50.0"
      ]
     },
     "execution_count": 34,
     "metadata": {},
     "output_type": "execute_result"
    }
   ],
   "source": [
    "simple_interest(100, 5)"
   ]
  },
  {
   "cell_type": "code",
   "execution_count": 35,
   "id": "e39ec253",
   "metadata": {},
   "outputs": [
    {
     "data": {
      "text/plain": [
       "10.0"
      ]
     },
     "execution_count": 35,
     "metadata": {},
     "output_type": "execute_result"
    }
   ],
   "source": [
    "simple_interest(100)"
   ]
  },
  {
   "cell_type": "code",
   "execution_count": 36,
   "id": "8073c1f8",
   "metadata": {},
   "outputs": [
    {
     "data": {
      "text/plain": [
       "5.0"
      ]
     },
     "execution_count": 36,
     "metadata": {},
     "output_type": "execute_result"
    }
   ],
   "source": [
    "simple_interest()"
   ]
  },
  {
   "cell_type": "code",
   "execution_count": null,
   "id": "1f4637f0",
   "metadata": {},
   "outputs": [],
   "source": []
  },
  {
   "cell_type": "code",
   "execution_count": 37,
   "id": "e82dca62",
   "metadata": {},
   "outputs": [
    {
     "ename": "SyntaxError",
     "evalue": "non-default argument follows default argument (2822739173.py, line 1)",
     "output_type": "error",
     "traceback": [
      "\u001b[0;36m  File \u001b[0;32m\"/var/folders/jn/1bsrct314hv5xmfm7vrcdrzc0000gn/T/ipykernel_1803/2822739173.py\"\u001b[0;36m, line \u001b[0;32m1\u001b[0m\n\u001b[0;31m    def simple_interest(p=50, t, r=10):\u001b[0m\n\u001b[0m                                 ^\u001b[0m\n\u001b[0;31mSyntaxError\u001b[0m\u001b[0;31m:\u001b[0m non-default argument follows default argument\n"
     ]
    }
   ],
   "source": [
    "def simple_interest(p=50, t, r=10):\n",
    "    return (p * t * r) / 100"
   ]
  },
  {
   "cell_type": "code",
   "execution_count": 49,
   "id": "133e272d",
   "metadata": {},
   "outputs": [],
   "source": [
    "def simple_interest(p=50, t=1, r=10):\n",
    "    return (p * t * r) / 100"
   ]
  },
  {
   "cell_type": "code",
   "execution_count": 50,
   "id": "6bc2d538",
   "metadata": {},
   "outputs": [
    {
     "data": {
      "text/plain": [
       "0.12"
      ]
     },
     "execution_count": 50,
     "metadata": {},
     "output_type": "execute_result"
    }
   ],
   "source": [
    "simple_interest(r=2, p=6)"
   ]
  },
  {
   "cell_type": "code",
   "execution_count": 46,
   "id": "bba981b5",
   "metadata": {},
   "outputs": [
    {
     "data": {
      "text/plain": [
       "6.0"
      ]
     },
     "execution_count": 46,
     "metadata": {},
     "output_type": "execute_result"
    }
   ],
   "source": [
    "simple_interest(t=2, r=6)"
   ]
  },
  {
   "cell_type": "code",
   "execution_count": 51,
   "id": "2b78490f",
   "metadata": {},
   "outputs": [
    {
     "data": {
      "text/plain": [
       "28.0"
      ]
     },
     "execution_count": 51,
     "metadata": {},
     "output_type": "execute_result"
    }
   ],
   "source": [
    "simple_interest(40, t=7)"
   ]
  },
  {
   "cell_type": "code",
   "execution_count": null,
   "id": "0ac948b9",
   "metadata": {},
   "outputs": [],
   "source": []
  },
  {
   "cell_type": "code",
   "execution_count": null,
   "id": "548c103d",
   "metadata": {},
   "outputs": [],
   "source": []
  },
  {
   "cell_type": "code",
   "execution_count": null,
   "id": "b49ba8ce",
   "metadata": {},
   "outputs": [],
   "source": []
  },
  {
   "cell_type": "code",
   "execution_count": null,
   "id": "bb20d19a",
   "metadata": {},
   "outputs": [],
   "source": []
  },
  {
   "cell_type": "code",
   "execution_count": 48,
   "id": "a9dfe853",
   "metadata": {},
   "outputs": [],
   "source": [
    "def simple_interest(t, r, p=50):\n",
    "    return (p * t * r) / 100"
   ]
  },
  {
   "cell_type": "code",
   "execution_count": null,
   "id": "bca41292",
   "metadata": {},
   "outputs": [],
   "source": []
  },
  {
   "cell_type": "code",
   "execution_count": null,
   "id": "05601092",
   "metadata": {},
   "outputs": [],
   "source": []
  },
  {
   "cell_type": "code",
   "execution_count": null,
   "id": "6f6eb786",
   "metadata": {},
   "outputs": [],
   "source": []
  },
  {
   "cell_type": "code",
   "execution_count": null,
   "id": "792e456e",
   "metadata": {},
   "outputs": [],
   "source": []
  },
  {
   "cell_type": "code",
   "execution_count": null,
   "id": "4fd89b2e",
   "metadata": {},
   "outputs": [],
   "source": []
  },
  {
   "cell_type": "markdown",
   "id": "86cac066",
   "metadata": {},
   "source": [
    "#### Quiz 8\n",
    "```py\n",
    "def power(x,e=1):\n",
    "    return x**e\n",
    "\n",
    "power(3, 3)\n",
    "\n",
    "```"
   ]
  },
  {
   "cell_type": "code",
   "execution_count": null,
   "id": "3e411744",
   "metadata": {},
   "outputs": [],
   "source": []
  },
  {
   "cell_type": "code",
   "execution_count": null,
   "id": "f6b861de",
   "metadata": {},
   "outputs": [],
   "source": []
  },
  {
   "cell_type": "code",
   "execution_count": null,
   "id": "a87c93fa",
   "metadata": {},
   "outputs": [],
   "source": []
  },
  {
   "cell_type": "code",
   "execution_count": null,
   "id": "12c3b57c",
   "metadata": {},
   "outputs": [],
   "source": []
  },
  {
   "cell_type": "markdown",
   "id": "235da975",
   "metadata": {},
   "source": [
    "## Question - Date Printing\n",
    "Create a date printing function which takes in 4 arguments \\\n",
    "date, month, year, style\n",
    "\n",
    "- Style 0 -> d/m/y\n",
    "- Style 1 -> m/d/y\n",
    "\n",
    "Default style is 0"
   ]
  },
  {
   "cell_type": "code",
   "execution_count": null,
   "id": "9bf12fa6",
   "metadata": {},
   "outputs": [],
   "source": []
  },
  {
   "cell_type": "code",
   "execution_count": 5,
   "id": "7fa13e34",
   "metadata": {},
   "outputs": [],
   "source": []
  },
  {
   "cell_type": "code",
   "execution_count": null,
   "id": "1ec2de99",
   "metadata": {},
   "outputs": [],
   "source": []
  },
  {
   "cell_type": "code",
   "execution_count": null,
   "id": "f59ba56f",
   "metadata": {},
   "outputs": [],
   "source": []
  },
  {
   "cell_type": "code",
   "execution_count": null,
   "id": "fcc8e516",
   "metadata": {},
   "outputs": [],
   "source": []
  },
  {
   "cell_type": "markdown",
   "id": "0d6a1224",
   "metadata": {},
   "source": [
    "## Scope"
   ]
  },
  {
   "cell_type": "code",
   "execution_count": null,
   "id": "7a1b380a",
   "metadata": {},
   "outputs": [],
   "source": []
  }
 ],
 "metadata": {
  "kernelspec": {
   "display_name": "Python 3 (ipykernel)",
   "language": "python",
   "name": "python3"
  },
  "language_info": {
   "codemirror_mode": {
    "name": "ipython",
    "version": 3
   },
   "file_extension": ".py",
   "mimetype": "text/x-python",
   "name": "python",
   "nbconvert_exporter": "python",
   "pygments_lexer": "ipython3",
   "version": "3.9.12"
  }
 },
 "nbformat": 4,
 "nbformat_minor": 5
}
