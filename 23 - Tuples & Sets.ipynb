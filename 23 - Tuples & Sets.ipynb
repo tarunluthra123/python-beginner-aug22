{
 "cells": [
  {
   "cell_type": "markdown",
   "id": "3f6817d6",
   "metadata": {},
   "source": [
    "# Tuples\n",
    "![](https://scaler.com/topics/images/tuples-in-python.webp)"
   ]
  },
  {
   "cell_type": "markdown",
   "id": "9cec72e6",
   "metadata": {},
   "source": [
    "- Tuples are used to hold together multiple objects. Think of them as similar to lists, but without the extensive functionality that the list class gives you.\n",
    "- One major feature of tuples is that they are **immutable** like strings i.e. you cannot modify tuples.\n",
    "- Tuples are defined by specifying items separated by commas within an optional pair of parentheses.\n",
    "- Tuples are usually used in cases where a statement or a user-defined function can safely assume that the collection of values i.e. the tuple of values used will **not change**."
   ]
  },
  {
   "cell_type": "code",
   "execution_count": 2,
   "id": "e101360c",
   "metadata": {},
   "outputs": [],
   "source": [
    "# ISRO\n",
    "planets = [\n",
    "    \"Mercury\",\n",
    "    \"Venus\",\n",
    "    \"Earth\",\n",
    "    \"Mars\",\n",
    "    \"Jupiter\",\n",
    "    \"Saturn\",\n",
    "    \"Uranus\",\n",
    "    \"Neptune\",\n",
    "    \"Pluto\"\n",
    "]"
   ]
  },
  {
   "cell_type": "code",
   "execution_count": 3,
   "id": "80b34b5a",
   "metadata": {},
   "outputs": [
    {
     "data": {
      "text/plain": [
       "['Mercury',\n",
       " 'Venus',\n",
       " 'Earth',\n",
       " 'Mars',\n",
       " 'Jupiter',\n",
       " 'Saturn',\n",
       " 'Uranus',\n",
       " 'Neptune',\n",
       " 'Pluto']"
      ]
     },
     "execution_count": 3,
     "metadata": {},
     "output_type": "execute_result"
    }
   ],
   "source": [
    "planets"
   ]
  },
  {
   "cell_type": "code",
   "execution_count": 4,
   "id": "970085df",
   "metadata": {},
   "outputs": [
    {
     "name": "stdout",
     "output_type": "stream",
     "text": [
      "['Mercury', 'Venus', \"Tarun's planet\", 'Mars', 'Jupiter', 'Saturn', 'Uranus', 'Neptune', 'Pluto']\n"
     ]
    }
   ],
   "source": [
    "# Intern at ISRO\n",
    "planets[2] = \"Tarun's planet\"\n",
    "print(planets)"
   ]
  },
  {
   "cell_type": "code",
   "execution_count": null,
   "id": "e9278a9b",
   "metadata": {},
   "outputs": [],
   "source": []
  },
  {
   "cell_type": "code",
   "execution_count": 5,
   "id": "49bc105f",
   "metadata": {},
   "outputs": [],
   "source": [
    "# Tuple \n",
    "planets = (\n",
    "    \"Mercury\",\n",
    "    \"Venus\",\n",
    "    \"Earth\",\n",
    "    \"Mars\",\n",
    "    \"Jupiter\",\n",
    "    \"Saturn\",\n",
    "    \"Uranus\",\n",
    "    \"Neptune\",\n",
    "    \"Pluto\"\n",
    ")"
   ]
  },
  {
   "cell_type": "code",
   "execution_count": 7,
   "id": "58c353f9",
   "metadata": {},
   "outputs": [
    {
     "name": "stdout",
     "output_type": "stream",
     "text": [
      "('Mercury', 'Venus', 'Earth', 'Mars', 'Jupiter', 'Saturn', 'Uranus', 'Neptune', 'Pluto') <class 'tuple'>\n"
     ]
    }
   ],
   "source": [
    "print(planets, type(planets))"
   ]
  },
  {
   "cell_type": "code",
   "execution_count": 8,
   "id": "b9bd1994",
   "metadata": {},
   "outputs": [
    {
     "ename": "TypeError",
     "evalue": "'tuple' object does not support item assignment",
     "output_type": "error",
     "traceback": [
      "\u001b[0;31m---------------------------------------------------------------------------\u001b[0m",
      "\u001b[0;31mTypeError\u001b[0m                                 Traceback (most recent call last)",
      "\u001b[0;32m/var/folders/jn/1bsrct314hv5xmfm7vrcdrzc0000gn/T/ipykernel_3694/3544999186.py\u001b[0m in \u001b[0;36m<module>\u001b[0;34m\u001b[0m\n\u001b[0;32m----> 1\u001b[0;31m \u001b[0mplanets\u001b[0m\u001b[0;34m[\u001b[0m\u001b[0;36m2\u001b[0m\u001b[0;34m]\u001b[0m \u001b[0;34m=\u001b[0m \u001b[0;34m\"Tarun's planet\"\u001b[0m\u001b[0;34m\u001b[0m\u001b[0;34m\u001b[0m\u001b[0m\n\u001b[0m\u001b[1;32m      2\u001b[0m \u001b[0mprint\u001b[0m\u001b[0;34m(\u001b[0m\u001b[0mplanets\u001b[0m\u001b[0;34m)\u001b[0m\u001b[0;34m\u001b[0m\u001b[0;34m\u001b[0m\u001b[0m\n",
      "\u001b[0;31mTypeError\u001b[0m: 'tuple' object does not support item assignment"
     ]
    }
   ],
   "source": [
    "planets[2] = \"Tarun's planet\"\n",
    "print(planets)"
   ]
  },
  {
   "cell_type": "code",
   "execution_count": null,
   "id": "e29a0c54",
   "metadata": {},
   "outputs": [],
   "source": []
  },
  {
   "cell_type": "code",
   "execution_count": 9,
   "id": "b44eae5a",
   "metadata": {},
   "outputs": [
    {
     "name": "stdout",
     "output_type": "stream",
     "text": [
      "(5, 8, 'hello', -5.9)\n"
     ]
    }
   ],
   "source": [
    "t = (5, 8, \"hello\", -5.9)\n",
    "print(t)"
   ]
  },
  {
   "cell_type": "code",
   "execution_count": 10,
   "id": "4399a45d",
   "metadata": {},
   "outputs": [
    {
     "ename": "TypeError",
     "evalue": "'tuple' object does not support item assignment",
     "output_type": "error",
     "traceback": [
      "\u001b[0;31m---------------------------------------------------------------------------\u001b[0m",
      "\u001b[0;31mTypeError\u001b[0m                                 Traceback (most recent call last)",
      "\u001b[0;32m/var/folders/jn/1bsrct314hv5xmfm7vrcdrzc0000gn/T/ipykernel_3694/2011417232.py\u001b[0m in \u001b[0;36m<module>\u001b[0;34m\u001b[0m\n\u001b[0;32m----> 1\u001b[0;31m \u001b[0mt\u001b[0m\u001b[0;34m[\u001b[0m\u001b[0;36m0\u001b[0m\u001b[0;34m]\u001b[0m \u001b[0;34m=\u001b[0m \u001b[0;36m345\u001b[0m\u001b[0;34m\u001b[0m\u001b[0;34m\u001b[0m\u001b[0m\n\u001b[0m",
      "\u001b[0;31mTypeError\u001b[0m: 'tuple' object does not support item assignment"
     ]
    }
   ],
   "source": [
    "t[0] = 345"
   ]
  },
  {
   "cell_type": "code",
   "execution_count": 12,
   "id": "0da36f32",
   "metadata": {},
   "outputs": [
    {
     "name": "stdout",
     "output_type": "stream",
     "text": [
      "5\n",
      "hello\n",
      "-5.9\n"
     ]
    }
   ],
   "source": [
    "print(t[0]) # 5\n",
    "print(t[2]) # hello\n",
    "print(t[-1]) # -5.9"
   ]
  },
  {
   "cell_type": "code",
   "execution_count": null,
   "id": "7e2de2cb",
   "metadata": {},
   "outputs": [],
   "source": []
  },
  {
   "cell_type": "code",
   "execution_count": null,
   "id": "75a5817e",
   "metadata": {},
   "outputs": [],
   "source": []
  },
  {
   "cell_type": "code",
   "execution_count": 13,
   "id": "fd1b9d98",
   "metadata": {},
   "outputs": [
    {
     "name": "stdout",
     "output_type": "stream",
     "text": [
      "9 2 3 4 6 "
     ]
    }
   ],
   "source": [
    "t = (9, 2, 3, 4, 6)\n",
    "for x in t:\n",
    "    print(x, end=' ')"
   ]
  },
  {
   "cell_type": "code",
   "execution_count": 14,
   "id": "669bce2b",
   "metadata": {},
   "outputs": [
    {
     "data": {
      "text/plain": [
       "5"
      ]
     },
     "execution_count": 14,
     "metadata": {},
     "output_type": "execute_result"
    }
   ],
   "source": [
    "len(t)"
   ]
  },
  {
   "cell_type": "code",
   "execution_count": null,
   "id": "2ce856f9",
   "metadata": {},
   "outputs": [],
   "source": []
  },
  {
   "cell_type": "code",
   "execution_count": null,
   "id": "c0498800",
   "metadata": {},
   "outputs": [],
   "source": []
  },
  {
   "cell_type": "code",
   "execution_count": null,
   "id": "ccb99d16",
   "metadata": {},
   "outputs": [],
   "source": []
  },
  {
   "cell_type": "markdown",
   "id": "7d0e3c62",
   "metadata": {},
   "source": [
    "### Important Tuple methods\n",
    "- index()\n",
    "- count()\n",
    "- slicing"
   ]
  },
  {
   "cell_type": "code",
   "execution_count": 15,
   "id": "644dd231",
   "metadata": {},
   "outputs": [
    {
     "name": "stdout",
     "output_type": "stream",
     "text": [
      "0\n"
     ]
    }
   ],
   "source": [
    "t = (6, 7, 6, 1, 3)\n",
    "print(t.index(6))"
   ]
  },
  {
   "cell_type": "code",
   "execution_count": 16,
   "id": "46eac8c2",
   "metadata": {},
   "outputs": [
    {
     "data": {
      "text/plain": [
       "2"
      ]
     },
     "execution_count": 16,
     "metadata": {},
     "output_type": "execute_result"
    }
   ],
   "source": [
    "t = (6, 7, 6, 1, 3)\n",
    "t.count(6)"
   ]
  },
  {
   "cell_type": "code",
   "execution_count": 19,
   "id": "1e4b75dc",
   "metadata": {},
   "outputs": [
    {
     "data": {
      "text/plain": [
       "(6, 1, 3)"
      ]
     },
     "execution_count": 19,
     "metadata": {},
     "output_type": "execute_result"
    }
   ],
   "source": [
    "# Tuple slicing gives you a new tuple\n",
    "t[2:]"
   ]
  },
  {
   "cell_type": "code",
   "execution_count": 20,
   "id": "09937bdb",
   "metadata": {},
   "outputs": [
    {
     "data": {
      "text/plain": [
       "(3, 1, 6, 7, 6)"
      ]
     },
     "execution_count": 20,
     "metadata": {},
     "output_type": "execute_result"
    }
   ],
   "source": [
    "t[::-1]"
   ]
  },
  {
   "cell_type": "code",
   "execution_count": null,
   "id": "080d251a",
   "metadata": {},
   "outputs": [],
   "source": []
  },
  {
   "cell_type": "markdown",
   "id": "486a11cd",
   "metadata": {},
   "source": [
    "### How to create a tuple\n",
    "1. Using round brackets\n",
    "2. Using tuple()\n",
    "3. Using comma separated values"
   ]
  },
  {
   "cell_type": "code",
   "execution_count": 21,
   "id": "6ce6294c",
   "metadata": {},
   "outputs": [
    {
     "name": "stdout",
     "output_type": "stream",
     "text": [
      "() <class 'tuple'>\n"
     ]
    }
   ],
   "source": [
    "# Empty tuple\n",
    "t = tuple()\n",
    "print(t, type(t))"
   ]
  },
  {
   "cell_type": "code",
   "execution_count": 23,
   "id": "89feb0c8",
   "metadata": {},
   "outputs": [
    {
     "name": "stdout",
     "output_type": "stream",
     "text": [
      "(2, 6, 1, 8, 9, 3) <class 'tuple'>\n"
     ]
    }
   ],
   "source": [
    "l = [2,6,1,8,9,3]\n",
    "t = tuple(l)\n",
    "print(t, type(t))"
   ]
  },
  {
   "cell_type": "code",
   "execution_count": 24,
   "id": "4581be4c",
   "metadata": {},
   "outputs": [
    {
     "name": "stdout",
     "output_type": "stream",
     "text": [
      "() <class 'tuple'>\n"
     ]
    }
   ],
   "source": [
    "# Empty tuple\n",
    "t = ()\n",
    "print(t, type(t))"
   ]
  },
  {
   "cell_type": "code",
   "execution_count": null,
   "id": "ed798094",
   "metadata": {},
   "outputs": [],
   "source": []
  },
  {
   "cell_type": "code",
   "execution_count": 25,
   "id": "5653ff36",
   "metadata": {},
   "outputs": [
    {
     "name": "stdout",
     "output_type": "stream",
     "text": [
      "(9, 2, 5, 1) <class 'tuple'>\n"
     ]
    }
   ],
   "source": [
    "t = 9, 2, 5, 1\n",
    "print(t, type(t))"
   ]
  },
  {
   "cell_type": "code",
   "execution_count": null,
   "id": "fc6b2c7d",
   "metadata": {},
   "outputs": [],
   "source": []
  },
  {
   "cell_type": "code",
   "execution_count": null,
   "id": "6da66045",
   "metadata": {},
   "outputs": [],
   "source": [
    "# Swapping two variables\n",
    "a, b = b, a"
   ]
  },
  {
   "cell_type": "code",
   "execution_count": null,
   "id": "d901a52b",
   "metadata": {},
   "outputs": [],
   "source": []
  },
  {
   "cell_type": "code",
   "execution_count": 26,
   "id": "3ca025e1",
   "metadata": {},
   "outputs": [
    {
     "name": "stdout",
     "output_type": "stream",
     "text": [
      "(1, 2, 3)\n"
     ]
    }
   ],
   "source": [
    "def foo():\n",
    "    return 1,2,3\n",
    "\n",
    "bar = foo()\n",
    "print(bar)"
   ]
  },
  {
   "cell_type": "code",
   "execution_count": null,
   "id": "9e918e4c",
   "metadata": {},
   "outputs": [],
   "source": []
  },
  {
   "cell_type": "code",
   "execution_count": null,
   "id": "75e962ea",
   "metadata": {},
   "outputs": [],
   "source": []
  },
  {
   "cell_type": "markdown",
   "id": "e6e27899",
   "metadata": {},
   "source": [
    "#### Quiz 1\n",
    "```py\n",
    "t = (\"Sahil\")\n",
    "type(t)\n",
    "```"
   ]
  },
  {
   "cell_type": "code",
   "execution_count": 27,
   "id": "9b3ede6c",
   "metadata": {},
   "outputs": [
    {
     "data": {
      "text/plain": [
       "str"
      ]
     },
     "execution_count": 27,
     "metadata": {},
     "output_type": "execute_result"
    }
   ],
   "source": [
    "t = (\"Sahil\")\n",
    "type(t)"
   ]
  },
  {
   "cell_type": "code",
   "execution_count": 29,
   "id": "a81b9418",
   "metadata": {},
   "outputs": [
    {
     "data": {
      "text/plain": [
       "tuple"
      ]
     },
     "execution_count": 29,
     "metadata": {},
     "output_type": "execute_result"
    }
   ],
   "source": [
    "t = (\"Sahil\",)\n",
    "type(t)"
   ]
  },
  {
   "cell_type": "code",
   "execution_count": 30,
   "id": "1480ddc7",
   "metadata": {},
   "outputs": [
    {
     "data": {
      "text/plain": [
       "1"
      ]
     },
     "execution_count": 30,
     "metadata": {},
     "output_type": "execute_result"
    }
   ],
   "source": [
    "len(t)"
   ]
  },
  {
   "cell_type": "code",
   "execution_count": 31,
   "id": "d92748ce",
   "metadata": {},
   "outputs": [
    {
     "data": {
      "text/plain": [
       "tuple"
      ]
     },
     "execution_count": 31,
     "metadata": {},
     "output_type": "execute_result"
    }
   ],
   "source": [
    "t = \"Sahil\",\n",
    "type(t)"
   ]
  },
  {
   "cell_type": "code",
   "execution_count": null,
   "id": "2173269e",
   "metadata": {},
   "outputs": [],
   "source": []
  },
  {
   "cell_type": "code",
   "execution_count": null,
   "id": "35eb0bea",
   "metadata": {},
   "outputs": [],
   "source": []
  },
  {
   "cell_type": "code",
   "execution_count": 28,
   "id": "a79be7fc",
   "metadata": {},
   "outputs": [
    {
     "name": "stdout",
     "output_type": "stream",
     "text": [
      "3.6666666666666665\n"
     ]
    }
   ],
   "source": [
    "x = ((9+2)/3)\n",
    "print(x)"
   ]
  },
  {
   "cell_type": "code",
   "execution_count": null,
   "id": "b88309ee",
   "metadata": {},
   "outputs": [],
   "source": []
  },
  {
   "cell_type": "code",
   "execution_count": null,
   "id": "ed9fcfa6",
   "metadata": {},
   "outputs": [],
   "source": []
  },
  {
   "cell_type": "markdown",
   "id": "f0a08939",
   "metadata": {},
   "source": [
    "#### Quiz 2\n",
    "What is the output of the following?\n",
    "\n",
    "```py\n",
    "print(type((1,2,3)))\n",
    "```"
   ]
  },
  {
   "cell_type": "code",
   "execution_count": 32,
   "id": "e5ce11b0",
   "metadata": {},
   "outputs": [
    {
     "name": "stdout",
     "output_type": "stream",
     "text": [
      "<class 'tuple'>\n"
     ]
    }
   ],
   "source": [
    "x = (1,2,3)\n",
    "print(type(x))"
   ]
  },
  {
   "cell_type": "code",
   "execution_count": null,
   "id": "ad981849",
   "metadata": {},
   "outputs": [],
   "source": []
  },
  {
   "cell_type": "code",
   "execution_count": null,
   "id": "0f8e7317",
   "metadata": {},
   "outputs": [],
   "source": [
    "x = 5\n",
    "y = 5,"
   ]
  },
  {
   "cell_type": "code",
   "execution_count": null,
   "id": "9edff7cf",
   "metadata": {},
   "outputs": [],
   "source": []
  },
  {
   "cell_type": "markdown",
   "id": "b56b334c",
   "metadata": {},
   "source": [
    "#### Quiz 3\n",
    "```py\n",
    "T1 = (1) \n",
    "T2 = (3, 4) \n",
    "T1 += 5\n",
    "print(T1)\n",
    "```"
   ]
  },
  {
   "cell_type": "code",
   "execution_count": 34,
   "id": "9aad1ace",
   "metadata": {},
   "outputs": [
    {
     "name": "stdout",
     "output_type": "stream",
     "text": [
      "6\n"
     ]
    }
   ],
   "source": [
    "T1 = (1) # 1 (int)\n",
    "T1 += 5\n",
    "print(T1)"
   ]
  },
  {
   "cell_type": "code",
   "execution_count": null,
   "id": "edd9c35b",
   "metadata": {},
   "outputs": [],
   "source": []
  },
  {
   "cell_type": "code",
   "execution_count": 33,
   "id": "34bc9257",
   "metadata": {},
   "outputs": [
    {
     "name": "stdout",
     "output_type": "stream",
     "text": [
      "1 <class 'int'>\n"
     ]
    }
   ],
   "source": [
    "T1 = (1) \n",
    "print(T1, type(T1))"
   ]
  },
  {
   "cell_type": "code",
   "execution_count": null,
   "id": "f1dbafdf",
   "metadata": {},
   "outputs": [],
   "source": []
  },
  {
   "cell_type": "code",
   "execution_count": null,
   "id": "a4c23519",
   "metadata": {},
   "outputs": [],
   "source": []
  },
  {
   "cell_type": "markdown",
   "id": "89846073",
   "metadata": {},
   "source": [
    "#### Quiz 4\n",
    "```py\n",
    "t=tuple(range(1, 10, 2))\n",
    "print(t)\n",
    "```"
   ]
  },
  {
   "cell_type": "code",
   "execution_count": 35,
   "id": "ea456aea",
   "metadata": {},
   "outputs": [
    {
     "name": "stdout",
     "output_type": "stream",
     "text": [
      "(1, 3, 5, 7, 9)\n"
     ]
    }
   ],
   "source": [
    "t = tuple(range(1, 10, 2))\n",
    "print(t)"
   ]
  },
  {
   "cell_type": "code",
   "execution_count": null,
   "id": "b14dff5c",
   "metadata": {},
   "outputs": [],
   "source": []
  },
  {
   "cell_type": "markdown",
   "id": "906c1ee7",
   "metadata": {},
   "source": [
    "#### Quiz 5\n",
    "What is the result of the following expression?\n",
    "\n",
    "```py\n",
    "tuple('hello world')\n",
    "```"
   ]
  },
  {
   "cell_type": "code",
   "execution_count": 37,
   "id": "66e29192",
   "metadata": {},
   "outputs": [
    {
     "data": {
      "text/plain": [
       "('h', 'e', 'l', 'l', 'o', ' ', 'w', 'o', 'r', 'l', 'd')"
      ]
     },
     "execution_count": 37,
     "metadata": {},
     "output_type": "execute_result"
    }
   ],
   "source": [
    "tuple('hello world')"
   ]
  },
  {
   "cell_type": "code",
   "execution_count": 39,
   "id": "6c91a6bd",
   "metadata": {},
   "outputs": [
    {
     "data": {
      "text/plain": [
       "('h', 'e', 'l', 'l', 'o', ',', 'w', 'o', 'r', 'l', 'd')"
      ]
     },
     "execution_count": 39,
     "metadata": {},
     "output_type": "execute_result"
    }
   ],
   "source": [
    "tuple('hello,world')"
   ]
  },
  {
   "cell_type": "code",
   "execution_count": 41,
   "id": "c5e580e5",
   "metadata": {},
   "outputs": [
    {
     "data": {
      "text/plain": [
       "('hello', 'world')"
      ]
     },
     "execution_count": 41,
     "metadata": {},
     "output_type": "execute_result"
    }
   ],
   "source": [
    "tuple('hello world'.split())"
   ]
  },
  {
   "cell_type": "code",
   "execution_count": 42,
   "id": "3607caed",
   "metadata": {},
   "outputs": [
    {
     "data": {
      "text/plain": [
       "['hello', 'world']"
      ]
     },
     "execution_count": 42,
     "metadata": {},
     "output_type": "execute_result"
    }
   ],
   "source": [
    "'hello world'.split()"
   ]
  },
  {
   "cell_type": "code",
   "execution_count": 40,
   "id": "3456dbea",
   "metadata": {},
   "outputs": [
    {
     "data": {
      "text/plain": [
       "(7, 8, 1)"
      ]
     },
     "execution_count": 40,
     "metadata": {},
     "output_type": "execute_result"
    }
   ],
   "source": [
    "tuple([7, 8, 1])"
   ]
  },
  {
   "cell_type": "code",
   "execution_count": null,
   "id": "8ce0d555",
   "metadata": {},
   "outputs": [],
   "source": []
  },
  {
   "cell_type": "code",
   "execution_count": null,
   "id": "e3650fdf",
   "metadata": {},
   "outputs": [],
   "source": []
  },
  {
   "cell_type": "code",
   "execution_count": 38,
   "id": "4424a2c7",
   "metadata": {},
   "outputs": [
    {
     "data": {
      "text/plain": [
       "['h', 'e', 'l', 'l', 'o', ' ', 'w', 'o', 'r', 'l', 'd']"
      ]
     },
     "execution_count": 38,
     "metadata": {},
     "output_type": "execute_result"
    }
   ],
   "source": [
    "list('hello world')"
   ]
  },
  {
   "cell_type": "code",
   "execution_count": 36,
   "id": "f5dcc3a8",
   "metadata": {},
   "outputs": [
    {
     "name": "stdout",
     "output_type": "stream",
     "text": [
      "h_e_l_l_o_ _w_o_r_l_d_"
     ]
    }
   ],
   "source": [
    "for ch in 'hello world':\n",
    "    print(ch, end='_')"
   ]
  },
  {
   "cell_type": "code",
   "execution_count": null,
   "id": "6969bfe7",
   "metadata": {},
   "outputs": [],
   "source": []
  },
  {
   "cell_type": "code",
   "execution_count": null,
   "id": "c3c62724",
   "metadata": {},
   "outputs": [],
   "source": []
  },
  {
   "cell_type": "code",
   "execution_count": null,
   "id": "84166e54",
   "metadata": {},
   "outputs": [],
   "source": []
  },
  {
   "cell_type": "markdown",
   "id": "772346da",
   "metadata": {},
   "source": [
    "#### Quiz 6\n",
    "```py\n",
    "t = (3, 4, 6, 7, 3)\n",
    "print(t[::2])\n",
    "```"
   ]
  },
  {
   "cell_type": "code",
   "execution_count": 43,
   "id": "b49b7e28",
   "metadata": {},
   "outputs": [
    {
     "name": "stdout",
     "output_type": "stream",
     "text": [
      "(3, 6, 3)\n"
     ]
    }
   ],
   "source": [
    "t = (3, 4, 6, 7, 3)\n",
    "print(t[::2])"
   ]
  },
  {
   "cell_type": "code",
   "execution_count": null,
   "id": "37bdf096",
   "metadata": {},
   "outputs": [],
   "source": []
  },
  {
   "cell_type": "code",
   "execution_count": null,
   "id": "a0993383",
   "metadata": {},
   "outputs": [],
   "source": []
  },
  {
   "cell_type": "code",
   "execution_count": 44,
   "id": "7a244bd0",
   "metadata": {},
   "outputs": [
    {
     "name": "stdout",
     "output_type": "stream",
     "text": [
      "(1, 2, 3, 4, 5, 6)\n"
     ]
    }
   ],
   "source": [
    "t = (1,2,3)\n",
    "t = t + (4,5,6)\n",
    "print(t)"
   ]
  },
  {
   "cell_type": "code",
   "execution_count": null,
   "id": "78006142",
   "metadata": {},
   "outputs": [],
   "source": []
  },
  {
   "cell_type": "code",
   "execution_count": null,
   "id": "c56027f9",
   "metadata": {},
   "outputs": [],
   "source": []
  },
  {
   "cell_type": "code",
   "execution_count": 47,
   "id": "f0ebe1b8",
   "metadata": {},
   "outputs": [
    {
     "name": "stdout",
     "output_type": "stream",
     "text": [
      "(1, 2, 3, 4) <class 'tuple'>\n"
     ]
    }
   ],
   "source": [
    "t = 1,2,3,4\n",
    "print(t, type(t))"
   ]
  },
  {
   "cell_type": "code",
   "execution_count": 46,
   "id": "69c35738",
   "metadata": {},
   "outputs": [
    {
     "name": "stdout",
     "output_type": "stream",
     "text": [
      "1\n",
      "2\n",
      "3\n",
      "4\n"
     ]
    }
   ],
   "source": [
    "# Tuple destructuring\n",
    "a,b,c,d = t\n",
    "print(a)\n",
    "print(b)\n",
    "print(c)\n",
    "print(d)"
   ]
  },
  {
   "cell_type": "code",
   "execution_count": null,
   "id": "b74c0238",
   "metadata": {},
   "outputs": [],
   "source": [
    "a,b,c = 1,2,3"
   ]
  },
  {
   "cell_type": "code",
   "execution_count": null,
   "id": "7b6d2760",
   "metadata": {},
   "outputs": [],
   "source": []
  },
  {
   "cell_type": "code",
   "execution_count": 48,
   "id": "ea75c94a",
   "metadata": {},
   "outputs": [
    {
     "ename": "ValueError",
     "evalue": "too many values to unpack (expected 2)",
     "output_type": "error",
     "traceback": [
      "\u001b[0;31m---------------------------------------------------------------------------\u001b[0m",
      "\u001b[0;31mValueError\u001b[0m                                Traceback (most recent call last)",
      "\u001b[0;32m/var/folders/jn/1bsrct314hv5xmfm7vrcdrzc0000gn/T/ipykernel_3694/3171707677.py\u001b[0m in \u001b[0;36m<module>\u001b[0;34m\u001b[0m\n\u001b[0;32m----> 1\u001b[0;31m \u001b[0ma\u001b[0m\u001b[0;34m,\u001b[0m\u001b[0mb\u001b[0m \u001b[0;34m=\u001b[0m \u001b[0;36m10\u001b[0m\u001b[0;34m,\u001b[0m\u001b[0;36m20\u001b[0m\u001b[0;34m,\u001b[0m\u001b[0;36m30\u001b[0m\u001b[0;34m\u001b[0m\u001b[0;34m\u001b[0m\u001b[0m\n\u001b[0m",
      "\u001b[0;31mValueError\u001b[0m: too many values to unpack (expected 2)"
     ]
    }
   ],
   "source": [
    "a,b = 10,20,30"
   ]
  },
  {
   "cell_type": "code",
   "execution_count": 49,
   "id": "2f279e0c",
   "metadata": {},
   "outputs": [
    {
     "ename": "ValueError",
     "evalue": "not enough values to unpack (expected 3, got 2)",
     "output_type": "error",
     "traceback": [
      "\u001b[0;31m---------------------------------------------------------------------------\u001b[0m",
      "\u001b[0;31mValueError\u001b[0m                                Traceback (most recent call last)",
      "\u001b[0;32m/var/folders/jn/1bsrct314hv5xmfm7vrcdrzc0000gn/T/ipykernel_3694/826325149.py\u001b[0m in \u001b[0;36m<module>\u001b[0;34m\u001b[0m\n\u001b[0;32m----> 1\u001b[0;31m \u001b[0ma\u001b[0m\u001b[0;34m,\u001b[0m\u001b[0mb\u001b[0m\u001b[0;34m,\u001b[0m\u001b[0mc\u001b[0m \u001b[0;34m=\u001b[0m \u001b[0;36m10\u001b[0m\u001b[0;34m,\u001b[0m\u001b[0;36m20\u001b[0m\u001b[0;34m\u001b[0m\u001b[0;34m\u001b[0m\u001b[0m\n\u001b[0m",
      "\u001b[0;31mValueError\u001b[0m: not enough values to unpack (expected 3, got 2)"
     ]
    }
   ],
   "source": [
    "a,b,c = 10,20"
   ]
  },
  {
   "cell_type": "code",
   "execution_count": null,
   "id": "517bbc02",
   "metadata": {},
   "outputs": [],
   "source": []
  },
  {
   "cell_type": "code",
   "execution_count": 51,
   "id": "bd28934e",
   "metadata": {},
   "outputs": [],
   "source": [
    "students = (\n",
    "    (1, \"Thor\"),\n",
    "    (2, \"Spiderman\"),\n",
    "    (3, \"Captain America\"),\n",
    "    (4, \"Hulk\"),\n",
    ")"
   ]
  },
  {
   "cell_type": "code",
   "execution_count": 54,
   "id": "56460e23",
   "metadata": {},
   "outputs": [
    {
     "name": "stdout",
     "output_type": "stream",
     "text": [
      "Roll no 1 is Thor\n",
      "Roll no 2 is Spiderman\n",
      "Roll no 3 is Captain America\n",
      "Roll no 4 is Hulk\n"
     ]
    }
   ],
   "source": [
    "# Print all student's role numbers with their names\n",
    "for item in students:\n",
    "    print(f\"Roll no {item[0]} is {item[1]}\")"
   ]
  },
  {
   "cell_type": "code",
   "execution_count": 55,
   "id": "c2b82e86",
   "metadata": {},
   "outputs": [
    {
     "name": "stdout",
     "output_type": "stream",
     "text": [
      "Roll no 1 is Thor\n",
      "Roll no 2 is Spiderman\n",
      "Roll no 3 is Captain America\n",
      "Roll no 4 is Hulk\n"
     ]
    }
   ],
   "source": [
    "for roll, name in students:\n",
    "    print(f\"Roll no {roll} is {name}\")"
   ]
  },
  {
   "cell_type": "code",
   "execution_count": null,
   "id": "45009dd3",
   "metadata": {},
   "outputs": [],
   "source": []
  },
  {
   "cell_type": "markdown",
   "id": "8df16bac",
   "metadata": {},
   "source": [
    "## Bonus Reading Material for Tuples\n",
    "- Data Structures in Python - https://www.scaler.com/topics/data-structures-in-python/\n",
    "- Tuples in Python - https://www.scaler.com/topics/python/tuples-in-python/\n",
    "- What is the Difference Between List and Tuple in Python? - https://www.scaler.com/topics/difference-between-list-and-tuple-in-python/\n",
    "- Convert List to Tuple in Python - https://www.scaler.com/topics/convert-list-to-tuple-python/\n",
    "- WtfPython: Mutating the immutable! - https://github.com/satwikkansal/wtfpython#-mutating-the-immutable\n",
    "- WtfPython: Needles in a Haystack - https://github.com/satwikkansal/wtfpython#-needles-in-a-haystack-"
   ]
  },
  {
   "cell_type": "code",
   "execution_count": null,
   "id": "3060d8aa",
   "metadata": {},
   "outputs": [],
   "source": []
  },
  {
   "cell_type": "markdown",
   "id": "37e3eeb6",
   "metadata": {},
   "source": [
    "# Sets\n",
    "![](https://scaler.com/topics/images/set-in-python.webp)"
   ]
  },
  {
   "cell_type": "code",
   "execution_count": 56,
   "id": "73d1bcb9",
   "metadata": {},
   "outputs": [
    {
     "name": "stdout",
     "output_type": "stream",
     "text": [
      "{'hello', 1, 7, 8, 9.7, -100} <class 'set'>\n"
     ]
    }
   ],
   "source": [
    "s = {1, 7, 8, -100, 'hello', 9.7}\n",
    "print(s, type(s))"
   ]
  },
  {
   "cell_type": "code",
   "execution_count": null,
   "id": "08089988",
   "metadata": {},
   "outputs": [],
   "source": []
  },
  {
   "cell_type": "code",
   "execution_count": 57,
   "id": "19b76775",
   "metadata": {},
   "outputs": [
    {
     "name": "stdout",
     "output_type": "stream",
     "text": [
      "{} <class 'dict'>\n"
     ]
    }
   ],
   "source": [
    "# To create an empty set\n",
    "s = {}\n",
    "print(s, type(s))\n",
    "# This creates an empty dictionary"
   ]
  },
  {
   "cell_type": "code",
   "execution_count": 58,
   "id": "6dc92e70",
   "metadata": {},
   "outputs": [
    {
     "name": "stdout",
     "output_type": "stream",
     "text": [
      "set() <class 'set'>\n"
     ]
    }
   ],
   "source": [
    "# Empty set\n",
    "s = set()\n",
    "print(s, type(s))"
   ]
  },
  {
   "cell_type": "code",
   "execution_count": 60,
   "id": "8c211243",
   "metadata": {},
   "outputs": [
    {
     "name": "stdout",
     "output_type": "stream",
     "text": [
      "{1, 3, 6} <class 'set'>\n"
     ]
    }
   ],
   "source": [
    "s = {1,6,3}\n",
    "print(s, type(s))"
   ]
  },
  {
   "cell_type": "code",
   "execution_count": null,
   "id": "375beb4a",
   "metadata": {},
   "outputs": [],
   "source": []
  },
  {
   "cell_type": "markdown",
   "id": "49860666",
   "metadata": {},
   "source": [
    "Sets can only store unique values"
   ]
  },
  {
   "cell_type": "code",
   "execution_count": 61,
   "id": "36309179",
   "metadata": {},
   "outputs": [
    {
     "name": "stdout",
     "output_type": "stream",
     "text": [
      "{8, 1, 4, 7}\n"
     ]
    }
   ],
   "source": [
    "s = {1,7,8,8,8,7,1,4,7,1,1,4,8,4}\n",
    "print(s)"
   ]
  },
  {
   "cell_type": "code",
   "execution_count": 62,
   "id": "8c362a27",
   "metadata": {},
   "outputs": [
    {
     "data": {
      "text/plain": [
       "4"
      ]
     },
     "execution_count": 62,
     "metadata": {},
     "output_type": "execute_result"
    }
   ],
   "source": [
    "len(s)"
   ]
  },
  {
   "cell_type": "code",
   "execution_count": null,
   "id": "d2d3f53c",
   "metadata": {},
   "outputs": [],
   "source": []
  },
  {
   "cell_type": "code",
   "execution_count": null,
   "id": "aa3376b9",
   "metadata": {},
   "outputs": [],
   "source": []
  },
  {
   "cell_type": "code",
   "execution_count": null,
   "id": "5fe4f527",
   "metadata": {},
   "outputs": [],
   "source": []
  },
  {
   "cell_type": "markdown",
   "id": "b7201208",
   "metadata": {},
   "source": [
    "Important methods\n",
    "- add()\n",
    "- remove()\n",
    "- in"
   ]
  },
  {
   "cell_type": "code",
   "execution_count": 63,
   "id": "e9f8bbd6",
   "metadata": {},
   "outputs": [
    {
     "data": {
      "text/plain": [
       "{-50, 10, 20, 30, 40}"
      ]
     },
     "execution_count": 63,
     "metadata": {},
     "output_type": "execute_result"
    }
   ],
   "source": [
    "s = {10, 20, 30, 40, -50}\n",
    "s"
   ]
  },
  {
   "cell_type": "code",
   "execution_count": 64,
   "id": "f31055df",
   "metadata": {},
   "outputs": [
    {
     "name": "stdout",
     "output_type": "stream",
     "text": [
      "{20, 100, 30, 40, 10, -50}\n"
     ]
    }
   ],
   "source": [
    "s.add(100)\n",
    "print(s)"
   ]
  },
  {
   "cell_type": "code",
   "execution_count": 67,
   "id": "1f7e308b",
   "metadata": {},
   "outputs": [
    {
     "data": {
      "text/plain": [
       "{-50, 10, 20, 30, 40, 100}"
      ]
     },
     "execution_count": 67,
     "metadata": {},
     "output_type": "execute_result"
    }
   ],
   "source": [
    "s.add(10)\n",
    "s"
   ]
  },
  {
   "cell_type": "code",
   "execution_count": 68,
   "id": "6dbab7ed",
   "metadata": {},
   "outputs": [
    {
     "data": {
      "text/plain": [
       "{-50, 10, 20, 30, 40, 100}"
      ]
     },
     "execution_count": 68,
     "metadata": {},
     "output_type": "execute_result"
    }
   ],
   "source": [
    "s.add(20)\n",
    "s"
   ]
  },
  {
   "cell_type": "code",
   "execution_count": null,
   "id": "78c4a1a6",
   "metadata": {},
   "outputs": [],
   "source": []
  },
  {
   "cell_type": "code",
   "execution_count": null,
   "id": "0c3f533c",
   "metadata": {},
   "outputs": [],
   "source": []
  },
  {
   "cell_type": "code",
   "execution_count": 70,
   "id": "9deb1daa",
   "metadata": {},
   "outputs": [
    {
     "name": "stdout",
     "output_type": "stream",
     "text": [
      "{100, 30, 40, 10, -50}\n"
     ]
    }
   ],
   "source": [
    "s = {-50, 10, 20, 30, 40, 100}\n",
    "s.remove(20)\n",
    "print(s)"
   ]
  },
  {
   "cell_type": "code",
   "execution_count": 71,
   "id": "3aea6113",
   "metadata": {},
   "outputs": [
    {
     "ename": "KeyError",
     "evalue": "1000",
     "output_type": "error",
     "traceback": [
      "\u001b[0;31m---------------------------------------------------------------------------\u001b[0m",
      "\u001b[0;31mKeyError\u001b[0m                                  Traceback (most recent call last)",
      "\u001b[0;32m/var/folders/jn/1bsrct314hv5xmfm7vrcdrzc0000gn/T/ipykernel_3694/1950514882.py\u001b[0m in \u001b[0;36m<module>\u001b[0;34m\u001b[0m\n\u001b[0;32m----> 1\u001b[0;31m \u001b[0ms\u001b[0m\u001b[0;34m.\u001b[0m\u001b[0mremove\u001b[0m\u001b[0;34m(\u001b[0m\u001b[0;36m1000\u001b[0m\u001b[0;34m)\u001b[0m\u001b[0;34m\u001b[0m\u001b[0;34m\u001b[0m\u001b[0m\n\u001b[0m\u001b[1;32m      2\u001b[0m \u001b[0mprint\u001b[0m\u001b[0;34m(\u001b[0m\u001b[0ms\u001b[0m\u001b[0;34m)\u001b[0m\u001b[0;34m\u001b[0m\u001b[0;34m\u001b[0m\u001b[0m\n",
      "\u001b[0;31mKeyError\u001b[0m: 1000"
     ]
    }
   ],
   "source": [
    "s.remove(1000)\n",
    "print(s)\n",
    "# gives an error if the value if not present"
   ]
  },
  {
   "cell_type": "code",
   "execution_count": null,
   "id": "b5a59ee4",
   "metadata": {},
   "outputs": [],
   "source": []
  },
  {
   "cell_type": "code",
   "execution_count": 72,
   "id": "acc3dee4",
   "metadata": {},
   "outputs": [
    {
     "name": "stdout",
     "output_type": "stream",
     "text": [
      "{100, 30, 40, 10, -50}\n"
     ]
    }
   ],
   "source": [
    "s = {-50, 10, 20, 30, 40, 100}\n",
    "s.discard(20)\n",
    "print(s)\n",
    "# Works the exact same way as 'remove' in case the value is present"
   ]
  },
  {
   "cell_type": "code",
   "execution_count": 73,
   "id": "97c98ead",
   "metadata": {},
   "outputs": [],
   "source": [
    "s.discard(1000)\n",
    "# If the value is not present -> nothing"
   ]
  },
  {
   "cell_type": "code",
   "execution_count": 74,
   "id": "3ec40a1e",
   "metadata": {},
   "outputs": [
    {
     "name": "stdout",
     "output_type": "stream",
     "text": [
      "{100, 30, 40, 10, -50}\n"
     ]
    }
   ],
   "source": [
    "print(s)"
   ]
  },
  {
   "cell_type": "code",
   "execution_count": null,
   "id": "325a3d7c",
   "metadata": {},
   "outputs": [],
   "source": []
  },
  {
   "cell_type": "code",
   "execution_count": null,
   "id": "559906fb",
   "metadata": {},
   "outputs": [],
   "source": []
  },
  {
   "cell_type": "code",
   "execution_count": 75,
   "id": "95972274",
   "metadata": {},
   "outputs": [],
   "source": [
    "s = {-50, 10, 20, 30, 40, 100}"
   ]
  },
  {
   "cell_type": "code",
   "execution_count": 76,
   "id": "1483cfb7",
   "metadata": {},
   "outputs": [
    {
     "data": {
      "text/plain": [
       "True"
      ]
     },
     "execution_count": 76,
     "metadata": {},
     "output_type": "execute_result"
    }
   ],
   "source": [
    "10 in s"
   ]
  },
  {
   "cell_type": "code",
   "execution_count": 77,
   "id": "51f41aba",
   "metadata": {},
   "outputs": [
    {
     "data": {
      "text/plain": [
       "True"
      ]
     },
     "execution_count": 77,
     "metadata": {},
     "output_type": "execute_result"
    }
   ],
   "source": [
    "100 in s"
   ]
  },
  {
   "cell_type": "code",
   "execution_count": 78,
   "id": "8b018f24",
   "metadata": {},
   "outputs": [
    {
     "data": {
      "text/plain": [
       "False"
      ]
     },
     "execution_count": 78,
     "metadata": {},
     "output_type": "execute_result"
    }
   ],
   "source": [
    "1000 in s"
   ]
  },
  {
   "cell_type": "code",
   "execution_count": null,
   "id": "d9050b49",
   "metadata": {},
   "outputs": [],
   "source": []
  },
  {
   "cell_type": "code",
   "execution_count": 79,
   "id": "d20edcfc",
   "metadata": {},
   "outputs": [],
   "source": [
    "s = {-50, 10, 20, 30, 40, 100}"
   ]
  },
  {
   "cell_type": "code",
   "execution_count": 80,
   "id": "1ccd555c",
   "metadata": {},
   "outputs": [
    {
     "ename": "TypeError",
     "evalue": "'set' object is not subscriptable",
     "output_type": "error",
     "traceback": [
      "\u001b[0;31m---------------------------------------------------------------------------\u001b[0m",
      "\u001b[0;31mTypeError\u001b[0m                                 Traceback (most recent call last)",
      "\u001b[0;32m/var/folders/jn/1bsrct314hv5xmfm7vrcdrzc0000gn/T/ipykernel_3694/243613605.py\u001b[0m in \u001b[0;36m<module>\u001b[0;34m\u001b[0m\n\u001b[0;32m----> 1\u001b[0;31m \u001b[0ms\u001b[0m\u001b[0;34m[\u001b[0m\u001b[0;36m0\u001b[0m\u001b[0;34m]\u001b[0m\u001b[0;34m\u001b[0m\u001b[0;34m\u001b[0m\u001b[0m\n\u001b[0m",
      "\u001b[0;31mTypeError\u001b[0m: 'set' object is not subscriptable"
     ]
    }
   ],
   "source": [
    "s[0]"
   ]
  },
  {
   "cell_type": "code",
   "execution_count": 84,
   "id": "8670e37c",
   "metadata": {},
   "outputs": [],
   "source": [
    "s = {-50, 10, 20, 30, 40, 100, 90, 'hello', 9.6, 5.4}"
   ]
  },
  {
   "cell_type": "code",
   "execution_count": 85,
   "id": "da8ac26e",
   "metadata": {},
   "outputs": [
    {
     "name": "stdout",
     "output_type": "stream",
     "text": [
      "hello 100 5.4 40 9.6 10 -50 20 90 30 "
     ]
    }
   ],
   "source": [
    "for x in s:\n",
    "    print(x, end=' ')"
   ]
  },
  {
   "cell_type": "code",
   "execution_count": 86,
   "id": "10f5287e",
   "metadata": {},
   "outputs": [
    {
     "data": {
      "text/plain": [
       "'hello'"
      ]
     },
     "execution_count": 86,
     "metadata": {},
     "output_type": "execute_result"
    }
   ],
   "source": [
    "s.pop()\n",
    "# It will pop a random value"
   ]
  },
  {
   "cell_type": "code",
   "execution_count": null,
   "id": "9ce6a359",
   "metadata": {},
   "outputs": [],
   "source": []
  },
  {
   "cell_type": "code",
   "execution_count": null,
   "id": "c240155f",
   "metadata": {},
   "outputs": [],
   "source": []
  },
  {
   "cell_type": "code",
   "execution_count": 87,
   "id": "5abe59f6",
   "metadata": {},
   "outputs": [
    {
     "name": "stdout",
     "output_type": "stream",
     "text": [
      "100 is present\n"
     ]
    }
   ],
   "source": [
    "x = 100\n",
    "if x in s:\n",
    "    print(\"100 is present\")\n",
    "else:\n",
    "    print(\"100 is not present\")"
   ]
  },
  {
   "cell_type": "code",
   "execution_count": null,
   "id": "671ed03d",
   "metadata": {},
   "outputs": [],
   "source": []
  },
  {
   "cell_type": "code",
   "execution_count": 88,
   "id": "15d91d57",
   "metadata": {},
   "outputs": [
    {
     "name": "stdout",
     "output_type": "stream",
     "text": [
      "{50}\n"
     ]
    }
   ],
   "source": [
    "s = set()\n",
    "s.add(50)\n",
    "print(s)"
   ]
  },
  {
   "cell_type": "code",
   "execution_count": null,
   "id": "e668f70d",
   "metadata": {},
   "outputs": [],
   "source": []
  },
  {
   "cell_type": "code",
   "execution_count": null,
   "id": "bc27fb4a",
   "metadata": {},
   "outputs": [],
   "source": []
  },
  {
   "cell_type": "markdown",
   "id": "6ac524c0",
   "metadata": {},
   "source": [
    "### TV Series recommendation\n",
    "You ask 2 friends for a TV Series recommendation"
   ]
  },
  {
   "cell_type": "code",
   "execution_count": 89,
   "id": "79bf2cda",
   "metadata": {},
   "outputs": [],
   "source": [
    "A = {\n",
    "    \"Breaking Bad\",\n",
    "    \"Better Call Saul\",\n",
    "    \"Dark\"\n",
    "}\n",
    "\n",
    "B = {\n",
    "    \"Sherlock\",\n",
    "    \"Dark\",\n",
    "    \"The Office\"\n",
    "}"
   ]
  },
  {
   "cell_type": "code",
   "execution_count": 94,
   "id": "e4c01337",
   "metadata": {},
   "outputs": [
    {
     "name": "stdout",
     "output_type": "stream",
     "text": [
      "{'Better Call Saul', 'Dark', 'The Office', 'Sherlock', 'Breaking Bad'}\n"
     ]
    }
   ],
   "source": [
    "C = A | B\n",
    "# C = A.union(B)\n",
    "# C = B.union(A)\n",
    "print(C)"
   ]
  },
  {
   "cell_type": "code",
   "execution_count": null,
   "id": "e65028a4",
   "metadata": {},
   "outputs": [],
   "source": []
  },
  {
   "cell_type": "code",
   "execution_count": 98,
   "id": "95910f2d",
   "metadata": {},
   "outputs": [
    {
     "name": "stdout",
     "output_type": "stream",
     "text": [
      "{'Dark'}\n"
     ]
    }
   ],
   "source": [
    "D = A & B\n",
    "# D = A.intersection(B)\n",
    "# D = B.intersection(A)\n",
    "print(D)"
   ]
  },
  {
   "cell_type": "code",
   "execution_count": null,
   "id": "e201538a",
   "metadata": {},
   "outputs": [],
   "source": []
  },
  {
   "cell_type": "code",
   "execution_count": 101,
   "id": "c5b67a30",
   "metadata": {},
   "outputs": [
    {
     "name": "stdout",
     "output_type": "stream",
     "text": [
      "{'Better Call Saul', 'Breaking Bad'}\n"
     ]
    }
   ],
   "source": [
    "E = A - B\n",
    "# E = A.difference(B)\n",
    "print(E)"
   ]
  },
  {
   "cell_type": "code",
   "execution_count": null,
   "id": "3847bfca",
   "metadata": {},
   "outputs": [],
   "source": []
  },
  {
   "cell_type": "code",
   "execution_count": 100,
   "id": "412dfc6e",
   "metadata": {},
   "outputs": [
    {
     "name": "stdout",
     "output_type": "stream",
     "text": [
      "{'The Office', 'Sherlock'}\n"
     ]
    }
   ],
   "source": [
    "F = B - A\n",
    "# F = B.difference(A)\n",
    "print(F)"
   ]
  },
  {
   "cell_type": "code",
   "execution_count": null,
   "id": "ae642d38",
   "metadata": {},
   "outputs": [],
   "source": []
  },
  {
   "cell_type": "code",
   "execution_count": 102,
   "id": "a625e3bb",
   "metadata": {},
   "outputs": [
    {
     "name": "stdout",
     "output_type": "stream",
     "text": [
      "{'The Office', 'Breaking Bad', 'Better Call Saul', 'Sherlock'}\n"
     ]
    }
   ],
   "source": [
    "G = A ^ B\n",
    "print(G)"
   ]
  },
  {
   "cell_type": "code",
   "execution_count": null,
   "id": "f3476a56",
   "metadata": {},
   "outputs": [],
   "source": []
  },
  {
   "cell_type": "code",
   "execution_count": null,
   "id": "0fd7c85d",
   "metadata": {},
   "outputs": [],
   "source": []
  },
  {
   "cell_type": "markdown",
   "id": "b22cfd81",
   "metadata": {},
   "source": [
    "### Quiz 7\n",
    "What is the output of the following?\n",
    "```py\n",
    "a = {1,2,3}\n",
    "b = {3,4,5}\n",
    "print(a-b)\n",
    "print(a.union(b))\n",
    "print(a.intersection(b))\n",
    "```"
   ]
  },
  {
   "cell_type": "code",
   "execution_count": 103,
   "id": "27866f71",
   "metadata": {},
   "outputs": [
    {
     "name": "stdout",
     "output_type": "stream",
     "text": [
      "{1, 2}\n",
      "{1, 2, 3, 4, 5}\n",
      "{3}\n"
     ]
    }
   ],
   "source": [
    "a = {1,2,3}\n",
    "b = {3,4,5}\n",
    "print(a-b) # 1,2\n",
    "print(a.union(b)) # 1,2,3,4,5\n",
    "print(a.intersection(b)) # 3"
   ]
  },
  {
   "cell_type": "code",
   "execution_count": null,
   "id": "74c08a86",
   "metadata": {},
   "outputs": [],
   "source": []
  },
  {
   "cell_type": "code",
   "execution_count": null,
   "id": "cb047428",
   "metadata": {},
   "outputs": [],
   "source": []
  },
  {
   "cell_type": "markdown",
   "id": "d3162f02",
   "metadata": {},
   "source": [
    "#### Quiz 8\n",
    "What is the value of x in the code snippet below?\n",
    "```py\n",
    "set1 = {1, 2, 3, 4, 5, 6}\n",
    "set2 = {2, 4, 5, 6, 7}\n",
    "x = set1 | set2\n",
    "```"
   ]
  },
  {
   "cell_type": "code",
   "execution_count": 104,
   "id": "d66260ac",
   "metadata": {},
   "outputs": [],
   "source": [
    "# | = union\n",
    "set1 = {1, 2, 3, 4, 5, 6}\n",
    "set2 = {2, 4, 5, 6, 7}\n",
    "x = set1 | set2"
   ]
  },
  {
   "cell_type": "code",
   "execution_count": 105,
   "id": "8430fd33",
   "metadata": {},
   "outputs": [
    {
     "data": {
      "text/plain": [
       "{1, 2, 3, 4, 5, 6, 7}"
      ]
     },
     "execution_count": 105,
     "metadata": {},
     "output_type": "execute_result"
    }
   ],
   "source": [
    "x"
   ]
  },
  {
   "cell_type": "code",
   "execution_count": null,
   "id": "75f87099",
   "metadata": {},
   "outputs": [],
   "source": []
  },
  {
   "cell_type": "code",
   "execution_count": null,
   "id": "acf61360",
   "metadata": {},
   "outputs": [],
   "source": []
  },
  {
   "cell_type": "markdown",
   "id": "ba66784b",
   "metadata": {},
   "source": [
    "### Count unique\n",
    "Given an array, count unique elements in it."
   ]
  },
  {
   "cell_type": "code",
   "execution_count": 106,
   "id": "c057b533",
   "metadata": {},
   "outputs": [],
   "source": [
    "def countUnique(arr):\n",
    "    s = set(arr)\n",
    "    return len(s)"
   ]
  },
  {
   "cell_type": "code",
   "execution_count": 107,
   "id": "bb6a30f0",
   "metadata": {},
   "outputs": [
    {
     "data": {
      "text/plain": [
       "4"
      ]
     },
     "execution_count": 107,
     "metadata": {},
     "output_type": "execute_result"
    }
   ],
   "source": [
    "countUnique([5, 6, 5, 2, 3]) # 4"
   ]
  },
  {
   "cell_type": "code",
   "execution_count": 108,
   "id": "b769b028",
   "metadata": {},
   "outputs": [
    {
     "data": {
      "text/plain": [
       "1"
      ]
     },
     "execution_count": 108,
     "metadata": {},
     "output_type": "execute_result"
    }
   ],
   "source": [
    "countUnique([7, 7, 7, 7]) # 1"
   ]
  },
  {
   "cell_type": "code",
   "execution_count": 109,
   "id": "6f349df8",
   "metadata": {},
   "outputs": [],
   "source": [
    "def countUnique(arr):\n",
    "    return len(set(arr))"
   ]
  },
  {
   "cell_type": "code",
   "execution_count": 110,
   "id": "7cb352af",
   "metadata": {},
   "outputs": [
    {
     "data": {
      "text/plain": [
       "4"
      ]
     },
     "execution_count": 110,
     "metadata": {},
     "output_type": "execute_result"
    }
   ],
   "source": [
    "countUnique(\"hhelllo\")"
   ]
  },
  {
   "cell_type": "code",
   "execution_count": null,
   "id": "d6c1eb90",
   "metadata": {},
   "outputs": [],
   "source": []
  },
  {
   "cell_type": "code",
   "execution_count": null,
   "id": "1735273b",
   "metadata": {},
   "outputs": [],
   "source": []
  },
  {
   "cell_type": "markdown",
   "id": "abb275e0",
   "metadata": {},
   "source": [
    "## Bonus Reading Material for Sets\n",
    "- set() in Python - https://www.scaler.com/topics/set-in-python/\n",
    "- Sets in Python - https://www.scaler.com/topics/python/sets-in-python/\n",
    "- Set to List Python - https://www.scaler.com/topics/set-to-list-python/\n",
    "- Convert List to Set Python - https://www.scaler.com/topics/convert-list-to-set-python/\n",
    "- frozenset() in Python - https://www.scaler.com/topics/frozenset-in-python/\n",
    "- Python Set difference() - https://www.scaler.com/topics/python-set-difference/\n",
    "- union() in Python - https://www.scaler.com/topics/union-in-python/\n",
    "- intersection() in Python - https://www.scaler.com/topics/intersection-in-python/\n",
    "- symmetric_difference() Python - https://www.scaler.com/topics/symmetric-difference-python/"
   ]
  },
  {
   "cell_type": "code",
   "execution_count": null,
   "id": "f8d337e6",
   "metadata": {},
   "outputs": [],
   "source": []
  },
  {
   "cell_type": "code",
   "execution_count": null,
   "id": "b0763a3f",
   "metadata": {},
   "outputs": [],
   "source": []
  },
  {
   "cell_type": "code",
   "execution_count": null,
   "id": "a52fc212",
   "metadata": {},
   "outputs": [],
   "source": []
  },
  {
   "cell_type": "markdown",
   "id": "0eb37159",
   "metadata": {},
   "source": [
    "# Doubts"
   ]
  },
  {
   "cell_type": "code",
   "execution_count": 113,
   "id": "dd89f04e",
   "metadata": {},
   "outputs": [
    {
     "name": "stdout",
     "output_type": "stream",
     "text": [
      "2\n",
      "4\n"
     ]
    }
   ],
   "source": [
    "l = [6,5,2]\n",
    "x = l.pop()\n",
    "print(x)\n",
    "\n",
    "print(x ** 2)"
   ]
  },
  {
   "cell_type": "code",
   "execution_count": 111,
   "id": "8bd83f8c",
   "metadata": {},
   "outputs": [
    {
     "name": "stdout",
     "output_type": "stream",
     "text": [
      "3\n"
     ]
    }
   ],
   "source": [
    "print(l.pop())"
   ]
  },
  {
   "cell_type": "code",
   "execution_count": null,
   "id": "6aedb03e",
   "metadata": {},
   "outputs": [],
   "source": []
  },
  {
   "cell_type": "code",
   "execution_count": 115,
   "id": "219a8c8d",
   "metadata": {},
   "outputs": [
    {
     "name": "stdout",
     "output_type": "stream",
     "text": [
      "(5, 6)\n"
     ]
    }
   ],
   "source": [
    "t = ()\n",
    "t += (5,6,)\n",
    "print(t)\n",
    "# Creating a new tuple"
   ]
  },
  {
   "cell_type": "code",
   "execution_count": 116,
   "id": "7e6a1b28",
   "metadata": {},
   "outputs": [
    {
     "name": "stdout",
     "output_type": "stream",
     "text": [
      "Random string x = 5 and y = 2\n"
     ]
    }
   ],
   "source": [
    "# String formatting\n",
    "# .format()\n",
    "# f-string\n",
    "x = 5\n",
    "y = 2\n",
    "\n",
    "print(f\"Random string x = {x} and y = {y}\")"
   ]
  },
  {
   "cell_type": "code",
   "execution_count": null,
   "id": "c4457fdc",
   "metadata": {},
   "outputs": [],
   "source": []
  }
 ],
 "metadata": {
  "kernelspec": {
   "display_name": "Python 3 (ipykernel)",
   "language": "python",
   "name": "python3"
  },
  "language_info": {
   "codemirror_mode": {
    "name": "ipython",
    "version": 3
   },
   "file_extension": ".py",
   "mimetype": "text/x-python",
   "name": "python",
   "nbconvert_exporter": "python",
   "pygments_lexer": "ipython3",
   "version": "3.9.12"
  }
 },
 "nbformat": 4,
 "nbformat_minor": 5
}
