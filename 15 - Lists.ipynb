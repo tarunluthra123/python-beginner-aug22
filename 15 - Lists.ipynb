{
 "cells": [
  {
   "cell_type": "markdown",
   "id": "ceff3835",
   "metadata": {},
   "source": [
    "# Python Lists\n",
    "![](https://scaler.com/topics/images/array-data-structure.webp)"
   ]
  },
  {
   "cell_type": "code",
   "execution_count": null,
   "id": "3e62a341",
   "metadata": {},
   "outputs": [],
   "source": [
    "run1 = 78\n",
    "run2 = 90\n",
    "run3 = 34\n",
    "run4 = 56\n",
    "...\n",
    "run10000 = 78\n",
    "\n",
    "total = run1 + run2 + run3 ..."
   ]
  },
  {
   "cell_type": "code",
   "execution_count": null,
   "id": "0942375e",
   "metadata": {},
   "outputs": [],
   "source": [
    "movie1 = \"Shawshank Redemption\"\n",
    "movie2 = \"Batman\"\n"
   ]
  },
  {
   "cell_type": "code",
   "execution_count": 1,
   "id": "1006c10e",
   "metadata": {},
   "outputs": [],
   "source": [
    "runs = [78, 90, 34, 56, 39]"
   ]
  },
  {
   "cell_type": "code",
   "execution_count": 2,
   "id": "e0eef086",
   "metadata": {},
   "outputs": [
    {
     "name": "stdout",
     "output_type": "stream",
     "text": [
      "[78, 90, 34, 56, 39]\n"
     ]
    }
   ],
   "source": [
    "print(runs)"
   ]
  },
  {
   "cell_type": "code",
   "execution_count": 3,
   "id": "06aa50e2",
   "metadata": {},
   "outputs": [
    {
     "name": "stdout",
     "output_type": "stream",
     "text": [
      "<class 'list'>\n"
     ]
    }
   ],
   "source": [
    "print(type(runs))"
   ]
  },
  {
   "cell_type": "code",
   "execution_count": 7,
   "id": "965da54d",
   "metadata": {},
   "outputs": [
    {
     "name": "stdout",
     "output_type": "stream",
     "text": [
      "['Batman', \"Schindler's List\", ['Thor', 'Avengers'], 300, 2.0]\n"
     ]
    }
   ],
   "source": [
    "movies = [\"Batman\", \"Schindler's List\", [\"Thor\" ,\"Avengers\"], 300, 2.0]\n",
    "print(movies)"
   ]
  },
  {
   "cell_type": "code",
   "execution_count": null,
   "id": "d4ae048d",
   "metadata": {},
   "outputs": [],
   "source": []
  },
  {
   "cell_type": "code",
   "execution_count": 8,
   "id": "a92a2455",
   "metadata": {},
   "outputs": [],
   "source": [
    "runs = [78, 90, 34, 56, 39, 34, 34, 34]"
   ]
  },
  {
   "cell_type": "code",
   "execution_count": 9,
   "id": "d0b07f43",
   "metadata": {},
   "outputs": [
    {
     "data": {
      "text/plain": [
       "[78, 90, 34, 56, 39, 34, 34, 34]"
      ]
     },
     "execution_count": 9,
     "metadata": {},
     "output_type": "execute_result"
    }
   ],
   "source": [
    "runs"
   ]
  },
  {
   "cell_type": "code",
   "execution_count": null,
   "id": "3dccc773",
   "metadata": {},
   "outputs": [],
   "source": []
  },
  {
   "cell_type": "code",
   "execution_count": null,
   "id": "6a67489c",
   "metadata": {},
   "outputs": [],
   "source": []
  },
  {
   "cell_type": "markdown",
   "id": "e85e48d0",
   "metadata": {},
   "source": [
    "### Length of List\n",
    "![](https://scaler.com/topics/images/length-of-array-in-python-fi.webp)"
   ]
  },
  {
   "cell_type": "code",
   "execution_count": 10,
   "id": "03b68002",
   "metadata": {},
   "outputs": [
    {
     "name": "stdout",
     "output_type": "stream",
     "text": [
      "8\n"
     ]
    }
   ],
   "source": [
    "runs = [78, 90, 34, 56, 39, 34, 34, 34]\n",
    "print(len(runs))"
   ]
  },
  {
   "cell_type": "code",
   "execution_count": 11,
   "id": "1c2b3aaf",
   "metadata": {},
   "outputs": [
    {
     "name": "stdout",
     "output_type": "stream",
     "text": [
      "5\n"
     ]
    }
   ],
   "source": [
    "movies = [\"Batman\", \"Schindler's List\", [\"Thor\" ,\"Avengers\"], 300, 2.0]\n",
    "print(len(movies))"
   ]
  },
  {
   "cell_type": "code",
   "execution_count": null,
   "id": "ddfdb2b4",
   "metadata": {},
   "outputs": [],
   "source": []
  },
  {
   "cell_type": "code",
   "execution_count": null,
   "id": "a2ee2d76",
   "metadata": {},
   "outputs": [],
   "source": []
  },
  {
   "cell_type": "code",
   "execution_count": null,
   "id": "ee3f4052",
   "metadata": {},
   "outputs": [],
   "source": []
  },
  {
   "cell_type": "markdown",
   "id": "ac23b782",
   "metadata": {},
   "source": [
    "## Indexing\n",
    "![](https://scaler.com/topics/images/lists-in-python.webp)"
   ]
  },
  {
   "cell_type": "code",
   "execution_count": 12,
   "id": "32b622bc",
   "metadata": {},
   "outputs": [
    {
     "name": "stdout",
     "output_type": "stream",
     "text": [
      "2\n"
     ]
    }
   ],
   "source": [
    "runs = [5, 9, 2, 7, 3]\n",
    "print(runs[2])"
   ]
  },
  {
   "cell_type": "code",
   "execution_count": 13,
   "id": "955e8c3d",
   "metadata": {},
   "outputs": [
    {
     "name": "stdout",
     "output_type": "stream",
     "text": [
      "3\n"
     ]
    }
   ],
   "source": [
    "print(runs[4])"
   ]
  },
  {
   "cell_type": "code",
   "execution_count": 14,
   "id": "5b2f0060",
   "metadata": {},
   "outputs": [
    {
     "name": "stdout",
     "output_type": "stream",
     "text": [
      "5\n"
     ]
    }
   ],
   "source": [
    "print(runs[0])"
   ]
  },
  {
   "cell_type": "code",
   "execution_count": 16,
   "id": "7887fc0d",
   "metadata": {},
   "outputs": [
    {
     "name": "stdout",
     "output_type": "stream",
     "text": [
      "3\n"
     ]
    }
   ],
   "source": [
    "runs = [5, 9, 2, 7, 3]\n",
    "N = len(runs) # 5\n",
    "\n",
    "# Last element\n",
    "print(runs[N - 1])"
   ]
  },
  {
   "cell_type": "code",
   "execution_count": 20,
   "id": "417072b3",
   "metadata": {},
   "outputs": [
    {
     "name": "stdout",
     "output_type": "stream",
     "text": [
      "Ok\n"
     ]
    }
   ],
   "source": [
    "A = [\"Hello\", \"World\", \"Ok\"]\n",
    "N = len(A)\n",
    "print(A[N - 1])"
   ]
  },
  {
   "cell_type": "code",
   "execution_count": null,
   "id": "5e780e1c",
   "metadata": {},
   "outputs": [],
   "source": []
  },
  {
   "cell_type": "code",
   "execution_count": 21,
   "id": "0a8d2ae5",
   "metadata": {},
   "outputs": [
    {
     "name": "stdout",
     "output_type": "stream",
     "text": [
      "['Thor', 'Avengers']\n"
     ]
    }
   ],
   "source": [
    "movies = [\"Batman\", \"Schindler's List\", [\"Thor\" ,\"Avengers\"], 300, 2.0]\n",
    "print(movies[2])"
   ]
  },
  {
   "cell_type": "code",
   "execution_count": 22,
   "id": "77c68011",
   "metadata": {},
   "outputs": [
    {
     "name": "stdout",
     "output_type": "stream",
     "text": [
      "2\n"
     ]
    }
   ],
   "source": [
    "print(len(movies[2]))"
   ]
  },
  {
   "cell_type": "code",
   "execution_count": null,
   "id": "14f34d56",
   "metadata": {},
   "outputs": [],
   "source": []
  },
  {
   "cell_type": "code",
   "execution_count": null,
   "id": "50b506be",
   "metadata": {},
   "outputs": [],
   "source": []
  },
  {
   "cell_type": "markdown",
   "id": "f672b881",
   "metadata": {},
   "source": [
    "## Negative Indexing\n",
    "![](https://scaler.com/topics/images/what-is-list-in-python.webp)"
   ]
  },
  {
   "cell_type": "code",
   "execution_count": null,
   "id": "3d496a6d",
   "metadata": {},
   "outputs": [],
   "source": []
  },
  {
   "cell_type": "code",
   "execution_count": null,
   "id": "2b76b70f",
   "metadata": {},
   "outputs": [],
   "source": []
  },
  {
   "cell_type": "markdown",
   "id": "d984adc4",
   "metadata": {},
   "source": [
    "#### Quiz 2\n",
    "```py\n",
    "runs = [10, 55, 4, 67, 17]\n",
    "print(runs[0] + runs[-1] + runs[-3])\n",
    "```\n"
   ]
  },
  {
   "cell_type": "code",
   "execution_count": 23,
   "id": "2098bbd6",
   "metadata": {},
   "outputs": [
    {
     "name": "stdout",
     "output_type": "stream",
     "text": [
      "31\n"
     ]
    }
   ],
   "source": [
    "runs = [10, 55, 4, 67, 17]\n",
    "print(runs[0] + runs[-1] + runs[-3]) # 10 + 17 + 4"
   ]
  },
  {
   "cell_type": "code",
   "execution_count": null,
   "id": "510c71b8",
   "metadata": {},
   "outputs": [],
   "source": []
  },
  {
   "cell_type": "markdown",
   "id": "36c99be7",
   "metadata": {},
   "source": [
    "## Updating Data"
   ]
  },
  {
   "cell_type": "code",
   "execution_count": 24,
   "id": "ecd3229e",
   "metadata": {},
   "outputs": [],
   "source": [
    "runs = [10, 55, 4, 67, 17]"
   ]
  },
  {
   "cell_type": "code",
   "execution_count": 26,
   "id": "8d7934ee",
   "metadata": {},
   "outputs": [],
   "source": [
    "runs[2] = 40"
   ]
  },
  {
   "cell_type": "code",
   "execution_count": 28,
   "id": "c6e38018",
   "metadata": {},
   "outputs": [
    {
     "data": {
      "text/plain": [
       "[10, 55, 40, 67, 17]"
      ]
     },
     "execution_count": 28,
     "metadata": {},
     "output_type": "execute_result"
    }
   ],
   "source": [
    "runs"
   ]
  },
  {
   "cell_type": "code",
   "execution_count": 29,
   "id": "a4f5f5aa",
   "metadata": {},
   "outputs": [
    {
     "name": "stdout",
     "output_type": "stream",
     "text": [
      "[50, 55, 40, 67, 17]\n"
     ]
    }
   ],
   "source": [
    "runs[0] = 50\n",
    "print(runs)"
   ]
  },
  {
   "cell_type": "code",
   "execution_count": 30,
   "id": "33685123",
   "metadata": {},
   "outputs": [
    {
     "name": "stdout",
     "output_type": "stream",
     "text": [
      "[50, 55, 40, 67, 80]\n"
     ]
    }
   ],
   "source": [
    "runs[-1] = 80\n",
    "print(runs)"
   ]
  },
  {
   "cell_type": "code",
   "execution_count": 32,
   "id": "e79a6571",
   "metadata": {},
   "outputs": [
    {
     "ename": "SyntaxError",
     "evalue": "invalid syntax (4190905259.py, line 1)",
     "output_type": "error",
     "traceback": [
      "\u001b[0;36m  File \u001b[0;32m\"/var/folders/jn/1bsrct314hv5xmfm7vrcdrzc0000gn/T/ipykernel_27076/4190905259.py\"\u001b[0;36m, line \u001b[0;32m1\u001b[0m\n\u001b[0;31m    print(runs[]) # Error\u001b[0m\n\u001b[0m               ^\u001b[0m\n\u001b[0;31mSyntaxError\u001b[0m\u001b[0;31m:\u001b[0m invalid syntax\n"
     ]
    }
   ],
   "source": [
    "print(runs[]) # Error"
   ]
  },
  {
   "cell_type": "code",
   "execution_count": null,
   "id": "f5a4a64f",
   "metadata": {},
   "outputs": [],
   "source": []
  },
  {
   "cell_type": "markdown",
   "id": "093fe23c",
   "metadata": {},
   "source": [
    "## Inserting Data"
   ]
  },
  {
   "cell_type": "code",
   "execution_count": 1,
   "id": "05f860b3",
   "metadata": {},
   "outputs": [],
   "source": [
    "a = [5, 6, 1]"
   ]
  },
  {
   "cell_type": "code",
   "execution_count": 2,
   "id": "7b554ba8",
   "metadata": {},
   "outputs": [],
   "source": [
    "a.append(9)"
   ]
  },
  {
   "cell_type": "code",
   "execution_count": 3,
   "id": "9af48ed9",
   "metadata": {},
   "outputs": [
    {
     "data": {
      "text/plain": [
       "[5, 6, 1, 9]"
      ]
     },
     "execution_count": 3,
     "metadata": {},
     "output_type": "execute_result"
    }
   ],
   "source": [
    "a"
   ]
  },
  {
   "cell_type": "code",
   "execution_count": 4,
   "id": "f0665efc",
   "metadata": {},
   "outputs": [],
   "source": [
    "a.append(20)"
   ]
  },
  {
   "cell_type": "code",
   "execution_count": 5,
   "id": "dc48c8ad",
   "metadata": {},
   "outputs": [
    {
     "name": "stdout",
     "output_type": "stream",
     "text": [
      "[5, 6, 1, 9, 20]\n"
     ]
    }
   ],
   "source": [
    "print(a)"
   ]
  },
  {
   "cell_type": "code",
   "execution_count": null,
   "id": "f6774f6c",
   "metadata": {},
   "outputs": [],
   "source": []
  },
  {
   "cell_type": "code",
   "execution_count": 6,
   "id": "27d3363a",
   "metadata": {},
   "outputs": [],
   "source": [
    "a = [5, 6, 1, 9, 20]"
   ]
  },
  {
   "cell_type": "code",
   "execution_count": 7,
   "id": "9a92d3e1",
   "metadata": {},
   "outputs": [],
   "source": [
    "# insert(index, data)\n",
    "a.insert(1, 100)"
   ]
  },
  {
   "cell_type": "code",
   "execution_count": 8,
   "id": "f6d89244",
   "metadata": {},
   "outputs": [
    {
     "data": {
      "text/plain": [
       "[5, 100, 6, 1, 9, 20]"
      ]
     },
     "execution_count": 8,
     "metadata": {},
     "output_type": "execute_result"
    }
   ],
   "source": [
    "a"
   ]
  },
  {
   "cell_type": "code",
   "execution_count": 9,
   "id": "650a0829",
   "metadata": {},
   "outputs": [],
   "source": [
    "a.insert(0, 30)"
   ]
  },
  {
   "cell_type": "code",
   "execution_count": 10,
   "id": "8095949a",
   "metadata": {},
   "outputs": [
    {
     "data": {
      "text/plain": [
       "[30, 5, 100, 6, 1, 9, 20]"
      ]
     },
     "execution_count": 10,
     "metadata": {},
     "output_type": "execute_result"
    }
   ],
   "source": [
    "a"
   ]
  },
  {
   "cell_type": "code",
   "execution_count": 11,
   "id": "20a11f89",
   "metadata": {},
   "outputs": [],
   "source": [
    "a.insert(-1, 34)"
   ]
  },
  {
   "cell_type": "code",
   "execution_count": 12,
   "id": "c1505a63",
   "metadata": {},
   "outputs": [
    {
     "data": {
      "text/plain": [
       "[30, 5, 100, 6, 1, 9, 34, 20]"
      ]
     },
     "execution_count": 12,
     "metadata": {},
     "output_type": "execute_result"
    }
   ],
   "source": [
    "a"
   ]
  },
  {
   "cell_type": "code",
   "execution_count": null,
   "id": "355203be",
   "metadata": {},
   "outputs": [],
   "source": []
  },
  {
   "cell_type": "code",
   "execution_count": 14,
   "id": "d9187975",
   "metadata": {},
   "outputs": [],
   "source": [
    "runs = [50, 65, 78, 23, 16]"
   ]
  },
  {
   "cell_type": "code",
   "execution_count": 15,
   "id": "d57f3dad",
   "metadata": {},
   "outputs": [],
   "source": [
    "new_runs = [90, 150, 20]"
   ]
  },
  {
   "cell_type": "code",
   "execution_count": 16,
   "id": "cdccf4c5",
   "metadata": {},
   "outputs": [],
   "source": [
    "# Add all values in new_runs to runs\n",
    "runs.extend(new_runs)"
   ]
  },
  {
   "cell_type": "code",
   "execution_count": 17,
   "id": "d81eba53",
   "metadata": {},
   "outputs": [
    {
     "data": {
      "text/plain": [
       "[50, 65, 78, 23, 16, 90, 150, 20]"
      ]
     },
     "execution_count": 17,
     "metadata": {},
     "output_type": "execute_result"
    }
   ],
   "source": [
    "runs"
   ]
  },
  {
   "cell_type": "code",
   "execution_count": null,
   "id": "0344d4d6",
   "metadata": {},
   "outputs": [],
   "source": []
  },
  {
   "cell_type": "code",
   "execution_count": 18,
   "id": "661fd7a4",
   "metadata": {},
   "outputs": [],
   "source": [
    "runs = [50, 65, 78, 23, 16]\n",
    "new_runs = [90, 150, 20]"
   ]
  },
  {
   "cell_type": "code",
   "execution_count": 19,
   "id": "b1d4fc12",
   "metadata": {},
   "outputs": [],
   "source": [
    "runs = runs + new_runs"
   ]
  },
  {
   "cell_type": "code",
   "execution_count": 20,
   "id": "bd63a54d",
   "metadata": {},
   "outputs": [
    {
     "data": {
      "text/plain": [
       "[50, 65, 78, 23, 16, 90, 150, 20]"
      ]
     },
     "execution_count": 20,
     "metadata": {},
     "output_type": "execute_result"
    }
   ],
   "source": [
    "runs"
   ]
  },
  {
   "cell_type": "code",
   "execution_count": null,
   "id": "27931666",
   "metadata": {},
   "outputs": [],
   "source": []
  },
  {
   "cell_type": "code",
   "execution_count": 21,
   "id": "b7840fb9",
   "metadata": {},
   "outputs": [],
   "source": [
    "runs = [50, 65, 78, 23, 16]\n",
    "new_runs = [90, 150, 20]"
   ]
  },
  {
   "cell_type": "code",
   "execution_count": 22,
   "id": "9d7741a5",
   "metadata": {},
   "outputs": [],
   "source": [
    "runs = new_runs + runs"
   ]
  },
  {
   "cell_type": "code",
   "execution_count": 23,
   "id": "3b4c3396",
   "metadata": {},
   "outputs": [
    {
     "data": {
      "text/plain": [
       "[90, 150, 20, 50, 65, 78, 23, 16]"
      ]
     },
     "execution_count": 23,
     "metadata": {},
     "output_type": "execute_result"
    }
   ],
   "source": [
    "runs"
   ]
  },
  {
   "cell_type": "code",
   "execution_count": null,
   "id": "9d44c339",
   "metadata": {},
   "outputs": [],
   "source": [
    "# new_runs = new_runs + runs\n",
    "# new_runs.extend(runs)"
   ]
  },
  {
   "cell_type": "code",
   "execution_count": null,
   "id": "f337f5c8",
   "metadata": {},
   "outputs": [],
   "source": []
  },
  {
   "cell_type": "markdown",
   "id": "da34482c",
   "metadata": {},
   "source": [
    "#### Quiz 3\n",
    "```py\n",
    "runs = [10, 55, 4, 67, 17]\n",
    "runs.append(6)\n",
    "runs.append(200)\n",
    "print(runs[-1] + runs[2])\n",
    "```"
   ]
  },
  {
   "cell_type": "code",
   "execution_count": 24,
   "id": "f2a5724c",
   "metadata": {},
   "outputs": [
    {
     "name": "stdout",
     "output_type": "stream",
     "text": [
      "204\n"
     ]
    }
   ],
   "source": [
    "runs = [10, 55, 4, 67, 17]\n",
    "runs.append(6) # [10, 55, 4, 67, 17, 6]\n",
    "runs.append(200) # [10, 55, 4, 67, 17, 6, 200]\n",
    "print(runs[-1] + runs[2]) # 200 + 4"
   ]
  },
  {
   "cell_type": "code",
   "execution_count": null,
   "id": "ef2d2ebe",
   "metadata": {},
   "outputs": [],
   "source": []
  },
  {
   "cell_type": "markdown",
   "id": "67b6a2ef",
   "metadata": {},
   "source": [
    "#### Quiz 4\n",
    "```py\n",
    "l = [1, 2, 3, 3, 5, 6, 7, 5]\n",
    "l.insert(5, 10)\n",
    "print(l)\n",
    "```"
   ]
  },
  {
   "cell_type": "code",
   "execution_count": 25,
   "id": "ecfe5a02",
   "metadata": {},
   "outputs": [
    {
     "name": "stdout",
     "output_type": "stream",
     "text": [
      "[1, 2, 3, 3, 5, 10, 6, 7, 5]\n"
     ]
    }
   ],
   "source": [
    "l = [1, 2, 3, 3, 5, 6, 7, 5]\n",
    "l.insert(5, 10) # index=5, data=10\n",
    "print(l)"
   ]
  },
  {
   "cell_type": "code",
   "execution_count": null,
   "id": "12263f75",
   "metadata": {},
   "outputs": [],
   "source": []
  },
  {
   "cell_type": "markdown",
   "id": "f202e1a2",
   "metadata": {},
   "source": [
    "## Iterating over lists"
   ]
  },
  {
   "cell_type": "code",
   "execution_count": 26,
   "id": "23eb8619",
   "metadata": {},
   "outputs": [],
   "source": [
    "l = [9, 2, 4, 6, 1]"
   ]
  },
  {
   "cell_type": "markdown",
   "id": "defaaf7f",
   "metadata": {},
   "source": [
    "Print the squares of all elements in this list"
   ]
  },
  {
   "cell_type": "code",
   "execution_count": 29,
   "id": "fc76d640",
   "metadata": {},
   "outputs": [
    {
     "name": "stdout",
     "output_type": "stream",
     "text": [
      "81 4 16 36 1 "
     ]
    }
   ],
   "source": [
    "for x in l:\n",
    "    print(x ** 2, end=' ')"
   ]
  },
  {
   "cell_type": "code",
   "execution_count": null,
   "id": "1fbd6bd1",
   "metadata": {},
   "outputs": [],
   "source": []
  },
  {
   "cell_type": "code",
   "execution_count": null,
   "id": "53c77457",
   "metadata": {},
   "outputs": [],
   "source": [
    "l = [9, 2, 4, 6, 1]"
   ]
  },
  {
   "cell_type": "markdown",
   "id": "fa7b4895",
   "metadata": {},
   "source": [
    "Print only the odd numbers in this list"
   ]
  },
  {
   "cell_type": "code",
   "execution_count": 30,
   "id": "6c7763b5",
   "metadata": {},
   "outputs": [
    {
     "name": "stdout",
     "output_type": "stream",
     "text": [
      "9 1 "
     ]
    }
   ],
   "source": [
    "for x in l:\n",
    "    if x % 2 == 1:\n",
    "        print(x, end=' ')"
   ]
  },
  {
   "cell_type": "code",
   "execution_count": null,
   "id": "b294d794",
   "metadata": {},
   "outputs": [],
   "source": []
  },
  {
   "cell_type": "code",
   "execution_count": null,
   "id": "bd8b75b0",
   "metadata": {},
   "outputs": [],
   "source": [
    "l = [9, 2, 4, 6, 1]"
   ]
  },
  {
   "cell_type": "markdown",
   "id": "488b66d3",
   "metadata": {},
   "source": [
    "Create a separate list of all odd numbers"
   ]
  },
  {
   "cell_type": "code",
   "execution_count": 31,
   "id": "1c954073",
   "metadata": {},
   "outputs": [],
   "source": [
    "odd = []\n",
    "\n",
    "for x in l:\n",
    "    if x % 2 == 1:\n",
    "        odd.append(x)"
   ]
  },
  {
   "cell_type": "code",
   "execution_count": 32,
   "id": "2e957d07",
   "metadata": {},
   "outputs": [
    {
     "data": {
      "text/plain": [
       "[9, 1]"
      ]
     },
     "execution_count": 32,
     "metadata": {},
     "output_type": "execute_result"
    }
   ],
   "source": [
    "odd"
   ]
  },
  {
   "cell_type": "code",
   "execution_count": null,
   "id": "4fcf43d5",
   "metadata": {},
   "outputs": [],
   "source": []
  },
  {
   "cell_type": "markdown",
   "id": "5e0cddcf",
   "metadata": {},
   "source": [
    "Given a list of numbers, compute their\n",
    "- sum\n",
    "- min\n",
    "- max\n",
    "- average"
   ]
  },
  {
   "cell_type": "code",
   "execution_count": 33,
   "id": "a1f78ea8",
   "metadata": {},
   "outputs": [],
   "source": [
    "nums = [5, 2, 7, 8, 9, 1, 0, 45, 23, 867, 12]"
   ]
  },
  {
   "cell_type": "code",
   "execution_count": 34,
   "id": "b36c9a21",
   "metadata": {},
   "outputs": [
    {
     "name": "stdout",
     "output_type": "stream",
     "text": [
      "979\n"
     ]
    }
   ],
   "source": [
    "# Sum\n",
    "s = 0\n",
    "for x in nums:\n",
    "    s += x\n",
    "    \n",
    "print(s)"
   ]
  },
  {
   "cell_type": "code",
   "execution_count": 35,
   "id": "2e6c2349",
   "metadata": {},
   "outputs": [
    {
     "data": {
      "text/plain": [
       "979"
      ]
     },
     "execution_count": 35,
     "metadata": {},
     "output_type": "execute_result"
    }
   ],
   "source": [
    "# Inbuilt Python Method\n",
    "sum(nums)"
   ]
  },
  {
   "cell_type": "code",
   "execution_count": 37,
   "id": "84fab72f",
   "metadata": {},
   "outputs": [
    {
     "name": "stdout",
     "output_type": "stream",
     "text": [
      "89.0\n"
     ]
    }
   ],
   "source": [
    "# Average\n",
    "average = s / len(nums)\n",
    "print(average)"
   ]
  },
  {
   "cell_type": "code",
   "execution_count": 41,
   "id": "b61f1d75",
   "metadata": {},
   "outputs": [],
   "source": [
    "nums = [5, 2, 7, -8, -9, 1, 0, -45, 23, 867, 12]"
   ]
  },
  {
   "cell_type": "code",
   "execution_count": 48,
   "id": "d76b8e90",
   "metadata": {},
   "outputs": [
    {
     "name": "stdout",
     "output_type": "stream",
     "text": [
      "-45\n"
     ]
    }
   ],
   "source": [
    "# Minimum\n",
    "minVal = nums[0]\n",
    "\n",
    "for x in nums:\n",
    "    if minVal > x:\n",
    "        minVal = x\n",
    "        \n",
    "print(minVal)"
   ]
  },
  {
   "cell_type": "code",
   "execution_count": 49,
   "id": "6731ffe6",
   "metadata": {},
   "outputs": [],
   "source": [
    "# Maximum - Try on your own"
   ]
  },
  {
   "cell_type": "code",
   "execution_count": null,
   "id": "25366e73",
   "metadata": {},
   "outputs": [],
   "source": []
  },
  {
   "cell_type": "markdown",
   "id": "16b28c48",
   "metadata": {},
   "source": [
    "### Iterating over list using indexes"
   ]
  },
  {
   "cell_type": "code",
   "execution_count": 51,
   "id": "ccb2e1bb",
   "metadata": {},
   "outputs": [
    {
     "name": "stdout",
     "output_type": "stream",
     "text": [
      "5 2 7 -8 -9 1 0 -45 23 867 12 "
     ]
    }
   ],
   "source": [
    "nums = [5, 2, 7, -8, -9, 1, 0, -45, 23, 867, 12]\n",
    "N = len(nums)\n",
    "\n",
    "for i in range(N):\n",
    "    print(nums[i], end=' ')"
   ]
  },
  {
   "cell_type": "code",
   "execution_count": null,
   "id": "197532a1",
   "metadata": {},
   "outputs": [],
   "source": []
  },
  {
   "cell_type": "code",
   "execution_count": 53,
   "id": "3231cb1c",
   "metadata": {},
   "outputs": [
    {
     "name": "stdout",
     "output_type": "stream",
     "text": [
      "6\n",
      "7\n"
     ]
    },
    {
     "ename": "IndexError",
     "evalue": "list index out of range",
     "output_type": "error",
     "traceback": [
      "\u001b[0;31m---------------------------------------------------------------------------\u001b[0m",
      "\u001b[0;31mIndexError\u001b[0m                                Traceback (most recent call last)",
      "\u001b[0;32m/var/folders/jn/1bsrct314hv5xmfm7vrcdrzc0000gn/T/ipykernel_27328/243189380.py\u001b[0m in \u001b[0;36m<module>\u001b[0;34m\u001b[0m\n\u001b[1;32m      4\u001b[0m \u001b[0;32mwhile\u001b[0m \u001b[0mi\u001b[0m \u001b[0;34m<\u001b[0m \u001b[0mlen\u001b[0m\u001b[0;34m(\u001b[0m\u001b[0mA\u001b[0m\u001b[0;34m)\u001b[0m\u001b[0;34m:\u001b[0m\u001b[0;34m\u001b[0m\u001b[0;34m\u001b[0m\u001b[0m\n\u001b[1;32m      5\u001b[0m     \u001b[0mi\u001b[0m \u001b[0;34m+=\u001b[0m \u001b[0;36m1\u001b[0m\u001b[0;34m\u001b[0m\u001b[0;34m\u001b[0m\u001b[0m\n\u001b[0;32m----> 6\u001b[0;31m     \u001b[0mprint\u001b[0m\u001b[0;34m(\u001b[0m\u001b[0mA\u001b[0m\u001b[0;34m[\u001b[0m\u001b[0mi\u001b[0m\u001b[0;34m]\u001b[0m\u001b[0;34m)\u001b[0m\u001b[0;34m\u001b[0m\u001b[0;34m\u001b[0m\u001b[0m\n\u001b[0m",
      "\u001b[0;31mIndexError\u001b[0m: list index out of range"
     ]
    }
   ],
   "source": [
    "A = [20, 6, 7]\n",
    "\n",
    "i = 0\n",
    "while i < len(A):\n",
    "    i += 1\n",
    "    print(A[i])"
   ]
  },
  {
   "cell_type": "code",
   "execution_count": null,
   "id": "c1df1a00",
   "metadata": {},
   "outputs": [],
   "source": []
  },
  {
   "cell_type": "code",
   "execution_count": null,
   "id": "f46adb04",
   "metadata": {},
   "outputs": [],
   "source": []
  },
  {
   "cell_type": "code",
   "execution_count": null,
   "id": "fffe2858",
   "metadata": {},
   "outputs": [],
   "source": []
  },
  {
   "cell_type": "markdown",
   "id": "b6a4a7fc",
   "metadata": {},
   "source": [
    "### Playing with Infinity"
   ]
  },
  {
   "cell_type": "code",
   "execution_count": 45,
   "id": "f1593719",
   "metadata": {},
   "outputs": [
    {
     "name": "stdout",
     "output_type": "stream",
     "text": [
      "-inf\n"
     ]
    }
   ],
   "source": [
    "x = float(\"-inf\")\n",
    "print(x)"
   ]
  },
  {
   "cell_type": "code",
   "execution_count": 46,
   "id": "54cf3a65",
   "metadata": {},
   "outputs": [
    {
     "data": {
      "text/plain": [
       "-inf"
      ]
     },
     "execution_count": 46,
     "metadata": {},
     "output_type": "execute_result"
    }
   ],
   "source": [
    "x + 5"
   ]
  },
  {
   "cell_type": "code",
   "execution_count": null,
   "id": "7671a6a3",
   "metadata": {},
   "outputs": [],
   "source": []
  },
  {
   "cell_type": "markdown",
   "id": "7c7f6122",
   "metadata": {},
   "source": [
    "# Bonus Reading \n",
    "- List in Data Structure (Language agnostic overview of Lists) - https://www.scaler.com/topics/list-in-data-structure/\n",
    "- What is List in Python? - https://www.scaler.com/topics/what-is-list-in-python/\n",
    "- list() in Python - https://www.scaler.com/topics/python/list-in-python/\n",
    "- Empty List - https://www.scaler.com/topics/empty-list-in-python/\n",
    "- Length of List - https://www.scaler.com/topics/python-length-of-list/\n",
    "- Iterate List in Python - https://www.scaler.com/topics/iterate-list-in-python/"
   ]
  },
  {
   "cell_type": "code",
   "execution_count": null,
   "id": "11b27713",
   "metadata": {},
   "outputs": [],
   "source": []
  },
  {
   "cell_type": "code",
   "execution_count": null,
   "id": "0a543d2e",
   "metadata": {},
   "outputs": [],
   "source": []
  },
  {
   "cell_type": "code",
   "execution_count": null,
   "id": "5483aa27",
   "metadata": {},
   "outputs": [],
   "source": []
  },
  {
   "cell_type": "markdown",
   "id": "adf41528",
   "metadata": {},
   "source": [
    "# Doubts"
   ]
  },
  {
   "cell_type": "code",
   "execution_count": 55,
   "id": "7a26646f",
   "metadata": {},
   "outputs": [],
   "source": [
    "a = [5, 2, \"hello\", None, True, 6.8]"
   ]
  },
  {
   "cell_type": "code",
   "execution_count": 56,
   "id": "cfce3567",
   "metadata": {},
   "outputs": [
    {
     "data": {
      "text/plain": [
       "[5, 2, 'hello', None, True, 6.8]"
      ]
     },
     "execution_count": 56,
     "metadata": {},
     "output_type": "execute_result"
    }
   ],
   "source": [
    "a"
   ]
  },
  {
   "cell_type": "code",
   "execution_count": 57,
   "id": "b9519b1e",
   "metadata": {},
   "outputs": [],
   "source": [
    "a.insert(len(a), 10)"
   ]
  },
  {
   "cell_type": "code",
   "execution_count": 58,
   "id": "41a0807a",
   "metadata": {},
   "outputs": [
    {
     "data": {
      "text/plain": [
       "[5, 2, 'hello', None, True, 6.8, 10]"
      ]
     },
     "execution_count": 58,
     "metadata": {},
     "output_type": "execute_result"
    }
   ],
   "source": [
    "a"
   ]
  },
  {
   "cell_type": "code",
   "execution_count": 59,
   "id": "864cdcf8",
   "metadata": {},
   "outputs": [],
   "source": [
    "a = \"\"\n",
    "b = None"
   ]
  },
  {
   "cell_type": "code",
   "execution_count": 60,
   "id": "8bbb01d0",
   "metadata": {},
   "outputs": [
    {
     "name": "stdout",
     "output_type": "stream",
     "text": [
      "\n"
     ]
    }
   ],
   "source": [
    "print(a)"
   ]
  },
  {
   "cell_type": "code",
   "execution_count": 61,
   "id": "654e912b",
   "metadata": {},
   "outputs": [
    {
     "name": "stdout",
     "output_type": "stream",
     "text": [
      "None\n"
     ]
    }
   ],
   "source": [
    "print(b)"
   ]
  },
  {
   "cell_type": "code",
   "execution_count": 63,
   "id": "5f277b14",
   "metadata": {},
   "outputs": [
    {
     "name": "stdout",
     "output_type": "stream",
     "text": [
      "[7, 2, 3, 10]\n"
     ]
    }
   ],
   "source": [
    "a = [7, 2, 3]\n",
    "a.insert(len(a), 10) # better to use append here\n",
    "# index=3, data=10\n",
    "print(a)"
   ]
  },
  {
   "cell_type": "code",
   "execution_count": null,
   "id": "1ce06a04",
   "metadata": {},
   "outputs": [],
   "source": []
  },
  {
   "cell_type": "code",
   "execution_count": 65,
   "id": "0745caa7",
   "metadata": {},
   "outputs": [
    {
     "name": "stdout",
     "output_type": "stream",
     "text": [
      "9 2 6 3 "
     ]
    }
   ],
   "source": [
    "l = [9, 2, 6, 3]\n",
    "\n",
    "for i in range(len(l)):\n",
    "    print(l[i], end=' ')"
   ]
  },
  {
   "cell_type": "code",
   "execution_count": null,
   "id": "d906c7fc",
   "metadata": {},
   "outputs": [],
   "source": []
  }
 ],
 "metadata": {
  "kernelspec": {
   "display_name": "Python 3 (ipykernel)",
   "language": "python",
   "name": "python3"
  },
  "language_info": {
   "codemirror_mode": {
    "name": "ipython",
    "version": 3
   },
   "file_extension": ".py",
   "mimetype": "text/x-python",
   "name": "python",
   "nbconvert_exporter": "python",
   "pygments_lexer": "ipython3",
   "version": "3.9.12"
  }
 },
 "nbformat": 4,
 "nbformat_minor": 5
}
