{
 "cells": [
  {
   "cell_type": "markdown",
   "id": "ceff3835",
   "metadata": {},
   "source": [
    "# Python Lists\n",
    "![](https://scaler.com/topics/images/array-data-structure.webp)"
   ]
  },
  {
   "cell_type": "code",
   "execution_count": null,
   "id": "3e62a341",
   "metadata": {},
   "outputs": [],
   "source": [
    "run1 = 78\n",
    "run2 = 90\n",
    "run3 = 34\n",
    "run4 = 56\n",
    "...\n",
    "run10000 = 78\n",
    "\n",
    "total = run1 + run2 + run3 ..."
   ]
  },
  {
   "cell_type": "code",
   "execution_count": null,
   "id": "0942375e",
   "metadata": {},
   "outputs": [],
   "source": [
    "movie1 = \"Shawshank Redemption\"\n",
    "movie2 = \"Batman\"\n"
   ]
  },
  {
   "cell_type": "code",
   "execution_count": 1,
   "id": "1be68fcb",
   "metadata": {},
   "outputs": [],
   "source": [
    "runs = [78, 90, 34, 56, 39]"
   ]
  },
  {
   "cell_type": "code",
   "execution_count": 2,
   "id": "e98ca9ea",
   "metadata": {},
   "outputs": [
    {
     "name": "stdout",
     "output_type": "stream",
     "text": [
      "[78, 90, 34, 56, 39]\n"
     ]
    }
   ],
   "source": [
    "print(runs)"
   ]
  },
  {
   "cell_type": "code",
   "execution_count": 3,
   "id": "d3573fe9",
   "metadata": {},
   "outputs": [
    {
     "name": "stdout",
     "output_type": "stream",
     "text": [
      "<class 'list'>\n"
     ]
    }
   ],
   "source": [
    "print(type(runs))"
   ]
  },
  {
   "cell_type": "code",
   "execution_count": 7,
   "id": "59d39a6b",
   "metadata": {},
   "outputs": [
    {
     "name": "stdout",
     "output_type": "stream",
     "text": [
      "['Batman', \"Schindler's List\", ['Thor', 'Avengers'], 300, 2.0]\n"
     ]
    }
   ],
   "source": [
    "movies = [\"Batman\", \"Schindler's List\", [\"Thor\" ,\"Avengers\"], 300, 2.0]\n",
    "print(movies)"
   ]
  },
  {
   "cell_type": "code",
   "execution_count": null,
   "id": "d4ae048d",
   "metadata": {},
   "outputs": [],
   "source": []
  },
  {
   "cell_type": "code",
   "execution_count": 8,
   "id": "0cfc36b7",
   "metadata": {},
   "outputs": [],
   "source": [
    "runs = [78, 90, 34, 56, 39, 34, 34, 34]"
   ]
  },
  {
   "cell_type": "code",
   "execution_count": 9,
   "id": "7b93531c",
   "metadata": {},
   "outputs": [
    {
     "data": {
      "text/plain": [
       "[78, 90, 34, 56, 39, 34, 34, 34]"
      ]
     },
     "execution_count": 9,
     "metadata": {},
     "output_type": "execute_result"
    }
   ],
   "source": [
    "runs"
   ]
  },
  {
   "cell_type": "code",
   "execution_count": null,
   "id": "7cb47680",
   "metadata": {},
   "outputs": [],
   "source": []
  },
  {
   "cell_type": "code",
   "execution_count": null,
   "id": "d6bfe66e",
   "metadata": {},
   "outputs": [],
   "source": []
  },
  {
   "cell_type": "markdown",
   "id": "e85e48d0",
   "metadata": {},
   "source": [
    "### Length of List\n",
    "![](https://scaler.com/topics/images/length-of-array-in-python-fi.webp)"
   ]
  },
  {
   "cell_type": "code",
   "execution_count": 10,
   "id": "03b68002",
   "metadata": {},
   "outputs": [
    {
     "name": "stdout",
     "output_type": "stream",
     "text": [
      "8\n"
     ]
    }
   ],
   "source": [
    "runs = [78, 90, 34, 56, 39, 34, 34, 34]\n",
    "print(len(runs))"
   ]
  },
  {
   "cell_type": "code",
   "execution_count": 11,
   "id": "1c2b3aaf",
   "metadata": {},
   "outputs": [
    {
     "name": "stdout",
     "output_type": "stream",
     "text": [
      "5\n"
     ]
    }
   ],
   "source": [
    "movies = [\"Batman\", \"Schindler's List\", [\"Thor\" ,\"Avengers\"], 300, 2.0]\n",
    "print(len(movies))"
   ]
  },
  {
   "cell_type": "code",
   "execution_count": null,
   "id": "c46ce06b",
   "metadata": {},
   "outputs": [],
   "source": []
  },
  {
   "cell_type": "code",
   "execution_count": null,
   "id": "b88f142d",
   "metadata": {},
   "outputs": [],
   "source": []
  },
  {
   "cell_type": "code",
   "execution_count": null,
   "id": "04305c76",
   "metadata": {},
   "outputs": [],
   "source": []
  },
  {
   "cell_type": "markdown",
   "id": "ac23b782",
   "metadata": {},
   "source": [
    "## Indexing\n",
    "![](https://scaler.com/topics/images/lists-in-python.webp)"
   ]
  },
  {
   "cell_type": "code",
   "execution_count": 12,
   "id": "32b622bc",
   "metadata": {},
   "outputs": [
    {
     "name": "stdout",
     "output_type": "stream",
     "text": [
      "2\n"
     ]
    }
   ],
   "source": [
    "runs = [5, 9, 2, 7, 3]\n",
    "print(runs[2])"
   ]
  },
  {
   "cell_type": "code",
   "execution_count": 13,
   "id": "955e8c3d",
   "metadata": {},
   "outputs": [
    {
     "name": "stdout",
     "output_type": "stream",
     "text": [
      "3\n"
     ]
    }
   ],
   "source": [
    "print(runs[4])"
   ]
  },
  {
   "cell_type": "code",
   "execution_count": 14,
   "id": "5b2f0060",
   "metadata": {},
   "outputs": [
    {
     "name": "stdout",
     "output_type": "stream",
     "text": [
      "5\n"
     ]
    }
   ],
   "source": [
    "print(runs[0])"
   ]
  },
  {
   "cell_type": "code",
   "execution_count": 16,
   "id": "56b6ce6a",
   "metadata": {},
   "outputs": [
    {
     "name": "stdout",
     "output_type": "stream",
     "text": [
      "3\n"
     ]
    }
   ],
   "source": [
    "runs = [5, 9, 2, 7, 3]\n",
    "N = len(runs) # 5\n",
    "\n",
    "# Last element\n",
    "print(runs[N - 1])"
   ]
  },
  {
   "cell_type": "code",
   "execution_count": 20,
   "id": "8a66ff5f",
   "metadata": {},
   "outputs": [
    {
     "name": "stdout",
     "output_type": "stream",
     "text": [
      "Ok\n"
     ]
    }
   ],
   "source": [
    "A = [\"Hello\", \"World\", \"Ok\"]\n",
    "N = len(A)\n",
    "print(A[N - 1])"
   ]
  },
  {
   "cell_type": "code",
   "execution_count": null,
   "id": "1366839f",
   "metadata": {},
   "outputs": [],
   "source": []
  },
  {
   "cell_type": "code",
   "execution_count": 21,
   "id": "93d33369",
   "metadata": {},
   "outputs": [
    {
     "name": "stdout",
     "output_type": "stream",
     "text": [
      "['Thor', 'Avengers']\n"
     ]
    }
   ],
   "source": [
    "movies = [\"Batman\", \"Schindler's List\", [\"Thor\" ,\"Avengers\"], 300, 2.0]\n",
    "print(movies[2])"
   ]
  },
  {
   "cell_type": "code",
   "execution_count": 22,
   "id": "e072287d",
   "metadata": {},
   "outputs": [
    {
     "name": "stdout",
     "output_type": "stream",
     "text": [
      "2\n"
     ]
    }
   ],
   "source": [
    "print(len(movies[2]))"
   ]
  },
  {
   "cell_type": "code",
   "execution_count": null,
   "id": "8476c0fb",
   "metadata": {},
   "outputs": [],
   "source": []
  },
  {
   "cell_type": "code",
   "execution_count": null,
   "id": "f1605fda",
   "metadata": {},
   "outputs": [],
   "source": []
  },
  {
   "cell_type": "markdown",
   "id": "f672b881",
   "metadata": {},
   "source": [
    "## Negative Indexing\n",
    "![](https://scaler.com/topics/images/what-is-list-in-python.webp)"
   ]
  },
  {
   "cell_type": "code",
   "execution_count": null,
   "id": "3d496a6d",
   "metadata": {},
   "outputs": [],
   "source": []
  },
  {
   "cell_type": "code",
   "execution_count": null,
   "id": "2b76b70f",
   "metadata": {},
   "outputs": [],
   "source": []
  },
  {
   "cell_type": "markdown",
   "id": "d8b72f83",
   "metadata": {},
   "source": [
    "#### Quiz 2\n",
    "```py\n",
    "runs = [10, 55, 4, 67, 17]\n",
    "print(runs[0] + runs[-1] + runs[-3])\n",
    "```\n"
   ]
  },
  {
   "cell_type": "code",
   "execution_count": 23,
   "id": "72e76e87",
   "metadata": {},
   "outputs": [
    {
     "name": "stdout",
     "output_type": "stream",
     "text": [
      "31\n"
     ]
    }
   ],
   "source": [
    "runs = [10, 55, 4, 67, 17]\n",
    "print(runs[0] + runs[-1] + runs[-3]) # 10 + 17 + 4"
   ]
  },
  {
   "cell_type": "code",
   "execution_count": null,
   "id": "bcc6eef1",
   "metadata": {},
   "outputs": [],
   "source": []
  },
  {
   "cell_type": "markdown",
   "id": "ac924eb2",
   "metadata": {},
   "source": [
    "## Updating Data"
   ]
  },
  {
   "cell_type": "code",
   "execution_count": 24,
   "id": "ecd3229e",
   "metadata": {},
   "outputs": [],
   "source": [
    "runs = [10, 55, 4, 67, 17]"
   ]
  },
  {
   "cell_type": "code",
   "execution_count": 26,
   "id": "4da4f709",
   "metadata": {},
   "outputs": [],
   "source": [
    "runs[2] = 40"
   ]
  },
  {
   "cell_type": "code",
   "execution_count": 28,
   "id": "47db0697",
   "metadata": {},
   "outputs": [
    {
     "data": {
      "text/plain": [
       "[10, 55, 40, 67, 17]"
      ]
     },
     "execution_count": 28,
     "metadata": {},
     "output_type": "execute_result"
    }
   ],
   "source": [
    "runs"
   ]
  },
  {
   "cell_type": "code",
   "execution_count": 29,
   "id": "611e80ad",
   "metadata": {},
   "outputs": [
    {
     "name": "stdout",
     "output_type": "stream",
     "text": [
      "[50, 55, 40, 67, 17]\n"
     ]
    }
   ],
   "source": [
    "runs[0] = 50\n",
    "print(runs)"
   ]
  },
  {
   "cell_type": "code",
   "execution_count": 30,
   "id": "3ba188d1",
   "metadata": {},
   "outputs": [
    {
     "name": "stdout",
     "output_type": "stream",
     "text": [
      "[50, 55, 40, 67, 80]\n"
     ]
    }
   ],
   "source": [
    "runs[-1] = 80\n",
    "print(runs)"
   ]
  },
  {
   "cell_type": "code",
   "execution_count": 32,
   "id": "be645b3b",
   "metadata": {},
   "outputs": [
    {
     "ename": "SyntaxError",
     "evalue": "invalid syntax (4190905259.py, line 1)",
     "output_type": "error",
     "traceback": [
      "\u001b[0;36m  File \u001b[0;32m\"/var/folders/jn/1bsrct314hv5xmfm7vrcdrzc0000gn/T/ipykernel_27076/4190905259.py\"\u001b[0;36m, line \u001b[0;32m1\u001b[0m\n\u001b[0;31m    print(runs[]) # Error\u001b[0m\n\u001b[0m               ^\u001b[0m\n\u001b[0;31mSyntaxError\u001b[0m\u001b[0;31m:\u001b[0m invalid syntax\n"
     ]
    }
   ],
   "source": [
    "print(runs[]) # Error"
   ]
  },
  {
   "cell_type": "code",
   "execution_count": null,
   "id": "a3dbb2fa",
   "metadata": {},
   "outputs": [],
   "source": []
  },
  {
   "cell_type": "code",
   "execution_count": null,
   "id": "4f1dcb17",
   "metadata": {},
   "outputs": [],
   "source": []
  },
  {
   "cell_type": "code",
   "execution_count": null,
   "id": "5c3db561",
   "metadata": {},
   "outputs": [],
   "source": []
  },
  {
   "cell_type": "code",
   "execution_count": null,
   "id": "317184f7",
   "metadata": {},
   "outputs": [],
   "source": []
  },
  {
   "cell_type": "code",
   "execution_count": null,
   "id": "cab20df8",
   "metadata": {},
   "outputs": [],
   "source": []
  },
  {
   "cell_type": "code",
   "execution_count": null,
   "id": "3208d25a",
   "metadata": {},
   "outputs": [],
   "source": []
  },
  {
   "cell_type": "markdown",
   "id": "7c7f6122",
   "metadata": {},
   "source": [
    "# Bonus Reading \n",
    "- List in Data Structure (Language agnostic overview of Lists) - https://www.scaler.com/topics/list-in-data-structure/\n",
    "- What is List in Python? - https://www.scaler.com/topics/what-is-list-in-python/\n",
    "- list() in Python - https://www.scaler.com/topics/python/list-in-python/\n",
    "- Empty List - https://www.scaler.com/topics/empty-list-in-python/\n",
    "- Length of List - https://www.scaler.com/topics/python-length-of-list/\n",
    "- Iterate List in Python - https://www.scaler.com/topics/iterate-list-in-python/"
   ]
  },
  {
   "cell_type": "code",
   "execution_count": null,
   "id": "11b27713",
   "metadata": {},
   "outputs": [],
   "source": []
  }
 ],
 "metadata": {
  "kernelspec": {
   "display_name": "Python 3 (ipykernel)",
   "language": "python",
   "name": "python3"
  },
  "language_info": {
   "codemirror_mode": {
    "name": "ipython",
    "version": 3
   },
   "file_extension": ".py",
   "mimetype": "text/x-python",
   "name": "python",
   "nbconvert_exporter": "python",
   "pygments_lexer": "ipython3",
   "version": "3.9.12"
  }
 },
 "nbformat": 4,
 "nbformat_minor": 5
}
