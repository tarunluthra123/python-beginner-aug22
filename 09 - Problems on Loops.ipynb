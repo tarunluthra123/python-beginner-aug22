{
 "cells": [
  {
   "cell_type": "markdown",
   "id": "e1dce45b",
   "metadata": {},
   "source": [
    "# Problems on Loops"
   ]
  },
  {
   "cell_type": "code",
   "execution_count": null,
   "id": "96dd046b",
   "metadata": {},
   "outputs": [],
   "source": []
  },
  {
   "cell_type": "code",
   "execution_count": null,
   "id": "276aceb8",
   "metadata": {},
   "outputs": [],
   "source": []
  },
  {
   "cell_type": "code",
   "execution_count": null,
   "id": "6923b950",
   "metadata": {},
   "outputs": [],
   "source": []
  },
  {
   "cell_type": "markdown",
   "id": "d7cf8ae2",
   "metadata": {},
   "source": [
    "### pass statement\n",
    "pass in Python is a null statement which the interpreter simply 'moves over' while executing the code. It can be used in a variety of scenarios where you want to leave parts of your code undefined (such as if-else, loops, classes or methods) but the Python syntax doesn't allow it.\n",
    "\n",
    "https://www.scaler.com/topics/pass-in-python/"
   ]
  },
  {
   "cell_type": "markdown",
   "id": "95e708c6",
   "metadata": {},
   "source": [
    "<img src=\"https://media.giphy.com/media/um5zgB7txzYeBPZnPZ/giphy.gif\" width=\"200px\" />"
   ]
  },
  {
   "cell_type": "code",
   "execution_count": 10,
   "id": "4dd6e7c7",
   "metadata": {},
   "outputs": [
    {
     "name": "stdout",
     "output_type": "stream",
     "text": [
      "22500\n"
     ]
    }
   ],
   "source": [
    "n = 150\n",
    "if n % 10 == 0:\n",
    "    pass\n",
    "    \n",
    "print(n ** 2)"
   ]
  },
  {
   "cell_type": "code",
   "execution_count": null,
   "id": "ed1c184d",
   "metadata": {},
   "outputs": [],
   "source": []
  },
  {
   "cell_type": "code",
   "execution_count": null,
   "id": "2bb588ab",
   "metadata": {},
   "outputs": [],
   "source": []
  },
  {
   "cell_type": "code",
   "execution_count": null,
   "id": "0a1eb145",
   "metadata": {},
   "outputs": [],
   "source": []
  },
  {
   "cell_type": "code",
   "execution_count": null,
   "id": "e1e6d676",
   "metadata": {},
   "outputs": [],
   "source": []
  },
  {
   "cell_type": "code",
   "execution_count": null,
   "id": "bd2b6c1e",
   "metadata": {},
   "outputs": [],
   "source": []
  },
  {
   "cell_type": "markdown",
   "id": "fe906afd",
   "metadata": {},
   "source": [
    "#### Quiz 1:\n",
    "```py\n",
    "x = 5\n",
    "if x % 2 == 0:\n",
    "    print(x ** 3)\n",
    "    pass\n",
    "else:\n",
    "    print(x ** 2)\n",
    "    pass\n",
    "```"
   ]
  },
  {
   "cell_type": "code",
   "execution_count": 8,
   "id": "9b80e3dd",
   "metadata": {},
   "outputs": [
    {
     "name": "stdout",
     "output_type": "stream",
     "text": [
      "25\n"
     ]
    }
   ],
   "source": [
    "x = 5\n",
    "if x % 2 == 0:\n",
    "    print(x ** 3)\n",
    "    pass\n",
    "else:\n",
    "    print(x ** 2)\n",
    "    pass"
   ]
  },
  {
   "cell_type": "code",
   "execution_count": null,
   "id": "894177bb",
   "metadata": {},
   "outputs": [],
   "source": []
  },
  {
   "cell_type": "code",
   "execution_count": null,
   "id": "34f7f227",
   "metadata": {},
   "outputs": [],
   "source": []
  },
  {
   "cell_type": "code",
   "execution_count": null,
   "id": "9f314b49",
   "metadata": {},
   "outputs": [],
   "source": []
  },
  {
   "cell_type": "markdown",
   "id": "ac243894",
   "metadata": {},
   "source": [
    "## print sep"
   ]
  },
  {
   "cell_type": "code",
   "execution_count": 11,
   "id": "b11cc5c3",
   "metadata": {},
   "outputs": [
    {
     "name": "stdout",
     "output_type": "stream",
     "text": [
      "Hello World How are you 8 9.3456 None True\n"
     ]
    }
   ],
   "source": [
    "print(\"Hello\", \"World\", \"How\", \"are\", \"you\", 8, 9.3456, None, True)"
   ]
  },
  {
   "cell_type": "code",
   "execution_count": 14,
   "id": "c8a95e39",
   "metadata": {},
   "outputs": [
    {
     "name": "stdout",
     "output_type": "stream",
     "text": [
      "Hello_()_89...,World_()_89...,Good_()_89...,evening\n"
     ]
    }
   ],
   "source": [
    "# By default separation is taken as a space\n",
    "print(\"Hello\", \"World\", \"Good\", \"evening\", sep='_()_89...,')"
   ]
  },
  {
   "cell_type": "code",
   "execution_count": null,
   "id": "7a9906d2",
   "metadata": {},
   "outputs": [],
   "source": []
  },
  {
   "cell_type": "code",
   "execution_count": null,
   "id": "bcdab971",
   "metadata": {},
   "outputs": [],
   "source": []
  },
  {
   "cell_type": "code",
   "execution_count": null,
   "id": "992b3291",
   "metadata": {},
   "outputs": [],
   "source": []
  },
  {
   "cell_type": "code",
   "execution_count": null,
   "id": "d50ad94f",
   "metadata": {},
   "outputs": [],
   "source": []
  },
  {
   "cell_type": "markdown",
   "id": "3f8ecafe",
   "metadata": {},
   "source": [
    "#### Quiz 2\n",
    "```py\n",
    "for i in range(3):\n",
    "    print(\"i\", i, sep='=')\n",
    "```"
   ]
  },
  {
   "cell_type": "code",
   "execution_count": 16,
   "id": "1d84d4f1",
   "metadata": {},
   "outputs": [
    {
     "name": "stdout",
     "output_type": "stream",
     "text": [
      "i=0\n",
      "i=1\n",
      "i=2\n"
     ]
    }
   ],
   "source": [
    "for i in range(3):\n",
    "    print(\"i\", i, sep='=')"
   ]
  },
  {
   "cell_type": "markdown",
   "id": "2d435ead",
   "metadata": {},
   "source": [
    "Correct Answer - A"
   ]
  },
  {
   "cell_type": "code",
   "execution_count": null,
   "id": "067c166f",
   "metadata": {},
   "outputs": [],
   "source": []
  },
  {
   "cell_type": "markdown",
   "id": "e5f7b9cf",
   "metadata": {},
   "source": [
    "#### Quiz 3\n",
    "```py\n",
    "print(\"Hello\", \"World\", sep=',', end='+')\n",
    "print(\"Foo\", sep='./')\n",
    "print(\"Bar\", end=' 123')\n",
    "```"
   ]
  },
  {
   "cell_type": "code",
   "execution_count": 17,
   "id": "189d95e3",
   "metadata": {},
   "outputs": [
    {
     "name": "stdout",
     "output_type": "stream",
     "text": [
      "Hello,World+Foo\n",
      "Bar 123"
     ]
    }
   ],
   "source": [
    "print(\"Hello\", \"World\", sep=',', end='+')\n",
    "print(\"Foo\", sep='./')\n",
    "print(\"Bar\", end=' 123')"
   ]
  },
  {
   "cell_type": "markdown",
   "id": "8e874003",
   "metadata": {},
   "source": [
    "Correct Option - A"
   ]
  },
  {
   "cell_type": "code",
   "execution_count": null,
   "id": "0ba4a994",
   "metadata": {},
   "outputs": [],
   "source": []
  },
  {
   "cell_type": "code",
   "execution_count": 21,
   "id": "bf115791",
   "metadata": {},
   "outputs": [
    {
     "name": "stdout",
     "output_type": "stream",
     "text": [
      "Foo\n"
     ]
    }
   ],
   "source": [
    "print(\"Foo\", sep='./')"
   ]
  },
  {
   "cell_type": "code",
   "execution_count": null,
   "id": "b3b60a12",
   "metadata": {},
   "outputs": [],
   "source": []
  },
  {
   "cell_type": "code",
   "execution_count": null,
   "id": "4dfbbb9e",
   "metadata": {},
   "outputs": [],
   "source": []
  },
  {
   "cell_type": "code",
   "execution_count": null,
   "id": "5a27376b",
   "metadata": {},
   "outputs": [],
   "source": []
  },
  {
   "cell_type": "code",
   "execution_count": null,
   "id": "e6bdbb4b",
   "metadata": {},
   "outputs": [],
   "source": []
  },
  {
   "cell_type": "markdown",
   "id": "bdc6a7a0",
   "metadata": {},
   "source": [
    "#### Quiz 4\n",
    "```py\n",
    "for i in range(2, 5):\n",
    "    print(\"i\", i, end=' ', sep='=')\n",
    "```"
   ]
  },
  {
   "cell_type": "code",
   "execution_count": 23,
   "id": "8ddc6ee4",
   "metadata": {},
   "outputs": [
    {
     "name": "stdout",
     "output_type": "stream",
     "text": [
      "i=2 i=3 i=4 "
     ]
    }
   ],
   "source": [
    "for i in range(2, 5):\n",
    "    print(\"i\", i, end=' ', sep='=')"
   ]
  },
  {
   "cell_type": "markdown",
   "id": "2a22eebc",
   "metadata": {},
   "source": [
    "Correct Option - D"
   ]
  },
  {
   "cell_type": "code",
   "execution_count": null,
   "id": "400b0728",
   "metadata": {},
   "outputs": [],
   "source": []
  },
  {
   "cell_type": "code",
   "execution_count": null,
   "id": "86fb2adf",
   "metadata": {},
   "outputs": [],
   "source": []
  },
  {
   "cell_type": "code",
   "execution_count": null,
   "id": "2f63d681",
   "metadata": {},
   "outputs": [],
   "source": []
  },
  {
   "cell_type": "code",
   "execution_count": null,
   "id": "320900f2",
   "metadata": {},
   "outputs": [],
   "source": []
  },
  {
   "cell_type": "markdown",
   "id": "e8dc58fb",
   "metadata": {},
   "source": [
    "#### Quiz 5\n",
    "Factors of 48"
   ]
  },
  {
   "cell_type": "code",
   "execution_count": null,
   "id": "0803aabb",
   "metadata": {},
   "outputs": [],
   "source": []
  },
  {
   "cell_type": "code",
   "execution_count": null,
   "id": "c0439791",
   "metadata": {},
   "outputs": [],
   "source": []
  },
  {
   "cell_type": "markdown",
   "id": "5d7e9b24",
   "metadata": {},
   "source": [
    "#### Quiz 6\n",
    "Which of the following is not a prime number?\n",
    "13, 39, 17, 23"
   ]
  },
  {
   "cell_type": "markdown",
   "id": "557a13dc",
   "metadata": {},
   "source": [
    "13 - 1, 13\\\n",
    "39 - 1, 3, 13, 39 \\\n",
    "17 - 1, 17\\\n",
    "23 - 1, 23\n"
   ]
  },
  {
   "cell_type": "code",
   "execution_count": null,
   "id": "4869d15e",
   "metadata": {},
   "outputs": [],
   "source": []
  },
  {
   "cell_type": "code",
   "execution_count": null,
   "id": "f9c20b2b",
   "metadata": {},
   "outputs": [],
   "source": []
  },
  {
   "cell_type": "markdown",
   "id": "39962b1b",
   "metadata": {},
   "source": [
    "## Print all factors\n",
    "Given a number N, print all of its factors/divisors. \n",
    "\n",
    "**Sample Input:** \\\n",
    "N = 10\n",
    "\n",
    "**Sample Output:** \\\n",
    "1 2 5 10"
   ]
  },
  {
   "cell_type": "code",
   "execution_count": 27,
   "id": "776938a6",
   "metadata": {},
   "outputs": [
    {
     "name": "stdout",
     "output_type": "stream",
     "text": [
      "1 17 "
     ]
    }
   ],
   "source": [
    "N = 17\n",
    "\n",
    "for i in range(1, N+1):\n",
    "#     Check i is a factor of N\n",
    "    if N % i == 0:\n",
    "        print(i, end=' ')"
   ]
  },
  {
   "cell_type": "code",
   "execution_count": null,
   "id": "e82096db",
   "metadata": {},
   "outputs": [],
   "source": []
  },
  {
   "cell_type": "code",
   "execution_count": null,
   "id": "123dea7a",
   "metadata": {},
   "outputs": [],
   "source": []
  },
  {
   "cell_type": "markdown",
   "id": "bb0b28a0",
   "metadata": {},
   "source": [
    "## Count of factors\n",
    "Given a number N, print count of its factors/divisors. \n",
    "\n",
    "**Sample Input:** \\\n",
    "N = 10\n",
    "\n",
    "**Sample Output:** \\\n",
    "4"
   ]
  },
  {
   "cell_type": "code",
   "execution_count": 32,
   "id": "89fe808f",
   "metadata": {},
   "outputs": [
    {
     "name": "stdout",
     "output_type": "stream",
     "text": [
      "Count of factors = 9\n"
     ]
    }
   ],
   "source": [
    "N = 100\n",
    "countOfFactors = 0\n",
    "\n",
    "for i in range(1, N+1):\n",
    "#     Check i is a factor of N\n",
    "    if N % i == 0:\n",
    "#         Count when you print it\n",
    "        countOfFactors += 1\n",
    "    \n",
    "print(\"Count of factors =\", countOfFactors)"
   ]
  },
  {
   "cell_type": "code",
   "execution_count": null,
   "id": "e85294cd",
   "metadata": {},
   "outputs": [],
   "source": []
  },
  {
   "cell_type": "code",
   "execution_count": null,
   "id": "fed23247",
   "metadata": {},
   "outputs": [],
   "source": []
  },
  {
   "cell_type": "markdown",
   "id": "bda1c350",
   "metadata": {},
   "source": [
    "## Prime Check\n",
    "Given a number N, check if it is Prime or Not Prime\n",
    "\n",
    "**Sample Input:** \\\n",
    "N = 10\n",
    "\n",
    "**Sample Output:** \\\n",
    "Not Prime"
   ]
  },
  {
   "cell_type": "code",
   "execution_count": 36,
   "id": "475d6ac0",
   "metadata": {},
   "outputs": [
    {
     "name": "stdout",
     "output_type": "stream",
     "text": [
      "Prime\n"
     ]
    }
   ],
   "source": [
    "N = 23\n",
    "countOfFactors = 0\n",
    "\n",
    "for i in range(1, N+1):\n",
    "#     Check i is a factor of N\n",
    "    if N % i == 0:\n",
    "#         Count when you print it\n",
    "        countOfFactors += 1\n",
    "\n",
    "if countOfFactors == 2:\n",
    "    print(\"Prime\")\n",
    "else:\n",
    "    print(\"Not prime\")\n"
   ]
  },
  {
   "cell_type": "code",
   "execution_count": null,
   "id": "115b2261",
   "metadata": {},
   "outputs": [],
   "source": []
  },
  {
   "cell_type": "code",
   "execution_count": null,
   "id": "01980e3c",
   "metadata": {},
   "outputs": [],
   "source": []
  },
  {
   "cell_type": "markdown",
   "id": "b3250a5c",
   "metadata": {},
   "source": [
    "## Sum of factors\n",
    "Given a number N, print sum of its factors/divisors. \n",
    "\n",
    "**Sample Input:** \\\n",
    "N = 10\n",
    "\n",
    "**Sample Output:** \\\n",
    "18\n",
    "\n",
    "**Explanation:** \\\n",
    "1 + 2 + 5 + 10"
   ]
  },
  {
   "cell_type": "code",
   "execution_count": 115,
   "id": "ccac4800",
   "metadata": {},
   "outputs": [
    {
     "name": "stdout",
     "output_type": "stream",
     "text": [
      "Sum of factors is 12\n"
     ]
    }
   ],
   "source": [
    "N = 6\n",
    "sumOfFactors = 0\n",
    "\n",
    "for i in range(1, N+1):\n",
    "#     Check i is a factor of N\n",
    "    if N % i == 0:\n",
    "        sumOfFactors += i\n",
    "        \n",
    "\n",
    "print(\"Sum of factors is\", sumOfFactors)"
   ]
  },
  {
   "cell_type": "code",
   "execution_count": null,
   "id": "23e9340c",
   "metadata": {},
   "outputs": [],
   "source": []
  },
  {
   "cell_type": "code",
   "execution_count": null,
   "id": "0dc32a82",
   "metadata": {},
   "outputs": [],
   "source": []
  },
  {
   "cell_type": "markdown",
   "id": "b8f4cfc4",
   "metadata": {},
   "source": [
    "# Break statement\n",
    "Stopping or Destroying a loop. Works with both for loops and while loops"
   ]
  },
  {
   "cell_type": "code",
   "execution_count": 110,
   "id": "792694e3",
   "metadata": {},
   "outputs": [
    {
     "name": "stdout",
     "output_type": "stream",
     "text": [
      "0 After the if\n",
      "1 After the if\n",
      "2 After the if\n",
      "3 After the if\n",
      "4 After the if\n",
      "5 Outside the loop\n"
     ]
    }
   ],
   "source": [
    "for i in range(10):\n",
    "    print(i, end=' ')\n",
    "    if i == 5:\n",
    "        break\n",
    "    print(\"After the if\")\n",
    "    \n",
    "print(\"Outside the loop\")"
   ]
  },
  {
   "cell_type": "code",
   "execution_count": null,
   "id": "362d1ba1",
   "metadata": {},
   "outputs": [],
   "source": []
  },
  {
   "cell_type": "code",
   "execution_count": null,
   "id": "be13494a",
   "metadata": {},
   "outputs": [],
   "source": []
  },
  {
   "cell_type": "markdown",
   "id": "fb7f4c55",
   "metadata": {},
   "source": [
    "#### Quiz 7\n",
    "```py\n",
    "for i in range(1, 10):\n",
    "    if i == 5:\n",
    "        break\n",
    "    print(i, end=' ')\n",
    "```"
   ]
  },
  {
   "cell_type": "code",
   "execution_count": 106,
   "id": "43858e9f",
   "metadata": {},
   "outputs": [
    {
     "name": "stdout",
     "output_type": "stream",
     "text": [
      "1 2 3 4 "
     ]
    }
   ],
   "source": [
    "for i in range(1, 10):\n",
    "    if i == 5:\n",
    "        break\n",
    "    print(i, end=' ')"
   ]
  },
  {
   "cell_type": "code",
   "execution_count": null,
   "id": "d9e784d8",
   "metadata": {},
   "outputs": [],
   "source": []
  },
  {
   "cell_type": "markdown",
   "id": "dff74499",
   "metadata": {},
   "source": [
    "<img src=\"https://media.giphy.com/media/dYsYG3shlTDO1S38Vg/giphy.gif\" width=\"300px\" />"
   ]
  },
  {
   "cell_type": "code",
   "execution_count": null,
   "id": "84f321a5",
   "metadata": {},
   "outputs": [],
   "source": []
  },
  {
   "cell_type": "code",
   "execution_count": null,
   "id": "7b0bdd72",
   "metadata": {},
   "outputs": [],
   "source": []
  },
  {
   "cell_type": "markdown",
   "id": "c4c42ca3",
   "metadata": {},
   "source": [
    "# Continue statement\n",
    "<img src=\"https://media.giphy.com/media/l2YWxte7sJB2XuE8M/giphy.gif\" width=\"300px\" />\n",
    "\n",
    "Skips an iteration.\n",
    "Works with both for loops and while loops"
   ]
  },
  {
   "cell_type": "code",
   "execution_count": 45,
   "id": "91ef43a9",
   "metadata": {},
   "outputs": [
    {
     "name": "stdout",
     "output_type": "stream",
     "text": [
      "0 1 2 3 4 6 7 8 9 "
     ]
    }
   ],
   "source": [
    "for i in range(10):\n",
    "    if i == 5:\n",
    "        continue\n",
    "    print(i, end=' ')"
   ]
  },
  {
   "cell_type": "code",
   "execution_count": null,
   "id": "9c285400",
   "metadata": {},
   "outputs": [],
   "source": []
  },
  {
   "cell_type": "markdown",
   "id": "0fa79137",
   "metadata": {},
   "source": [
    "#### Quiz 8\n",
    "What is the output of the following?\n",
    "```py\n",
    "for i in range(0,10):\n",
    "     if(i%3==0):\n",
    "        continue\n",
    "    print(i, end=' ')\n",
    "```\n"
   ]
  },
  {
   "cell_type": "code",
   "execution_count": 48,
   "id": "9ca94e71",
   "metadata": {},
   "outputs": [
    {
     "name": "stdout",
     "output_type": "stream",
     "text": [
      "1 2 4 5 7 8 "
     ]
    }
   ],
   "source": [
    "for i in range(0,10):\n",
    "    if(i%3==0):\n",
    "        continue\n",
    "    print(i, end=' ')"
   ]
  },
  {
   "cell_type": "markdown",
   "id": "f21d2ce4",
   "metadata": {},
   "source": [
    "range(0,10) = [0,1,2,3,4,5,6,7,8,9]\n",
    "Skipped = [0, 3, 6, 9]"
   ]
  },
  {
   "cell_type": "code",
   "execution_count": null,
   "id": "11b4348d",
   "metadata": {},
   "outputs": [],
   "source": []
  },
  {
   "cell_type": "code",
   "execution_count": null,
   "id": "c0e47f1c",
   "metadata": {},
   "outputs": [],
   "source": []
  },
  {
   "cell_type": "code",
   "execution_count": null,
   "id": "53812636",
   "metadata": {},
   "outputs": [],
   "source": []
  },
  {
   "cell_type": "markdown",
   "id": "d06f84eb",
   "metadata": {},
   "source": [
    "## Random Game\n",
    "Design a game to generate and print random numbers from 1 to 10.\n",
    "- You need to keep on printing till you get a 5\n",
    "- Skip printing multiples of 4"
   ]
  },
  {
   "cell_type": "code",
   "execution_count": null,
   "id": "3c25d089",
   "metadata": {},
   "outputs": [],
   "source": []
  },
  {
   "cell_type": "code",
   "execution_count": 76,
   "id": "3b37fe7d",
   "metadata": {},
   "outputs": [
    {
     "name": "stdout",
     "output_type": "stream",
     "text": [
      "1 10 10 6 3 "
     ]
    }
   ],
   "source": [
    "import random\n",
    "for i in range(5):\n",
    "    r = random.randint(1, 10)\n",
    "    print(r, end=' ')"
   ]
  },
  {
   "cell_type": "code",
   "execution_count": 102,
   "id": "3feefd67",
   "metadata": {},
   "outputs": [
    {
     "name": "stdout",
     "output_type": "stream",
     "text": [
      "6 1 6 6 2 1 10 6 9 6 7 10 7 2 2 7 2 2 3 3 9 6 3 1 9 1 1 9 2 5 "
     ]
    }
   ],
   "source": [
    "while True:\n",
    "    r = random.randint(1, 10)\n",
    "    if r % 4 == 0:\n",
    "        continue\n",
    "    \n",
    "    print(r, end=' ')\n",
    "    \n",
    "    if r == 5:\n",
    "        break"
   ]
  },
  {
   "cell_type": "code",
   "execution_count": null,
   "id": "0d98b4f0",
   "metadata": {},
   "outputs": [],
   "source": []
  },
  {
   "cell_type": "markdown",
   "id": "316ec952",
   "metadata": {},
   "source": [
    "### Infinite Loop -\n",
    "```py\n",
    "while True:\n",
    "```"
   ]
  },
  {
   "cell_type": "code",
   "execution_count": null,
   "id": "65abd257",
   "metadata": {},
   "outputs": [],
   "source": []
  },
  {
   "cell_type": "code",
   "execution_count": null,
   "id": "e533e1c2",
   "metadata": {},
   "outputs": [],
   "source": []
  },
  {
   "cell_type": "markdown",
   "id": "c953d2bd",
   "metadata": {},
   "source": [
    "#### Quiz 9\n",
    "Which of the following is `NOT` a valid output for this code snippet ? \n",
    "\n",
    "```py\n",
    "import random\n",
    "\n",
    "while True:\n",
    "    r = random.randint(5, 15)\n",
    "    \n",
    "    if r % 3 == 0:\n",
    "        continue\n",
    "\n",
    "    print(r, end=' ')\n",
    "    \n",
    "    if r == 10 or r == 15:\n",
    "        break\n",
    "```"
   ]
  },
  {
   "cell_type": "markdown",
   "id": "dd454d33",
   "metadata": {},
   "source": [
    "**A.** 13 7 7 13 8 10 \\\n",
    "**B.** 5 14 7 7 13 14 10 \\\n",
    "**C.** 7 11 7 5 15 \\\n",
    "**D.** 14 5 8 11 7 14 13 10 "
   ]
  },
  {
   "cell_type": "code",
   "execution_count": 104,
   "id": "807051d0",
   "metadata": {},
   "outputs": [
    {
     "name": "stdout",
     "output_type": "stream",
     "text": [
      "11 8 8 5 5 8 13 13 14 11 8 10 "
     ]
    }
   ],
   "source": [
    "import random\n",
    "\n",
    "while True:\n",
    "    r = random.randint(5, 15)\n",
    "\n",
    "    if r % 3 == 0:\n",
    "        continue\n",
    "\n",
    "    print(r, end=' ')\n",
    "\n",
    "    if r == 10 or r == 15:\n",
    "        break"
   ]
  },
  {
   "cell_type": "code",
   "execution_count": null,
   "id": "ca71a179",
   "metadata": {},
   "outputs": [],
   "source": []
  },
  {
   "cell_type": "code",
   "execution_count": null,
   "id": "40f46587",
   "metadata": {},
   "outputs": [],
   "source": []
  },
  {
   "cell_type": "code",
   "execution_count": null,
   "id": "22781974",
   "metadata": {},
   "outputs": [],
   "source": []
  },
  {
   "cell_type": "markdown",
   "id": "49093131",
   "metadata": {},
   "source": [
    "# Bonus Reading Material\n",
    "https://www.scaler.com/topics/python/break-pass-and-continue-statement-in-python/\n",
    "\n",
    "<img src=\"https://media.giphy.com/media/VbnUQpnihPSIgIXuZv/giphy.gif\" width=\"300px\" />"
   ]
  },
  {
   "cell_type": "code",
   "execution_count": 116,
   "id": "8feb2af8",
   "metadata": {},
   "outputs": [
    {
     "ename": "SyntaxError",
     "evalue": "'continue' not properly in loop (177290838.py, line 2)",
     "output_type": "error",
     "traceback": [
      "\u001b[0;36m  File \u001b[0;32m\"/var/folders/jn/1bsrct314hv5xmfm7vrcdrzc0000gn/T/ipykernel_2187/177290838.py\"\u001b[0;36m, line \u001b[0;32m2\u001b[0m\n\u001b[0;31m    continue\u001b[0m\n\u001b[0m    ^\u001b[0m\n\u001b[0;31mSyntaxError\u001b[0m\u001b[0;31m:\u001b[0m 'continue' not properly in loop\n"
     ]
    }
   ],
   "source": [
    "if n == 5:\n",
    "    continue"
   ]
  },
  {
   "cell_type": "code",
   "execution_count": null,
   "id": "7eaf5f7e",
   "metadata": {},
   "outputs": [],
   "source": []
  }
 ],
 "metadata": {
  "kernelspec": {
   "display_name": "Python 3 (ipykernel)",
   "language": "python",
   "name": "python3"
  },
  "language_info": {
   "codemirror_mode": {
    "name": "ipython",
    "version": 3
   },
   "file_extension": ".py",
   "mimetype": "text/x-python",
   "name": "python",
   "nbconvert_exporter": "python",
   "pygments_lexer": "ipython3",
   "version": "3.9.12"
  }
 },
 "nbformat": 4,
 "nbformat_minor": 5
}
