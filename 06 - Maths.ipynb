{
 "cells": [
  {
   "cell_type": "markdown",
   "id": "948ce1bf",
   "metadata": {},
   "source": [
    "# Maths\n",
    "![](https://media.giphy.com/media/4JVTF9zR9BicshFAb7/giphy.gif)"
   ]
  },
  {
   "cell_type": "code",
   "execution_count": 1,
   "id": "37c68a1a",
   "metadata": {},
   "outputs": [
    {
     "name": "stdout",
     "output_type": "stream",
     "text": [
      "5\n"
     ]
    }
   ],
   "source": [
    "y = 12345 % 10\n",
    "print(y)"
   ]
  },
  {
   "cell_type": "code",
   "execution_count": 2,
   "id": "761d1b91",
   "metadata": {},
   "outputs": [
    {
     "data": {
      "text/plain": [
       "6"
      ]
     },
     "execution_count": 2,
     "metadata": {},
     "output_type": "execute_result"
    }
   ],
   "source": [
    "56 % 10"
   ]
  },
  {
   "cell_type": "code",
   "execution_count": 3,
   "id": "b0803426",
   "metadata": {},
   "outputs": [
    {
     "data": {
      "text/plain": [
       "8"
      ]
     },
     "execution_count": 3,
     "metadata": {},
     "output_type": "execute_result"
    }
   ],
   "source": [
    "92478 % 10"
   ]
  },
  {
   "cell_type": "code",
   "execution_count": 4,
   "id": "77a10a4f",
   "metadata": {},
   "outputs": [
    {
     "data": {
      "text/plain": [
       "7"
      ]
     },
     "execution_count": 4,
     "metadata": {},
     "output_type": "execute_result"
    }
   ],
   "source": [
    "893457 % 10"
   ]
  },
  {
   "cell_type": "code",
   "execution_count": 5,
   "id": "c1ad5c80",
   "metadata": {},
   "outputs": [
    {
     "data": {
      "text/plain": [
       "6"
      ]
     },
     "execution_count": 5,
     "metadata": {},
     "output_type": "execute_result"
    }
   ],
   "source": [
    "2346  % 10"
   ]
  },
  {
   "cell_type": "code",
   "execution_count": null,
   "id": "1be87298",
   "metadata": {},
   "outputs": [],
   "source": []
  },
  {
   "cell_type": "markdown",
   "id": "7283cc42",
   "metadata": {},
   "source": [
    "## Logarithms"
   ]
  },
  {
   "cell_type": "code",
   "execution_count": 9,
   "id": "98ebf1a7",
   "metadata": {},
   "outputs": [
    {
     "name": "stdout",
     "output_type": "stream",
     "text": [
      "4.499809670330265\n"
     ]
    }
   ],
   "source": [
    " import math\n",
    "\n",
    "# Module/Library = A set of defined functions\n",
    "\n",
    "# e base\n",
    "print(math.log(90))"
   ]
  },
  {
   "cell_type": "code",
   "execution_count": 8,
   "id": "69216061",
   "metadata": {},
   "outputs": [
    {
     "name": "stdout",
     "output_type": "stream",
     "text": [
      "2.718281828459045\n"
     ]
    }
   ],
   "source": [
    "print(math.e)"
   ]
  },
  {
   "cell_type": "code",
   "execution_count": 13,
   "id": "2063f05e",
   "metadata": {},
   "outputs": [
    {
     "name": "stdout",
     "output_type": "stream",
     "text": [
      "4.0\n"
     ]
    }
   ],
   "source": [
    "# base 2\n",
    "print(math.log2(16))"
   ]
  },
  {
   "cell_type": "code",
   "execution_count": 15,
   "id": "280e67e7",
   "metadata": {},
   "outputs": [
    {
     "name": "stdout",
     "output_type": "stream",
     "text": [
      "3.0\n"
     ]
    }
   ],
   "source": [
    "# Base 10\n",
    "print(math.log10(1000))"
   ]
  },
  {
   "cell_type": "code",
   "execution_count": 12,
   "id": "b6f80f5a",
   "metadata": {},
   "outputs": [
    {
     "name": "stdout",
     "output_type": "stream",
     "text": [
      "4.0\n"
     ]
    }
   ],
   "source": [
    "# base 3\n",
    "print(math.log(81, 3))"
   ]
  },
  {
   "cell_type": "code",
   "execution_count": 17,
   "id": "4eb6c62d",
   "metadata": {},
   "outputs": [
    {
     "name": "stdout",
     "output_type": "stream",
     "text": [
      "3\n",
      "81\n",
      "4.0\n"
     ]
    }
   ],
   "source": [
    "base = int(input()) # 3\n",
    "value = int(input()) # 81\n",
    "\n",
    "print(math.log(value, base))"
   ]
  },
  {
   "cell_type": "code",
   "execution_count": 18,
   "id": "11310cfd",
   "metadata": {},
   "outputs": [
    {
     "name": "stdout",
     "output_type": "stream",
     "text": [
      "3.9068905956085187\n"
     ]
    }
   ],
   "source": [
    "print(math.log2(15))"
   ]
  },
  {
   "cell_type": "code",
   "execution_count": 19,
   "id": "adc6205a",
   "metadata": {},
   "outputs": [
    {
     "name": "stdout",
     "output_type": "stream",
     "text": [
      "3.169925001442312\n"
     ]
    }
   ],
   "source": [
    "print(math.log2(9))"
   ]
  },
  {
   "cell_type": "markdown",
   "id": "c371c618",
   "metadata": {},
   "source": [
    "## Ranges"
   ]
  },
  {
   "cell_type": "code",
   "execution_count": 21,
   "id": "c29fcdda",
   "metadata": {},
   "outputs": [
    {
     "name": "stdout",
     "output_type": "stream",
     "text": [
      "[1, 2, 3, 4, 5]\n"
     ]
    }
   ],
   "source": [
    "print(list(range(1, 6)))"
   ]
  },
  {
   "cell_type": "code",
   "execution_count": 22,
   "id": "0bb19bf6",
   "metadata": {},
   "outputs": [
    {
     "name": "stdout",
     "output_type": "stream",
     "text": [
      "[2, 3, 4, 5, 6, 7]\n"
     ]
    }
   ],
   "source": [
    "print(list(range(2,8)))\n",
    "# [2, 8)"
   ]
  },
  {
   "cell_type": "code",
   "execution_count": null,
   "id": "03432c3e",
   "metadata": {},
   "outputs": [],
   "source": []
  },
  {
   "cell_type": "markdown",
   "id": "90db4844",
   "metadata": {},
   "source": [
    "##### Important Note:\n",
    "For now, to print any specific range, just use the list(). \\\n",
    "\\\n",
    "For example\n",
    "```py\n",
    "print(list(range(4, 10)))\n",
    "```\n",
    "\n",
    "`list()` will be introduced a bit later in the course when we cover the topic of Lists"
   ]
  },
  {
   "cell_type": "code",
   "execution_count": null,
   "id": "341ae842",
   "metadata": {},
   "outputs": [],
   "source": []
  },
  {
   "cell_type": "code",
   "execution_count": null,
   "id": "cbbf293d",
   "metadata": {},
   "outputs": [],
   "source": []
  },
  {
   "cell_type": "code",
   "execution_count": 23,
   "id": "695da1ad",
   "metadata": {},
   "outputs": [
    {
     "name": "stdout",
     "output_type": "stream",
     "text": [
      "[10, 11, 12, 13, 14]\n"
     ]
    }
   ],
   "source": [
    "print(list(range(10, 15)))\n",
    "# [10, 15)"
   ]
  },
  {
   "cell_type": "markdown",
   "id": "ff37e25e",
   "metadata": {},
   "source": [
    "# Doubts\n"
   ]
  },
  {
   "cell_type": "code",
   "execution_count": 24,
   "id": "5dfbb7ec",
   "metadata": {},
   "outputs": [
    {
     "data": {
      "text/plain": [
       "3.0000000000000004"
      ]
     },
     "execution_count": 24,
     "metadata": {},
     "output_type": "execute_result"
    }
   ],
   "source": [
    "# Any log base\n",
    "\n",
    "\n",
    "math.log(125, 5)\n",
    "\n",
    "# float numbers tend to have an accuracy problem"
   ]
  },
  {
   "cell_type": "code",
   "execution_count": 25,
   "id": "ca874d59",
   "metadata": {},
   "outputs": [
    {
     "data": {
      "text/plain": [
       "2.718281828459045"
      ]
     },
     "execution_count": 25,
     "metadata": {},
     "output_type": "execute_result"
    }
   ],
   "source": [
    "math.e"
   ]
  },
  {
   "cell_type": "code",
   "execution_count": 26,
   "id": "d3a1d433",
   "metadata": {},
   "outputs": [
    {
     "data": {
      "text/plain": [
       "3.141592653589793"
      ]
     },
     "execution_count": 26,
     "metadata": {},
     "output_type": "execute_result"
    }
   ],
   "source": [
    "math.pi"
   ]
  },
  {
   "cell_type": "code",
   "execution_count": null,
   "id": "740b976d",
   "metadata": {},
   "outputs": [],
   "source": []
  },
  {
   "cell_type": "code",
   "execution_count": null,
   "id": "40a2d9ac",
   "metadata": {},
   "outputs": [],
   "source": []
  },
  {
   "cell_type": "code",
   "execution_count": 30,
   "id": "63e71f53",
   "metadata": {},
   "outputs": [
    {
     "data": {
      "text/plain": [
       "5"
      ]
     },
     "execution_count": 30,
     "metadata": {},
     "output_type": "execute_result"
    }
   ],
   "source": [
    "# Binary to Decimal\n",
    "int(\"101\", 2)"
   ]
  },
  {
   "cell_type": "code",
   "execution_count": 31,
   "id": "58d850dc",
   "metadata": {},
   "outputs": [
    {
     "data": {
      "text/plain": [
       "6"
      ]
     },
     "execution_count": 31,
     "metadata": {},
     "output_type": "execute_result"
    }
   ],
   "source": [
    "math.floor(math.log2(64))"
   ]
  },
  {
   "cell_type": "code",
   "execution_count": null,
   "id": "4bf06f52",
   "metadata": {},
   "outputs": [],
   "source": [
    "math.ceil"
   ]
  }
 ],
 "metadata": {
  "kernelspec": {
   "display_name": "Python 3 (ipykernel)",
   "language": "python",
   "name": "python3"
  },
  "language_info": {
   "codemirror_mode": {
    "name": "ipython",
    "version": 3
   },
   "file_extension": ".py",
   "mimetype": "text/x-python",
   "name": "python",
   "nbconvert_exporter": "python",
   "pygments_lexer": "ipython3",
   "version": "3.9.12"
  }
 },
 "nbformat": 4,
 "nbformat_minor": 5
}
