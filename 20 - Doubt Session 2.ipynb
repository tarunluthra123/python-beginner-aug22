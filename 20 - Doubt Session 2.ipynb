{
  "nbformat": 4,
  "nbformat_minor": 0,
  "metadata": {
    "colab": {
      "provenance": [],
      "collapsed_sections": []
    },
    "kernelspec": {
      "name": "python3",
      "display_name": "Python 3"
    },
    "language_info": {
      "name": "python"
    }
  },
  "cells": [
    {
      "cell_type": "markdown",
      "source": [
        "- Q1: Search Element\n",
        "\n",
        "- Q2: Second Largest\n",
        "    - set and sort approach\n",
        "\n",
        "- Q3: Ceil and Floor\n",
        "\n",
        "- Q4: Inverse of the Array\n"
      ],
      "metadata": {
        "id": "_gkvqvFR_WAe"
      }
    },
    {
      "cell_type": "code",
      "source": [
        "string = \"1 3 4 6\"\n",
        "print(string.split(\" \"))\n",
        "\n",
        "list_num = []\n",
        "\n",
        "# tradtional\n",
        "for element in string.split(\" \"):\n",
        "  list_num.append(int(element))\n",
        "\n",
        "list_num"
      ],
      "metadata": {
        "colab": {
          "base_uri": "https://localhost:8080/"
        },
        "id": "ws0SYrZ3KNm6",
        "outputId": "36d81719-0e8b-4733-d560-40b14e28c0ce"
      },
      "execution_count": null,
      "outputs": [
        {
          "output_type": "stream",
          "name": "stdout",
          "text": [
            "['1', '3', '4', '6']\n"
          ]
        },
        {
          "output_type": "execute_result",
          "data": {
            "text/plain": [
              "[1, 3, 4, 6]"
            ]
          },
          "metadata": {},
          "execution_count": 20
        }
      ]
    },
    {
      "cell_type": "code",
      "source": [
        "# list comphrension\n",
        "list_num = [int(element) for element in string.split(\" \")]\n",
        "list_num"
      ],
      "metadata": {
        "colab": {
          "base_uri": "https://localhost:8080/"
        },
        "id": "YuWKyhaFUfkL",
        "outputId": "0d8e7536-972c-45fc-f3fa-429e1e0264ed"
      },
      "execution_count": null,
      "outputs": [
        {
          "output_type": "execute_result",
          "data": {
            "text/plain": [
              "[1, 3, 4, 6]"
            ]
          },
          "metadata": {},
          "execution_count": 19
        }
      ]
    },
    {
      "cell_type": "code",
      "source": [
        "# map \n",
        "list(map(int, string.split(\" \") ))"
      ],
      "metadata": {
        "colab": {
          "base_uri": "https://localhost:8080/"
        },
        "id": "FF50U59-VaPz",
        "outputId": "52802ea5-b8c8-40f7-f5d4-50de3149242f"
      },
      "execution_count": null,
      "outputs": [
        {
          "output_type": "execute_result",
          "data": {
            "text/plain": [
              "[1, 3, 4, 6]"
            ]
          },
          "metadata": {},
          "execution_count": 22
        }
      ]
    },
    {
      "cell_type": "code",
      "source": [
        "list(map(int, input().split(\" \") ))"
      ],
      "metadata": {
        "colab": {
          "base_uri": "https://localhost:8080/"
        },
        "id": "2gn9sjFDVpUt",
        "outputId": "bd24aa61-5c63-4488-e8f2-b9dd827f220a"
      },
      "execution_count": null,
      "outputs": [
        {
          "name": "stdout",
          "output_type": "stream",
          "text": [
            "1 3 4 6\n"
          ]
        },
        {
          "output_type": "execute_result",
          "data": {
            "text/plain": [
              "[1, 3, 4, 6]"
            ]
          },
          "metadata": {},
          "execution_count": 25
        }
      ]
    },
    {
      "cell_type": "code",
      "source": [
        "list(map(int, input.split(\" \") ))"
      ],
      "metadata": {
        "id": "v-mqhYSGW4Z-"
      },
      "execution_count": null,
      "outputs": []
    },
    {
      "cell_type": "code",
      "source": [
        "list( input().split(\" \") )"
      ],
      "metadata": {
        "colab": {
          "base_uri": "https://localhost:8080/"
        },
        "id": "6pyUdZMBXNvX",
        "outputId": "aed91b94-b0e9-4ff0-df2e-28b41a223507"
      },
      "execution_count": null,
      "outputs": [
        {
          "name": "stdout",
          "output_type": "stream",
          "text": [
            "1 2 3 4\n"
          ]
        },
        {
          "output_type": "execute_result",
          "data": {
            "text/plain": [
              "['1', '2', '3', '4']"
            ]
          },
          "metadata": {},
          "execution_count": 27
        }
      ]
    },
    {
      "cell_type": "code",
      "source": [
        "# split takes a string and convert into list\n",
        "# seperator as argumnet\n",
        "\"1 2 3\".split(\" \")"
      ],
      "metadata": {
        "colab": {
          "base_uri": "https://localhost:8080/"
        },
        "id": "2hlJftgqXZku",
        "outputId": "4ed33c62-71be-4c4c-f44b-d5b395a43df3"
      },
      "execution_count": null,
      "outputs": [
        {
          "output_type": "execute_result",
          "data": {
            "text/plain": [
              "['1', '2', '3']"
            ]
          },
          "metadata": {},
          "execution_count": 28
        }
      ]
    },
    {
      "cell_type": "code",
      "source": [
        "\"1 2 3\".split(\" \")"
      ],
      "metadata": {
        "id": "LOAonY5CYFg6"
      },
      "execution_count": null,
      "outputs": []
    },
    {
      "cell_type": "code",
      "source": [
        "type(input())"
      ],
      "metadata": {
        "colab": {
          "base_uri": "https://localhost:8080/"
        },
        "id": "wfyP-aekYRcO",
        "outputId": "5832b933-a97c-4c4b-c4af-e2465dafc09b"
      },
      "execution_count": null,
      "outputs": [
        {
          "name": "stdout",
          "output_type": "stream",
          "text": [
            "[1, 3, 4, 6]\n"
          ]
        },
        {
          "output_type": "execute_result",
          "data": {
            "text/plain": [
              "str"
            ]
          },
          "metadata": {},
          "execution_count": 30
        }
      ]
    },
    {
      "cell_type": "markdown",
      "source": [
        "Question 1: Linear search"
      ],
      "metadata": {
        "id": "ZMtZoLtZbEP0"
      }
    },
    {
      "cell_type": "code",
      "source": [
        "list_num = [4 ,1, 5, 9, 1]\n",
        "target = 5\n",
        "\n",
        "if target in list_num:\n",
        "  print(\"Found\")\n",
        "else:\n",
        "  print(\"not found\")\n"
      ],
      "metadata": {
        "colab": {
          "base_uri": "https://localhost:8080/"
        },
        "id": "_FI09ckXbMjA",
        "outputId": "b084ab7a-0aa3-4ec5-8c44-e246665358b2"
      },
      "execution_count": null,
      "outputs": [
        {
          "output_type": "stream",
          "name": "stdout",
          "text": [
            "Found\n"
          ]
        }
      ]
    },
    {
      "cell_type": "code",
      "source": [
        "def main():\n",
        "    # YOUR CODE GOES HERE\n",
        "    # Please take input and print output to standard input/output (stdin/stdout)\n",
        "    # E.g. 'input()/raw_input()' for input & 'print' for output\n",
        "    \n",
        "    # number of times to run the test \n",
        "    t = int(input(\"Number of test-cases: \"))\n",
        "\n",
        "\n",
        "    while t>0:\n",
        "      # len_list\n",
        "      len_list = int(input(\" Length of test case\")) \n",
        "\n",
        "      # 4 1 5 9 1\n",
        "      list_num = list(map(int, input(\"Input list: \").split(\" \")))\n",
        "\n",
        "      # 5\n",
        "      target = int(input(\"Target: \"))\n",
        "          \n",
        "      if target in list_num:\n",
        "        print(1)\n",
        "      else:\n",
        "        print(0)\n",
        "\n",
        "\n",
        "      print(\"Test-case number\",t)\n",
        "      t-=1\n",
        "    \n",
        "    return 0\n",
        "\n",
        "if __name__ == '__main__':\n",
        "    main()\n"
      ],
      "metadata": {
        "colab": {
          "base_uri": "https://localhost:8080/"
        },
        "id": "ZZK7yifwYWqs",
        "outputId": "e2a903ed-6ed3-4e67-8942-ece061a8685c"
      },
      "execution_count": null,
      "outputs": [
        {
          "output_type": "stream",
          "name": "stdout",
          "text": [
            "Number of test-cases: 1\n",
            " Length of test case6\n",
            "Input list: 4 5 6 7 4 1\n",
            "Target: 23\n",
            "0\n",
            "Test-case number 1\n"
          ]
        }
      ]
    },
    {
      "cell_type": "markdown",
      "source": [
        "Homework:\n",
        "- How many times  Target is present\n",
        "- First occurence(index) of target\n",
        "- last occurence(index) of target "
      ],
      "metadata": {
        "id": "Hj9fJykEf-r6"
      }
    },
    {
      "cell_type": "markdown",
      "source": [
        "### Q2: Second largest"
      ],
      "metadata": {
        "id": "9cmvgcoqkLWQ"
      }
    },
    {
      "cell_type": "code",
      "source": [
        "L=[4,6,8,1, 2]\n",
        "\n",
        "print(L.sort())"
      ],
      "metadata": {
        "colab": {
          "base_uri": "https://localhost:8080/"
        },
        "id": "wtbYhRIEjSN_",
        "outputId": "b5596d35-301f-4840-cd40-6aa9c15c15e6"
      },
      "execution_count": null,
      "outputs": [
        {
          "output_type": "stream",
          "name": "stdout",
          "text": [
            "None\n"
          ]
        }
      ]
    },
    {
      "cell_type": "code",
      "source": [
        "# sort does not return ouput: 'inplace operation'\n",
        "L.sort()\n",
        "print(L)"
      ],
      "metadata": {
        "colab": {
          "base_uri": "https://localhost:8080/"
        },
        "id": "JD7b345TjSLY",
        "outputId": "ceb81614-f81e-4b90-e154-1b2e8ee6c62b"
      },
      "execution_count": null,
      "outputs": [
        {
          "output_type": "stream",
          "name": "stdout",
          "text": [
            "[1, 2, 4, 6, 8]\n"
          ]
        }
      ]
    },
    {
      "cell_type": "code",
      "source": [
        "print(sorted(L))"
      ],
      "metadata": {
        "colab": {
          "base_uri": "https://localhost:8080/"
        },
        "id": "P8QRvPG2jSGv",
        "outputId": "69761142-595c-48e5-90a8-bd77e4041fd6"
      },
      "execution_count": null,
      "outputs": [
        {
          "output_type": "stream",
          "name": "stdout",
          "text": [
            "[1, 2, 4, 6, 8]\n"
          ]
        }
      ]
    },
    {
      "cell_type": "markdown",
      "source": [
        "max"
      ],
      "metadata": {
        "id": "AicuLjmRlyeN"
      }
    },
    {
      "cell_type": "code",
      "source": [
        "L=[4,6,8,1, 2]\n",
        "max(L)"
      ],
      "metadata": {
        "colab": {
          "base_uri": "https://localhost:8080/"
        },
        "id": "763mRaU5jSEJ",
        "outputId": "4d4c1175-6132-46b2-a319-c30cc77b4565"
      },
      "execution_count": null,
      "outputs": [
        {
          "output_type": "execute_result",
          "data": {
            "text/plain": [
              "8"
            ]
          },
          "metadata": {},
          "execution_count": 1
        }
      ]
    },
    {
      "cell_type": "code",
      "source": [
        "L=[4,6,8,1, 2]\n",
        "\n",
        "print(sorted(L))\n",
        "sorted(L)[-1]"
      ],
      "metadata": {
        "colab": {
          "base_uri": "https://localhost:8080/"
        },
        "id": "faJjrr11jSBu",
        "outputId": "b40fb86b-41f2-43cd-e66d-f095c42b917c"
      },
      "execution_count": null,
      "outputs": [
        {
          "output_type": "stream",
          "name": "stdout",
          "text": [
            "[1, 2, 4, 6, 8]\n"
          ]
        },
        {
          "output_type": "execute_result",
          "data": {
            "text/plain": [
              "8"
            ]
          },
          "metadata": {},
          "execution_count": 6
        }
      ]
    },
    {
      "cell_type": "code",
      "source": [
        "print(sorted(L, reverse = True)[0])"
      ],
      "metadata": {
        "colab": {
          "base_uri": "https://localhost:8080/"
        },
        "id": "ofqn855jmwnu",
        "outputId": "0ab54099-1a39-4709-b4ed-8620ac5fc191"
      },
      "execution_count": null,
      "outputs": [
        {
          "output_type": "stream",
          "name": "stdout",
          "text": [
            "8\n"
          ]
        }
      ]
    },
    {
      "cell_type": "code",
      "source": [
        "max_num = float(\"-inf\")\n",
        "\n",
        "# L = [-1,-4]\n",
        "# max_num = 0\n",
        "for element in L:\n",
        "  if element>max_num:\n",
        "    max_num = element\n",
        "max_num"
      ],
      "metadata": {
        "colab": {
          "base_uri": "https://localhost:8080/"
        },
        "id": "zFYXXvGfjR_M",
        "outputId": "fe026a00-b088-48f5-a5fd-8c05d40271fb"
      },
      "execution_count": null,
      "outputs": [
        {
          "output_type": "execute_result",
          "data": {
            "text/plain": [
              "-1"
            ]
          },
          "metadata": {},
          "execution_count": 11
        }
      ]
    },
    {
      "cell_type": "code",
      "source": [
        "L=[4,6,8,1, 2]\n",
        "\n",
        "max_num = float(\"-inf\")\n",
        "for element in L:\n",
        "  if element>max_num:\n",
        "    max_num = element\n",
        "\n",
        "# max_num= 8\n",
        "\n",
        "second_largest = float('-inf')\n",
        "for element in L:\n",
        "   if element!=max_num:\n",
        "     if element>second_largest:\n",
        "         second_largest = element\n",
        "print(second_largest)\n",
        "\n",
        "\n",
        "third_largest = float('-inf')\n",
        "for element in L:\n",
        "   if element!=max_num and element!=second_largest:\n",
        "     if element>third_largest:\n",
        "         third_largest = element\n",
        "print(third_largest)"
      ],
      "metadata": {
        "colab": {
          "base_uri": "https://localhost:8080/"
        },
        "id": "UVZqum7wjR8y",
        "outputId": "e202d80b-50e5-418d-ad84-b08c9e7fa8e5"
      },
      "execution_count": null,
      "outputs": [
        {
          "output_type": "stream",
          "name": "stdout",
          "text": [
            "6\n"
          ]
        }
      ]
    },
    {
      "cell_type": "code",
      "source": [
        "L = [2,4,6,6,5]\n",
        "\n",
        "\n",
        "sorted(L)[-2]"
      ],
      "metadata": {
        "colab": {
          "base_uri": "https://localhost:8080/"
        },
        "id": "5_b_lmGKjR6Q",
        "outputId": "d24e14f6-6942-4cb3-cdfd-5146e09356c1"
      },
      "execution_count": null,
      "outputs": [
        {
          "output_type": "execute_result",
          "data": {
            "text/plain": [
              "6"
            ]
          },
          "metadata": {},
          "execution_count": 20
        }
      ]
    },
    {
      "cell_type": "code",
      "source": [
        "L = [2,4,6,6,5]\n",
        "no_dup_list = []\n",
        "for element in L:\n",
        "  if element not in no_dup_list:\n",
        "    no_dup_list.append(element)\n",
        "no_dup_list\n",
        "\n",
        "sorted(no_dup_list)[-2]"
      ],
      "metadata": {
        "colab": {
          "base_uri": "https://localhost:8080/"
        },
        "id": "k3SS9lVTjR30",
        "outputId": "1fc3f5c6-f709-4b79-cb12-431e67bf2da8"
      },
      "execution_count": null,
      "outputs": [
        {
          "output_type": "execute_result",
          "data": {
            "text/plain": [
              "5"
            ]
          },
          "metadata": {},
          "execution_count": 23
        }
      ]
    },
    {
      "cell_type": "markdown",
      "source": [
        "set"
      ],
      "metadata": {
        "id": "vmYQZ_G2uPRc"
      }
    },
    {
      "cell_type": "code",
      "source": [
        "sorted(set(L))[-2]"
      ],
      "metadata": {
        "colab": {
          "base_uri": "https://localhost:8080/"
        },
        "id": "9zOT0L3tuMXR",
        "outputId": "8aff1ed6-dee2-4f94-c1b6-d40d70a7619b"
      },
      "execution_count": null,
      "outputs": [
        {
          "output_type": "execute_result",
          "data": {
            "text/plain": [
              "5"
            ]
          },
          "metadata": {},
          "execution_count": 28
        }
      ]
    },
    {
      "cell_type": "code",
      "source": [
        "a = list(set(L))\n",
        "a.sort()\n",
        "a[-2]"
      ],
      "metadata": {
        "colab": {
          "base_uri": "https://localhost:8080/"
        },
        "id": "LsWknkR0uObA",
        "outputId": "288fcb2c-a690-43d9-be60-5bbdee13ae37"
      },
      "execution_count": null,
      "outputs": [
        {
          "output_type": "execute_result",
          "data": {
            "text/plain": [
              "5"
            ]
          },
          "metadata": {},
          "execution_count": 30
        }
      ]
    },
    {
      "cell_type": "code",
      "source": [
        "set(L)[0]"
      ],
      "metadata": {
        "colab": {
          "base_uri": "https://localhost:8080/",
          "height": 164
        },
        "id": "ifcb03wGuOYd",
        "outputId": "ce119bf7-5115-4ae5-d4ea-157e4f0bcb50"
      },
      "execution_count": null,
      "outputs": [
        {
          "output_type": "error",
          "ename": "TypeError",
          "evalue": "ignored",
          "traceback": [
            "\u001b[0;31m---------------------------------------------------------------------------\u001b[0m",
            "\u001b[0;31mTypeError\u001b[0m                                 Traceback (most recent call last)",
            "\u001b[0;32m<ipython-input-31-3045a59531ed>\u001b[0m in \u001b[0;36m<module>\u001b[0;34m\u001b[0m\n\u001b[0;32m----> 1\u001b[0;31m \u001b[0mset\u001b[0m\u001b[0;34m(\u001b[0m\u001b[0mL\u001b[0m\u001b[0;34m)\u001b[0m\u001b[0;34m[\u001b[0m\u001b[0;36m0\u001b[0m\u001b[0;34m]\u001b[0m\u001b[0;34m\u001b[0m\u001b[0;34m\u001b[0m\u001b[0m\n\u001b[0m",
            "\u001b[0;31mTypeError\u001b[0m: 'set' object is not subscriptable"
          ]
        }
      ]
    },
    {
      "cell_type": "markdown",
      "source": [
        "since set data strucuture doesnot have concept of order or indexing. More detail in upcoming lecture>"
      ],
      "metadata": {
        "id": "NkM8LxZDLCLG"
      }
    },
    {
      "cell_type": "markdown",
      "source": [
        "### Quest 3: Ceil and floor"
      ],
      "metadata": {
        "id": "DaCE9V-Uv1Q9"
      }
    },
    {
      "cell_type": "code",
      "source": [
        "A = [-2, 4, 8, 9]\n",
        "B = 3\n",
        "\n",
        "# floor = just_smaller\n",
        "# ceil = just_greater\n",
        "\n",
        "\n",
        "for element in A:\n",
        "    if element>=B:\n",
        "      break\n",
        "ceil = (element)\n",
        "ceil"
      ],
      "metadata": {
        "colab": {
          "base_uri": "https://localhost:8080/"
        },
        "id": "RLkexE2tuOWB",
        "outputId": "67e52b13-39ae-4179-d7c5-110485f27148"
      },
      "execution_count": null,
      "outputs": [
        {
          "output_type": "execute_result",
          "data": {
            "text/plain": [
              "4"
            ]
          },
          "metadata": {},
          "execution_count": 39
        }
      ]
    },
    {
      "cell_type": "code",
      "source": [
        "floor= A[A.index(element)-1]\n",
        "floor"
      ],
      "metadata": {
        "colab": {
          "base_uri": "https://localhost:8080/"
        },
        "id": "EqnXwjcVwrwO",
        "outputId": "094058cc-97f0-4353-b2f0-677dd2984eec"
      },
      "execution_count": null,
      "outputs": [
        {
          "output_type": "execute_result",
          "data": {
            "text/plain": [
              "-2"
            ]
          },
          "metadata": {},
          "execution_count": 40
        }
      ]
    },
    {
      "cell_type": "code",
      "source": [
        "B=4\n",
        "A = [-2, 4, 8, 9]\n",
        "\n",
        "\n",
        "for index in range(len(A)):     \n",
        "    if A[index]>=B:\n",
        "      break\n",
        "\n",
        "ceil = (A[index])\n",
        "if ceil==B:\n",
        "  floor =ceil\n",
        "else:\n",
        "  floor = A[index-1]\n",
        "\n",
        "print(ceil, floor)"
      ],
      "metadata": {
        "colab": {
          "base_uri": "https://localhost:8080/"
        },
        "id": "2C9opxPRuOTr",
        "outputId": "794e64d3-bb8b-4b8b-df40-a5a75a6c730c"
      },
      "execution_count": null,
      "outputs": [
        {
          "output_type": "stream",
          "name": "stdout",
          "text": [
            "4 4\n"
          ]
        }
      ]
    },
    {
      "cell_type": "markdown",
      "source": [
        "steps of executioon\n",
        "\n",
        "1. index = 0\n",
        "  if A[1]>=4:\n",
        "    break\n",
        "\n",
        "index=1\n",
        "ceil= (A[1])\n",
        "floor= A[0])\n",
        "\n",
        "    "
      ],
      "metadata": {
        "id": "T79K0LskxsVN"
      }
    },
    {
      "cell_type": "markdown",
      "source": [
        "\n",
        "Homework\n",
        "1. What if list is not sorted?\n",
        "\n",
        "Hint: calculate distance between Target and every single element\n",
        "\n",
        "- A = [-2, 4, 8, 9, 0]\n",
        "- Target = 3\n",
        "- distance = [-2-3, 4-3, 8-3, 9-3, 0-3]\n",
        "- ceil would be least positive distance\n",
        "- floor least neagative distance\n",
        "\n",
        "\n",
        "2. What if i pass -10 or +20\n",
        "    - -10:\n",
        "      - floor = -inf\n",
        "      -ceil = -2\n",
        "\n"
      ],
      "metadata": {
        "id": "HUXjwVD0y_FR"
      }
    },
    {
      "cell_type": "markdown",
      "source": [
        "### Inverse of Array"
      ],
      "metadata": {
        "id": "HhCv-r900wB2"
      }
    },
    {
      "cell_type": "code",
      "source": [
        "A = [2, 0, 1]\n",
        "\n",
        "# [1, 2, 0]\n",
        "# Note - The inverse of the array means the array elements are swapped with their corresponding indices.\n",
        "[1, 2, 0]\n",
        "\n",
        "\n",
        "reverse_list = []\n",
        "for i in range(len(A)): # n elements\n",
        "  element = A.index(i)  # scans over all n elements\n",
        "  reverse_list.append(element)\n",
        "\n",
        "reverse_list\n"
      ],
      "metadata": {
        "colab": {
          "base_uri": "https://localhost:8080/"
        },
        "id": "yBXvfe2GuORE",
        "outputId": "8da03134-2e6a-4a8f-ace2-05e0b4230573"
      },
      "execution_count": null,
      "outputs": [
        {
          "output_type": "execute_result",
          "data": {
            "text/plain": [
              "[1, 2, 0]"
            ]
          },
          "metadata": {},
          "execution_count": 50
        }
      ]
    },
    {
      "cell_type": "code",
      "source": [
        "[A.index(i) for i in range(len(A))]"
      ],
      "metadata": {
        "colab": {
          "base_uri": "https://localhost:8080/"
        },
        "id": "FA5ktUpw8CU_",
        "outputId": "8a91d850-3cef-4c41-f2b9-8af569101bba"
      },
      "execution_count": null,
      "outputs": [
        {
          "output_type": "execute_result",
          "data": {
            "text/plain": [
              "[1, 2, 0]"
            ]
          },
          "metadata": {},
          "execution_count": 65
        }
      ]
    },
    {
      "cell_type": "markdown",
      "source": [
        "- not efficient\n",
        "time-implexity: N*N=N^2"
      ],
      "metadata": {
        "id": "GafyHYqB2K6f"
      }
    },
    {
      "cell_type": "markdown",
      "source": [],
      "metadata": {
        "id": "7x4e2gAa2gtl"
      }
    },
    {
      "cell_type": "code",
      "source": [
        "A = [2, 0, 1]\n",
        "\n",
        "#[1, 2, 0]"
      ],
      "metadata": {
        "id": "0rixubWc2j9W"
      },
      "execution_count": null,
      "outputs": []
    },
    {
      "cell_type": "code",
      "source": [
        "rev_list = [0,0,0]\n",
        "\n",
        "rev_list[2]=0\n",
        "\n",
        "rev_list[0]=1\n",
        "\n",
        "\n",
        "rev_list[1]= 2\n",
        "\n",
        "print(rev_list)"
      ],
      "metadata": {
        "colab": {
          "base_uri": "https://localhost:8080/"
        },
        "id": "56QZbgUs2k9z",
        "outputId": "540e5686-af14-4e88-dba9-5097e5f3e890"
      },
      "execution_count": null,
      "outputs": [
        {
          "output_type": "stream",
          "name": "stdout",
          "text": [
            "[1, 2, 0]\n"
          ]
        }
      ]
    },
    {
      "cell_type": "code",
      "source": [
        "rev_list = [0]*len(A)\n",
        "\n",
        "for i in range(len(A)):\n",
        "  rev_list[A[i]]=i\n",
        "\n",
        "print(rev_list)"
      ],
      "metadata": {
        "colab": {
          "base_uri": "https://localhost:8080/"
        },
        "id": "ISDtALDz3h3l",
        "outputId": "be2ad13d-ecff-40eb-d900-e9283f4c79d0"
      },
      "execution_count": null,
      "outputs": [
        {
          "output_type": "stream",
          "name": "stdout",
          "text": [
            "[1, 2, 0]\n"
          ]
        }
      ]
    },
    {
      "cell_type": "markdown",
      "source": [
        "- time-complexity : N"
      ],
      "metadata": {
        "id": "7cA6pwKn5V_e"
      }
    },
    {
      "cell_type": "code",
      "source": [
        "A = [2, 0, 1]\n",
        "rev_list = [0]*len(A)\n",
        "\n",
        "for i in range(len(A)):\n",
        "  print(A[i], i)\n",
        "  element = A[i]\n",
        "  index = i\n",
        "  rev_list[element] = index\n",
        "  print(rev_list)\n"
      ],
      "metadata": {
        "colab": {
          "base_uri": "https://localhost:8080/"
        },
        "id": "Fi4gtlKv6gQk",
        "outputId": "34e47c99-7fca-4eba-90ab-ef4633b0f837"
      },
      "execution_count": null,
      "outputs": [
        {
          "output_type": "stream",
          "name": "stdout",
          "text": [
            "2 0\n",
            "[0, 0, 0]\n",
            "0 1\n",
            "[1, 0, 0]\n",
            "1 2\n",
            "[1, 2, 0]\n"
          ]
        }
      ]
    },
    {
      "cell_type": "code",
      "source": [
        "\"\""
      ],
      "metadata": {
        "colab": {
          "base_uri": "https://localhost:8080/"
        },
        "id": "qijbHDGz2k7J",
        "outputId": "70a9c81e-a6e9-4e3d-a292-7585f82c1ba3"
      },
      "execution_count": null,
      "outputs": [
        {
          "output_type": "execute_result",
          "data": {
            "text/plain": [
              "[0, 0, 0, 0, 0]"
            ]
          },
          "metadata": {},
          "execution_count": 56
        }
      ]
    },
    {
      "cell_type": "code",
      "source": [],
      "metadata": {
        "id": "Mx540rip2k4i"
      },
      "execution_count": null,
      "outputs": []
    },
    {
      "cell_type": "code",
      "source": [],
      "metadata": {
        "id": "cNkuWZwV2k1m"
      },
      "execution_count": null,
      "outputs": []
    },
    {
      "cell_type": "markdown",
      "source": [
        "### list comprehension\n",
        "\n",
        "- used for replacing loops and reducing lines in code"
      ],
      "metadata": {
        "id": "Ywg3Om0N61Tm"
      }
    },
    {
      "cell_type": "code",
      "source": [
        "list1 = [1, 300, 5]\n",
        "\n",
        "list_squares = []\n",
        "for i in list1:\n",
        "  list_squares.append(i**2)\n",
        "\n",
        "list_squares"
      ],
      "metadata": {
        "colab": {
          "base_uri": "https://localhost:8080/"
        },
        "id": "eN61e4i0uOOg",
        "outputId": "85163077-fc4c-47bf-ce04-dad4437d126d"
      },
      "execution_count": null,
      "outputs": [
        {
          "output_type": "execute_result",
          "data": {
            "text/plain": [
              "[1, 90000, 25]"
            ]
          },
          "metadata": {},
          "execution_count": 62
        }
      ]
    },
    {
      "cell_type": "code",
      "source": [
        "list_squares = [i**2 for i in list1]\n",
        "list_squares"
      ],
      "metadata": {
        "colab": {
          "base_uri": "https://localhost:8080/"
        },
        "id": "UNcSCsqJ7L6N",
        "outputId": "d2ad1497-65fb-4e21-87b7-e9ae2611dc5d"
      },
      "execution_count": null,
      "outputs": [
        {
          "output_type": "execute_result",
          "data": {
            "text/plain": [
              "[1, 90000, 25]"
            ]
          },
          "metadata": {},
          "execution_count": 63
        }
      ]
    },
    {
      "cell_type": "code",
      "source": [
        "[i*10 for i in list1]"
      ],
      "metadata": {
        "colab": {
          "base_uri": "https://localhost:8080/"
        },
        "id": "m9myedSb7L3Y",
        "outputId": "40efb44f-d0cd-4f17-8dd7-81800cf60edc"
      },
      "execution_count": null,
      "outputs": [
        {
          "output_type": "execute_result",
          "data": {
            "text/plain": [
              "[10, 3000, 50]"
            ]
          },
          "metadata": {},
          "execution_count": 64
        }
      ]
    },
    {
      "cell_type": "code",
      "source": [],
      "metadata": {
        "id": "xU9eaweu7L0Z"
      },
      "execution_count": null,
      "outputs": []
    },
    {
      "cell_type": "code",
      "source": [],
      "metadata": {
        "id": "nqmW3Y307Lxo"
      },
      "execution_count": null,
      "outputs": []
    },
    {
      "cell_type": "code",
      "source": [],
      "metadata": {
        "id": "r5DLedj67Luy"
      },
      "execution_count": null,
      "outputs": []
    },
    {
      "cell_type": "code",
      "source": [],
      "metadata": {
        "id": "bWeBy4SP7Lrl"
      },
      "execution_count": null,
      "outputs": []
    },
    {
      "cell_type": "code",
      "source": [],
      "metadata": {
        "id": "n7-GQzB2jR1P"
      },
      "execution_count": null,
      "outputs": []
    },
    {
      "cell_type": "code",
      "source": [
        "a='1','2','3'.split(' ') #incorrect format"
      ],
      "metadata": {
        "id": "ledZO_evciJB"
      },
      "execution_count": null,
      "outputs": []
    },
    {
      "cell_type": "code",
      "source": [
        "a = input()\n",
        "a.split(\" \")"
      ],
      "metadata": {
        "colab": {
          "base_uri": "https://localhost:8080/"
        },
        "id": "AUfWKvnTikVB",
        "outputId": "50387e82-9b73-4dd5-d232-ea56997926cf"
      },
      "execution_count": null,
      "outputs": [
        {
          "name": "stdout",
          "output_type": "stream",
          "text": [
            "'1','2','3'\n"
          ]
        },
        {
          "output_type": "execute_result",
          "data": {
            "text/plain": [
              "[\"'1','2','3'\"]"
            ]
          },
          "metadata": {},
          "execution_count": 41
        }
      ]
    },
    {
      "cell_type": "code",
      "source": [
        "for element in a.split(\", \"):\n",
        "  print(element.split(\",\"))"
      ],
      "metadata": {
        "colab": {
          "base_uri": "https://localhost:8080/"
        },
        "id": "N8_ZAdohilky",
        "outputId": "213b2bcb-da27-451d-f0db-ad3d001150fc"
      },
      "execution_count": null,
      "outputs": [
        {
          "output_type": "stream",
          "name": "stdout",
          "text": [
            "[\"'1'\", \"'2'\", \"'3'\"]\n"
          ]
        }
      ]
    },
    {
      "cell_type": "code",
      "source": [],
      "metadata": {
        "id": "LqTL6S0hiuKY"
      },
      "execution_count": null,
      "outputs": []
    }
  ]
}