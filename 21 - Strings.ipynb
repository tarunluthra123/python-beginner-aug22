{
 "cells": [
  {
   "cell_type": "markdown",
   "id": "0b460c5c",
   "metadata": {},
   "source": [
    "# Strings\n",
    "![](https://scaler.com/topics/images/characters-of-a-string-in-python-1024x483.webp)"
   ]
  },
  {
   "cell_type": "code",
   "execution_count": 1,
   "id": "5babe6ab",
   "metadata": {},
   "outputs": [
    {
     "name": "stdout",
     "output_type": "stream",
     "text": [
      "hello world <class 'str'>\n"
     ]
    }
   ],
   "source": [
    "s = \"hello world\"\n",
    "print(s, type(s))"
   ]
  },
  {
   "cell_type": "code",
   "execution_count": 2,
   "id": "6c5aa218",
   "metadata": {},
   "outputs": [
    {
     "name": "stdout",
     "output_type": "stream",
     "text": [
      "welcome how are you <class 'str'>\n"
     ]
    }
   ],
   "source": [
    "t = 'welcome how are you'\n",
    "print(t, type(t))"
   ]
  },
  {
   "cell_type": "code",
   "execution_count": null,
   "id": "a44b77f8",
   "metadata": {},
   "outputs": [],
   "source": []
  },
  {
   "cell_type": "markdown",
   "id": "f194b2dc",
   "metadata": {},
   "source": [
    "A sequence of characters"
   ]
  },
  {
   "cell_type": "code",
   "execution_count": null,
   "id": "8cac27b4",
   "metadata": {},
   "outputs": [],
   "source": []
  },
  {
   "cell_type": "code",
   "execution_count": null,
   "id": "5f443b44",
   "metadata": {},
   "outputs": [],
   "source": []
  },
  {
   "cell_type": "markdown",
   "id": "448bd38f",
   "metadata": {},
   "source": [
    "### Multiline String\n",
    "![](https://scaler.com/topics/images/python-multiline-string.webp)"
   ]
  },
  {
   "cell_type": "code",
   "execution_count": 3,
   "id": "420ca29d",
   "metadata": {},
   "outputs": [
    {
     "name": "stdout",
     "output_type": "stream",
     "text": [
      "\n",
      "This is \n",
      "a very\n",
      "very huge\n",
      "paragraph\n",
      "\n"
     ]
    }
   ],
   "source": [
    "# Triple quotes\n",
    "s = '''\n",
    "This is \n",
    "a very\n",
    "very huge\n",
    "paragraph\n",
    "'''\n",
    "print(s)"
   ]
  },
  {
   "cell_type": "code",
   "execution_count": 5,
   "id": "1cea27a9",
   "metadata": {},
   "outputs": [
    {
     "name": "stdout",
     "output_type": "stream",
     "text": [
      "\n",
      "This is also\n",
      "a very\n",
      "very huge\n",
      "paragraph\n",
      " <class 'str'>\n"
     ]
    }
   ],
   "source": [
    "t = \"\"\"\n",
    "This is also\n",
    "a very\n",
    "very huge\n",
    "paragraph\n",
    "\"\"\"\n",
    "print(t, type(t))"
   ]
  },
  {
   "cell_type": "markdown",
   "id": "3ba9d05a",
   "metadata": {},
   "source": [
    "We used multiline strings as docstrings"
   ]
  },
  {
   "cell_type": "code",
   "execution_count": null,
   "id": "957e849f",
   "metadata": {},
   "outputs": [],
   "source": []
  },
  {
   "cell_type": "code",
   "execution_count": null,
   "id": "c8cb23a8",
   "metadata": {},
   "outputs": [],
   "source": []
  },
  {
   "cell_type": "markdown",
   "id": "706c6b74",
   "metadata": {},
   "source": [
    "### Length\n",
    "<img src=\"https://scaler.com/topics/images/length-of-an-array-in-c_thumbnail.webp\" width=\"350px\" />"
   ]
  },
  {
   "cell_type": "code",
   "execution_count": 6,
   "id": "2de69cd7",
   "metadata": {},
   "outputs": [
    {
     "name": "stdout",
     "output_type": "stream",
     "text": [
      "11\n"
     ]
    }
   ],
   "source": [
    "s = \"hello world\"\n",
    "print(len(s))"
   ]
  },
  {
   "cell_type": "code",
   "execution_count": null,
   "id": "ba95b903",
   "metadata": {},
   "outputs": [],
   "source": []
  },
  {
   "cell_type": "code",
   "execution_count": null,
   "id": "93ebb1bb",
   "metadata": {},
   "outputs": [],
   "source": []
  },
  {
   "cell_type": "markdown",
   "id": "e7acf058",
   "metadata": {},
   "source": [
    "## Indexing"
   ]
  },
  {
   "cell_type": "code",
   "execution_count": 7,
   "id": "67e989e0",
   "metadata": {},
   "outputs": [
    {
     "name": "stdout",
     "output_type": "stream",
     "text": [
      "b\n"
     ]
    }
   ],
   "source": [
    "s = \"abcdefghi\"\n",
    "print(s[1])"
   ]
  },
  {
   "cell_type": "code",
   "execution_count": 9,
   "id": "159593f4",
   "metadata": {},
   "outputs": [
    {
     "name": "stdout",
     "output_type": "stream",
     "text": [
      " \n",
      "5\n"
     ]
    }
   ],
   "source": [
    "s = \"a  bc\" # 2 spaces between a & b\n",
    "print(s[2]) # space\n",
    "print(len(s))"
   ]
  },
  {
   "cell_type": "code",
   "execution_count": null,
   "id": "cdf1be89",
   "metadata": {},
   "outputs": [],
   "source": [
    "s = \"abc 789789345 &*(#%#%) SDFHGSDFGHDF \""
   ]
  },
  {
   "cell_type": "code",
   "execution_count": null,
   "id": "27f0ee9f",
   "metadata": {},
   "outputs": [],
   "source": []
  },
  {
   "cell_type": "code",
   "execution_count": 10,
   "id": "6f138304",
   "metadata": {},
   "outputs": [
    {
     "name": "stdout",
     "output_type": "stream",
     "text": [
      "a\n",
      "d\n"
     ]
    },
    {
     "ename": "IndexError",
     "evalue": "string index out of range",
     "output_type": "error",
     "traceback": [
      "\u001b[0;31m---------------------------------------------------------------------------\u001b[0m",
      "\u001b[0;31mIndexError\u001b[0m                                Traceback (most recent call last)",
      "\u001b[0;32m/var/folders/jn/1bsrct314hv5xmfm7vrcdrzc0000gn/T/ipykernel_31099/2109521688.py\u001b[0m in \u001b[0;36m<module>\u001b[0;34m\u001b[0m\n\u001b[1;32m      2\u001b[0m \u001b[0mprint\u001b[0m\u001b[0;34m(\u001b[0m\u001b[0ms\u001b[0m\u001b[0;34m[\u001b[0m\u001b[0;36m0\u001b[0m\u001b[0;34m]\u001b[0m\u001b[0;34m)\u001b[0m \u001b[0;31m# a\u001b[0m\u001b[0;34m\u001b[0m\u001b[0;34m\u001b[0m\u001b[0m\n\u001b[1;32m      3\u001b[0m \u001b[0mprint\u001b[0m\u001b[0;34m(\u001b[0m\u001b[0ms\u001b[0m\u001b[0;34m[\u001b[0m\u001b[0;36m3\u001b[0m\u001b[0;34m]\u001b[0m\u001b[0;34m)\u001b[0m \u001b[0;31m# d\u001b[0m\u001b[0;34m\u001b[0m\u001b[0;34m\u001b[0m\u001b[0m\n\u001b[0;32m----> 4\u001b[0;31m \u001b[0mprint\u001b[0m\u001b[0;34m(\u001b[0m\u001b[0ms\u001b[0m\u001b[0;34m[\u001b[0m\u001b[0;36m10\u001b[0m\u001b[0;34m]\u001b[0m\u001b[0;34m)\u001b[0m \u001b[0;31m# error\u001b[0m\u001b[0;34m\u001b[0m\u001b[0;34m\u001b[0m\u001b[0m\n\u001b[0m",
      "\u001b[0;31mIndexError\u001b[0m: string index out of range"
     ]
    }
   ],
   "source": [
    "s = \"abcd\"\n",
    "print(s[0]) # a\n",
    "print(s[3]) # d\n",
    "print(s[10]) # error"
   ]
  },
  {
   "cell_type": "code",
   "execution_count": 11,
   "id": "ff54d21e",
   "metadata": {},
   "outputs": [
    {
     "name": "stdout",
     "output_type": "stream",
     "text": [
      "d\n",
      "b\n"
     ]
    }
   ],
   "source": [
    "print(s[-1]) # d\n",
    "print(s[-3]) # b"
   ]
  },
  {
   "cell_type": "code",
   "execution_count": null,
   "id": "6d713ce7",
   "metadata": {},
   "outputs": [],
   "source": []
  },
  {
   "cell_type": "code",
   "execution_count": null,
   "id": "7475e9d2",
   "metadata": {},
   "outputs": [],
   "source": []
  },
  {
   "cell_type": "markdown",
   "id": "42e2bacf",
   "metadata": {},
   "source": [
    "#### Quiz 1\n",
    "Which of the following is a valid string?  \n",
    "a) \"Rahul#'  \n",
    "b) \"@rahul\"  \n",
    "c) 'Tuna123\""
   ]
  },
  {
   "cell_type": "code",
   "execution_count": 12,
   "id": "0b588a92",
   "metadata": {},
   "outputs": [
    {
     "ename": "SyntaxError",
     "evalue": "EOL while scanning string literal (4048244430.py, line 1)",
     "output_type": "error",
     "traceback": [
      "\u001b[0;36m  File \u001b[0;32m\"/var/folders/jn/1bsrct314hv5xmfm7vrcdrzc0000gn/T/ipykernel_31099/4048244430.py\"\u001b[0;36m, line \u001b[0;32m1\u001b[0m\n\u001b[0;31m    a = \"Rahul#'\u001b[0m\n\u001b[0m                ^\u001b[0m\n\u001b[0;31mSyntaxError\u001b[0m\u001b[0;31m:\u001b[0m EOL while scanning string literal\n"
     ]
    }
   ],
   "source": [
    "a = \"Rahul#'\n",
    "# starts from double quotes, end at single quote"
   ]
  },
  {
   "cell_type": "code",
   "execution_count": 13,
   "id": "2bb3d377",
   "metadata": {},
   "outputs": [],
   "source": [
    "b = \"@rahul\""
   ]
  },
  {
   "cell_type": "code",
   "execution_count": 14,
   "id": "c72cb24d",
   "metadata": {},
   "outputs": [
    {
     "ename": "SyntaxError",
     "evalue": "EOL while scanning string literal (1677780572.py, line 1)",
     "output_type": "error",
     "traceback": [
      "\u001b[0;36m  File \u001b[0;32m\"/var/folders/jn/1bsrct314hv5xmfm7vrcdrzc0000gn/T/ipykernel_31099/1677780572.py\"\u001b[0;36m, line \u001b[0;32m1\u001b[0m\n\u001b[0;31m    c = 'Tuna123\"\u001b[0m\n\u001b[0m                 ^\u001b[0m\n\u001b[0;31mSyntaxError\u001b[0m\u001b[0;31m:\u001b[0m EOL while scanning string literal\n"
     ]
    }
   ],
   "source": [
    "c = 'Tuna123\"\n",
    "# starts from single quote, end at double quotes"
   ]
  },
  {
   "cell_type": "code",
   "execution_count": null,
   "id": "9df7fceb",
   "metadata": {},
   "outputs": [],
   "source": []
  },
  {
   "cell_type": "code",
   "execution_count": null,
   "id": "72557e2e",
   "metadata": {},
   "outputs": [],
   "source": []
  },
  {
   "cell_type": "markdown",
   "id": "a6134861",
   "metadata": {},
   "source": [
    "#### Quiz 2\n",
    "```py\n",
    "print(100 == \"100\")\n",
    "```"
   ]
  },
  {
   "cell_type": "code",
   "execution_count": 15,
   "id": "c0100c5d",
   "metadata": {},
   "outputs": [
    {
     "name": "stdout",
     "output_type": "stream",
     "text": [
      "False\n"
     ]
    }
   ],
   "source": [
    "print(100 == \"100\")"
   ]
  },
  {
   "cell_type": "code",
   "execution_count": null,
   "id": "2f45bf75",
   "metadata": {},
   "outputs": [],
   "source": []
  },
  {
   "cell_type": "code",
   "execution_count": null,
   "id": "af820c52",
   "metadata": {},
   "outputs": [],
   "source": [
    " "
   ]
  },
  {
   "cell_type": "markdown",
   "id": "cad6b9c1",
   "metadata": {},
   "source": [
    "#### Quiz 3 \n",
    "```py\n",
    "l = [\"sahil\", \"bansal\"]\n",
    "\n",
    "print(l[0][-1])\n",
    "```"
   ]
  },
  {
   "cell_type": "code",
   "execution_count": 20,
   "id": "d55619cd",
   "metadata": {},
   "outputs": [
    {
     "name": "stdout",
     "output_type": "stream",
     "text": [
      "l\n"
     ]
    }
   ],
   "source": [
    "l = [\"sahil\", \"bansal\"]\n",
    "\n",
    "print(l[0][-1])\n",
    "# \"sahil\"[-1]"
   ]
  },
  {
   "cell_type": "code",
   "execution_count": null,
   "id": "e7f0ed9a",
   "metadata": {},
   "outputs": [],
   "source": []
  },
  {
   "cell_type": "markdown",
   "id": "3b52f330",
   "metadata": {},
   "source": [
    "#### Question\n",
    "Given a string, print its characters line by line. \\\n",
    "S = \"INDIA\" \n",
    "\n",
    "Output:\n",
    "```\n",
    "I\n",
    "N\n",
    "D\n",
    "I\n",
    "A\n",
    "```"
   ]
  },
  {
   "cell_type": "code",
   "execution_count": null,
   "id": "2312514c",
   "metadata": {},
   "outputs": [],
   "source": []
  },
  {
   "cell_type": "code",
   "execution_count": null,
   "id": "952d8cd4",
   "metadata": {},
   "outputs": [],
   "source": []
  },
  {
   "cell_type": "markdown",
   "id": "1a4e5734",
   "metadata": {},
   "source": [
    "### Iterating over a string"
   ]
  },
  {
   "cell_type": "code",
   "execution_count": 21,
   "id": "cb1c76a5",
   "metadata": {},
   "outputs": [
    {
     "name": "stdout",
     "output_type": "stream",
     "text": [
      "I\n",
      "N\n",
      "D\n",
      "I\n",
      "A\n"
     ]
    }
   ],
   "source": [
    "# Strings are also iterable\n",
    "s = \"INDIA\"\n",
    "\n",
    "for ch in s:\n",
    "    print(ch)"
   ]
  },
  {
   "cell_type": "code",
   "execution_count": null,
   "id": "84da8ff4",
   "metadata": {},
   "outputs": [],
   "source": []
  },
  {
   "cell_type": "code",
   "execution_count": 23,
   "id": "524ba931",
   "metadata": {},
   "outputs": [
    {
     "name": "stdout",
     "output_type": "stream",
     "text": [
      "I,N,D,I,A,"
     ]
    }
   ],
   "source": [
    "# Print all characters separated by a comma\n",
    "\n",
    "s = \"INDIA\"\n",
    "\n",
    "for ch in s:\n",
    "    print(ch, end=',')"
   ]
  },
  {
   "cell_type": "code",
   "execution_count": null,
   "id": "b82ff8bc",
   "metadata": {},
   "outputs": [],
   "source": []
  },
  {
   "cell_type": "code",
   "execution_count": 22,
   "id": "9b1faff5",
   "metadata": {},
   "outputs": [
    {
     "name": "stdout",
     "output_type": "stream",
     "text": [
      "INDIA\n"
     ]
    }
   ],
   "source": [
    "print(s)"
   ]
  },
  {
   "cell_type": "code",
   "execution_count": null,
   "id": "4700a3e9",
   "metadata": {},
   "outputs": [],
   "source": []
  },
  {
   "cell_type": "code",
   "execution_count": null,
   "id": "ed1fcee8",
   "metadata": {},
   "outputs": [],
   "source": []
  },
  {
   "cell_type": "code",
   "execution_count": null,
   "id": "14b50e68",
   "metadata": {},
   "outputs": [],
   "source": []
  },
  {
   "cell_type": "markdown",
   "id": "b2627929",
   "metadata": {},
   "source": [
    "## String Concatenation\n",
    "![](https://scaler.com/topics/images/string-concatenation-in-python.webp)"
   ]
  },
  {
   "cell_type": "code",
   "execution_count": 25,
   "id": "eef9fe7d",
   "metadata": {},
   "outputs": [
    {
     "name": "stdout",
     "output_type": "stream",
     "text": [
      "Tarun Luthra\n"
     ]
    }
   ],
   "source": [
    "first = \"Tarun\"\n",
    "last = \"Luthra\"\n",
    "\n",
    "fullname = first + \" \" + last\n",
    "print(fullname)"
   ]
  },
  {
   "cell_type": "code",
   "execution_count": null,
   "id": "5a16f511",
   "metadata": {},
   "outputs": [],
   "source": []
  },
  {
   "cell_type": "code",
   "execution_count": 26,
   "id": "37a083ec",
   "metadata": {},
   "outputs": [
    {
     "name": "stdout",
     "output_type": "stream",
     "text": [
      "hellohello\n"
     ]
    }
   ],
   "source": [
    "a = \"hello\" * 2\n",
    "print(a)"
   ]
  },
  {
   "cell_type": "code",
   "execution_count": 29,
   "id": "9f4b2f0d",
   "metadata": {},
   "outputs": [
    {
     "name": "stdout",
     "output_type": "stream",
     "text": [
      "okokokokok\n"
     ]
    }
   ],
   "source": [
    "b = \"ok\" * 5\n",
    "print(b)"
   ]
  },
  {
   "cell_type": "code",
   "execution_count": null,
   "id": "7d082c41",
   "metadata": {},
   "outputs": [],
   "source": []
  },
  {
   "cell_type": "markdown",
   "id": "770a60a9",
   "metadata": {},
   "source": [
    "### Stair Pattern\n",
    "\n",
    "N =4\n",
    "```\n",
    "*\n",
    "* *\n",
    "* * *\n",
    "* * * *\n",
    "```"
   ]
  },
  {
   "cell_type": "code",
   "execution_count": 31,
   "id": "60a174b7",
   "metadata": {},
   "outputs": [
    {
     "name": "stdout",
     "output_type": "stream",
     "text": [
      "* \n",
      "* * \n",
      "* * * \n",
      "* * * * \n"
     ]
    }
   ],
   "source": [
    "# Solve it with one loop only\n",
    "N = 4\n",
    "\n",
    "for i in range(1, N+1):\n",
    "    print(\"* \" * i)"
   ]
  },
  {
   "cell_type": "code",
   "execution_count": null,
   "id": "69e1561c",
   "metadata": {},
   "outputs": [],
   "source": []
  },
  {
   "cell_type": "code",
   "execution_count": null,
   "id": "f72ab239",
   "metadata": {},
   "outputs": [],
   "source": []
  },
  {
   "cell_type": "markdown",
   "id": "aa0a0f91",
   "metadata": {},
   "source": [
    "#### Quiz 4\n",
    "What will be printed by the following code when it executes?\n",
    "\n",
    "```py\n",
    "city = \"Phoenix\"\n",
    "print(len(city*3))\n",
    "```"
   ]
  },
  {
   "cell_type": "code",
   "execution_count": 32,
   "id": "8d1d1034",
   "metadata": {},
   "outputs": [
    {
     "name": "stdout",
     "output_type": "stream",
     "text": [
      "21\n"
     ]
    }
   ],
   "source": [
    "city = \"Phoenix\"\n",
    "print(len(city*3))"
   ]
  },
  {
   "cell_type": "code",
   "execution_count": 33,
   "id": "b280a135",
   "metadata": {},
   "outputs": [
    {
     "data": {
      "text/plain": [
       "'PhoenixPhoenixPhoenix'"
      ]
     },
     "execution_count": 33,
     "metadata": {},
     "output_type": "execute_result"
    }
   ],
   "source": [
    "city*3"
   ]
  },
  {
   "cell_type": "code",
   "execution_count": null,
   "id": "bcfb7b41",
   "metadata": {},
   "outputs": [],
   "source": []
  },
  {
   "cell_type": "code",
   "execution_count": null,
   "id": "51a613bf",
   "metadata": {},
   "outputs": [],
   "source": []
  },
  {
   "cell_type": "code",
   "execution_count": null,
   "id": "52700360",
   "metadata": {},
   "outputs": [],
   "source": []
  },
  {
   "cell_type": "markdown",
   "id": "0365addf",
   "metadata": {},
   "source": [
    "## String slicing\n"
   ]
  },
  {
   "cell_type": "markdown",
   "id": "23e897e5",
   "metadata": {},
   "source": [
    "The exact same rules of list slicing applies to strings as well. "
   ]
  },
  {
   "cell_type": "code",
   "execution_count": 34,
   "id": "c96a175f",
   "metadata": {},
   "outputs": [
    {
     "name": "stdout",
     "output_type": "stream",
     "text": [
      "bc\n"
     ]
    }
   ],
   "source": [
    "s = \"abcdef\"\n",
    "print(s[1:3])"
   ]
  },
  {
   "cell_type": "code",
   "execution_count": 35,
   "id": "d92ee054",
   "metadata": {},
   "outputs": [
    {
     "name": "stdout",
     "output_type": "stream",
     "text": [
      "edcba\n"
     ]
    }
   ],
   "source": [
    "print(s[4::-1])"
   ]
  },
  {
   "cell_type": "code",
   "execution_count": 36,
   "id": "9ca6d85d",
   "metadata": {},
   "outputs": [
    {
     "name": "stdout",
     "output_type": "stream",
     "text": [
      "fedcba\n"
     ]
    }
   ],
   "source": [
    "print(s[::-1])"
   ]
  },
  {
   "cell_type": "code",
   "execution_count": null,
   "id": "8fe95b89",
   "metadata": {},
   "outputs": [],
   "source": []
  },
  {
   "cell_type": "markdown",
   "id": "8ed6bf07",
   "metadata": {},
   "source": [
    "#### Quiz 5\n",
    "What is the return value of the function call `mystery(\"abracadabra\")`?  \n",
    "  \n",
    "\n",
    "```py\n",
    "def mystery(s):\n",
    "  i = len(s)//2\n",
    "  a = s[:i]\n",
    "  b = s[i:]\n",
    "  return a+ b\n",
    "```"
   ]
  },
  {
   "cell_type": "code",
   "execution_count": 39,
   "id": "832d868a",
   "metadata": {},
   "outputs": [
    {
     "name": "stdout",
     "output_type": "stream",
     "text": [
      "abrac\n",
      "adabra\n"
     ]
    },
    {
     "data": {
      "text/plain": [
       "'abracadabra'"
      ]
     },
     "execution_count": 39,
     "metadata": {},
     "output_type": "execute_result"
    }
   ],
   "source": [
    "def mystery(s):\n",
    "    i = len(s)//2 # 5\n",
    "    a = s[:i] # abrac\n",
    "    print(a)\n",
    "    b = s[i:] # adabra\n",
    "    print(b)\n",
    "    return a+ b\n",
    "\n",
    "mystery(\"abracadabra\")"
   ]
  },
  {
   "cell_type": "code",
   "execution_count": 37,
   "id": "1094c7bd",
   "metadata": {},
   "outputs": [
    {
     "data": {
      "text/plain": [
       "11"
      ]
     },
     "execution_count": 37,
     "metadata": {},
     "output_type": "execute_result"
    }
   ],
   "source": [
    "len(\"abracadabra\")"
   ]
  },
  {
   "cell_type": "code",
   "execution_count": null,
   "id": "defce357",
   "metadata": {},
   "outputs": [],
   "source": []
  },
  {
   "cell_type": "markdown",
   "id": "3bd28677",
   "metadata": {},
   "source": [
    "### Check Palindrome\n",
    "Given a string, check if it is Palindromic"
   ]
  },
  {
   "cell_type": "code",
   "execution_count": 40,
   "id": "534ba5e6",
   "metadata": {},
   "outputs": [],
   "source": [
    "def checkPalindrome(s):\n",
    "    return s == s[::-1]"
   ]
  },
  {
   "cell_type": "code",
   "execution_count": 41,
   "id": "d589ce71",
   "metadata": {},
   "outputs": [
    {
     "data": {
      "text/plain": [
       "True"
      ]
     },
     "execution_count": 41,
     "metadata": {},
     "output_type": "execute_result"
    }
   ],
   "source": [
    "checkPalindrome(\"level\")"
   ]
  },
  {
   "cell_type": "code",
   "execution_count": 42,
   "id": "a7ac95b9",
   "metadata": {},
   "outputs": [
    {
     "data": {
      "text/plain": [
       "True"
      ]
     },
     "execution_count": 42,
     "metadata": {},
     "output_type": "execute_result"
    }
   ],
   "source": [
    "checkPalindrome(\"radar\")"
   ]
  },
  {
   "cell_type": "code",
   "execution_count": 43,
   "id": "1b35ced5",
   "metadata": {},
   "outputs": [
    {
     "data": {
      "text/plain": [
       "False"
      ]
     },
     "execution_count": 43,
     "metadata": {},
     "output_type": "execute_result"
    }
   ],
   "source": [
    "checkPalindrome(\"tarun\")"
   ]
  },
  {
   "cell_type": "code",
   "execution_count": 45,
   "id": "7eb0ef7b",
   "metadata": {},
   "outputs": [
    {
     "data": {
      "text/plain": [
       "False"
      ]
     },
     "execution_count": 45,
     "metadata": {},
     "output_type": "execute_result"
    }
   ],
   "source": [
    "checkPalindrome(\"Naman\")\n",
    "# Case sensitivity"
   ]
  },
  {
   "cell_type": "code",
   "execution_count": null,
   "id": "c542877a",
   "metadata": {},
   "outputs": [],
   "source": []
  },
  {
   "cell_type": "code",
   "execution_count": null,
   "id": "9cedc1bd",
   "metadata": {},
   "outputs": [],
   "source": []
  },
  {
   "cell_type": "markdown",
   "id": "88ca8824",
   "metadata": {},
   "source": [
    "## Working with ASCII Values\n",
    "<img src=\"https://scaler.com/topics/images/ascii-values-in-c-thumbnail.webp\" width=\"400px\" />"
   ]
  },
  {
   "cell_type": "code",
   "execution_count": null,
   "id": "8b275e1d",
   "metadata": {},
   "outputs": [],
   "source": []
  },
  {
   "cell_type": "code",
   "execution_count": null,
   "id": "afb2cb95",
   "metadata": {},
   "outputs": [],
   "source": []
  },
  {
   "cell_type": "markdown",
   "id": "56613281",
   "metadata": {},
   "source": [
    "### ord()\n",
    "![](https://scaler.com/topics/images/ord-in-python.webp)"
   ]
  },
  {
   "cell_type": "code",
   "execution_count": 1,
   "id": "ba79361c",
   "metadata": {},
   "outputs": [
    {
     "data": {
      "text/plain": [
       "80"
      ]
     },
     "execution_count": 1,
     "metadata": {},
     "output_type": "execute_result"
    }
   ],
   "source": [
    "ord('P')"
   ]
  },
  {
   "cell_type": "code",
   "execution_count": null,
   "id": "1a001523",
   "metadata": {},
   "outputs": [],
   "source": []
  },
  {
   "cell_type": "code",
   "execution_count": null,
   "id": "1d21536d",
   "metadata": {},
   "outputs": [],
   "source": []
  },
  {
   "cell_type": "markdown",
   "id": "e5ed433e",
   "metadata": {},
   "source": [
    "### chr()\n",
    "![](https://scaler.com/topics/images/chr-in-python.webp)"
   ]
  },
  {
   "cell_type": "code",
   "execution_count": null,
   "id": "b4819031",
   "metadata": {},
   "outputs": [],
   "source": []
  },
  {
   "cell_type": "code",
   "execution_count": null,
   "id": "d1d9c9d1",
   "metadata": {},
   "outputs": [],
   "source": []
  },
  {
   "cell_type": "markdown",
   "id": "7569823b",
   "metadata": {},
   "source": [
    "## Immutable Nature\n",
    "![](https://scaler.com/topics/images/python-datatypes.webp)"
   ]
  },
  {
   "cell_type": "code",
   "execution_count": null,
   "id": "08380449",
   "metadata": {},
   "outputs": [],
   "source": []
  },
  {
   "cell_type": "code",
   "execution_count": null,
   "id": "36227640",
   "metadata": {},
   "outputs": [],
   "source": []
  },
  {
   "cell_type": "markdown",
   "id": "a280a43e",
   "metadata": {},
   "source": [
    "### Changing cases\n",
    "![](https://scaler.com/topics/images/upper-in-python-featured-image.webp)\n",
    "- upper()\n",
    "- lower()\n",
    "- title()\n",
    "- isupper()\n",
    "- islower()"
   ]
  },
  {
   "cell_type": "code",
   "execution_count": null,
   "id": "08c06fed",
   "metadata": {},
   "outputs": [],
   "source": []
  },
  {
   "cell_type": "code",
   "execution_count": null,
   "id": "ff413457",
   "metadata": {},
   "outputs": [],
   "source": []
  },
  {
   "cell_type": "code",
   "execution_count": null,
   "id": "030201da",
   "metadata": {},
   "outputs": [],
   "source": []
  },
  {
   "cell_type": "markdown",
   "id": "22847073",
   "metadata": {},
   "source": [
    "### String Formatting\n",
    "![](https://scaler.com/topics/images/fstring_python.webp)"
   ]
  },
  {
   "cell_type": "code",
   "execution_count": null,
   "id": "65c355db",
   "metadata": {},
   "outputs": [],
   "source": []
  },
  {
   "cell_type": "code",
   "execution_count": null,
   "id": "d89902af",
   "metadata": {},
   "outputs": [],
   "source": []
  },
  {
   "cell_type": "markdown",
   "id": "ddc18cb1",
   "metadata": {},
   "source": [
    "# Bonus Reading Material\n",
    "- Strings in Python - https://www.scaler.com/topics/python/strings-in-python/\n",
    "- What is String in Python? - https://www.scaler.com/topics/what-is-string-in-python/\n",
    "- Python Multiline String - https://www.scaler.com/topics/python-multiline-string/\n",
    "- str() in Python - https://www.scaler.com/topics/str-in-python/\n",
    "- String Concatenation in Python - https://www.scaler.com/topics/string-concatenation-in-python/\n",
    "- String Slicing in Python - https://www.scaler.com/topics/python/string-slicing-in-python/\n",
    "- What are Mutable Data Types in Python? - https://www.scaler.com/topics/mutable-data-typesg-in-python/\n",
    "- Mutable and Immutable in Python - https://www.scaler.com/topics/mutable-and-immutable-in-python/\n",
    "- String Comparison in Python - https://www.scaler.com/topics/string-comparison-in-python/\n",
    "- chr() in Python - https://www.scaler.com/topics/chr-in-python/\n",
    "- ord in Python - https://www.scaler.com/topics/ord-in-python/\n",
    "- Difference Between UNICODE and ASCII - https://www.scaler.com/topics/cpp/difference-between-unicode-and-ascii/\n",
    "- Join in Python - https://www.scaler.com/topics/join-in-python/\n",
    "- Convert List to String in Python - https://www.scaler.com/topics/convert-list-to-string-in-python/\n",
    "- String Methods Python - https://www.scaler.com/topics/python/string-methods-python/\n",
    "- upper() in Python - https://www.scaler.com/topics/upper-in-python/\n",
    "- https://www.scaler.com/topics/title-in-python/\n",
    "- isupper() in Python - https://www.scaler.com/topics/python-string-isupper-method/\n",
    "- isalnum() in Python - https://www.scaler.com/topics/isalnum-in-python/\n",
    "- isnumeric() Python Method - https://www.scaler.com/topics/isnumeric-python/\n",
    "- String reverse in Python - https://www.scaler.com/topics/reverse-string-in-python/\n",
    "- String Formatting in Python - https://www.scaler.com/topics/python/string-formatting-in-python/\n",
    "- F String in Python - https://www.scaler.com/topics/f-string-in-python/"
   ]
  },
  {
   "cell_type": "code",
   "execution_count": null,
   "id": "9b2c466b",
   "metadata": {},
   "outputs": [],
   "source": []
  }
 ],
 "metadata": {
  "kernelspec": {
   "display_name": "Python 3 (ipykernel)",
   "language": "python",
   "name": "python3"
  },
  "language_info": {
   "codemirror_mode": {
    "name": "ipython",
    "version": 3
   },
   "file_extension": ".py",
   "mimetype": "text/x-python",
   "name": "python",
   "nbconvert_exporter": "python",
   "pygments_lexer": "ipython3",
   "version": "3.9.12"
  }
 },
 "nbformat": 4,
 "nbformat_minor": 5
}
