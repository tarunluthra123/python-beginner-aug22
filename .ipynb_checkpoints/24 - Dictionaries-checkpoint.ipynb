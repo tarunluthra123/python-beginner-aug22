{
 "cells": [
  {
   "cell_type": "markdown",
   "id": "380f0204",
   "metadata": {},
   "source": [
    "# Dictionaries\n",
    "![](https://scaler.com/topics/images/dict-in-python.webp)"
   ]
  },
  {
   "cell_type": "markdown",
   "id": "b5c67179",
   "metadata": {},
   "source": [
    "- They are used to store data in key-value pair format\n",
    "- The keys are always unique\n",
    "- The values may or may not be unique\n",
    "- Dictionaries use **hashing** to store the data"
   ]
  },
  {
   "cell_type": "code",
   "execution_count": 2,
   "id": "ee8a4dbc",
   "metadata": {},
   "outputs": [
    {
     "name": "stdout",
     "output_type": "stream",
     "text": [
      "{} <class 'dict'>\n"
     ]
    }
   ],
   "source": [
    "# d = {}\n",
    "d = dict()\n",
    "print(d, type(d))"
   ]
  },
  {
   "cell_type": "code",
   "execution_count": 3,
   "id": "781d651b",
   "metadata": {},
   "outputs": [
    {
     "name": "stdout",
     "output_type": "stream",
     "text": [
      "{'Dal Makhani': 400, 'Dosa': 300, 'Pizza': 500} <class 'dict'>\n"
     ]
    }
   ],
   "source": [
    "menu = {\n",
    "    \"Dal Makhani\": 400,\n",
    "    \"Dosa\": 300,\n",
    "    \"Pizza\": 500,\n",
    "}\n",
    "print(menu, type(menu))"
   ]
  },
  {
   "cell_type": "code",
   "execution_count": null,
   "id": "0b8f7242",
   "metadata": {},
   "outputs": [],
   "source": []
  },
  {
   "cell_type": "code",
   "execution_count": null,
   "id": "be0a8b7b",
   "metadata": {},
   "outputs": [],
   "source": []
  },
  {
   "cell_type": "code",
   "execution_count": null,
   "id": "a8c5aea2",
   "metadata": {},
   "outputs": [],
   "source": []
  },
  {
   "cell_type": "code",
   "execution_count": null,
   "id": "84b75abc",
   "metadata": {},
   "outputs": [],
   "source": []
  },
  {
   "cell_type": "code",
   "execution_count": null,
   "id": "342e79fd",
   "metadata": {},
   "outputs": [],
   "source": []
  },
  {
   "cell_type": "code",
   "execution_count": 4,
   "id": "f36e9b4c",
   "metadata": {},
   "outputs": [
    {
     "name": "stdout",
     "output_type": "stream",
     "text": [
      "{5: 'hello', 'ok': 'bye', 8.2: 'random'}\n"
     ]
    }
   ],
   "source": [
    "d = {\n",
    "    5: 'hello',\n",
    "    'ok': 'bye',\n",
    "    8.2: 'random'\n",
    "}\n",
    "print(d)"
   ]
  },
  {
   "cell_type": "code",
   "execution_count": null,
   "id": "eb883e40",
   "metadata": {},
   "outputs": [],
   "source": []
  },
  {
   "cell_type": "code",
   "execution_count": null,
   "id": "369ad713",
   "metadata": {},
   "outputs": [],
   "source": []
  },
  {
   "cell_type": "code",
   "execution_count": null,
   "id": "bc3e7725",
   "metadata": {},
   "outputs": [],
   "source": []
  },
  {
   "cell_type": "code",
   "execution_count": 7,
   "id": "d927a4ea",
   "metadata": {},
   "outputs": [
    {
     "name": "stdout",
     "output_type": "stream",
     "text": [
      "{'Dal Makhani': 400, 'Dosa': 300, 'Pizza': 500, 90: 5.2} <class 'dict'>\n"
     ]
    }
   ],
   "source": [
    "menu = {\n",
    "    \"Dal Makhani\": 400,\n",
    "    \"Dosa\": 300,\n",
    "    \"Pizza\": 500,\n",
    "    90: 5.2\n",
    "}\n",
    "print(menu, type(menu))"
   ]
  },
  {
   "cell_type": "markdown",
   "id": "021a17d2",
   "metadata": {},
   "source": [
    "### Reading values\n",
    "- square brackets\n",
    "- get()"
   ]
  },
  {
   "cell_type": "code",
   "execution_count": 8,
   "id": "84c27d95",
   "metadata": {},
   "outputs": [
    {
     "data": {
      "text/plain": [
       "500"
      ]
     },
     "execution_count": 8,
     "metadata": {},
     "output_type": "execute_result"
    }
   ],
   "source": [
    "menu[\"Pizza\"]"
   ]
  },
  {
   "cell_type": "code",
   "execution_count": 9,
   "id": "95f5e20d",
   "metadata": {},
   "outputs": [
    {
     "data": {
      "text/plain": [
       "5.2"
      ]
     },
     "execution_count": 9,
     "metadata": {},
     "output_type": "execute_result"
    }
   ],
   "source": [
    "menu[90]"
   ]
  },
  {
   "cell_type": "code",
   "execution_count": 10,
   "id": "0094792a",
   "metadata": {},
   "outputs": [
    {
     "ename": "KeyError",
     "evalue": "'pizza'",
     "output_type": "error",
     "traceback": [
      "\u001b[0;31m---------------------------------------------------------------------------\u001b[0m",
      "\u001b[0;31mKeyError\u001b[0m                                  Traceback (most recent call last)",
      "\u001b[0;32m/var/folders/jn/1bsrct314hv5xmfm7vrcdrzc0000gn/T/ipykernel_16181/3119200081.py\u001b[0m in \u001b[0;36m<module>\u001b[0;34m\u001b[0m\n\u001b[1;32m      5\u001b[0m }\n\u001b[1;32m      6\u001b[0m \u001b[0;31m# If the key is not present\u001b[0m\u001b[0;34m\u001b[0m\u001b[0;34m\u001b[0m\u001b[0m\n\u001b[0;32m----> 7\u001b[0;31m \u001b[0mmenu\u001b[0m\u001b[0;34m[\u001b[0m\u001b[0;34m\"pizza\"\u001b[0m\u001b[0;34m]\u001b[0m\u001b[0;34m\u001b[0m\u001b[0;34m\u001b[0m\u001b[0m\n\u001b[0m",
      "\u001b[0;31mKeyError\u001b[0m: 'pizza'"
     ]
    }
   ],
   "source": [
    "menu = {\n",
    "    \"Dal Makhani\": 400,\n",
    "    \"Dosa\": 300,\n",
    "    \"Pizza\": 500,\n",
    "}\n",
    "# If the key is not present -> Error\n",
    "menu[\"pizza\"]"
   ]
  },
  {
   "cell_type": "code",
   "execution_count": null,
   "id": "dd32cdd7",
   "metadata": {},
   "outputs": [],
   "source": []
  },
  {
   "cell_type": "code",
   "execution_count": 13,
   "id": "76e72190",
   "metadata": {},
   "outputs": [
    {
     "name": "stdout",
     "output_type": "stream",
     "text": [
      "None\n"
     ]
    }
   ],
   "source": [
    "menu = {\n",
    "    \"Dal Makhani\": 400,\n",
    "    \"Dosa\": 300,\n",
    "    \"Pizza\": 500,\n",
    "}\n",
    "# If key is present, it will return its value\n",
    "# If key is not present, it will return the default value = None\n",
    "print(menu.get(\"paneer\"))"
   ]
  },
  {
   "cell_type": "code",
   "execution_count": 14,
   "id": "6a3b10f1",
   "metadata": {},
   "outputs": [
    {
     "name": "stdout",
     "output_type": "stream",
     "text": [
      "300\n"
     ]
    }
   ],
   "source": [
    "print(menu.get(\"Dosa\"))"
   ]
  },
  {
   "cell_type": "code",
   "execution_count": null,
   "id": "af867c0d",
   "metadata": {},
   "outputs": [],
   "source": [
    "# Get function takes a second argument, the default value\n",
    "print(menu.get(\"paneer\"))"
   ]
  },
  {
   "cell_type": "code",
   "execution_count": null,
   "id": "ff2a6c43",
   "metadata": {},
   "outputs": [],
   "source": []
  },
  {
   "cell_type": "markdown",
   "id": "ec2f4104",
   "metadata": {},
   "source": [
    "### Challenge\n",
    "If a dish is in the menu, show its price. Otherwise, chef will charge extra for it. Show the price as 5000."
   ]
  },
  {
   "cell_type": "code",
   "execution_count": null,
   "id": "ef9fd973",
   "metadata": {},
   "outputs": [],
   "source": [
    "menu = {\n",
    "    \"Dal Makhani\": 400,\n",
    "    \"Dosa\": 300,\n",
    "    \"Pizza\": 500,\n",
    "}"
   ]
  },
  {
   "cell_type": "code",
   "execution_count": 19,
   "id": "9f5b737d",
   "metadata": {},
   "outputs": [
    {
     "name": "stdout",
     "output_type": "stream",
     "text": [
      "abcd\n",
      "5000\n"
     ]
    }
   ],
   "source": [
    "dish = input()\n",
    "print(menu.get(dish, 5000))\n",
    "# Default value = 5000"
   ]
  },
  {
   "cell_type": "code",
   "execution_count": 20,
   "id": "2fc2a8cc",
   "metadata": {},
   "outputs": [
    {
     "ename": "KeyError",
     "evalue": "0",
     "output_type": "error",
     "traceback": [
      "\u001b[0;31m---------------------------------------------------------------------------\u001b[0m",
      "\u001b[0;31mKeyError\u001b[0m                                  Traceback (most recent call last)",
      "\u001b[0;32m/var/folders/jn/1bsrct314hv5xmfm7vrcdrzc0000gn/T/ipykernel_16181/2856130819.py\u001b[0m in \u001b[0;36m<module>\u001b[0;34m\u001b[0m\n\u001b[0;32m----> 1\u001b[0;31m \u001b[0mmenu\u001b[0m\u001b[0;34m[\u001b[0m\u001b[0;36m0\u001b[0m\u001b[0;34m]\u001b[0m\u001b[0;34m\u001b[0m\u001b[0;34m\u001b[0m\u001b[0m\n\u001b[0m",
      "\u001b[0;31mKeyError\u001b[0m: 0"
     ]
    }
   ],
   "source": [
    "menu[0]"
   ]
  },
  {
   "cell_type": "code",
   "execution_count": null,
   "id": "d0febafb",
   "metadata": {},
   "outputs": [],
   "source": []
  },
  {
   "cell_type": "code",
   "execution_count": null,
   "id": "3226d7f6",
   "metadata": {},
   "outputs": [],
   "source": []
  },
  {
   "cell_type": "markdown",
   "id": "a33270bf",
   "metadata": {},
   "source": [
    "## Updation and Addition\n",
    "- Updating/Adding one entry - using square brackets\n",
    "- Updating/Adding multiple entries - update()"
   ]
  },
  {
   "cell_type": "code",
   "execution_count": 21,
   "id": "137e20c9",
   "metadata": {},
   "outputs": [],
   "source": [
    "avenger = {\n",
    "    \"name\": \"Thor\",\n",
    "    \"age\": 1000,\n",
    "    \"weapons\": ['Mjolnir', 'Stormbreaker']\n",
    "}"
   ]
  },
  {
   "cell_type": "code",
   "execution_count": 23,
   "id": "c4c6bc66",
   "metadata": {},
   "outputs": [],
   "source": [
    "# Update the name to \"Thor Odinson\"\n",
    "avenger['name'] = 'Thor Odinson'"
   ]
  },
  {
   "cell_type": "code",
   "execution_count": 24,
   "id": "c1929450",
   "metadata": {},
   "outputs": [
    {
     "data": {
      "text/plain": [
       "{'name': 'Thor Odinson', 'age': 1000, 'weapons': ['Mjolnir', 'Stormbreaker']}"
      ]
     },
     "execution_count": 24,
     "metadata": {},
     "output_type": "execute_result"
    }
   ],
   "source": [
    "avenger"
   ]
  },
  {
   "cell_type": "code",
   "execution_count": 25,
   "id": "9cc4d384",
   "metadata": {},
   "outputs": [],
   "source": [
    "# Add a new entry\n",
    "# girlfriend -> Jane Foster\n",
    "avenger[\"girlfriend\"] = \"Jane Foster\""
   ]
  },
  {
   "cell_type": "code",
   "execution_count": 26,
   "id": "ac3274e5",
   "metadata": {},
   "outputs": [
    {
     "data": {
      "text/plain": [
       "{'name': 'Thor Odinson',\n",
       " 'age': 1000,\n",
       " 'weapons': ['Mjolnir', 'Stormbreaker'],\n",
       " 'girlfriend': 'Jane Foster'}"
      ]
     },
     "execution_count": 26,
     "metadata": {},
     "output_type": "execute_result"
    }
   ],
   "source": [
    "avenger"
   ]
  },
  {
   "cell_type": "code",
   "execution_count": 28,
   "id": "4c09d048",
   "metadata": {},
   "outputs": [],
   "source": [
    "avenger[\"weapons\"].append(\"Thunder\")"
   ]
  },
  {
   "cell_type": "code",
   "execution_count": 29,
   "id": "b71f5814",
   "metadata": {},
   "outputs": [
    {
     "data": {
      "text/plain": [
       "{'name': 'Thor Odinson',\n",
       " 'age': 1000,\n",
       " 'weapons': ['Mjolnir', 'Stormbreaker', 'Thunder'],\n",
       " 'girlfriend': 'Jane Foster'}"
      ]
     },
     "execution_count": 29,
     "metadata": {},
     "output_type": "execute_result"
    }
   ],
   "source": [
    "avenger"
   ]
  },
  {
   "cell_type": "code",
   "execution_count": null,
   "id": "a47dec44",
   "metadata": {},
   "outputs": [],
   "source": []
  },
  {
   "cell_type": "code",
   "execution_count": 32,
   "id": "d491cc49",
   "metadata": {},
   "outputs": [],
   "source": [
    "avenger = {\n",
    "    \"name\": \"Thor\",\n",
    "    \"age\": 1000\n",
    "}"
   ]
  },
  {
   "cell_type": "code",
   "execution_count": 34,
   "id": "5e1ae566",
   "metadata": {},
   "outputs": [],
   "source": [
    "avenger.update({\n",
    "    \"age\": 1100,\n",
    "    \"weapon\": \"Mjolnir\",\n",
    "    \"gf\": \"Jane Foster\",\n",
    "    \"best friend\": \"Heimdall\"\n",
    "})"
   ]
  },
  {
   "cell_type": "code",
   "execution_count": 35,
   "id": "b2b184fa",
   "metadata": {},
   "outputs": [
    {
     "data": {
      "text/plain": [
       "{'name': 'Thor',\n",
       " 'age': 1100,\n",
       " 'weapon': 'Mjolnir',\n",
       " 'gf': 'Jane Foster',\n",
       " 'best friend': 'Heimdall'}"
      ]
     },
     "execution_count": 35,
     "metadata": {},
     "output_type": "execute_result"
    }
   ],
   "source": [
    "avenger"
   ]
  },
  {
   "cell_type": "code",
   "execution_count": null,
   "id": "a82cafa8",
   "metadata": {},
   "outputs": [],
   "source": []
  },
  {
   "cell_type": "code",
   "execution_count": 30,
   "id": "c68721bb",
   "metadata": {},
   "outputs": [],
   "source": [
    "person = {\n",
    "    \"name\": \"tarun\",\n",
    "    \"name\": \"luthra\"\n",
    "}"
   ]
  },
  {
   "cell_type": "code",
   "execution_count": 31,
   "id": "0eecac39",
   "metadata": {},
   "outputs": [
    {
     "data": {
      "text/plain": [
       "'luthra'"
      ]
     },
     "execution_count": 31,
     "metadata": {},
     "output_type": "execute_result"
    }
   ],
   "source": [
    "person['name']"
   ]
  },
  {
   "cell_type": "code",
   "execution_count": null,
   "id": "ce980893",
   "metadata": {},
   "outputs": [],
   "source": []
  },
  {
   "cell_type": "code",
   "execution_count": null,
   "id": "8d602793",
   "metadata": {},
   "outputs": [],
   "source": []
  },
  {
   "cell_type": "markdown",
   "id": "d55a1492",
   "metadata": {},
   "source": [
    "#### Quiz 1\n",
    "What does the following Python code output?\n",
    "```py\n",
    "words = {\n",
    "\"is\": 2,\n",
    "\"hello\": 3,\n",
    "\"the\": 4\n",
    "}\n",
    "this_count = words[\"this\"]\n",
    "\n",
    "print(this_count)\n",
    "```"
   ]
  },
  {
   "cell_type": "code",
   "execution_count": 36,
   "id": "8eb9517d",
   "metadata": {},
   "outputs": [
    {
     "ename": "KeyError",
     "evalue": "'this'",
     "output_type": "error",
     "traceback": [
      "\u001b[0;31m---------------------------------------------------------------------------\u001b[0m",
      "\u001b[0;31mKeyError\u001b[0m                                  Traceback (most recent call last)",
      "\u001b[0;32m/var/folders/jn/1bsrct314hv5xmfm7vrcdrzc0000gn/T/ipykernel_16181/136639288.py\u001b[0m in \u001b[0;36m<module>\u001b[0;34m\u001b[0m\n\u001b[1;32m      4\u001b[0m \u001b[0;34m\"the\"\u001b[0m\u001b[0;34m:\u001b[0m \u001b[0;36m4\u001b[0m\u001b[0;34m\u001b[0m\u001b[0;34m\u001b[0m\u001b[0m\n\u001b[1;32m      5\u001b[0m }\n\u001b[0;32m----> 6\u001b[0;31m \u001b[0mthis_count\u001b[0m \u001b[0;34m=\u001b[0m \u001b[0mwords\u001b[0m\u001b[0;34m[\u001b[0m\u001b[0;34m\"this\"\u001b[0m\u001b[0;34m]\u001b[0m\u001b[0;34m\u001b[0m\u001b[0;34m\u001b[0m\u001b[0m\n\u001b[0m\u001b[1;32m      7\u001b[0m \u001b[0;34m\u001b[0m\u001b[0m\n\u001b[1;32m      8\u001b[0m \u001b[0mprint\u001b[0m\u001b[0;34m(\u001b[0m\u001b[0mthis_count\u001b[0m\u001b[0;34m)\u001b[0m\u001b[0;34m\u001b[0m\u001b[0;34m\u001b[0m\u001b[0m\n",
      "\u001b[0;31mKeyError\u001b[0m: 'this'"
     ]
    }
   ],
   "source": [
    "words = {\n",
    "\"is\": 2,\n",
    "\"hello\": 3,\n",
    "\"the\": 4\n",
    "}\n",
    "this_count = words[\"this\"]\n",
    "\n",
    "print(this_count)"
   ]
  },
  {
   "cell_type": "code",
   "execution_count": null,
   "id": "dcd71cdb",
   "metadata": {},
   "outputs": [],
   "source": []
  },
  {
   "cell_type": "code",
   "execution_count": null,
   "id": "eaf8c0cf",
   "metadata": {},
   "outputs": [],
   "source": []
  },
  {
   "cell_type": "markdown",
   "id": "c6d24156",
   "metadata": {},
   "source": [
    "#### Quiz 2\n",
    "What is the output of the following code?\n",
    "```py\n",
    "d = {\"a\": 1, \"b\": 2, \"c\": 3}\n",
    "d['d'] = 55\n",
    "\n",
    "print(d['d'])\n",
    "```"
   ]
  },
  {
   "cell_type": "code",
   "execution_count": 37,
   "id": "b61c3cd4",
   "metadata": {},
   "outputs": [
    {
     "name": "stdout",
     "output_type": "stream",
     "text": [
      "55\n"
     ]
    }
   ],
   "source": [
    "d = {\"a\": 1, \"b\": 2, \"c\": 3}\n",
    "d['d'] = 55\n",
    "\n",
    "print(d['d'])"
   ]
  },
  {
   "cell_type": "code",
   "execution_count": 38,
   "id": "a4bf59ea",
   "metadata": {},
   "outputs": [
    {
     "data": {
      "text/plain": [
       "{'a': 1, 'b': 2, 'c': 3, 'd': 55}"
      ]
     },
     "execution_count": 38,
     "metadata": {},
     "output_type": "execute_result"
    }
   ],
   "source": [
    "d"
   ]
  },
  {
   "cell_type": "code",
   "execution_count": null,
   "id": "12914a94",
   "metadata": {},
   "outputs": [],
   "source": []
  },
  {
   "cell_type": "code",
   "execution_count": null,
   "id": "468fe82e",
   "metadata": {},
   "outputs": [],
   "source": []
  },
  {
   "cell_type": "markdown",
   "id": "cdf3a94b",
   "metadata": {},
   "source": [
    "### Are Dictionaries ordered ? \n",
    "Yes and No.\n",
    "- In Python 3.7 and above -> Ordered Dictionaries (It will remember the order of insertion)\n",
    "- In Python 3.6 or below -> Unordered Dictionaries"
   ]
  },
  {
   "cell_type": "code",
   "execution_count": 41,
   "id": "0d31daa1",
   "metadata": {},
   "outputs": [
    {
     "name": "stdout",
     "output_type": "stream",
     "text": [
      "{1: 'A', 2: 'B', 3: 'C', 6: 'F', 4: 'D', 5: 'E'}\n"
     ]
    }
   ],
   "source": [
    "d = {\n",
    "    1: \"A\",\n",
    "    2: \"B\",\n",
    "    3: \"C\",\n",
    "    6: \"F\",\n",
    "    4: \"D\",\n",
    "    5: \"E\"\n",
    "}\n",
    "print(d)"
   ]
  },
  {
   "cell_type": "code",
   "execution_count": null,
   "id": "c6914793",
   "metadata": {},
   "outputs": [],
   "source": []
  },
  {
   "cell_type": "code",
   "execution_count": null,
   "id": "2a682f88",
   "metadata": {},
   "outputs": [],
   "source": []
  },
  {
   "cell_type": "code",
   "execution_count": null,
   "id": "678e75f3",
   "metadata": {},
   "outputs": [],
   "source": []
  },
  {
   "cell_type": "markdown",
   "id": "4ffa4d8d",
   "metadata": {},
   "source": [
    "#### Quiz 3\n",
    "What is the output of the following code?\n",
    "```py\n",
    "d = {\"a\": 1, \"b\": 2, \"c\": 3}\n",
    "print(d.get(\"a\", 0))\n",
    "print(d.get(\"b\", 0))\n",
    "print(d.get(\"c\", 0))\n",
    "print(d.get(\"d\", 0))\n",
    "```"
   ]
  },
  {
   "cell_type": "code",
   "execution_count": 1,
   "id": "4ee6e75a",
   "metadata": {},
   "outputs": [
    {
     "name": "stdout",
     "output_type": "stream",
     "text": [
      "1\n",
      "2\n",
      "3\n",
      "0\n"
     ]
    }
   ],
   "source": [
    "d = {\"a\": 1, \"b\": 2, \"c\": 3}\n",
    "print(d.get(\"a\", 0)) # 1\n",
    "print(d.get(\"b\", 0)) # 2\n",
    "print(d.get(\"c\", 0)) # 3\n",
    "print(d.get(\"d\", 0)) # default value  = 0"
   ]
  },
  {
   "cell_type": "code",
   "execution_count": null,
   "id": "673f00ca",
   "metadata": {},
   "outputs": [],
   "source": []
  },
  {
   "cell_type": "code",
   "execution_count": null,
   "id": "540e2ece",
   "metadata": {},
   "outputs": [],
   "source": []
  },
  {
   "cell_type": "code",
   "execution_count": 2,
   "id": "af6bacb6",
   "metadata": {},
   "outputs": [
    {
     "ename": "SyntaxError",
     "evalue": "invalid syntax (3377523793.py, line 1)",
     "output_type": "error",
     "traceback": [
      "\u001b[0;36m  File \u001b[0;32m\"/var/folders/jn/1bsrct314hv5xmfm7vrcdrzc0000gn/T/ipykernel_16461/3377523793.py\"\u001b[0;36m, line \u001b[0;32m1\u001b[0m\n\u001b[0;31m    You don't have to remember.\u001b[0m\n\u001b[0m        ^\u001b[0m\n\u001b[0;31mSyntaxError\u001b[0m\u001b[0;31m:\u001b[0m invalid syntax\n"
     ]
    }
   ],
   "source": [
    "You don't have to remember.\n",
    "- dir()\n",
    "- help()\n",
    "- Google"
   ]
  },
  {
   "cell_type": "code",
   "execution_count": 3,
   "id": "8ea5876c",
   "metadata": {},
   "outputs": [
    {
     "name": "stdout",
     "output_type": "stream",
     "text": [
      "Help on built-in function print in module builtins:\n",
      "\n",
      "print(...)\n",
      "    print(value, ..., sep=' ', end='\\n', file=sys.stdout, flush=False)\n",
      "    \n",
      "    Prints the values to a stream, or to sys.stdout by default.\n",
      "    Optional keyword arguments:\n",
      "    file:  a file-like object (stream); defaults to the current sys.stdout.\n",
      "    sep:   string inserted between values, default a space.\n",
      "    end:   string appended after the last value, default a newline.\n",
      "    flush: whether to forcibly flush the stream.\n",
      "\n"
     ]
    }
   ],
   "source": [
    "help(print)"
   ]
  },
  {
   "cell_type": "code",
   "execution_count": 4,
   "id": "1ae7f729",
   "metadata": {},
   "outputs": [
    {
     "data": {
      "text/plain": [
       "['__class__',\n",
       " '__class_getitem__',\n",
       " '__contains__',\n",
       " '__delattr__',\n",
       " '__delitem__',\n",
       " '__dir__',\n",
       " '__doc__',\n",
       " '__eq__',\n",
       " '__format__',\n",
       " '__ge__',\n",
       " '__getattribute__',\n",
       " '__getitem__',\n",
       " '__gt__',\n",
       " '__hash__',\n",
       " '__init__',\n",
       " '__init_subclass__',\n",
       " '__ior__',\n",
       " '__iter__',\n",
       " '__le__',\n",
       " '__len__',\n",
       " '__lt__',\n",
       " '__ne__',\n",
       " '__new__',\n",
       " '__or__',\n",
       " '__reduce__',\n",
       " '__reduce_ex__',\n",
       " '__repr__',\n",
       " '__reversed__',\n",
       " '__ror__',\n",
       " '__setattr__',\n",
       " '__setitem__',\n",
       " '__sizeof__',\n",
       " '__str__',\n",
       " '__subclasshook__',\n",
       " 'clear',\n",
       " 'copy',\n",
       " 'fromkeys',\n",
       " 'get',\n",
       " 'items',\n",
       " 'keys',\n",
       " 'pop',\n",
       " 'popitem',\n",
       " 'setdefault',\n",
       " 'update',\n",
       " 'values']"
      ]
     },
     "execution_count": 4,
     "metadata": {},
     "output_type": "execute_result"
    }
   ],
   "source": [
    "dir(dict)"
   ]
  },
  {
   "cell_type": "code",
   "execution_count": null,
   "id": "355998bb",
   "metadata": {},
   "outputs": [],
   "source": []
  },
  {
   "cell_type": "code",
   "execution_count": null,
   "id": "1f1cd70a",
   "metadata": {},
   "outputs": [],
   "source": []
  },
  {
   "cell_type": "code",
   "execution_count": null,
   "id": "694a4c3f",
   "metadata": {},
   "outputs": [],
   "source": []
  },
  {
   "cell_type": "code",
   "execution_count": null,
   "id": "a5a75886",
   "metadata": {},
   "outputs": [],
   "source": []
  },
  {
   "cell_type": "markdown",
   "id": "6919262f",
   "metadata": {},
   "source": [
    "## Removing entries\n",
    "- pop()\n",
    "- del"
   ]
  },
  {
   "cell_type": "code",
   "execution_count": 16,
   "id": "6e811714",
   "metadata": {},
   "outputs": [],
   "source": [
    "menu = {\n",
    "    \"Dal Makhani\": 400,\n",
    "    \"Dosa\": 300,\n",
    "    \"Pizza\": 200,\n",
    "}"
   ]
  },
  {
   "cell_type": "code",
   "execution_count": 6,
   "id": "ee1740c6",
   "metadata": {},
   "outputs": [],
   "source": [
    "# Your Italian Chef is leaving the restaurant. How to remove Pizza from your menu ? "
   ]
  },
  {
   "cell_type": "code",
   "execution_count": 12,
   "id": "807e3c26",
   "metadata": {},
   "outputs": [
    {
     "name": "stdout",
     "output_type": "stream",
     "text": [
      "Price of pizza was 200\n"
     ]
    }
   ],
   "source": [
    "pizzaPrice = menu.pop(\"Pizza\")\n",
    "print(\"Price of pizza was\", pizzaPrice)"
   ]
  },
  {
   "cell_type": "code",
   "execution_count": 8,
   "id": "6d771272",
   "metadata": {},
   "outputs": [
    {
     "data": {
      "text/plain": [
       "{'Dal Makhani': 400, 'Dosa': 300}"
      ]
     },
     "execution_count": 8,
     "metadata": {},
     "output_type": "execute_result"
    }
   ],
   "source": [
    "menu"
   ]
  },
  {
   "cell_type": "code",
   "execution_count": 17,
   "id": "c49d0cec",
   "metadata": {},
   "outputs": [
    {
     "ename": "KeyError",
     "evalue": "'Pasta'",
     "output_type": "error",
     "traceback": [
      "\u001b[0;31m---------------------------------------------------------------------------\u001b[0m",
      "\u001b[0;31mKeyError\u001b[0m                                  Traceback (most recent call last)",
      "\u001b[0;32m/var/folders/jn/1bsrct314hv5xmfm7vrcdrzc0000gn/T/ipykernel_16461/894221343.py\u001b[0m in \u001b[0;36m<module>\u001b[0;34m\u001b[0m\n\u001b[0;32m----> 1\u001b[0;31m \u001b[0mmenu\u001b[0m\u001b[0;34m.\u001b[0m\u001b[0mpop\u001b[0m\u001b[0;34m(\u001b[0m\u001b[0;34m\"Pasta\"\u001b[0m\u001b[0;34m)\u001b[0m\u001b[0;34m\u001b[0m\u001b[0;34m\u001b[0m\u001b[0m\n\u001b[0m",
      "\u001b[0;31mKeyError\u001b[0m: 'Pasta'"
     ]
    }
   ],
   "source": [
    "menu.pop(\"Pasta\")"
   ]
  },
  {
   "cell_type": "code",
   "execution_count": null,
   "id": "211b4782",
   "metadata": {},
   "outputs": [],
   "source": []
  },
  {
   "cell_type": "code",
   "execution_count": null,
   "id": "d195ca08",
   "metadata": {},
   "outputs": [],
   "source": []
  },
  {
   "cell_type": "code",
   "execution_count": null,
   "id": "0e1ae5df",
   "metadata": {},
   "outputs": [],
   "source": []
  },
  {
   "cell_type": "code",
   "execution_count": 13,
   "id": "21e5815c",
   "metadata": {},
   "outputs": [],
   "source": [
    "menu = {\n",
    "    \"Dal Makhani\": 400,\n",
    "    \"Dosa\": 300,\n",
    "    \"Pizza\": 200,\n",
    "}\n",
    "del menu['Pizza']"
   ]
  },
  {
   "cell_type": "code",
   "execution_count": 14,
   "id": "f117b925",
   "metadata": {},
   "outputs": [
    {
     "data": {
      "text/plain": [
       "{'Dal Makhani': 400, 'Dosa': 300}"
      ]
     },
     "execution_count": 14,
     "metadata": {},
     "output_type": "execute_result"
    }
   ],
   "source": [
    "menu"
   ]
  },
  {
   "cell_type": "code",
   "execution_count": null,
   "id": "84bed6b7",
   "metadata": {},
   "outputs": [],
   "source": []
  },
  {
   "cell_type": "code",
   "execution_count": 15,
   "id": "9b7987f5",
   "metadata": {},
   "outputs": [
    {
     "ename": "KeyError",
     "evalue": "'Pasta'",
     "output_type": "error",
     "traceback": [
      "\u001b[0;31m---------------------------------------------------------------------------\u001b[0m",
      "\u001b[0;31mKeyError\u001b[0m                                  Traceback (most recent call last)",
      "\u001b[0;32m/var/folders/jn/1bsrct314hv5xmfm7vrcdrzc0000gn/T/ipykernel_16461/3195564208.py\u001b[0m in \u001b[0;36m<module>\u001b[0;34m\u001b[0m\n\u001b[0;32m----> 1\u001b[0;31m \u001b[0;32mdel\u001b[0m \u001b[0mmenu\u001b[0m\u001b[0;34m[\u001b[0m\u001b[0;34m'Pasta'\u001b[0m\u001b[0;34m]\u001b[0m\u001b[0;34m\u001b[0m\u001b[0;34m\u001b[0m\u001b[0m\n\u001b[0m",
      "\u001b[0;31mKeyError\u001b[0m: 'Pasta'"
     ]
    }
   ],
   "source": [
    "del menu['Pasta']"
   ]
  },
  {
   "cell_type": "code",
   "execution_count": null,
   "id": "c39b341f",
   "metadata": {},
   "outputs": [],
   "source": []
  },
  {
   "cell_type": "code",
   "execution_count": null,
   "id": "cbc96afa",
   "metadata": {},
   "outputs": [],
   "source": []
  },
  {
   "cell_type": "code",
   "execution_count": null,
   "id": "b3c8cf09",
   "metadata": {},
   "outputs": [],
   "source": []
  },
  {
   "cell_type": "code",
   "execution_count": null,
   "id": "ad4b0400",
   "metadata": {},
   "outputs": [],
   "source": []
  },
  {
   "cell_type": "markdown",
   "id": "df68466e",
   "metadata": {},
   "source": [
    "## keys() and values()"
   ]
  },
  {
   "cell_type": "code",
   "execution_count": 18,
   "id": "0dd3f08a",
   "metadata": {},
   "outputs": [],
   "source": [
    "avenger = {\n",
    "    'name': 'Thor',\n",
    "    'age': 1100,\n",
    "    'weapon': 'Mjolnir',\n",
    "    'gf': 'Jane Foster',\n",
    "    'best friend': 'Heimdall'\n",
    "}"
   ]
  },
  {
   "cell_type": "code",
   "execution_count": 21,
   "id": "f60ca2af",
   "metadata": {},
   "outputs": [
    {
     "name": "stdout",
     "output_type": "stream",
     "text": [
      "dict_keys(['name', 'age', 'weapon', 'gf', 'best friend']) <class 'dict_keys'>\n"
     ]
    }
   ],
   "source": [
    "k = avenger.keys()\n",
    "print(k, type(k))"
   ]
  },
  {
   "cell_type": "code",
   "execution_count": 20,
   "id": "a2e2227f",
   "metadata": {},
   "outputs": [
    {
     "name": "stdout",
     "output_type": "stream",
     "text": [
      "name age weapon gf best friend "
     ]
    }
   ],
   "source": [
    "for x in k:\n",
    "    print(x, end=' ')"
   ]
  },
  {
   "cell_type": "code",
   "execution_count": null,
   "id": "b7c1ee51",
   "metadata": {},
   "outputs": [],
   "source": []
  },
  {
   "cell_type": "code",
   "execution_count": null,
   "id": "2206473f",
   "metadata": {},
   "outputs": [],
   "source": []
  },
  {
   "cell_type": "code",
   "execution_count": 22,
   "id": "8b098015",
   "metadata": {},
   "outputs": [
    {
     "name": "stdout",
     "output_type": "stream",
     "text": [
      "dict_values(['Thor', 1100, 'Mjolnir', 'Jane Foster', 'Heimdall']) <class 'dict_values'>\n"
     ]
    }
   ],
   "source": [
    "v = avenger.values()\n",
    "print(v, type(v))"
   ]
  },
  {
   "cell_type": "code",
   "execution_count": 23,
   "id": "81d4b425",
   "metadata": {},
   "outputs": [
    {
     "name": "stdout",
     "output_type": "stream",
     "text": [
      "Thor 1100 Mjolnir Jane Foster Heimdall "
     ]
    }
   ],
   "source": [
    "for x in v:\n",
    "    print(x, end=' ')"
   ]
  },
  {
   "cell_type": "code",
   "execution_count": null,
   "id": "a4880489",
   "metadata": {},
   "outputs": [],
   "source": []
  },
  {
   "cell_type": "code",
   "execution_count": null,
   "id": "9285a5f2",
   "metadata": {},
   "outputs": [],
   "source": []
  },
  {
   "cell_type": "code",
   "execution_count": 25,
   "id": "6179cd23",
   "metadata": {},
   "outputs": [
    {
     "name": "stdout",
     "output_type": "stream",
     "text": [
      "name\n",
      "age\n",
      "weapon\n",
      "gf\n",
      "best friend\n"
     ]
    }
   ],
   "source": [
    "avenger = {\n",
    "    'name': 'Thor',\n",
    "    'age': 1100,\n",
    "    'weapon': 'Mjolnir',\n",
    "    'gf': 'Jane Foster',\n",
    "    'best friend': 'Heimdall'\n",
    "}\n",
    "\n",
    "# By default, when you try to iterate over a dictionary, you get the keys\n",
    "for k in avenger:\n",
    "    print(k)"
   ]
  },
  {
   "cell_type": "code",
   "execution_count": null,
   "id": "207a1a2c",
   "metadata": {},
   "outputs": [],
   "source": []
  },
  {
   "cell_type": "code",
   "execution_count": 26,
   "id": "fd8d024f",
   "metadata": {},
   "outputs": [
    {
     "name": "stdout",
     "output_type": "stream",
     "text": [
      "name -> Thor\n",
      "age -> 1100\n",
      "weapon -> Mjolnir\n",
      "gf -> Jane Foster\n",
      "best friend -> Heimdall\n"
     ]
    }
   ],
   "source": [
    "for k in avenger:\n",
    "    print(k, \"->\", avenger[k])"
   ]
  },
  {
   "cell_type": "code",
   "execution_count": null,
   "id": "535ac035",
   "metadata": {},
   "outputs": [],
   "source": []
  },
  {
   "cell_type": "code",
   "execution_count": null,
   "id": "6c0407b0",
   "metadata": {},
   "outputs": [],
   "source": []
  },
  {
   "cell_type": "code",
   "execution_count": null,
   "id": "486f42dc",
   "metadata": {},
   "outputs": [],
   "source": []
  },
  {
   "cell_type": "markdown",
   "id": "e9cead76",
   "metadata": {},
   "source": [
    "#### Quiz 4\n",
    "```py\n",
    "a = {1: 1, 2: 4, 3: 9}\n",
    "\n",
    "for x in a:\n",
    "  print(a[x], end=' ')\n",
    "```"
   ]
  },
  {
   "cell_type": "code",
   "execution_count": 28,
   "id": "bd99c568",
   "metadata": {},
   "outputs": [
    {
     "name": "stdout",
     "output_type": "stream",
     "text": [
      "1 4 9 "
     ]
    }
   ],
   "source": [
    "a = {1: 1, 2: 4, 3: 9}\n",
    "\n",
    "for x in a:\n",
    "    print(a[x], end=' ')\n",
    "    \n",
    "# x -> 1, 2, 3\n",
    "# print(a[x]) -> a[1], a[2], a[3] -> 1, 4, 9"
   ]
  },
  {
   "cell_type": "code",
   "execution_count": null,
   "id": "36059aa5",
   "metadata": {},
   "outputs": [],
   "source": []
  },
  {
   "cell_type": "code",
   "execution_count": null,
   "id": "9bf2f9ed",
   "metadata": {},
   "outputs": [],
   "source": []
  },
  {
   "cell_type": "code",
   "execution_count": null,
   "id": "86a59eb7",
   "metadata": {},
   "outputs": [],
   "source": []
  },
  {
   "cell_type": "code",
   "execution_count": 29,
   "id": "00c180ac",
   "metadata": {},
   "outputs": [],
   "source": [
    "avenger = {\n",
    "    'name': 'Thor',\n",
    "    'age': 1100,\n",
    "    'weapon': 'Mjolnir',\n",
    "    'gf': 'Jane Foster',\n",
    "    'best friend': 'Heimdall'\n",
    "}"
   ]
  },
  {
   "cell_type": "code",
   "execution_count": 30,
   "id": "39ba2d89",
   "metadata": {},
   "outputs": [
    {
     "data": {
      "text/plain": [
       "dict_items([('name', 'Thor'), ('age', 1100), ('weapon', 'Mjolnir'), ('gf', 'Jane Foster'), ('best friend', 'Heimdall')])"
      ]
     },
     "execution_count": 30,
     "metadata": {},
     "output_type": "execute_result"
    }
   ],
   "source": [
    "avenger.items()\n",
    "# This gives you the key-value pairs"
   ]
  },
  {
   "cell_type": "code",
   "execution_count": 31,
   "id": "c8a172d9",
   "metadata": {},
   "outputs": [
    {
     "name": "stdout",
     "output_type": "stream",
     "text": [
      "Key =  name\n",
      "Value =  Thor\n",
      "\n",
      "Key =  age\n",
      "Value =  1100\n",
      "\n",
      "Key =  weapon\n",
      "Value =  Mjolnir\n",
      "\n",
      "Key =  gf\n",
      "Value =  Jane Foster\n",
      "\n",
      "Key =  best friend\n",
      "Value =  Heimdall\n",
      "\n"
     ]
    }
   ],
   "source": [
    "for k,v in avenger.items():\n",
    "    print(\"Key = \", k)\n",
    "    print(\"Value = \", v)\n",
    "    print()"
   ]
  },
  {
   "cell_type": "code",
   "execution_count": null,
   "id": "313e8381",
   "metadata": {},
   "outputs": [],
   "source": []
  },
  {
   "cell_type": "code",
   "execution_count": null,
   "id": "f04322bf",
   "metadata": {},
   "outputs": [],
   "source": []
  },
  {
   "cell_type": "markdown",
   "id": "44228d45",
   "metadata": {},
   "source": [
    "### How to check if a key is present in a dictionary ? "
   ]
  },
  {
   "cell_type": "code",
   "execution_count": 36,
   "id": "932f0063",
   "metadata": {},
   "outputs": [],
   "source": [
    "menu = {\n",
    "    \"Dal Makhani\": 500,\n",
    "    \"Dosa\": 300,\n",
    "    \"Pizza\": 400,\n",
    "    \"Pasta\": 350\n",
    "}"
   ]
  },
  {
   "cell_type": "code",
   "execution_count": 33,
   "id": "2f80b42f",
   "metadata": {},
   "outputs": [
    {
     "data": {
      "text/plain": [
       "False"
      ]
     },
     "execution_count": 33,
     "metadata": {},
     "output_type": "execute_result"
    }
   ],
   "source": [
    "\"Pasta\" in menu"
   ]
  },
  {
   "cell_type": "code",
   "execution_count": 34,
   "id": "b4f5fc72",
   "metadata": {},
   "outputs": [
    {
     "data": {
      "text/plain": [
       "True"
      ]
     },
     "execution_count": 34,
     "metadata": {},
     "output_type": "execute_result"
    }
   ],
   "source": [
    "\"Dosa\" in menu"
   ]
  },
  {
   "cell_type": "code",
   "execution_count": 37,
   "id": "ac21e523",
   "metadata": {},
   "outputs": [
    {
     "name": "stdout",
     "output_type": "stream",
     "text": [
      "Mamamia\n"
     ]
    }
   ],
   "source": [
    "if \"Pasta\" in menu:\n",
    "    print(\"Mamamia\")"
   ]
  },
  {
   "cell_type": "code",
   "execution_count": null,
   "id": "ee31d954",
   "metadata": {},
   "outputs": [],
   "source": []
  },
  {
   "cell_type": "code",
   "execution_count": null,
   "id": "84bc140d",
   "metadata": {},
   "outputs": [],
   "source": []
  },
  {
   "cell_type": "markdown",
   "id": "788bc409",
   "metadata": {},
   "source": [
    "#### Frequency Map\n",
    "Given a list of numbers, print the frequencies of all unique values in it (in any order)\n",
    "\n",
    "\n",
    "Input:\n",
    "```\n",
    "[5, 5, 2, 5, 2, 6, 1, 3]\n",
    "```\n",
    "\n",
    "Output:\n",
    "```\n",
    "5 -> 3\n",
    "2 -> 2\n",
    "6 -> 1\n",
    "1 -> 1\n",
    "3 -> 1\n",
    "(Order does not matter)\n",
    "```"
   ]
  },
  {
   "cell_type": "code",
   "execution_count": 40,
   "id": "007406bd",
   "metadata": {},
   "outputs": [
    {
     "name": "stdout",
     "output_type": "stream",
     "text": [
      "{5: 3, 2: 2, 6: 3, 1: 11, 3: 2}\n"
     ]
    }
   ],
   "source": [
    "a = [5, 5, 2, 5, 2, 6, 1, 3, 6, 6, 3, 1, 1, 1, 1, 1, 1, 1,1 ,1, 1]\n",
    "\n",
    "freq = {}\n",
    "\n",
    "for x in a:\n",
    "    if x in freq:\n",
    "        # If the key is present in my frequency map\n",
    "        # Update its frequency\n",
    "        freq[x] += 1\n",
    "    else:\n",
    "        # If the key is not present in the frequency map\n",
    "        # Add a new entry for it with initial frequency of  1\n",
    "        freq[x] = 1\n",
    "        \n",
    "print(freq)"
   ]
  },
  {
   "cell_type": "code",
   "execution_count": null,
   "id": "a36a9bdf",
   "metadata": {},
   "outputs": [],
   "source": []
  },
  {
   "cell_type": "code",
   "execution_count": null,
   "id": "25da9349",
   "metadata": {},
   "outputs": [],
   "source": []
  },
  {
   "cell_type": "code",
   "execution_count": null,
   "id": "9e7a63df",
   "metadata": {},
   "outputs": [],
   "source": []
  },
  {
   "cell_type": "code",
   "execution_count": null,
   "id": "6ebf8134",
   "metadata": {},
   "outputs": [],
   "source": []
  },
  {
   "cell_type": "code",
   "execution_count": null,
   "id": "7ff6a022",
   "metadata": {},
   "outputs": [],
   "source": []
  },
  {
   "cell_type": "code",
   "execution_count": null,
   "id": "b65cd6fa",
   "metadata": {},
   "outputs": [],
   "source": []
  },
  {
   "cell_type": "code",
   "execution_count": null,
   "id": "cb16e116",
   "metadata": {},
   "outputs": [],
   "source": []
  },
  {
   "cell_type": "code",
   "execution_count": null,
   "id": "0124e512",
   "metadata": {},
   "outputs": [],
   "source": []
  },
  {
   "cell_type": "code",
   "execution_count": null,
   "id": "781749e8",
   "metadata": {},
   "outputs": [],
   "source": []
  },
  {
   "cell_type": "markdown",
   "id": "36020bd9",
   "metadata": {},
   "source": [
    "# Bonus Reading Material\n",
    "- Dictionary in Python - https://www.scaler.com/topics/python/dictionary-in-python/\n",
    "- dict() in Python - https://www.scaler.com/topics/dict-in-python/\n",
    "- What is Dictionary in Python? - https://www.scaler.com/topics/what-is-dictionary-in-python/\n",
    "- Python Dictionary values() - https://www.scaler.com/topics/python-dictionary-values/\n",
    "- Python Dictionary Keys() Method - https://www.scaler.com/topics/python-dictionary-keys/\n",
    "- What is Ordered Dictionary Python in Python? - https://www.scaler.com/topics/ordered-dictionary-python/\n",
    "- What is Nested Dictionary in Python? - https://www.scaler.com/topics/nested-dictionary-in-python/\n",
    "- Sort Dictionary by Value in Python - https://www.scaler.com/topics/sort-dictionary-by-value-in-python/\n",
    "- fromkeys() in Python - https://www.scaler.com/topics/fromkeys-in-python/\n",
    "- How to Convert a List to Dictionary in Python? - https://www.scaler.com/topics/list-to-dictionary-python/\n",
    "- List of Dictionaries in Python - https://www.scaler.com/topics/list-of-dictionaries-in-python/\n",
    "- What is the Difference Between List and Dictionary in Python? - https://www.scaler.com/topics/difference-between-list-and-dictionary-in-python/\n",
    "- Differences between List, Tuple, Set and Dictionary in Python - https://www.scaler.com/topics/python/difference-between-dictionary-list-tuple-and-set-in-python/"
   ]
  },
  {
   "cell_type": "code",
   "execution_count": null,
   "id": "d2f1de6f",
   "metadata": {},
   "outputs": [],
   "source": []
  },
  {
   "cell_type": "code",
   "execution_count": null,
   "id": "f2026c5a",
   "metadata": {},
   "outputs": [],
   "source": []
  },
  {
   "cell_type": "code",
   "execution_count": null,
   "id": "517ac513",
   "metadata": {},
   "outputs": [],
   "source": []
  },
  {
   "cell_type": "markdown",
   "id": "18890af1",
   "metadata": {},
   "source": [
    "# Doubts"
   ]
  },
  {
   "cell_type": "code",
   "execution_count": 41,
   "id": "9179f487",
   "metadata": {},
   "outputs": [
    {
     "ename": "NameError",
     "evalue": "name 'i' is not defined",
     "output_type": "error",
     "traceback": [
      "\u001b[0;31m---------------------------------------------------------------------------\u001b[0m",
      "\u001b[0;31mNameError\u001b[0m                                 Traceback (most recent call last)",
      "\u001b[0;32m/var/folders/jn/1bsrct314hv5xmfm7vrcdrzc0000gn/T/ipykernel_16461/1603766563.py\u001b[0m in \u001b[0;36m<module>\u001b[0;34m\u001b[0m\n\u001b[1;32m      1\u001b[0m \u001b[0mls\u001b[0m\u001b[0;34m=\u001b[0m\u001b[0;34m[\u001b[0m\u001b[0;36m1\u001b[0m\u001b[0;34m,\u001b[0m\u001b[0;36m2\u001b[0m\u001b[0;34m,\u001b[0m\u001b[0;36m3\u001b[0m\u001b[0;34m]\u001b[0m\u001b[0;34m\u001b[0m\u001b[0;34m\u001b[0m\u001b[0m\n\u001b[0;32m----> 2\u001b[0;31m \u001b[0mls\u001b[0m \u001b[0;34m=\u001b[0m \u001b[0;34m[\u001b[0m\u001b[0mls\u001b[0m\u001b[0;34m[\u001b[0m\u001b[0mj\u001b[0m\u001b[0;34m]\u001b[0m \u001b[0;32mfor\u001b[0m \u001b[0mj\u001b[0m \u001b[0;32min\u001b[0m \u001b[0mrange\u001b[0m\u001b[0;34m(\u001b[0m\u001b[0mlen\u001b[0m\u001b[0;34m(\u001b[0m\u001b[0mls\u001b[0m\u001b[0;34m)\u001b[0m\u001b[0;34m)\u001b[0m \u001b[0;32mif\u001b[0m \u001b[0;34m(\u001b[0m\u001b[0mj\u001b[0m\u001b[0;34m!=\u001b[0m\u001b[0mi\u001b[0m\u001b[0;34m)\u001b[0m\u001b[0;34m]\u001b[0m\u001b[0;34m\u001b[0m\u001b[0;34m\u001b[0m\u001b[0m\n\u001b[0m",
      "\u001b[0;32m/var/folders/jn/1bsrct314hv5xmfm7vrcdrzc0000gn/T/ipykernel_16461/1603766563.py\u001b[0m in \u001b[0;36m<listcomp>\u001b[0;34m(.0)\u001b[0m\n\u001b[1;32m      1\u001b[0m \u001b[0mls\u001b[0m\u001b[0;34m=\u001b[0m\u001b[0;34m[\u001b[0m\u001b[0;36m1\u001b[0m\u001b[0;34m,\u001b[0m\u001b[0;36m2\u001b[0m\u001b[0;34m,\u001b[0m\u001b[0;36m3\u001b[0m\u001b[0;34m]\u001b[0m\u001b[0;34m\u001b[0m\u001b[0;34m\u001b[0m\u001b[0m\n\u001b[0;32m----> 2\u001b[0;31m \u001b[0mls\u001b[0m \u001b[0;34m=\u001b[0m \u001b[0;34m[\u001b[0m\u001b[0mls\u001b[0m\u001b[0;34m[\u001b[0m\u001b[0mj\u001b[0m\u001b[0;34m]\u001b[0m \u001b[0;32mfor\u001b[0m \u001b[0mj\u001b[0m \u001b[0;32min\u001b[0m \u001b[0mrange\u001b[0m\u001b[0;34m(\u001b[0m\u001b[0mlen\u001b[0m\u001b[0;34m(\u001b[0m\u001b[0mls\u001b[0m\u001b[0;34m)\u001b[0m\u001b[0;34m)\u001b[0m \u001b[0;32mif\u001b[0m \u001b[0;34m(\u001b[0m\u001b[0mj\u001b[0m\u001b[0;34m!=\u001b[0m\u001b[0mi\u001b[0m\u001b[0;34m)\u001b[0m\u001b[0;34m]\u001b[0m\u001b[0;34m\u001b[0m\u001b[0;34m\u001b[0m\u001b[0m\n\u001b[0m",
      "\u001b[0;31mNameError\u001b[0m: name 'i' is not defined"
     ]
    }
   ],
   "source": [
    "ls=[1,2,3]\n",
    "ls = [ls[j] for j in range(len(ls)) if (j!=i)]\n",
    "# List comprehension\n",
    "# Article related to it in Lists 5"
   ]
  },
  {
   "cell_type": "code",
   "execution_count": null,
   "id": "02036371",
   "metadata": {},
   "outputs": [],
   "source": []
  },
  {
   "cell_type": "code",
   "execution_count": null,
   "id": "77db8b99",
   "metadata": {},
   "outputs": [],
   "source": []
  },
  {
   "cell_type": "code",
   "execution_count": null,
   "id": "c4a877cf",
   "metadata": {},
   "outputs": [],
   "source": []
  },
  {
   "cell_type": "code",
   "execution_count": 45,
   "id": "d4b7c6c5",
   "metadata": {},
   "outputs": [],
   "source": [
    "def keysFromValue(d, value):\n",
    "    ans = []\n",
    "    for k in d:\n",
    "        if d[k] == value:\n",
    "            ans.append(k)\n",
    "    return ans"
   ]
  },
  {
   "cell_type": "code",
   "execution_count": 46,
   "id": "a6c3fc47",
   "metadata": {},
   "outputs": [
    {
     "data": {
      "text/plain": [
       "['Punjab', 'Haryana']"
      ]
     },
     "execution_count": 46,
     "metadata": {},
     "output_type": "execute_result"
    }
   ],
   "source": [
    "d = {\n",
    "    \"Punjab\": \"Chandigarh\",\n",
    "    \"Haryana\": \"Chandigarh\",\n",
    "    \"Maharashtra\": \"Mumbai\",\n",
    "    \"Goa\": \"Panaji\",\n",
    "    \"Telangana\": \"Hyderabad\",\n",
    "    \"Andhra Pradesh\": \"Hyderabad\",\n",
    "}\n",
    "\n",
    "keysFromValue(d, 'Chandigarh')"
   ]
  },
  {
   "cell_type": "code",
   "execution_count": 47,
   "id": "998e57b3",
   "metadata": {},
   "outputs": [
    {
     "data": {
      "text/plain": [
       "['Telangana', 'Andhra Pradesh']"
      ]
     },
     "execution_count": 47,
     "metadata": {},
     "output_type": "execute_result"
    }
   ],
   "source": [
    "keysFromValue(d, 'Hyderabad')"
   ]
  },
  {
   "cell_type": "code",
   "execution_count": null,
   "id": "380ce454",
   "metadata": {},
   "outputs": [],
   "source": []
  },
  {
   "cell_type": "code",
   "execution_count": null,
   "id": "ce83f72b",
   "metadata": {},
   "outputs": [],
   "source": []
  },
  {
   "cell_type": "code",
   "execution_count": null,
   "id": "8ab798e6",
   "metadata": {},
   "outputs": [],
   "source": []
  },
  {
   "cell_type": "code",
   "execution_count": 52,
   "id": "a66fb4db",
   "metadata": {},
   "outputs": [
    {
     "name": "stdout",
     "output_type": "stream",
     "text": [
      "(2, 3, [10, 20, 30])\n"
     ]
    }
   ],
   "source": [
    "t = (2, 3, [10, 20])\n",
    "t[2].append(30)\n",
    "print(t)"
   ]
  },
  {
   "cell_type": "code",
   "execution_count": 53,
   "id": "cc5c9fd6",
   "metadata": {},
   "outputs": [],
   "source": [
    "t[2].extend([100, 200])"
   ]
  },
  {
   "cell_type": "code",
   "execution_count": 54,
   "id": "30ba3468",
   "metadata": {},
   "outputs": [
    {
     "data": {
      "text/plain": [
       "[10, 20, 30, 100, 200]"
      ]
     },
     "execution_count": 54,
     "metadata": {},
     "output_type": "execute_result"
    }
   ],
   "source": [
    "t[2]"
   ]
  },
  {
   "cell_type": "code",
   "execution_count": null,
   "id": "1e17b046",
   "metadata": {},
   "outputs": [],
   "source": []
  },
  {
   "cell_type": "code",
   "execution_count": 58,
   "id": "c46122fc",
   "metadata": {},
   "outputs": [
    {
     "name": "stdout",
     "output_type": "stream",
     "text": [
      "(2, 3, [10, 20, 30])\n"
     ]
    }
   ],
   "source": [
    "t = (2, 3, [10, 20])\n",
    "t[2].append(30)\n",
    "print(t)\n",
    "\n",
    "# t[2] += [100, 200]\n",
    "t[2].extend([100, 200])"
   ]
  },
  {
   "cell_type": "code",
   "execution_count": 59,
   "id": "0396e6fb",
   "metadata": {},
   "outputs": [
    {
     "data": {
      "text/plain": [
       "(2, 3, [10, 20, 30, 100, 200])"
      ]
     },
     "execution_count": 59,
     "metadata": {},
     "output_type": "execute_result"
    }
   ],
   "source": [
    "t"
   ]
  },
  {
   "cell_type": "code",
   "execution_count": null,
   "id": "661a9ea2",
   "metadata": {},
   "outputs": [],
   "source": []
  },
  {
   "cell_type": "code",
   "execution_count": null,
   "id": "6da0c07d",
   "metadata": {},
   "outputs": [],
   "source": []
  },
  {
   "cell_type": "code",
   "execution_count": null,
   "id": "a5ae6898",
   "metadata": {},
   "outputs": [],
   "source": []
  },
  {
   "cell_type": "code",
   "execution_count": 57,
   "id": "6058be58",
   "metadata": {},
   "outputs": [
    {
     "ename": "TypeError",
     "evalue": "'tuple' object does not support item assignment",
     "output_type": "error",
     "traceback": [
      "\u001b[0;31m---------------------------------------------------------------------------\u001b[0m",
      "\u001b[0;31mTypeError\u001b[0m                                 Traceback (most recent call last)",
      "\u001b[0;32m/var/folders/jn/1bsrct314hv5xmfm7vrcdrzc0000gn/T/ipykernel_16461/2145509464.py\u001b[0m in \u001b[0;36m<module>\u001b[0;34m\u001b[0m\n\u001b[1;32m      1\u001b[0m \u001b[0mu\u001b[0m \u001b[0;34m=\u001b[0m \u001b[0;34m(\u001b[0m\u001b[0;36m2\u001b[0m\u001b[0;34m,\u001b[0m \u001b[0;36m3\u001b[0m\u001b[0;34m)\u001b[0m\u001b[0;34m\u001b[0m\u001b[0;34m\u001b[0m\u001b[0m\n\u001b[0;32m----> 2\u001b[0;31m \u001b[0mu\u001b[0m\u001b[0;34m[\u001b[0m\u001b[0;36m2\u001b[0m\u001b[0;34m]\u001b[0m \u001b[0;34m=\u001b[0m \u001b[0;36m10\u001b[0m\u001b[0;34m\u001b[0m\u001b[0;34m\u001b[0m\u001b[0m\n\u001b[0m",
      "\u001b[0;31mTypeError\u001b[0m: 'tuple' object does not support item assignment"
     ]
    }
   ],
   "source": [
    "u = (2, 3)\n",
    "u[2] = 10"
   ]
  },
  {
   "cell_type": "code",
   "execution_count": null,
   "id": "a5bd18eb",
   "metadata": {},
   "outputs": [],
   "source": []
  },
  {
   "cell_type": "code",
   "execution_count": null,
   "id": "80ac66ca",
   "metadata": {},
   "outputs": [],
   "source": []
  },
  {
   "cell_type": "code",
   "execution_count": 62,
   "id": "7178d01c",
   "metadata": {},
   "outputs": [
    {
     "name": "stdout",
     "output_type": "stream",
     "text": [
      "<class 'set'>\n"
     ]
    }
   ],
   "source": [
    "s = set()\n",
    "print(type(s))"
   ]
  },
  {
   "cell_type": "code",
   "execution_count": 60,
   "id": "fe40de67",
   "metadata": {},
   "outputs": [
    {
     "name": "stdout",
     "output_type": "stream",
     "text": [
      "<class 'dict'>\n"
     ]
    }
   ],
   "source": [
    "s = {}\n",
    "print(type(s))"
   ]
  },
  {
   "cell_type": "code",
   "execution_count": null,
   "id": "92edc709",
   "metadata": {},
   "outputs": [],
   "source": [
    "# Round brackets - () - tuple\n",
    "# Square brackets - [] - list\n",
    "# Curly brackets = {} - dict"
   ]
  }
 ],
 "metadata": {
  "kernelspec": {
   "display_name": "Python 3 (ipykernel)",
   "language": "python",
   "name": "python3"
  },
  "language_info": {
   "codemirror_mode": {
    "name": "ipython",
    "version": 3
   },
   "file_extension": ".py",
   "mimetype": "text/x-python",
   "name": "python",
   "nbconvert_exporter": "python",
   "pygments_lexer": "ipython3",
   "version": "3.9.12"
  }
 },
 "nbformat": 4,
 "nbformat_minor": 5
}
