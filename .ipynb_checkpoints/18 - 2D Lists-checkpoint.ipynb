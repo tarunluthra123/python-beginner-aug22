{
 "cells": [
  {
   "cell_type": "markdown",
   "id": "459ddfe5",
   "metadata": {},
   "source": [
    "# 2D Lists\n"
   ]
  },
  {
   "cell_type": "code",
   "execution_count": null,
   "id": "5eb1bed4",
   "metadata": {},
   "outputs": [],
   "source": []
  },
  {
   "cell_type": "markdown",
   "id": "57767892",
   "metadata": {},
   "source": [
    "# map function\n",
    "![](https://scaler.com/topics/images/map-in-python.webp)"
   ]
  },
  {
   "cell_type": "code",
   "execution_count": null,
   "id": "9cbc9644",
   "metadata": {},
   "outputs": [],
   "source": []
  },
  {
   "cell_type": "markdown",
   "id": "0c504c4c",
   "metadata": {},
   "source": [
    "#### Given a list of integers, generate a new list containing squares of all numbers"
   ]
  },
  {
   "cell_type": "code",
   "execution_count": 1,
   "id": "75e14904",
   "metadata": {},
   "outputs": [],
   "source": [
    "a = [5, 9, 1, 4, 3]\n",
    "\n",
    "# No modifications to the original list\n",
    "# Expected list is [25, 81, 1, 16, 9]"
   ]
  },
  {
   "cell_type": "code",
   "execution_count": 3,
   "id": "bd769341",
   "metadata": {},
   "outputs": [
    {
     "name": "stdout",
     "output_type": "stream",
     "text": [
      "[25, 81, 1, 16, 9]\n"
     ]
    }
   ],
   "source": [
    "def square(n):\n",
    "    return n * n\n",
    "\n",
    "b = []\n",
    "\n",
    "for x in a:\n",
    "#     b.append(x * x)\n",
    "    b.append(square(x))\n",
    "    \n",
    "print(b)"
   ]
  },
  {
   "cell_type": "code",
   "execution_count": 6,
   "id": "cf3fb037",
   "metadata": {},
   "outputs": [
    {
     "name": "stdout",
     "output_type": "stream",
     "text": [
      "<map object at 0x1047279a0>\n"
     ]
    }
   ],
   "source": [
    "def square(n):\n",
    "    return n * n\n",
    "\n",
    "a = [5, 9, 1, 4, 3]\n",
    "b = map(square, a)\n",
    "\n",
    "print(b)"
   ]
  },
  {
   "cell_type": "code",
   "execution_count": 7,
   "id": "fabba7d0",
   "metadata": {},
   "outputs": [
    {
     "name": "stdout",
     "output_type": "stream",
     "text": [
      "[25, 81, 1, 16, 9]\n"
     ]
    }
   ],
   "source": [
    "def square(n):\n",
    "    return n * n\n",
    "\n",
    "a = [5, 9, 1, 4, 3]\n",
    "b = list(map(square, a))\n",
    "# Convert map object to list\n",
    "\n",
    "print(b)"
   ]
  },
  {
   "cell_type": "code",
   "execution_count": null,
   "id": "1ea818d1",
   "metadata": {},
   "outputs": [],
   "source": []
  },
  {
   "cell_type": "code",
   "execution_count": 8,
   "id": "15fd126e",
   "metadata": {},
   "outputs": [
    {
     "name": "stdout",
     "output_type": "stream",
     "text": [
      "[125, 729, 1, 64, 27]\n"
     ]
    }
   ],
   "source": [
    "def cube(x):\n",
    "    return x ** 3\n",
    "\n",
    "a = [5, 9, 1, 4, 3]\n",
    "b = list(map(cube, a))\n",
    "\n",
    "print(b)"
   ]
  },
  {
   "cell_type": "code",
   "execution_count": null,
   "id": "43664ff5",
   "metadata": {},
   "outputs": [],
   "source": []
  },
  {
   "cell_type": "code",
   "execution_count": 11,
   "id": "09669277",
   "metadata": {},
   "outputs": [
    {
     "name": "stdout",
     "output_type": "stream",
     "text": [
      "[15, 19, 11, 14, 13]\n"
     ]
    }
   ],
   "source": [
    "def random(x):\n",
    "    return x + 10\n",
    "\n",
    "a = [5, 9, 1, 4, 3]\n",
    "b = list(map(random, a))\n",
    "\n",
    "print(b)"
   ]
  },
  {
   "cell_type": "code",
   "execution_count": null,
   "id": "38d6a80c",
   "metadata": {},
   "outputs": [],
   "source": []
  },
  {
   "cell_type": "code",
   "execution_count": 12,
   "id": "ccd548ca",
   "metadata": {},
   "outputs": [
    {
     "ename": "TypeError",
     "evalue": "random() missing 1 required positional argument: 'y'",
     "output_type": "error",
     "traceback": [
      "\u001b[0;31m---------------------------------------------------------------------------\u001b[0m",
      "\u001b[0;31mTypeError\u001b[0m                                 Traceback (most recent call last)",
      "\u001b[0;32m/var/folders/jn/1bsrct314hv5xmfm7vrcdrzc0000gn/T/ipykernel_80112/790208713.py\u001b[0m in \u001b[0;36m<module>\u001b[0;34m\u001b[0m\n\u001b[1;32m      4\u001b[0m \u001b[0;34m\u001b[0m\u001b[0m\n\u001b[1;32m      5\u001b[0m \u001b[0ma\u001b[0m \u001b[0;34m=\u001b[0m \u001b[0;34m[\u001b[0m\u001b[0;36m5\u001b[0m\u001b[0;34m,\u001b[0m \u001b[0;36m9\u001b[0m\u001b[0;34m,\u001b[0m \u001b[0;36m1\u001b[0m\u001b[0;34m,\u001b[0m \u001b[0;36m4\u001b[0m\u001b[0;34m,\u001b[0m \u001b[0;36m3\u001b[0m\u001b[0;34m]\u001b[0m\u001b[0;34m\u001b[0m\u001b[0;34m\u001b[0m\u001b[0m\n\u001b[0;32m----> 6\u001b[0;31m \u001b[0mb\u001b[0m \u001b[0;34m=\u001b[0m \u001b[0mlist\u001b[0m\u001b[0;34m(\u001b[0m\u001b[0mmap\u001b[0m\u001b[0;34m(\u001b[0m\u001b[0mrandom\u001b[0m\u001b[0;34m,\u001b[0m \u001b[0ma\u001b[0m\u001b[0;34m)\u001b[0m\u001b[0;34m)\u001b[0m\u001b[0;34m\u001b[0m\u001b[0;34m\u001b[0m\u001b[0m\n\u001b[0m\u001b[1;32m      7\u001b[0m \u001b[0;34m\u001b[0m\u001b[0m\n\u001b[1;32m      8\u001b[0m \u001b[0mprint\u001b[0m\u001b[0;34m(\u001b[0m\u001b[0mb\u001b[0m\u001b[0;34m)\u001b[0m\u001b[0;34m\u001b[0m\u001b[0;34m\u001b[0m\u001b[0m\n",
      "\u001b[0;31mTypeError\u001b[0m: random() missing 1 required positional argument: 'y'"
     ]
    }
   ],
   "source": [
    "# Map function is going to call the given function with only one argument\n",
    "def random(x, y):\n",
    "    return x + y\n",
    "\n",
    "a = [5, 9, 1, 4, 3]\n",
    "b = list(map(random, a))\n",
    "\n",
    "print(b)"
   ]
  },
  {
   "cell_type": "code",
   "execution_count": null,
   "id": "81765c95",
   "metadata": {},
   "outputs": [],
   "source": []
  },
  {
   "cell_type": "code",
   "execution_count": 18,
   "id": "e3e2b6e1",
   "metadata": {},
   "outputs": [
    {
     "name": "stdout",
     "output_type": "stream",
     "text": [
      "(15, 19, 11, 14, 13)\n"
     ]
    }
   ],
   "source": [
    "def random(x):\n",
    "    return x + 10\n",
    "\n",
    "a = [5, 9, 1, 4, 3]\n",
    "b = tuple(map(random, a))\n",
    "\n",
    "print(b)"
   ]
  },
  {
   "cell_type": "code",
   "execution_count": null,
   "id": "1668d86b",
   "metadata": {},
   "outputs": [],
   "source": []
  },
  {
   "cell_type": "code",
   "execution_count": null,
   "id": "5bef70ce",
   "metadata": {},
   "outputs": [],
   "source": []
  },
  {
   "cell_type": "markdown",
   "id": "cceaad18",
   "metadata": {},
   "source": [
    "#### Input parsing using int"
   ]
  },
  {
   "cell_type": "code",
   "execution_count": 19,
   "id": "50c37436",
   "metadata": {},
   "outputs": [
    {
     "name": "stdout",
     "output_type": "stream",
     "text": [
      "[10, 5, 2, 6]\n"
     ]
    }
   ],
   "source": [
    "l = [\"10\", \"5\", \"2\", \"6\"]\n",
    "\n",
    "# I want l = [10, 5, 2, 6]\n",
    "\n",
    "# for i in range(len(l)):\n",
    "#     l[i] = int(l[i])\n",
    "\n",
    "b = list(map(int, l))\n",
    "print(b)"
   ]
  },
  {
   "cell_type": "code",
   "execution_count": null,
   "id": "e4897db8",
   "metadata": {},
   "outputs": [],
   "source": []
  },
  {
   "cell_type": "code",
   "execution_count": null,
   "id": "91cd45c7",
   "metadata": {},
   "outputs": [],
   "source": [
    "10 7 2 5 1"
   ]
  },
  {
   "cell_type": "code",
   "execution_count": 20,
   "id": "04519aa9",
   "metadata": {},
   "outputs": [
    {
     "name": "stdout",
     "output_type": "stream",
     "text": [
      "10 7 2 5 1\n"
     ]
    }
   ],
   "source": [
    "s = input()"
   ]
  },
  {
   "cell_type": "code",
   "execution_count": 21,
   "id": "c0854346",
   "metadata": {},
   "outputs": [
    {
     "name": "stdout",
     "output_type": "stream",
     "text": [
      "10 7 2 5 1 <class 'str'>\n"
     ]
    }
   ],
   "source": [
    "print(s, type(s))"
   ]
  },
  {
   "cell_type": "code",
   "execution_count": 23,
   "id": "38fac5ec",
   "metadata": {},
   "outputs": [
    {
     "name": "stdout",
     "output_type": "stream",
     "text": [
      "['10', '7', '2', '5', '1']\n",
      "[10, 7, 2, 5, 1]\n"
     ]
    }
   ],
   "source": [
    "s = input()\n",
    "\n",
    "l = s.split()\n",
    "print(l)\n",
    "\n",
    "b = list(map(int, l))\n",
    "print(b)"
   ]
  },
  {
   "cell_type": "code",
   "execution_count": null,
   "id": "053a197c",
   "metadata": {},
   "outputs": [],
   "source": [
    "l = input().split()\n",
    "\n",
    "print(l)\n",
    "\n",
    "b = list(map(int, l))\n",
    "print(b)"
   ]
  },
  {
   "cell_type": "markdown",
   "id": "5a9b8cbf",
   "metadata": {},
   "source": [
    "## One line code for reading and parsing list input"
   ]
  },
  {
   "cell_type": "code",
   "execution_count": 24,
   "id": "9b04e024",
   "metadata": {},
   "outputs": [
    {
     "name": "stdout",
     "output_type": "stream",
     "text": [
      "10 7 2 5 1\n"
     ]
    }
   ],
   "source": [
    "a = list(map(int, input().split()))"
   ]
  },
  {
   "cell_type": "code",
   "execution_count": 25,
   "id": "07b7ba7c",
   "metadata": {},
   "outputs": [
    {
     "data": {
      "text/plain": [
       "[10, 7, 2, 5, 1]"
      ]
     },
     "execution_count": 25,
     "metadata": {},
     "output_type": "execute_result"
    }
   ],
   "source": [
    "a"
   ]
  },
  {
   "cell_type": "code",
   "execution_count": null,
   "id": "e74c33f0",
   "metadata": {},
   "outputs": [],
   "source": []
  },
  {
   "cell_type": "markdown",
   "id": "6e1fcb43",
   "metadata": {},
   "source": [
    "### Quiz 1\n",
    "```py\n",
    "def find_sqr(x):\n",
    "    return x*x*2\n",
    "\n",
    "l = [1, 2, 3]\n",
    "res = list(map(find_sqr, l))\n",
    "\n",
    "print(res)\n",
    "```"
   ]
  },
  {
   "cell_type": "code",
   "execution_count": 26,
   "id": "38943d0a",
   "metadata": {},
   "outputs": [
    {
     "name": "stdout",
     "output_type": "stream",
     "text": [
      "[2, 8, 18]\n"
     ]
    }
   ],
   "source": [
    "def find_sqr(x):\n",
    "    # 2*(x^2)\n",
    "    return x*x*2\n",
    "\n",
    "l = [1, 2, 3]\n",
    "res = list(map(find_sqr, l))\n",
    "\n",
    "print(res)"
   ]
  },
  {
   "cell_type": "code",
   "execution_count": null,
   "id": "1a6fa8eb",
   "metadata": {},
   "outputs": [],
   "source": []
  },
  {
   "cell_type": "markdown",
   "id": "9c13e5ea",
   "metadata": {},
   "source": [
    "#### Quiz 2\n",
    "```py\n",
    "l = [1, 2]  \n",
    "l.append(0)\n",
    "\n",
    "  \n",
    "l.append(3)  \n",
    "l = l + [3]  \n",
    "print(l)\n",
    "```"
   ]
  },
  {
   "cell_type": "code",
   "execution_count": 27,
   "id": "e84309f1",
   "metadata": {},
   "outputs": [
    {
     "name": "stdout",
     "output_type": "stream",
     "text": [
      "[1, 2, 0, 3, 3]\n"
     ]
    }
   ],
   "source": [
    "l = [1, 2]  \n",
    "l.append(0)\n",
    "# l = [1,2,0]\n",
    "\n",
    "l.append(3)  \n",
    "# l = [1,2,0,3]\n",
    "l = l + [3]  \n",
    "print(l)"
   ]
  },
  {
   "cell_type": "code",
   "execution_count": null,
   "id": "bddc13a2",
   "metadata": {},
   "outputs": [],
   "source": []
  },
  {
   "cell_type": "markdown",
   "id": "fd57fbe0",
   "metadata": {},
   "source": [
    "#### Quiz 3\n",
    "```py\n",
    "l = []\n",
    "odi = [120, 30, 50]\n",
    "l.extend(odi)\n",
    "print(l)\n",
    "```"
   ]
  },
  {
   "cell_type": "code",
   "execution_count": 28,
   "id": "6020b44c",
   "metadata": {},
   "outputs": [
    {
     "name": "stdout",
     "output_type": "stream",
     "text": [
      "[120, 30, 50]\n"
     ]
    }
   ],
   "source": [
    "l = []\n",
    "odi = [120, 30, 50]\n",
    "l.extend(odi)\n",
    "print(l)"
   ]
  },
  {
   "cell_type": "code",
   "execution_count": null,
   "id": "cf2aa00a",
   "metadata": {},
   "outputs": [],
   "source": []
  },
  {
   "cell_type": "code",
   "execution_count": 29,
   "id": "67291130",
   "metadata": {},
   "outputs": [
    {
     "name": "stdout",
     "output_type": "stream",
     "text": [
      "[2, 3, 9, 10]\n"
     ]
    }
   ],
   "source": [
    "a = [2, 3]\n",
    "b = [9, 10]\n",
    "\n",
    "a.extend(b)\n",
    "print(a)"
   ]
  },
  {
   "cell_type": "code",
   "execution_count": null,
   "id": "100b8caa",
   "metadata": {},
   "outputs": [],
   "source": []
  },
  {
   "cell_type": "markdown",
   "id": "806f0e32",
   "metadata": {},
   "source": [
    "#### Quiz 4\n",
    "```py\n",
    "l = []\n",
    "odi = [120, 30, 50]\n",
    "l.append(odi)\n",
    "print(l)\n",
    "```"
   ]
  },
  {
   "cell_type": "code",
   "execution_count": 30,
   "id": "379646b7",
   "metadata": {},
   "outputs": [
    {
     "name": "stdout",
     "output_type": "stream",
     "text": [
      "[[120, 30, 50]]\n"
     ]
    }
   ],
   "source": [
    "l = []\n",
    "odi = [120, 30, 50]\n",
    "l.append(odi)\n",
    "print(l)"
   ]
  },
  {
   "cell_type": "code",
   "execution_count": 32,
   "id": "6c87537c",
   "metadata": {},
   "outputs": [
    {
     "data": {
      "text/plain": [
       "[120, 30, 50]"
      ]
     },
     "execution_count": 32,
     "metadata": {},
     "output_type": "execute_result"
    }
   ],
   "source": [
    "l[0]"
   ]
  },
  {
   "cell_type": "code",
   "execution_count": null,
   "id": "117e4498",
   "metadata": {},
   "outputs": [],
   "source": []
  },
  {
   "cell_type": "code",
   "execution_count": 31,
   "id": "79dad846",
   "metadata": {},
   "outputs": [
    {
     "name": "stdout",
     "output_type": "stream",
     "text": [
      "[2, 3, [5, 6]]\n"
     ]
    }
   ],
   "source": [
    "a = [2,3]\n",
    "b = [5,6]\n",
    "a.append(b)\n",
    "print(a)"
   ]
  },
  {
   "cell_type": "code",
   "execution_count": null,
   "id": "cedecabd",
   "metadata": {},
   "outputs": [],
   "source": []
  },
  {
   "cell_type": "code",
   "execution_count": null,
   "id": "a7c76715",
   "metadata": {},
   "outputs": [],
   "source": []
  },
  {
   "cell_type": "code",
   "execution_count": null,
   "id": "e257311e",
   "metadata": {},
   "outputs": [],
   "source": []
  },
  {
   "cell_type": "code",
   "execution_count": null,
   "id": "e2df7ede",
   "metadata": {},
   "outputs": [],
   "source": []
  },
  {
   "cell_type": "markdown",
   "id": "ff8accde",
   "metadata": {},
   "source": [
    "## 2D Lists\n",
    "![](https://scaler.com/topics/images/2d-array-python.webp)"
   ]
  },
  {
   "cell_type": "code",
   "execution_count": 42,
   "id": "acfc6642",
   "metadata": {},
   "outputs": [],
   "source": [
    "a = [\n",
    "    [10, 20], # Row 0\n",
    "    [30, 40], # Row 1\n",
    "    [50, 60], # Row 2\n",
    "    [70, 80], # Row 3\n",
    "    [90, 100], # Row 4\n",
    "    [110, 120],\n",
    "    [130, 140],\n",
    "    [150, 160]\n",
    "]\n",
    "# a is a list of lists = 2 Dimensional List\n",
    "# Each of the sublist is representing a row"
   ]
  },
  {
   "cell_type": "code",
   "execution_count": 43,
   "id": "d542a8cb",
   "metadata": {},
   "outputs": [
    {
     "data": {
      "text/plain": [
       "[[10, 20],\n",
       " [30, 40],\n",
       " [50, 60],\n",
       " [70, 80],\n",
       " [90, 100],\n",
       " [110, 120],\n",
       " [130, 140],\n",
       " [150, 160]]"
      ]
     },
     "execution_count": 43,
     "metadata": {},
     "output_type": "execute_result"
    }
   ],
   "source": [
    "a"
   ]
  },
  {
   "cell_type": "code",
   "execution_count": 35,
   "id": "37ff4d4e",
   "metadata": {},
   "outputs": [
    {
     "name": "stdout",
     "output_type": "stream",
     "text": [
      "[10, 20]\n"
     ]
    }
   ],
   "source": [
    "print(a[0])"
   ]
  },
  {
   "cell_type": "code",
   "execution_count": 36,
   "id": "b6816366",
   "metadata": {},
   "outputs": [
    {
     "data": {
      "text/plain": [
       "[30, 40]"
      ]
     },
     "execution_count": 36,
     "metadata": {},
     "output_type": "execute_result"
    }
   ],
   "source": [
    "a[1]"
   ]
  },
  {
   "cell_type": "code",
   "execution_count": 37,
   "id": "9162212d",
   "metadata": {},
   "outputs": [
    {
     "data": {
      "text/plain": [
       "[50, 60]"
      ]
     },
     "execution_count": 37,
     "metadata": {},
     "output_type": "execute_result"
    }
   ],
   "source": [
    "a[2]"
   ]
  },
  {
   "cell_type": "code",
   "execution_count": 38,
   "id": "61ecc01d",
   "metadata": {},
   "outputs": [
    {
     "data": {
      "text/plain": [
       "[10, 20]"
      ]
     },
     "execution_count": 38,
     "metadata": {},
     "output_type": "execute_result"
    }
   ],
   "source": [
    "a[0]"
   ]
  },
  {
   "cell_type": "code",
   "execution_count": 39,
   "id": "5dd146a9",
   "metadata": {},
   "outputs": [
    {
     "data": {
      "text/plain": [
       "20"
      ]
     },
     "execution_count": 39,
     "metadata": {},
     "output_type": "execute_result"
    }
   ],
   "source": [
    "a[0][1]"
   ]
  },
  {
   "cell_type": "code",
   "execution_count": null,
   "id": "a3258ed8",
   "metadata": {},
   "outputs": [],
   "source": []
  },
  {
   "cell_type": "code",
   "execution_count": 47,
   "id": "2105d8ae",
   "metadata": {},
   "outputs": [],
   "source": [
    "a = [\n",
    "    [10, 20], # Row 0\n",
    "    [30, 40, 67], # Row 1\n",
    "    [50, 60, 56, 345], # Row 2\n",
    "    [70, 80, 11], # Row 3\n",
    "    [90], # Row 4\n",
    "]"
   ]
  },
  {
   "cell_type": "code",
   "execution_count": 45,
   "id": "9d479791",
   "metadata": {},
   "outputs": [
    {
     "data": {
      "text/plain": [
       "5"
      ]
     },
     "execution_count": 45,
     "metadata": {},
     "output_type": "execute_result"
    }
   ],
   "source": [
    "len(a) # No of rows"
   ]
  },
  {
   "cell_type": "code",
   "execution_count": 46,
   "id": "e53e67a2",
   "metadata": {},
   "outputs": [
    {
     "data": {
      "text/plain": [
       "2"
      ]
     },
     "execution_count": 46,
     "metadata": {},
     "output_type": "execute_result"
    }
   ],
   "source": [
    "len(a[0]) # No of columns in Row 0"
   ]
  },
  {
   "cell_type": "code",
   "execution_count": 48,
   "id": "0ba3694f",
   "metadata": {},
   "outputs": [
    {
     "data": {
      "text/plain": [
       "3"
      ]
     },
     "execution_count": 48,
     "metadata": {},
     "output_type": "execute_result"
    }
   ],
   "source": [
    "len(a[1])"
   ]
  },
  {
   "cell_type": "code",
   "execution_count": null,
   "id": "c725ee42",
   "metadata": {},
   "outputs": [],
   "source": []
  },
  {
   "cell_type": "code",
   "execution_count": null,
   "id": "685292d0",
   "metadata": {},
   "outputs": [],
   "source": []
  },
  {
   "cell_type": "code",
   "execution_count": null,
   "id": "bdc1c4c7",
   "metadata": {},
   "outputs": [],
   "source": []
  },
  {
   "cell_type": "code",
   "execution_count": null,
   "id": "5007415b",
   "metadata": {},
   "outputs": [],
   "source": []
  },
  {
   "cell_type": "code",
   "execution_count": null,
   "id": "6b8e381f",
   "metadata": {},
   "outputs": [],
   "source": []
  },
  {
   "cell_type": "code",
   "execution_count": null,
   "id": "9144a738",
   "metadata": {},
   "outputs": [],
   "source": []
  },
  {
   "cell_type": "markdown",
   "id": "f85e4370",
   "metadata": {},
   "source": [
    "## Rowwise Sum\n",
    "![](https://scaler.com/topics/images/sum-in-python.webp)"
   ]
  },
  {
   "cell_type": "code",
   "execution_count": null,
   "id": "b0f663f0",
   "metadata": {},
   "outputs": [],
   "source": []
  },
  {
   "cell_type": "code",
   "execution_count": null,
   "id": "5568c42e",
   "metadata": {},
   "outputs": [],
   "source": []
  },
  {
   "cell_type": "code",
   "execution_count": null,
   "id": "46223b3c",
   "metadata": {},
   "outputs": [],
   "source": []
  },
  {
   "cell_type": "code",
   "execution_count": null,
   "id": "4a54529e",
   "metadata": {},
   "outputs": [],
   "source": []
  },
  {
   "cell_type": "code",
   "execution_count": null,
   "id": "288f0ad7",
   "metadata": {},
   "outputs": [],
   "source": []
  },
  {
   "cell_type": "code",
   "execution_count": null,
   "id": "24d63316",
   "metadata": {},
   "outputs": [],
   "source": []
  },
  {
   "cell_type": "code",
   "execution_count": null,
   "id": "d4e331cd",
   "metadata": {},
   "outputs": [],
   "source": []
  },
  {
   "cell_type": "markdown",
   "id": "dd4b4517",
   "metadata": {},
   "source": [
    "# Bonus Reading Material\n",
    "- map() in Python - https://www.scaler.com/topics/map-function-in-python/\n",
    "- What is Nested List in Python? - https://www.scaler.com/topics/nested-list-in-python/\n",
    "- 2D Array in Python- https://www.scaler.com/topics/2d-array-in-python/\n",
    "- Transpose of a Matrix in Python - https://www.scaler.com/topics/transpose-of-a-matrix-in-python/\n",
    "- Sum() in Python - https://www.scaler.com/topics/sum-in-python/"
   ]
  },
  {
   "cell_type": "code",
   "execution_count": null,
   "id": "15e72dca",
   "metadata": {},
   "outputs": [],
   "source": []
  }
 ],
 "metadata": {
  "kernelspec": {
   "display_name": "Python 3 (ipykernel)",
   "language": "python",
   "name": "python3"
  },
  "language_info": {
   "codemirror_mode": {
    "name": "ipython",
    "version": 3
   },
   "file_extension": ".py",
   "mimetype": "text/x-python",
   "name": "python",
   "nbconvert_exporter": "python",
   "pygments_lexer": "ipython3",
   "version": "3.9.12"
  }
 },
 "nbformat": 4,
 "nbformat_minor": 5
}
