{
 "cells": [
  {
   "cell_type": "markdown",
   "id": "4cfc177c",
   "metadata": {},
   "source": [
    "# 2D Arrays - 2\n",
    "![](https://scaler.com/topics/images/two-dimensional-array-in-c.webp)"
   ]
  },
  {
   "cell_type": "code",
   "execution_count": null,
   "id": "67ae9821",
   "metadata": {},
   "outputs": [],
   "source": []
  },
  {
   "cell_type": "code",
   "execution_count": null,
   "id": "dfec9c06",
   "metadata": {},
   "outputs": [],
   "source": []
  },
  {
   "cell_type": "code",
   "execution_count": null,
   "id": "d1a9bdbc",
   "metadata": {},
   "outputs": [],
   "source": []
  },
  {
   "cell_type": "code",
   "execution_count": null,
   "id": "2befa049",
   "metadata": {},
   "outputs": [],
   "source": []
  },
  {
   "cell_type": "markdown",
   "id": "93e8f697",
   "metadata": {},
   "source": [
    "### Reading 2D Array Input\n",
    "![](https://scaler.com/topics/images/raw-input-in-python.webp)"
   ]
  },
  {
   "cell_type": "markdown",
   "id": "34e2841e",
   "metadata": {},
   "source": [
    "### Sample Input\n",
    "```\n",
    "2 3\n",
    "10 20 30\n",
    "40 50 60\n",
    "```\n",
    "\n",
    "2 Rows \\\n",
    "3 Columns\n"
   ]
  },
  {
   "cell_type": "code",
   "execution_count": null,
   "id": "86b18688",
   "metadata": {},
   "outputs": [],
   "source": [
    "r = int(input())\n",
    "c = int(input())\n",
    "\n",
    "# This is wrong. 2 3 is given in one line."
   ]
  },
  {
   "cell_type": "code",
   "execution_count": 23,
   "id": "e7b0bdfb",
   "metadata": {},
   "outputs": [
    {
     "name": "stdout",
     "output_type": "stream",
     "text": [
      "2 3\n"
     ]
    }
   ],
   "source": [
    "noOfRows, noOfCols = map(int, input().split())"
   ]
  },
  {
   "cell_type": "code",
   "execution_count": 24,
   "id": "94abe33b",
   "metadata": {},
   "outputs": [
    {
     "name": "stdout",
     "output_type": "stream",
     "text": [
      "2 3\n"
     ]
    }
   ],
   "source": [
    "print(noOfRows, noOfCols)"
   ]
  },
  {
   "cell_type": "code",
   "execution_count": 25,
   "id": "2f8c464e",
   "metadata": {},
   "outputs": [
    {
     "name": "stdout",
     "output_type": "stream",
     "text": [
      "10 20 30\n",
      "40 50 60\n"
     ]
    }
   ],
   "source": [
    "A = []\n",
    "\n",
    "for i in range(noOfRows):\n",
    "    row = list(map(int, input().split()))\n",
    "    A.append(row)\n"
   ]
  },
  {
   "cell_type": "code",
   "execution_count": null,
   "id": "9710fe8f",
   "metadata": {},
   "outputs": [],
   "source": []
  },
  {
   "cell_type": "code",
   "execution_count": 26,
   "id": "223a7f75",
   "metadata": {},
   "outputs": [
    {
     "name": "stdout",
     "output_type": "stream",
     "text": [
      "2 3\n",
      "10 20 30\n",
      "40 50 60\n",
      "[[10, 20, 30], [40, 50, 60]]\n"
     ]
    }
   ],
   "source": [
    "def readMatrixInput():\n",
    "    noOfRows, noOfCols = map(int, input().split())\n",
    "    \n",
    "    A = []\n",
    "    for i in range(noOfRows):\n",
    "        row = list(map(int, input().split()))\n",
    "        A.append(row)\n",
    "        \n",
    "    return A\n",
    "\n",
    "A = readMatrixInput()\n",
    "print(A)"
   ]
  },
  {
   "cell_type": "code",
   "execution_count": null,
   "id": "1295781a",
   "metadata": {},
   "outputs": [],
   "source": []
  },
  {
   "cell_type": "code",
   "execution_count": null,
   "id": "6575f36b",
   "metadata": {},
   "outputs": [],
   "source": [
    "a,b,c = 10,20,30\n",
    "print(a, b, c)"
   ]
  },
  {
   "cell_type": "code",
   "execution_count": null,
   "id": "6e1298eb",
   "metadata": {},
   "outputs": [],
   "source": []
  },
  {
   "cell_type": "code",
   "execution_count": 18,
   "id": "4b3f95ef",
   "metadata": {},
   "outputs": [
    {
     "data": {
      "text/plain": [
       "['hello', 'world']"
      ]
     },
     "execution_count": 18,
     "metadata": {},
     "output_type": "execute_result"
    }
   ],
   "source": [
    "s = \"hello world\"\n",
    "s.split()"
   ]
  },
  {
   "cell_type": "code",
   "execution_count": 27,
   "id": "72c3a84a",
   "metadata": {},
   "outputs": [
    {
     "ename": "ValueError",
     "evalue": "too many values to unpack (expected 2)",
     "output_type": "error",
     "traceback": [
      "\u001b[0;31m---------------------------------------------------------------------------\u001b[0m",
      "\u001b[0;31mValueError\u001b[0m                                Traceback (most recent call last)",
      "\u001b[0;32m/var/folders/jn/1bsrct314hv5xmfm7vrcdrzc0000gn/T/ipykernel_1784/3171707677.py\u001b[0m in \u001b[0;36m<module>\u001b[0;34m\u001b[0m\n\u001b[0;32m----> 1\u001b[0;31m \u001b[0ma\u001b[0m\u001b[0;34m,\u001b[0m\u001b[0mb\u001b[0m \u001b[0;34m=\u001b[0m \u001b[0;36m10\u001b[0m\u001b[0;34m,\u001b[0m\u001b[0;36m20\u001b[0m\u001b[0;34m,\u001b[0m\u001b[0;36m30\u001b[0m\u001b[0;34m\u001b[0m\u001b[0;34m\u001b[0m\u001b[0m\n\u001b[0m",
      "\u001b[0;31mValueError\u001b[0m: too many values to unpack (expected 2)"
     ]
    }
   ],
   "source": [
    "a,b = 10,20,30"
   ]
  },
  {
   "cell_type": "code",
   "execution_count": null,
   "id": "d984cd75",
   "metadata": {},
   "outputs": [],
   "source": []
  },
  {
   "cell_type": "code",
   "execution_count": null,
   "id": "0b5541b1",
   "metadata": {},
   "outputs": [],
   "source": []
  },
  {
   "cell_type": "code",
   "execution_count": null,
   "id": "447976a9",
   "metadata": {},
   "outputs": [],
   "source": []
  },
  {
   "cell_type": "markdown",
   "id": "ba6500e1",
   "metadata": {},
   "source": [
    "### Sum of two matrices"
   ]
  },
  {
   "cell_type": "code",
   "execution_count": 14,
   "id": "f38ddd8e",
   "metadata": {},
   "outputs": [],
   "source": [
    "# This function should return the resultant matrix\n",
    "# A and B are matrices of same dimensions\n",
    "def sumOfMatrices(A, B):\n",
    "    C = [] # empty list\n",
    "    \n",
    "    rows = len(A)\n",
    "    cols = len(A[0])\n",
    "    \n",
    "    for i in range(rows):\n",
    "        sumRow = []\n",
    "        for j in range(cols):\n",
    "            s = A[i][j] + B[i][j]\n",
    "            sumRow.append(s)\n",
    "            # C.append(s) -> 1D list\n",
    "            # C[i][j] = s -> error\n",
    "        \n",
    "        C.append(sumRow)\n",
    "    \n",
    "    return C\n",
    "\n",
    "# Put row inside C"
   ]
  },
  {
   "cell_type": "code",
   "execution_count": 15,
   "id": "78228033",
   "metadata": {},
   "outputs": [
    {
     "name": "stdout",
     "output_type": "stream",
     "text": [
      "[[-1, 7], [12, 14]]\n"
     ]
    }
   ],
   "source": [
    "A = [\n",
    "    [1, 2],\n",
    "    [3, 4]\n",
    "]\n",
    "\n",
    "B = [\n",
    "    [-2, 5],\n",
    "    [9, 10],\n",
    "]\n",
    "\n",
    "C = sumOfMatrices(A, B)\n",
    "\n",
    "print(C)"
   ]
  },
  {
   "cell_type": "code",
   "execution_count": null,
   "id": "5a6b9626",
   "metadata": {},
   "outputs": [],
   "source": []
  },
  {
   "cell_type": "code",
   "execution_count": null,
   "id": "2e656bc7",
   "metadata": {},
   "outputs": [],
   "source": [
    "def sumOfMatrices(A, B):\n",
    "    C = [] # empty list\n",
    "    \n",
    "    rows = len(A)\n",
    "    cols = len(A[0])\n",
    "    \n",
    "    for i in range(rows):\n",
    "        sumRow = []\n",
    "        for j in range(cols):\n",
    "            s = A[i][j] + B[i][j]\n",
    "            sumRow.append(s)\n",
    "        \n",
    "        C.append(sumRow)\n",
    "    \n",
    "    return C"
   ]
  },
  {
   "cell_type": "code",
   "execution_count": null,
   "id": "e1d7aa30",
   "metadata": {},
   "outputs": [],
   "source": []
  },
  {
   "cell_type": "code",
   "execution_count": null,
   "id": "f365080b",
   "metadata": {},
   "outputs": [],
   "source": []
  },
  {
   "cell_type": "code",
   "execution_count": null,
   "id": "798df103",
   "metadata": {},
   "outputs": [],
   "source": []
  },
  {
   "cell_type": "code",
   "execution_count": null,
   "id": "69aaca93",
   "metadata": {},
   "outputs": [],
   "source": []
  },
  {
   "cell_type": "markdown",
   "id": "d4cdf262",
   "metadata": {},
   "source": [
    "### Swap two numbers\n",
    "![](https://scaler.com/topics/images/swapping-of-two-numbers-in-python.webp)"
   ]
  },
  {
   "cell_type": "code",
   "execution_count": 1,
   "id": "ba17732e",
   "metadata": {},
   "outputs": [
    {
     "name": "stdout",
     "output_type": "stream",
     "text": [
      "6\n",
      "10\n"
     ]
    }
   ],
   "source": [
    "a = 10\n",
    "b = 6\n",
    "\n",
    "# Swap a & b\n",
    "a, b = b, a\n",
    "\n",
    "# After swapping\n",
    "print(a) # 6\n",
    "print(b) # 10"
   ]
  },
  {
   "cell_type": "code",
   "execution_count": null,
   "id": "9d168372",
   "metadata": {},
   "outputs": [],
   "source": [
    "# Lots of ways of swapping\n",
    "1. Use a temp variable\n",
    "2. Uses addition & subtraction\n",
    "3. XOR - Bit Manipulation\n",
    "4. Simplest way - Unique to Python (Above method)"
   ]
  },
  {
   "cell_type": "code",
   "execution_count": null,
   "id": "8b74a795",
   "metadata": {},
   "outputs": [],
   "source": []
  },
  {
   "cell_type": "code",
   "execution_count": null,
   "id": "a16c8b21",
   "metadata": {},
   "outputs": [],
   "source": []
  },
  {
   "cell_type": "code",
   "execution_count": null,
   "id": "b200cda1",
   "metadata": {},
   "outputs": [],
   "source": []
  },
  {
   "cell_type": "code",
   "execution_count": null,
   "id": "40dbff75",
   "metadata": {},
   "outputs": [],
   "source": []
  },
  {
   "cell_type": "markdown",
   "id": "0bbe4b32",
   "metadata": {},
   "source": [
    "### Transpose\n",
    "![](https://scaler.com/topics/images/transpose-of-a-matrix-in-python-featured-image.webp)\n",
    "<img src=\"https://scaler.com/topics/images/transpose-of-matrix.webp\" width=\"600px\" />"
   ]
  },
  {
   "cell_type": "code",
   "execution_count": 4,
   "id": "b547657f",
   "metadata": {},
   "outputs": [],
   "source": [
    "# Change A itself\n",
    "# You will always get a square matrix\n",
    "# No return\n",
    "def transpose(A):\n",
    "    for i in range(len(A)):\n",
    "        for j in range(len(A[i])):\n",
    "            A[i][j] = A[j][i]\n",
    "            \n",
    "            \n",
    "## Doesn't work"
   ]
  },
  {
   "cell_type": "code",
   "execution_count": 6,
   "id": "b70be157",
   "metadata": {},
   "outputs": [
    {
     "name": "stdout",
     "output_type": "stream",
     "text": [
      "[[1, 4, 7], [4, 5, 8], [7, 8, 9]]\n"
     ]
    }
   ],
   "source": [
    "# Square matrix\n",
    "A = [\n",
    "    [1, 2, 3],\n",
    "    [4, 5, 6],\n",
    "    [7, 8, 9]\n",
    "]\n",
    "transpose(A)\n",
    "print(A)"
   ]
  },
  {
   "cell_type": "code",
   "execution_count": null,
   "id": "e156dabf",
   "metadata": {},
   "outputs": [],
   "source": []
  },
  {
   "cell_type": "code",
   "execution_count": null,
   "id": "0b832c6f",
   "metadata": {},
   "outputs": [],
   "source": []
  },
  {
   "cell_type": "code",
   "execution_count": 7,
   "id": "dcbbe081",
   "metadata": {},
   "outputs": [],
   "source": [
    "# Change A itself\n",
    "# You will always get a square matrix\n",
    "# No return\n",
    "def transpose(A):\n",
    "    for i in range(len(A)):\n",
    "        for j in range(len(A[i])):\n",
    "            # Swap A[i][j] and A[j][i]\n",
    "            A[i][j], A[j][i] = A[j][i], A[i][j]\n",
    "            \n"
   ]
  },
  {
   "cell_type": "code",
   "execution_count": 8,
   "id": "060dcf3d",
   "metadata": {},
   "outputs": [
    {
     "name": "stdout",
     "output_type": "stream",
     "text": [
      "[[1, 2, 3], [4, 5, 6], [7, 8, 9]]\n"
     ]
    }
   ],
   "source": [
    "# Square matrix\n",
    "A = [\n",
    "    [1, 2, 3],\n",
    "    [4, 5, 6],\n",
    "    [7, 8, 9]\n",
    "]\n",
    "transpose(A)\n",
    "print(A)"
   ]
  },
  {
   "cell_type": "code",
   "execution_count": null,
   "id": "31706a5d",
   "metadata": {},
   "outputs": [],
   "source": []
  },
  {
   "cell_type": "code",
   "execution_count": 9,
   "id": "e1a00474",
   "metadata": {},
   "outputs": [
    {
     "name": "stdout",
     "output_type": "stream",
     "text": [
      "10\n",
      "5\n"
     ]
    }
   ],
   "source": [
    "a = 10\n",
    "b = 5\n",
    "\n",
    "a,b = b,a\n",
    "\n",
    "a,b = b,a\n",
    "\n",
    "print(a)\n",
    "print(b)"
   ]
  },
  {
   "cell_type": "code",
   "execution_count": null,
   "id": "405b121f",
   "metadata": {},
   "outputs": [],
   "source": []
  },
  {
   "cell_type": "markdown",
   "id": "002393df",
   "metadata": {},
   "source": [
    "### Final solution of Transpose - Do it on your own"
   ]
  },
  {
   "cell_type": "code",
   "execution_count": null,
   "id": "1f56c63b",
   "metadata": {},
   "outputs": [],
   "source": []
  },
  {
   "cell_type": "code",
   "execution_count": null,
   "id": "dc08dc50",
   "metadata": {},
   "outputs": [],
   "source": []
  },
  {
   "cell_type": "code",
   "execution_count": null,
   "id": "a6e75558",
   "metadata": {},
   "outputs": [],
   "source": []
  },
  {
   "cell_type": "markdown",
   "id": "81cfe650",
   "metadata": {},
   "source": [
    "### Check Identity Matrix"
   ]
  },
  {
   "cell_type": "code",
   "execution_count": 10,
   "id": "90b436e2",
   "metadata": {},
   "outputs": [],
   "source": [
    "# A is a square matrix\n",
    "# Return a boolean value\n",
    "# If A is an identity matrix -> True\n",
    "# If A is not an identity matrix -> False\n",
    "def checkIdentity(A):\n",
    "    pass"
   ]
  },
  {
   "cell_type": "code",
   "execution_count": 11,
   "id": "9464b324",
   "metadata": {},
   "outputs": [
    {
     "name": "stdout",
     "output_type": "stream",
     "text": [
      "None\n"
     ]
    }
   ],
   "source": [
    "A = [\n",
    "    [1, 0],\n",
    "    [0, 1]\n",
    "]\n",
    "\n",
    "ans = checkIdentity(A)\n",
    "print(ans)"
   ]
  },
  {
   "cell_type": "code",
   "execution_count": null,
   "id": "499ef1bb",
   "metadata": {},
   "outputs": [],
   "source": []
  },
  {
   "cell_type": "code",
   "execution_count": null,
   "id": "06e0fb31",
   "metadata": {},
   "outputs": [],
   "source": []
  },
  {
   "cell_type": "code",
   "execution_count": null,
   "id": "d4330177",
   "metadata": {},
   "outputs": [],
   "source": []
  },
  {
   "cell_type": "markdown",
   "id": "628ce767",
   "metadata": {},
   "source": [
    "## Bonus Reading Material\n",
    "- Wtf Python: A tic-tac-toe where X wins in the first attempt! - https://github.com/satwikkansal/wtfpython#-a-tic-tac-toe-where-x-wins-in-the-first-attempt\n",
    "- Swapping of Two Numbers in Python - https://www.scaler.com/topics/swapping-of-two-numbers-in-python/\n",
    "- Transpose of a Matrix in Python - https://www.scaler.com/topics/transpose-of-a-matrix-in-python/\n",
    "- Matrix Multiplication in Python - https://www.scaler.com/topics/matrix-multiplication-in-python/\n",
    "- What is List Comprehension in Python? - https://www.scaler.com/topics/list-comprehension-in-python/"
   ]
  },
  {
   "cell_type": "code",
   "execution_count": null,
   "id": "5b95b9a5",
   "metadata": {},
   "outputs": [],
   "source": []
  },
  {
   "cell_type": "code",
   "execution_count": null,
   "id": "9366cd12",
   "metadata": {},
   "outputs": [],
   "source": []
  },
  {
   "cell_type": "markdown",
   "id": "dbdd73cf",
   "metadata": {},
   "source": [
    "# Doubts"
   ]
  },
  {
   "cell_type": "code",
   "execution_count": 12,
   "id": "01d14f51",
   "metadata": {},
   "outputs": [
    {
     "ename": "ValueError",
     "evalue": "too many values to unpack (expected 2)",
     "output_type": "error",
     "traceback": [
      "\u001b[0;31m---------------------------------------------------------------------------\u001b[0m",
      "\u001b[0;31mValueError\u001b[0m                                Traceback (most recent call last)",
      "\u001b[0;32m/var/folders/jn/1bsrct314hv5xmfm7vrcdrzc0000gn/T/ipykernel_2494/1629247445.py\u001b[0m in \u001b[0;36m<module>\u001b[0;34m\u001b[0m\n\u001b[0;32m----> 1\u001b[0;31m \u001b[0ma\u001b[0m\u001b[0;34m,\u001b[0m \u001b[0mb\u001b[0m \u001b[0;34m=\u001b[0m \u001b[0;36m7\u001b[0m\u001b[0;34m,\u001b[0m \u001b[0;36m8\u001b[0m\u001b[0;34m,\u001b[0m \u001b[0;36m9\u001b[0m\u001b[0;34m\u001b[0m\u001b[0;34m\u001b[0m\u001b[0m\n\u001b[0m",
      "\u001b[0;31mValueError\u001b[0m: too many values to unpack (expected 2)"
     ]
    }
   ],
   "source": [
    "a, b = 7, 8, 9"
   ]
  },
  {
   "cell_type": "code",
   "execution_count": 22,
   "id": "1e664437",
   "metadata": {},
   "outputs": [],
   "source": [
    "a = 10\n",
    "b = 5\n",
    "\n",
    "a,b = b,a\n",
    "# Swaps a and b"
   ]
  },
  {
   "cell_type": "code",
   "execution_count": 26,
   "id": "c58d3a52",
   "metadata": {},
   "outputs": [
    {
     "name": "stdout",
     "output_type": "stream",
     "text": [
      "a = 5\n",
      "b = 10\n"
     ]
    }
   ],
   "source": [
    "print(\"a =\",a)\n",
    "print(\"b =\",b)"
   ]
  },
  {
   "cell_type": "code",
   "execution_count": null,
   "id": "bbda7630",
   "metadata": {},
   "outputs": [],
   "source": []
  }
 ],
 "metadata": {
  "kernelspec": {
   "display_name": "Python 3 (ipykernel)",
   "language": "python",
   "name": "python3"
  },
  "language_info": {
   "codemirror_mode": {
    "name": "ipython",
    "version": 3
   },
   "file_extension": ".py",
   "mimetype": "text/x-python",
   "name": "python",
   "nbconvert_exporter": "python",
   "pygments_lexer": "ipython3",
   "version": "3.9.12"
  }
 },
 "nbformat": 4,
 "nbformat_minor": 5
}
