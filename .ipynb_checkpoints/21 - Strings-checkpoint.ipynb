{
 "cells": [
  {
   "cell_type": "markdown",
   "id": "0b460c5c",
   "metadata": {},
   "source": [
    "# Strings\n",
    "![](https://scaler.com/topics/images/characters-of-a-string-in-python-1024x483.webp)"
   ]
  },
  {
   "cell_type": "code",
   "execution_count": 1,
   "id": "5babe6ab",
   "metadata": {},
   "outputs": [
    {
     "name": "stdout",
     "output_type": "stream",
     "text": [
      "hello world <class 'str'>\n"
     ]
    }
   ],
   "source": [
    "s = \"hello world\"\n",
    "print(s, type(s))"
   ]
  },
  {
   "cell_type": "code",
   "execution_count": 2,
   "id": "ec2bb5af",
   "metadata": {},
   "outputs": [
    {
     "name": "stdout",
     "output_type": "stream",
     "text": [
      "welcome how are you <class 'str'>\n"
     ]
    }
   ],
   "source": [
    "t = 'welcome how are you'\n",
    "print(t, type(t))"
   ]
  },
  {
   "cell_type": "code",
   "execution_count": null,
   "id": "09e05998",
   "metadata": {},
   "outputs": [],
   "source": []
  },
  {
   "cell_type": "markdown",
   "id": "a0ecd11d",
   "metadata": {},
   "source": [
    "A sequence of characters"
   ]
  },
  {
   "cell_type": "code",
   "execution_count": null,
   "id": "8cac27b4",
   "metadata": {},
   "outputs": [],
   "source": []
  },
  {
   "cell_type": "code",
   "execution_count": null,
   "id": "5f443b44",
   "metadata": {},
   "outputs": [],
   "source": []
  },
  {
   "cell_type": "markdown",
   "id": "448bd38f",
   "metadata": {},
   "source": [
    "### Multiline String\n",
    "![](https://scaler.com/topics/images/python-multiline-string.webp)"
   ]
  },
  {
   "cell_type": "code",
   "execution_count": 3,
   "id": "420ca29d",
   "metadata": {},
   "outputs": [
    {
     "name": "stdout",
     "output_type": "stream",
     "text": [
      "\n",
      "This is \n",
      "a very\n",
      "very huge\n",
      "paragraph\n",
      "\n"
     ]
    }
   ],
   "source": [
    "# Triple quotes\n",
    "s = '''\n",
    "This is \n",
    "a very\n",
    "very huge\n",
    "paragraph\n",
    "'''\n",
    "print(s)"
   ]
  },
  {
   "cell_type": "code",
   "execution_count": 5,
   "id": "fc10c85f",
   "metadata": {},
   "outputs": [
    {
     "name": "stdout",
     "output_type": "stream",
     "text": [
      "\n",
      "This is also\n",
      "a very\n",
      "very huge\n",
      "paragraph\n",
      " <class 'str'>\n"
     ]
    }
   ],
   "source": [
    "t = \"\"\"\n",
    "This is also\n",
    "a very\n",
    "very huge\n",
    "paragraph\n",
    "\"\"\"\n",
    "print(t, type(t))"
   ]
  },
  {
   "cell_type": "markdown",
   "id": "a47cbed0",
   "metadata": {},
   "source": [
    "We used multiline strings as docstrings"
   ]
  },
  {
   "cell_type": "code",
   "execution_count": null,
   "id": "5d398cd7",
   "metadata": {},
   "outputs": [],
   "source": []
  },
  {
   "cell_type": "code",
   "execution_count": null,
   "id": "c8cb23a8",
   "metadata": {},
   "outputs": [],
   "source": []
  },
  {
   "cell_type": "markdown",
   "id": "706c6b74",
   "metadata": {},
   "source": [
    "### Length\n",
    "<img src=\"https://scaler.com/topics/images/length-of-an-array-in-c_thumbnail.webp\" width=\"350px\" />"
   ]
  },
  {
   "cell_type": "code",
   "execution_count": 6,
   "id": "2de69cd7",
   "metadata": {},
   "outputs": [
    {
     "name": "stdout",
     "output_type": "stream",
     "text": [
      "11\n"
     ]
    }
   ],
   "source": [
    "s = \"hello world\"\n",
    "print(len(s))"
   ]
  },
  {
   "cell_type": "code",
   "execution_count": null,
   "id": "db1e634d",
   "metadata": {},
   "outputs": [],
   "source": []
  },
  {
   "cell_type": "code",
   "execution_count": null,
   "id": "5527d762",
   "metadata": {},
   "outputs": [],
   "source": []
  },
  {
   "cell_type": "markdown",
   "id": "7ec0d8fd",
   "metadata": {},
   "source": [
    "## Indexing"
   ]
  },
  {
   "cell_type": "code",
   "execution_count": 7,
   "id": "44c282eb",
   "metadata": {},
   "outputs": [
    {
     "name": "stdout",
     "output_type": "stream",
     "text": [
      "b\n"
     ]
    }
   ],
   "source": [
    "s = \"abcdefghi\"\n",
    "print(s[1])"
   ]
  },
  {
   "cell_type": "code",
   "execution_count": 9,
   "id": "1efd152e",
   "metadata": {},
   "outputs": [
    {
     "name": "stdout",
     "output_type": "stream",
     "text": [
      " \n",
      "5\n"
     ]
    }
   ],
   "source": [
    "s = \"a  bc\" # 2 spaces between a & b\n",
    "print(s[2]) # space\n",
    "print(len(s))"
   ]
  },
  {
   "cell_type": "code",
   "execution_count": null,
   "id": "af2ba356",
   "metadata": {},
   "outputs": [],
   "source": [
    "s = \"abc 789789345 &*(#%#%) SDFHGSDFGHDF \""
   ]
  },
  {
   "cell_type": "code",
   "execution_count": null,
   "id": "fccb6b12",
   "metadata": {},
   "outputs": [],
   "source": []
  },
  {
   "cell_type": "code",
   "execution_count": 10,
   "id": "396150e6",
   "metadata": {},
   "outputs": [
    {
     "name": "stdout",
     "output_type": "stream",
     "text": [
      "a\n",
      "d\n"
     ]
    },
    {
     "ename": "IndexError",
     "evalue": "string index out of range",
     "output_type": "error",
     "traceback": [
      "\u001b[0;31m---------------------------------------------------------------------------\u001b[0m",
      "\u001b[0;31mIndexError\u001b[0m                                Traceback (most recent call last)",
      "\u001b[0;32m/var/folders/jn/1bsrct314hv5xmfm7vrcdrzc0000gn/T/ipykernel_31099/2109521688.py\u001b[0m in \u001b[0;36m<module>\u001b[0;34m\u001b[0m\n\u001b[1;32m      2\u001b[0m \u001b[0mprint\u001b[0m\u001b[0;34m(\u001b[0m\u001b[0ms\u001b[0m\u001b[0;34m[\u001b[0m\u001b[0;36m0\u001b[0m\u001b[0;34m]\u001b[0m\u001b[0;34m)\u001b[0m \u001b[0;31m# a\u001b[0m\u001b[0;34m\u001b[0m\u001b[0;34m\u001b[0m\u001b[0m\n\u001b[1;32m      3\u001b[0m \u001b[0mprint\u001b[0m\u001b[0;34m(\u001b[0m\u001b[0ms\u001b[0m\u001b[0;34m[\u001b[0m\u001b[0;36m3\u001b[0m\u001b[0;34m]\u001b[0m\u001b[0;34m)\u001b[0m \u001b[0;31m# d\u001b[0m\u001b[0;34m\u001b[0m\u001b[0;34m\u001b[0m\u001b[0m\n\u001b[0;32m----> 4\u001b[0;31m \u001b[0mprint\u001b[0m\u001b[0;34m(\u001b[0m\u001b[0ms\u001b[0m\u001b[0;34m[\u001b[0m\u001b[0;36m10\u001b[0m\u001b[0;34m]\u001b[0m\u001b[0;34m)\u001b[0m \u001b[0;31m# error\u001b[0m\u001b[0;34m\u001b[0m\u001b[0;34m\u001b[0m\u001b[0m\n\u001b[0m",
      "\u001b[0;31mIndexError\u001b[0m: string index out of range"
     ]
    }
   ],
   "source": [
    "s = \"abcd\"\n",
    "print(s[0]) # a\n",
    "print(s[3]) # d\n",
    "print(s[10]) # error"
   ]
  },
  {
   "cell_type": "code",
   "execution_count": 11,
   "id": "756cba9e",
   "metadata": {},
   "outputs": [
    {
     "name": "stdout",
     "output_type": "stream",
     "text": [
      "d\n",
      "b\n"
     ]
    }
   ],
   "source": [
    "print(s[-1]) # d\n",
    "print(s[-3]) # b"
   ]
  },
  {
   "cell_type": "code",
   "execution_count": null,
   "id": "66c35b24",
   "metadata": {},
   "outputs": [],
   "source": []
  },
  {
   "cell_type": "code",
   "execution_count": null,
   "id": "ac4f5b2d",
   "metadata": {},
   "outputs": [],
   "source": []
  },
  {
   "cell_type": "markdown",
   "id": "932c7606",
   "metadata": {},
   "source": [
    "#### Quiz 1\n",
    "Which of the following is a valid string?  \n",
    "a) \"Rahul#'  \n",
    "b) \"@rahul\"  \n",
    "c) 'Tuna123\""
   ]
  },
  {
   "cell_type": "code",
   "execution_count": 12,
   "id": "11273b29",
   "metadata": {},
   "outputs": [
    {
     "ename": "SyntaxError",
     "evalue": "EOL while scanning string literal (4048244430.py, line 1)",
     "output_type": "error",
     "traceback": [
      "\u001b[0;36m  File \u001b[0;32m\"/var/folders/jn/1bsrct314hv5xmfm7vrcdrzc0000gn/T/ipykernel_31099/4048244430.py\"\u001b[0;36m, line \u001b[0;32m1\u001b[0m\n\u001b[0;31m    a = \"Rahul#'\u001b[0m\n\u001b[0m                ^\u001b[0m\n\u001b[0;31mSyntaxError\u001b[0m\u001b[0;31m:\u001b[0m EOL while scanning string literal\n"
     ]
    }
   ],
   "source": [
    "a = \"Rahul#'\n",
    "# starts from double quotes, end at single quote"
   ]
  },
  {
   "cell_type": "code",
   "execution_count": 13,
   "id": "69071bf5",
   "metadata": {},
   "outputs": [],
   "source": [
    "b = \"@rahul\""
   ]
  },
  {
   "cell_type": "code",
   "execution_count": 14,
   "id": "c72cb24d",
   "metadata": {},
   "outputs": [
    {
     "ename": "SyntaxError",
     "evalue": "EOL while scanning string literal (1677780572.py, line 1)",
     "output_type": "error",
     "traceback": [
      "\u001b[0;36m  File \u001b[0;32m\"/var/folders/jn/1bsrct314hv5xmfm7vrcdrzc0000gn/T/ipykernel_31099/1677780572.py\"\u001b[0;36m, line \u001b[0;32m1\u001b[0m\n\u001b[0;31m    c = 'Tuna123\"\u001b[0m\n\u001b[0m                 ^\u001b[0m\n\u001b[0;31mSyntaxError\u001b[0m\u001b[0;31m:\u001b[0m EOL while scanning string literal\n"
     ]
    }
   ],
   "source": [
    "c = 'Tuna123\"\n",
    "# starts from single quote, end at double quotes"
   ]
  },
  {
   "cell_type": "code",
   "execution_count": null,
   "id": "d08cd2a8",
   "metadata": {},
   "outputs": [],
   "source": []
  },
  {
   "cell_type": "code",
   "execution_count": null,
   "id": "bb9fdcd6",
   "metadata": {},
   "outputs": [],
   "source": []
  },
  {
   "cell_type": "markdown",
   "id": "4da0ee5d",
   "metadata": {},
   "source": [
    "#### Quiz 2\n",
    "```py\n",
    "print(100 == \"100\")\n",
    "```"
   ]
  },
  {
   "cell_type": "code",
   "execution_count": 15,
   "id": "08f03800",
   "metadata": {},
   "outputs": [
    {
     "name": "stdout",
     "output_type": "stream",
     "text": [
      "False\n"
     ]
    }
   ],
   "source": [
    "print(100 == \"100\")"
   ]
  },
  {
   "cell_type": "code",
   "execution_count": null,
   "id": "df0547c6",
   "metadata": {},
   "outputs": [],
   "source": []
  },
  {
   "cell_type": "code",
   "execution_count": null,
   "id": "1d31a379",
   "metadata": {},
   "outputs": [],
   "source": [
    " "
   ]
  },
  {
   "cell_type": "markdown",
   "id": "0d4ceb47",
   "metadata": {},
   "source": [
    "#### Quiz 3 \n",
    "```py\n",
    "l = [\"sahil\", \"bansal\"]\n",
    "\n",
    "print(l[0][-1])\n",
    "```"
   ]
  },
  {
   "cell_type": "code",
   "execution_count": 20,
   "id": "2e50e8be",
   "metadata": {},
   "outputs": [
    {
     "name": "stdout",
     "output_type": "stream",
     "text": [
      "l\n"
     ]
    }
   ],
   "source": [
    "l = [\"sahil\", \"bansal\"]\n",
    "\n",
    "print(l[0][-1])\n",
    "# \"sahil\"[-1]"
   ]
  },
  {
   "cell_type": "code",
   "execution_count": null,
   "id": "3da72f13",
   "metadata": {},
   "outputs": [],
   "source": []
  },
  {
   "cell_type": "markdown",
   "id": "880fa90d",
   "metadata": {},
   "source": [
    "#### Question\n",
    "Given a string, print its characters line by line. \\\n",
    "S = \"INDIA\" \n",
    "\n",
    "Output:\n",
    "```\n",
    "I\n",
    "N\n",
    "D\n",
    "I\n",
    "A\n",
    "```"
   ]
  },
  {
   "cell_type": "code",
   "execution_count": null,
   "id": "f05ecc16",
   "metadata": {},
   "outputs": [],
   "source": []
  },
  {
   "cell_type": "code",
   "execution_count": null,
   "id": "0c682135",
   "metadata": {},
   "outputs": [],
   "source": []
  },
  {
   "cell_type": "markdown",
   "id": "1a4e5734",
   "metadata": {},
   "source": [
    "### Iterating over a string"
   ]
  },
  {
   "cell_type": "code",
   "execution_count": 21,
   "id": "cb1c76a5",
   "metadata": {},
   "outputs": [
    {
     "name": "stdout",
     "output_type": "stream",
     "text": [
      "I\n",
      "N\n",
      "D\n",
      "I\n",
      "A\n"
     ]
    }
   ],
   "source": [
    "# Strings are also iterable\n",
    "s = \"INDIA\"\n",
    "\n",
    "for ch in s:\n",
    "    print(ch)"
   ]
  },
  {
   "cell_type": "code",
   "execution_count": null,
   "id": "84da8ff4",
   "metadata": {},
   "outputs": [],
   "source": []
  },
  {
   "cell_type": "code",
   "execution_count": 23,
   "id": "524ba931",
   "metadata": {},
   "outputs": [
    {
     "name": "stdout",
     "output_type": "stream",
     "text": [
      "I,N,D,I,A,"
     ]
    }
   ],
   "source": [
    "# Print all characters separated by a comma\n",
    "\n",
    "s = \"INDIA\"\n",
    "\n",
    "for ch in s:\n",
    "    print(ch, end=',')"
   ]
  },
  {
   "cell_type": "code",
   "execution_count": null,
   "id": "b4b693d3",
   "metadata": {},
   "outputs": [],
   "source": []
  },
  {
   "cell_type": "code",
   "execution_count": 22,
   "id": "53993b2a",
   "metadata": {},
   "outputs": [
    {
     "name": "stdout",
     "output_type": "stream",
     "text": [
      "INDIA\n"
     ]
    }
   ],
   "source": [
    "print(s)"
   ]
  },
  {
   "cell_type": "code",
   "execution_count": null,
   "id": "e050c376",
   "metadata": {},
   "outputs": [],
   "source": []
  },
  {
   "cell_type": "code",
   "execution_count": null,
   "id": "168f3640",
   "metadata": {},
   "outputs": [],
   "source": []
  },
  {
   "cell_type": "code",
   "execution_count": null,
   "id": "14b50e68",
   "metadata": {},
   "outputs": [],
   "source": []
  },
  {
   "cell_type": "markdown",
   "id": "b2627929",
   "metadata": {},
   "source": [
    "## String Concatenation\n",
    "![](https://scaler.com/topics/images/string-concatenation-in-python.webp)"
   ]
  },
  {
   "cell_type": "code",
   "execution_count": 25,
   "id": "eef9fe7d",
   "metadata": {},
   "outputs": [
    {
     "name": "stdout",
     "output_type": "stream",
     "text": [
      "Tarun Luthra\n"
     ]
    }
   ],
   "source": [
    "first = \"Tarun\"\n",
    "last = \"Luthra\"\n",
    "\n",
    "fullname = first + \" \" + last\n",
    "print(fullname)"
   ]
  },
  {
   "cell_type": "code",
   "execution_count": null,
   "id": "5a16f511",
   "metadata": {},
   "outputs": [],
   "source": []
  },
  {
   "cell_type": "code",
   "execution_count": 26,
   "id": "0f23047b",
   "metadata": {},
   "outputs": [
    {
     "name": "stdout",
     "output_type": "stream",
     "text": [
      "hellohello\n"
     ]
    }
   ],
   "source": [
    "a = \"hello\" * 2\n",
    "print(a)"
   ]
  },
  {
   "cell_type": "code",
   "execution_count": 29,
   "id": "0bca42c9",
   "metadata": {},
   "outputs": [
    {
     "name": "stdout",
     "output_type": "stream",
     "text": [
      "okokokokok\n"
     ]
    }
   ],
   "source": [
    "b = \"ok\" * 5\n",
    "print(b)"
   ]
  },
  {
   "cell_type": "code",
   "execution_count": null,
   "id": "25a1920e",
   "metadata": {},
   "outputs": [],
   "source": []
  },
  {
   "cell_type": "markdown",
   "id": "54690569",
   "metadata": {},
   "source": [
    "### Stair Pattern\n",
    "\n",
    "N =4\n",
    "```\n",
    "*\n",
    "* *\n",
    "* * *\n",
    "* * * *\n",
    "```"
   ]
  },
  {
   "cell_type": "code",
   "execution_count": 31,
   "id": "31c9bd2d",
   "metadata": {},
   "outputs": [
    {
     "name": "stdout",
     "output_type": "stream",
     "text": [
      "* \n",
      "* * \n",
      "* * * \n",
      "* * * * \n"
     ]
    }
   ],
   "source": [
    "# Solve it with one loop only\n",
    "N = 4\n",
    "\n",
    "for i in range(1, N+1):\n",
    "    print(\"* \" * i)"
   ]
  },
  {
   "cell_type": "code",
   "execution_count": null,
   "id": "14c0a421",
   "metadata": {},
   "outputs": [],
   "source": []
  },
  {
   "cell_type": "code",
   "execution_count": null,
   "id": "123e7472",
   "metadata": {},
   "outputs": [],
   "source": []
  },
  {
   "cell_type": "markdown",
   "id": "87582094",
   "metadata": {},
   "source": [
    "#### Quiz 4\n",
    "What will be printed by the following code when it executes?\n",
    "\n",
    "```py\n",
    "city = \"Phoenix\"\n",
    "print(len(city*3))\n",
    "```"
   ]
  },
  {
   "cell_type": "code",
   "execution_count": 32,
   "id": "92468fe8",
   "metadata": {},
   "outputs": [
    {
     "name": "stdout",
     "output_type": "stream",
     "text": [
      "21\n"
     ]
    }
   ],
   "source": [
    "city = \"Phoenix\"\n",
    "print(len(city*3))"
   ]
  },
  {
   "cell_type": "code",
   "execution_count": 33,
   "id": "f05de71b",
   "metadata": {},
   "outputs": [
    {
     "data": {
      "text/plain": [
       "'PhoenixPhoenixPhoenix'"
      ]
     },
     "execution_count": 33,
     "metadata": {},
     "output_type": "execute_result"
    }
   ],
   "source": [
    "city*3"
   ]
  },
  {
   "cell_type": "code",
   "execution_count": null,
   "id": "18f25fc9",
   "metadata": {},
   "outputs": [],
   "source": []
  },
  {
   "cell_type": "code",
   "execution_count": null,
   "id": "5ea1afb2",
   "metadata": {},
   "outputs": [],
   "source": []
  },
  {
   "cell_type": "code",
   "execution_count": null,
   "id": "52700360",
   "metadata": {},
   "outputs": [],
   "source": []
  },
  {
   "cell_type": "markdown",
   "id": "0365addf",
   "metadata": {},
   "source": [
    "## String slicing\n"
   ]
  },
  {
   "cell_type": "markdown",
   "id": "f73ad2db",
   "metadata": {},
   "source": [
    "The exact same rules of list slicing applies to strings as well. "
   ]
  },
  {
   "cell_type": "code",
   "execution_count": 34,
   "id": "c96a175f",
   "metadata": {},
   "outputs": [
    {
     "name": "stdout",
     "output_type": "stream",
     "text": [
      "bc\n"
     ]
    }
   ],
   "source": [
    "s = \"abcdef\"\n",
    "print(s[1:3])"
   ]
  },
  {
   "cell_type": "code",
   "execution_count": 35,
   "id": "3ba5b411",
   "metadata": {},
   "outputs": [
    {
     "name": "stdout",
     "output_type": "stream",
     "text": [
      "edcba\n"
     ]
    }
   ],
   "source": [
    "print(s[4::-1])"
   ]
  },
  {
   "cell_type": "code",
   "execution_count": 36,
   "id": "5c6d1ae5",
   "metadata": {},
   "outputs": [
    {
     "name": "stdout",
     "output_type": "stream",
     "text": [
      "fedcba\n"
     ]
    }
   ],
   "source": [
    "print(s[::-1])"
   ]
  },
  {
   "cell_type": "code",
   "execution_count": null,
   "id": "69d023b9",
   "metadata": {},
   "outputs": [],
   "source": []
  },
  {
   "cell_type": "markdown",
   "id": "1c580a4e",
   "metadata": {},
   "source": [
    "#### Quiz 5\n",
    "What is the return value of the function call `mystery(\"abracadabra\")`?  \n",
    "  \n",
    "\n",
    "```py\n",
    "def mystery(s):\n",
    "  i = len(s)//2\n",
    "  a = s[:i]\n",
    "  b = s[i:]\n",
    "  return a+ b\n",
    "```"
   ]
  },
  {
   "cell_type": "code",
   "execution_count": 39,
   "id": "4a79bf0b",
   "metadata": {},
   "outputs": [
    {
     "name": "stdout",
     "output_type": "stream",
     "text": [
      "abrac\n",
      "adabra\n"
     ]
    },
    {
     "data": {
      "text/plain": [
       "'abracadabra'"
      ]
     },
     "execution_count": 39,
     "metadata": {},
     "output_type": "execute_result"
    }
   ],
   "source": [
    "def mystery(s):\n",
    "    i = len(s)//2 # 5\n",
    "    a = s[:i] # abrac\n",
    "    print(a)\n",
    "    b = s[i:] # adabra\n",
    "    print(b)\n",
    "    return a+ b\n",
    "\n",
    "mystery(\"abracadabra\")"
   ]
  },
  {
   "cell_type": "code",
   "execution_count": 37,
   "id": "afa13762",
   "metadata": {},
   "outputs": [
    {
     "data": {
      "text/plain": [
       "11"
      ]
     },
     "execution_count": 37,
     "metadata": {},
     "output_type": "execute_result"
    }
   ],
   "source": [
    "len(\"abracadabra\")"
   ]
  },
  {
   "cell_type": "code",
   "execution_count": null,
   "id": "93275b8b",
   "metadata": {},
   "outputs": [],
   "source": []
  },
  {
   "cell_type": "markdown",
   "id": "328212ff",
   "metadata": {},
   "source": [
    "### Check Palindrome\n",
    "Given a string, check if it is Palindromic"
   ]
  },
  {
   "cell_type": "code",
   "execution_count": 40,
   "id": "14aafe2f",
   "metadata": {},
   "outputs": [],
   "source": [
    "def checkPalindrome(s):\n",
    "    return s == s[::-1]"
   ]
  },
  {
   "cell_type": "code",
   "execution_count": 41,
   "id": "63a3d4ed",
   "metadata": {},
   "outputs": [
    {
     "data": {
      "text/plain": [
       "True"
      ]
     },
     "execution_count": 41,
     "metadata": {},
     "output_type": "execute_result"
    }
   ],
   "source": [
    "checkPalindrome(\"level\")"
   ]
  },
  {
   "cell_type": "code",
   "execution_count": 42,
   "id": "f2ffee91",
   "metadata": {},
   "outputs": [
    {
     "data": {
      "text/plain": [
       "True"
      ]
     },
     "execution_count": 42,
     "metadata": {},
     "output_type": "execute_result"
    }
   ],
   "source": [
    "checkPalindrome(\"radar\")"
   ]
  },
  {
   "cell_type": "code",
   "execution_count": 43,
   "id": "1b35ced5",
   "metadata": {},
   "outputs": [
    {
     "data": {
      "text/plain": [
       "False"
      ]
     },
     "execution_count": 43,
     "metadata": {},
     "output_type": "execute_result"
    }
   ],
   "source": [
    "checkPalindrome(\"tarun\")"
   ]
  },
  {
   "cell_type": "code",
   "execution_count": 45,
   "id": "e862d592",
   "metadata": {},
   "outputs": [
    {
     "data": {
      "text/plain": [
       "False"
      ]
     },
     "execution_count": 45,
     "metadata": {},
     "output_type": "execute_result"
    }
   ],
   "source": [
    "checkPalindrome(\"Naman\")\n",
    "# Case sensitivity"
   ]
  },
  {
   "cell_type": "code",
   "execution_count": null,
   "id": "5693be58",
   "metadata": {},
   "outputs": [],
   "source": []
  },
  {
   "cell_type": "code",
   "execution_count": null,
   "id": "fb8d8d2f",
   "metadata": {},
   "outputs": [],
   "source": []
  },
  {
   "cell_type": "markdown",
   "id": "88ca8824",
   "metadata": {},
   "source": [
    "## Working with ASCII Values\n",
    "<img src=\"https://scaler.com/topics/images/ascii-values-in-c-thumbnail.webp\" width=\"400px\" />"
   ]
  },
  {
   "cell_type": "code",
   "execution_count": null,
   "id": "8b275e1d",
   "metadata": {},
   "outputs": [],
   "source": []
  },
  {
   "cell_type": "code",
   "execution_count": null,
   "id": "afb2cb95",
   "metadata": {},
   "outputs": [],
   "source": []
  },
  {
   "cell_type": "markdown",
   "id": "56613281",
   "metadata": {},
   "source": [
    "### ord()\n",
    "![](https://scaler.com/topics/images/ord-in-python.webp)"
   ]
  },
  {
   "cell_type": "code",
   "execution_count": 1,
   "id": "ba79361c",
   "metadata": {},
   "outputs": [
    {
     "data": {
      "text/plain": [
       "121"
      ]
     },
     "execution_count": 1,
     "metadata": {},
     "output_type": "execute_result"
    }
   ],
   "source": [
    "ord('y')"
   ]
  },
  {
   "cell_type": "code",
   "execution_count": 2,
   "id": "1a001523",
   "metadata": {},
   "outputs": [
    {
     "data": {
      "text/plain": [
       "97"
      ]
     },
     "execution_count": 2,
     "metadata": {},
     "output_type": "execute_result"
    }
   ],
   "source": [
    "ord('a')"
   ]
  },
  {
   "cell_type": "code",
   "execution_count": 3,
   "id": "f9bfda54",
   "metadata": {},
   "outputs": [
    {
     "data": {
      "text/plain": [
       "65"
      ]
     },
     "execution_count": 3,
     "metadata": {},
     "output_type": "execute_result"
    }
   ],
   "source": [
    "ord('A')"
   ]
  },
  {
   "cell_type": "code",
   "execution_count": 4,
   "id": "6b649221",
   "metadata": {},
   "outputs": [
    {
     "ename": "TypeError",
     "evalue": "ord() expected a character, but string of length 2 found",
     "output_type": "error",
     "traceback": [
      "\u001b[0;31m---------------------------------------------------------------------------\u001b[0m",
      "\u001b[0;31mTypeError\u001b[0m                                 Traceback (most recent call last)",
      "\u001b[0;32m/var/folders/jn/1bsrct314hv5xmfm7vrcdrzc0000gn/T/ipykernel_31336/308877286.py\u001b[0m in \u001b[0;36m<module>\u001b[0;34m\u001b[0m\n\u001b[0;32m----> 1\u001b[0;31m \u001b[0mord\u001b[0m\u001b[0;34m(\u001b[0m\u001b[0;34m'ab'\u001b[0m\u001b[0;34m)\u001b[0m\u001b[0;34m\u001b[0m\u001b[0;34m\u001b[0m\u001b[0m\n\u001b[0m",
      "\u001b[0;31mTypeError\u001b[0m: ord() expected a character, but string of length 2 found"
     ]
    }
   ],
   "source": [
    "ord('ab')"
   ]
  },
  {
   "cell_type": "code",
   "execution_count": 5,
   "id": "78176319",
   "metadata": {},
   "outputs": [
    {
     "data": {
      "text/plain": [
       "48"
      ]
     },
     "execution_count": 5,
     "metadata": {},
     "output_type": "execute_result"
    }
   ],
   "source": [
    "ord('0')"
   ]
  },
  {
   "cell_type": "code",
   "execution_count": null,
   "id": "1d21536d",
   "metadata": {},
   "outputs": [],
   "source": [
    "'0' == 0"
   ]
  },
  {
   "cell_type": "code",
   "execution_count": null,
   "id": "346c1fe5",
   "metadata": {},
   "outputs": [],
   "source": []
  },
  {
   "cell_type": "code",
   "execution_count": null,
   "id": "b8cbd327",
   "metadata": {},
   "outputs": [],
   "source": []
  },
  {
   "cell_type": "code",
   "execution_count": null,
   "id": "8c270ea4",
   "metadata": {},
   "outputs": [],
   "source": []
  },
  {
   "cell_type": "code",
   "execution_count": null,
   "id": "a7758a46",
   "metadata": {},
   "outputs": [],
   "source": []
  },
  {
   "cell_type": "markdown",
   "id": "e5ed433e",
   "metadata": {},
   "source": [
    "### chr()\n",
    "![](https://scaler.com/topics/images/chr-in-python.webp)"
   ]
  },
  {
   "cell_type": "code",
   "execution_count": 6,
   "id": "b4819031",
   "metadata": {},
   "outputs": [
    {
     "data": {
      "text/plain": [
       "'A'"
      ]
     },
     "execution_count": 6,
     "metadata": {},
     "output_type": "execute_result"
    }
   ],
   "source": [
    "# 65 -> A\n",
    "chr(65)"
   ]
  },
  {
   "cell_type": "code",
   "execution_count": 7,
   "id": "ffa05e14",
   "metadata": {},
   "outputs": [
    {
     "data": {
      "text/plain": [
       "'a'"
      ]
     },
     "execution_count": 7,
     "metadata": {},
     "output_type": "execute_result"
    }
   ],
   "source": [
    "chr(97)"
   ]
  },
  {
   "cell_type": "code",
   "execution_count": 8,
   "id": "262c05b5",
   "metadata": {},
   "outputs": [
    {
     "data": {
      "text/plain": [
       "'0'"
      ]
     },
     "execution_count": 8,
     "metadata": {},
     "output_type": "execute_result"
    }
   ],
   "source": [
    "chr(48)"
   ]
  },
  {
   "cell_type": "code",
   "execution_count": 9,
   "id": "31b19546",
   "metadata": {},
   "outputs": [
    {
     "data": {
      "text/plain": [
       "'\\n'"
      ]
     },
     "execution_count": 9,
     "metadata": {},
     "output_type": "execute_result"
    }
   ],
   "source": [
    "chr(10)"
   ]
  },
  {
   "cell_type": "code",
   "execution_count": 10,
   "id": "d1d9c9d1",
   "metadata": {},
   "outputs": [
    {
     "data": {
      "text/plain": [
       "'Ϩ'"
      ]
     },
     "execution_count": 10,
     "metadata": {},
     "output_type": "execute_result"
    }
   ],
   "source": [
    "chr(1000)"
   ]
  },
  {
   "cell_type": "code",
   "execution_count": null,
   "id": "08380449",
   "metadata": {},
   "outputs": [],
   "source": []
  },
  {
   "cell_type": "markdown",
   "id": "c7693e35",
   "metadata": {},
   "source": [
    "#### Given a list of integers, construct the string corresponding to it.\n",
    "Input = [97, 65, 98, 68, 73] \\\n",
    "Output = \"aAbDI\""
   ]
  },
  {
   "cell_type": "code",
   "execution_count": 11,
   "id": "199e56bc",
   "metadata": {},
   "outputs": [],
   "source": [
    "l = [97, 65, 98, 68, 73]\n",
    "\n",
    "res = \"\"\n",
    "for x in l:\n",
    "    res += chr(x)"
   ]
  },
  {
   "cell_type": "code",
   "execution_count": 12,
   "id": "3b2571a3",
   "metadata": {},
   "outputs": [
    {
     "data": {
      "text/plain": [
       "'aAbDI'"
      ]
     },
     "execution_count": 12,
     "metadata": {},
     "output_type": "execute_result"
    }
   ],
   "source": [
    "res"
   ]
  },
  {
   "cell_type": "code",
   "execution_count": null,
   "id": "111b916d",
   "metadata": {},
   "outputs": [],
   "source": []
  },
  {
   "cell_type": "markdown",
   "id": "7257066c",
   "metadata": {},
   "source": [
    "### Given a string, count the number of capital characters in it.\n",
    "s = \"Hello World\"\n",
    "\n",
    "Ans = 2\n"
   ]
  },
  {
   "cell_type": "code",
   "execution_count": 13,
   "id": "6ef6b889",
   "metadata": {},
   "outputs": [
    {
     "data": {
      "text/plain": [
       "2"
      ]
     },
     "execution_count": 13,
     "metadata": {},
     "output_type": "execute_result"
    }
   ],
   "source": [
    "def countCapital(s):\n",
    "    c = 0\n",
    "    \n",
    "    for ch in s:\n",
    "        if 65 <= ord(ch) <= 90:\n",
    "            # ch is a capital char\n",
    "            c += 1\n",
    "            \n",
    "    return c\n",
    "    \n",
    "    \n",
    "countCapital(\"Hello World\")"
   ]
  },
  {
   "cell_type": "code",
   "execution_count": 14,
   "id": "2c2dc23d",
   "metadata": {},
   "outputs": [
    {
     "data": {
      "text/plain": [
       "7"
      ]
     },
     "execution_count": 14,
     "metadata": {},
     "output_type": "execute_result"
    }
   ],
   "source": [
    "countCapital(\"ABCabcDeFGHi\")"
   ]
  },
  {
   "cell_type": "code",
   "execution_count": null,
   "id": "98d561c5",
   "metadata": {},
   "outputs": [],
   "source": []
  },
  {
   "cell_type": "code",
   "execution_count": null,
   "id": "4c295ca0",
   "metadata": {},
   "outputs": [],
   "source": []
  },
  {
   "cell_type": "code",
   "execution_count": null,
   "id": "fe21e4b9",
   "metadata": {},
   "outputs": [],
   "source": []
  },
  {
   "cell_type": "code",
   "execution_count": null,
   "id": "36227640",
   "metadata": {},
   "outputs": [],
   "source": []
  },
  {
   "cell_type": "markdown",
   "id": "a280a43e",
   "metadata": {},
   "source": [
    "### Changing cases\n",
    "![](https://scaler.com/topics/images/upper-in-python-featured-image.webp)\n",
    "- upper()\n",
    "- lower()\n",
    "- title()\n",
    "- isupper()\n",
    "- islower()"
   ]
  },
  {
   "cell_type": "code",
   "execution_count": null,
   "id": "08c06fed",
   "metadata": {},
   "outputs": [],
   "source": []
  },
  {
   "cell_type": "code",
   "execution_count": 19,
   "id": "cd3dab0a",
   "metadata": {},
   "outputs": [
    {
     "name": "stdout",
     "output_type": "stream",
     "text": [
      "True\n"
     ]
    }
   ],
   "source": [
    "s = \"hello world\"\n",
    "print(s.islower())"
   ]
  },
  {
   "cell_type": "code",
   "execution_count": 16,
   "id": "cbe9defe",
   "metadata": {},
   "outputs": [
    {
     "name": "stdout",
     "output_type": "stream",
     "text": [
      "False\n"
     ]
    }
   ],
   "source": [
    "s = \"Hello\"\n",
    "print(s.islower())\n",
    "# Capital H"
   ]
  },
  {
   "cell_type": "code",
   "execution_count": null,
   "id": "15a7b80d",
   "metadata": {},
   "outputs": [],
   "source": []
  },
  {
   "cell_type": "code",
   "execution_count": 17,
   "id": "20a308bd",
   "metadata": {},
   "outputs": [
    {
     "name": "stdout",
     "output_type": "stream",
     "text": [
      "True\n"
     ]
    }
   ],
   "source": [
    "s = \"HELLO\"\n",
    "print(s.isupper())"
   ]
  },
  {
   "cell_type": "code",
   "execution_count": 18,
   "id": "fe951fa0",
   "metadata": {},
   "outputs": [
    {
     "name": "stdout",
     "output_type": "stream",
     "text": [
      "False\n"
     ]
    }
   ],
   "source": [
    "s = \"HeLLO\"\n",
    "print(s.isupper())"
   ]
  },
  {
   "cell_type": "code",
   "execution_count": 23,
   "id": "957fd8cb",
   "metadata": {},
   "outputs": [
    {
     "name": "stdout",
     "output_type": "stream",
     "text": [
      "True\n"
     ]
    }
   ],
   "source": [
    "s = \"HELLO 20 WORLD %^#&(**#&%&)\"\n",
    "print(s.isupper())"
   ]
  },
  {
   "cell_type": "code",
   "execution_count": null,
   "id": "7095a634",
   "metadata": {},
   "outputs": [],
   "source": []
  },
  {
   "cell_type": "code",
   "execution_count": null,
   "id": "08ee4131",
   "metadata": {},
   "outputs": [],
   "source": []
  },
  {
   "cell_type": "code",
   "execution_count": null,
   "id": "b18ae426",
   "metadata": {},
   "outputs": [],
   "source": []
  },
  {
   "cell_type": "markdown",
   "id": "246e9223",
   "metadata": {},
   "source": [
    "### Given a string, count the number of capital characters in it.\n",
    "s = \"Hello World\"\n",
    "\n",
    "Ans = 2\n"
   ]
  },
  {
   "cell_type": "code",
   "execution_count": 24,
   "id": "aa1437a8",
   "metadata": {},
   "outputs": [
    {
     "data": {
      "text/plain": [
       "2"
      ]
     },
     "execution_count": 24,
     "metadata": {},
     "output_type": "execute_result"
    }
   ],
   "source": [
    "def countCapitalEasy(s):\n",
    "    c = 0\n",
    "    \n",
    "    for ch in s:\n",
    "        if ch.isupper():\n",
    "            # ch is a capital char\n",
    "            c += 1\n",
    "            \n",
    "    return c\n",
    "    \n",
    "    \n",
    "countCapitalEasy(\"Hello World\")"
   ]
  },
  {
   "cell_type": "code",
   "execution_count": null,
   "id": "cca5d770",
   "metadata": {},
   "outputs": [],
   "source": []
  },
  {
   "cell_type": "markdown",
   "id": "fec79948",
   "metadata": {},
   "source": [
    "#### Quiz 7\n",
    "What is the return value of the function call `mystery(\"abracadabra\")`?  \n",
    "  \n",
    "\n",
    "```py\n",
    "def mystery(s):\n",
    "  i = len(s)//2\n",
    "  a = s[:i]\n",
    "  b = s[i:]\n",
    "  return a[0].isupper()\n",
    "```"
   ]
  },
  {
   "cell_type": "code",
   "execution_count": 25,
   "id": "edf83a38",
   "metadata": {},
   "outputs": [
    {
     "data": {
      "text/plain": [
       "False"
      ]
     },
     "execution_count": 25,
     "metadata": {},
     "output_type": "execute_result"
    }
   ],
   "source": [
    "def mystery(s):\n",
    "    i = len(s)//2 # 5\n",
    "    a = s[:i] # abrac\n",
    "    b = s[i:] # adabra\n",
    "    return a[0].isupper()\n",
    "\n",
    "mystery(\"abracadabra\")"
   ]
  },
  {
   "cell_type": "code",
   "execution_count": null,
   "id": "7ec7a4ab",
   "metadata": {},
   "outputs": [],
   "source": []
  },
  {
   "cell_type": "code",
   "execution_count": 26,
   "id": "c46f6779",
   "metadata": {},
   "outputs": [
    {
     "name": "stdout",
     "output_type": "stream",
     "text": [
      "HELLO WORLD\n"
     ]
    }
   ],
   "source": [
    "# Change it to uppercase\n",
    "s = \"hello world\"\n",
    "\n",
    "t = s.upper()\n",
    "print(t)\n",
    "# .upper() gives you a new string containing all uppercase characters\n",
    "# original string remains unchanged"
   ]
  },
  {
   "cell_type": "code",
   "execution_count": 27,
   "id": "bb75896c",
   "metadata": {},
   "outputs": [
    {
     "name": "stdout",
     "output_type": "stream",
     "text": [
      "hello world\n"
     ]
    }
   ],
   "source": [
    "print(s)"
   ]
  },
  {
   "cell_type": "code",
   "execution_count": null,
   "id": "030201da",
   "metadata": {},
   "outputs": [],
   "source": []
  },
  {
   "cell_type": "code",
   "execution_count": 28,
   "id": "c9d7c86d",
   "metadata": {},
   "outputs": [
    {
     "name": "stdout",
     "output_type": "stream",
     "text": [
      "HELLO WORLD 20 %#$&*()\n"
     ]
    }
   ],
   "source": [
    "s = \"heLLo world 20 %#$&*()\"\n",
    "t = s.upper()\n",
    "print(t)"
   ]
  },
  {
   "cell_type": "code",
   "execution_count": null,
   "id": "d1d0aee5",
   "metadata": {},
   "outputs": [],
   "source": []
  },
  {
   "cell_type": "code",
   "execution_count": 30,
   "id": "d998d27f",
   "metadata": {},
   "outputs": [
    {
     "name": "stdout",
     "output_type": "stream",
     "text": [
      "HELLONONE\n"
     ]
    }
   ],
   "source": [
    "s = \"helloNone\"\n",
    "s = s.upper()\n",
    "print(s)"
   ]
  },
  {
   "cell_type": "code",
   "execution_count": null,
   "id": "0ed7ac6d",
   "metadata": {},
   "outputs": [],
   "source": []
  },
  {
   "cell_type": "code",
   "execution_count": 33,
   "id": "3d1c07d8",
   "metadata": {},
   "outputs": [
    {
     "name": "stdout",
     "output_type": "stream",
     "text": [
      "hello world\n",
      "HELLO WORLD\n"
     ]
    }
   ],
   "source": [
    "# Convert to lowercase\n",
    "s = 'HELLO WORLD'\n",
    "t = s.lower()\n",
    "\n",
    "print(t)\n",
    "print(s)\n",
    "# .lower() gives you a new string containing all lowercase characters\n",
    "# original string remains unchanged"
   ]
  },
  {
   "cell_type": "code",
   "execution_count": null,
   "id": "ff4ed75e",
   "metadata": {},
   "outputs": [],
   "source": []
  },
  {
   "cell_type": "code",
   "execution_count": 35,
   "id": "2e415b86",
   "metadata": {},
   "outputs": [
    {
     "name": "stdout",
     "output_type": "stream",
     "text": [
      "Tarun Luthra\n"
     ]
    }
   ],
   "source": [
    "name = \"tARun lutHRA\"\n",
    "s = name.title()\n",
    "print(s)"
   ]
  },
  {
   "cell_type": "code",
   "execution_count": 37,
   "id": "97088960",
   "metadata": {},
   "outputs": [],
   "source": [
    "s = name[0].upper()"
   ]
  },
  {
   "cell_type": "code",
   "execution_count": null,
   "id": "c7dd7b19",
   "metadata": {},
   "outputs": [],
   "source": []
  },
  {
   "cell_type": "markdown",
   "id": "2fedfaf1",
   "metadata": {},
   "source": [
    "#### Quiz\n",
    "What is the return value of the function call `mystery(\"abracadabra\")`?  \n",
    "```py\n",
    "def mystery(s):\n",
    "  i = len(s)//2\n",
    "  a = s[:i]\n",
    "  b = s[i:]\n",
    "  return a.upper() + b.lower()\n",
    "```"
   ]
  },
  {
   "cell_type": "code",
   "execution_count": 43,
   "id": "067e158e",
   "metadata": {},
   "outputs": [
    {
     "data": {
      "text/plain": [
       "'ABRACadabra'"
      ]
     },
     "execution_count": 43,
     "metadata": {},
     "output_type": "execute_result"
    }
   ],
   "source": [
    "def mystery(s):\n",
    "    i = len(s)//2 # 5\n",
    "    a = s[:i] # abrac\n",
    "    b = s[i:] # adabra\n",
    "    return a.upper() + b.lower() # ABRAC + adabra\n",
    "\n",
    "mystery(\"abracadabra\")"
   ]
  },
  {
   "cell_type": "code",
   "execution_count": null,
   "id": "242be45d",
   "metadata": {},
   "outputs": [],
   "source": []
  },
  {
   "cell_type": "code",
   "execution_count": null,
   "id": "80b80cf8",
   "metadata": {},
   "outputs": [],
   "source": []
  },
  {
   "cell_type": "markdown",
   "id": "22847073",
   "metadata": {},
   "source": [
    "### String Formatting\n",
    "![](https://scaler.com/topics/images/fstring_python.webp)"
   ]
  },
  {
   "cell_type": "code",
   "execution_count": 47,
   "id": "65c355db",
   "metadata": {},
   "outputs": [],
   "source": [
    "appleCount = 50\n",
    "orangeCount = 100\n",
    "guavaCount = 21\n",
    "\n",
    "# I have 5 apples, 10 oranges and 2 guavas"
   ]
  },
  {
   "cell_type": "code",
   "execution_count": 51,
   "id": "a69d2f40",
   "metadata": {},
   "outputs": [
    {
     "name": "stdout",
     "output_type": "stream",
     "text": [
      "I have 50 apples, 100 oranges and 21 guavas\n"
     ]
    }
   ],
   "source": [
    "s = (\"I have \" + str(appleCount) + \" apples, \" +\n",
    "    str(orangeCount) + \" oranges and \" + str(guavaCount) + \" guavas\")\n",
    "print(s)"
   ]
  },
  {
   "cell_type": "code",
   "execution_count": null,
   "id": "a931a492",
   "metadata": {},
   "outputs": [],
   "source": []
  },
  {
   "cell_type": "markdown",
   "id": "7d7222fd",
   "metadata": {},
   "source": [
    "#### 2 ways to string formatting\n",
    "1. f-string\n",
    "2. .format()"
   ]
  },
  {
   "cell_type": "code",
   "execution_count": 53,
   "id": "a136971f",
   "metadata": {},
   "outputs": [
    {
     "name": "stdout",
     "output_type": "stream",
     "text": [
      "I have 5 apples, 10 oranges and 2 guavas\n"
     ]
    }
   ],
   "source": [
    "appleCount = 5\n",
    "orangeCount = 10\n",
    "guavaCount = 2\n",
    "\n",
    "# I have 5 apples, 10 oranges and 2 guavas\n",
    "\n",
    "s = \"I have {} apples, {} oranges and {} guavas\".format(appleCount, orangeCount, guavaCount)\n",
    "print(s)"
   ]
  },
  {
   "cell_type": "code",
   "execution_count": null,
   "id": "7ef88207",
   "metadata": {},
   "outputs": [],
   "source": []
  },
  {
   "cell_type": "code",
   "execution_count": null,
   "id": "62a1c441",
   "metadata": {},
   "outputs": [],
   "source": []
  },
  {
   "cell_type": "markdown",
   "id": "37d7f969",
   "metadata": {},
   "source": [
    "#### Quiz\n",
    "```py\n",
    "name = 'Emma Watson'\n",
    "age = 32\n",
    "print(\"Hey my name is {}, and my age is {}.\".format(age))\n",
    "```"
   ]
  },
  {
   "cell_type": "code",
   "execution_count": 54,
   "id": "73ca48a1",
   "metadata": {},
   "outputs": [
    {
     "ename": "IndexError",
     "evalue": "Replacement index 1 out of range for positional args tuple",
     "output_type": "error",
     "traceback": [
      "\u001b[0;31m---------------------------------------------------------------------------\u001b[0m",
      "\u001b[0;31mIndexError\u001b[0m                                Traceback (most recent call last)",
      "\u001b[0;32m/var/folders/jn/1bsrct314hv5xmfm7vrcdrzc0000gn/T/ipykernel_31336/1219364036.py\u001b[0m in \u001b[0;36m<module>\u001b[0;34m\u001b[0m\n\u001b[1;32m      1\u001b[0m \u001b[0mname\u001b[0m \u001b[0;34m=\u001b[0m \u001b[0;34m'Emma Watson'\u001b[0m\u001b[0;34m\u001b[0m\u001b[0;34m\u001b[0m\u001b[0m\n\u001b[1;32m      2\u001b[0m \u001b[0mage\u001b[0m \u001b[0;34m=\u001b[0m \u001b[0;36m32\u001b[0m\u001b[0;34m\u001b[0m\u001b[0;34m\u001b[0m\u001b[0m\n\u001b[0;32m----> 3\u001b[0;31m \u001b[0mprint\u001b[0m\u001b[0;34m(\u001b[0m\u001b[0;34m\"Hey my name is {}, and my age is {}.\"\u001b[0m\u001b[0;34m.\u001b[0m\u001b[0mformat\u001b[0m\u001b[0;34m(\u001b[0m\u001b[0mage\u001b[0m\u001b[0;34m)\u001b[0m\u001b[0;34m)\u001b[0m\u001b[0;34m\u001b[0m\u001b[0;34m\u001b[0m\u001b[0m\n\u001b[0m",
      "\u001b[0;31mIndexError\u001b[0m: Replacement index 1 out of range for positional args tuple"
     ]
    }
   ],
   "source": [
    "name = 'Emma Watson'\n",
    "age = 32\n",
    "print(\"Hey my name is {}, and my age is {}.\".format(age))"
   ]
  },
  {
   "cell_type": "code",
   "execution_count": null,
   "id": "b0ed97d0",
   "metadata": {},
   "outputs": [],
   "source": []
  },
  {
   "cell_type": "code",
   "execution_count": 55,
   "id": "e612d679",
   "metadata": {},
   "outputs": [
    {
     "name": "stdout",
     "output_type": "stream",
     "text": [
      "Hey my name is Emma Watson, and my age is 32.\n"
     ]
    }
   ],
   "source": [
    "name = 'Emma Watson'\n",
    "age = 32\n",
    "print(\"Hey my name is {}, and my age is {}.\".format(name, age))"
   ]
  },
  {
   "cell_type": "code",
   "execution_count": null,
   "id": "9803afb1",
   "metadata": {},
   "outputs": [],
   "source": []
  },
  {
   "cell_type": "code",
   "execution_count": null,
   "id": "5b8b48f3",
   "metadata": {},
   "outputs": [],
   "source": []
  },
  {
   "cell_type": "markdown",
   "id": "6cb72885",
   "metadata": {},
   "source": [
    "#### f-string\n",
    "It only works for Python 3.5 or above"
   ]
  },
  {
   "cell_type": "code",
   "execution_count": 56,
   "id": "c9cee47e",
   "metadata": {},
   "outputs": [
    {
     "name": "stdout",
     "output_type": "stream",
     "text": [
      "I have 5 apples, 10 oranges and 2 guavas\n"
     ]
    }
   ],
   "source": [
    "appleCount = 5\n",
    "orangeCount = 10\n",
    "guavaCount = 2\n",
    "\n",
    "# I have 5 apples, 10 oranges and 2 guavas\n",
    "s = f\"I have {appleCount} apples, {orangeCount} oranges and {guavaCount} guavas\"\n",
    "print(s)"
   ]
  },
  {
   "cell_type": "code",
   "execution_count": null,
   "id": "3f54149f",
   "metadata": {},
   "outputs": [],
   "source": []
  },
  {
   "cell_type": "code",
   "execution_count": null,
   "id": "86f3452c",
   "metadata": {},
   "outputs": [],
   "source": []
  },
  {
   "cell_type": "code",
   "execution_count": null,
   "id": "d791e3a6",
   "metadata": {},
   "outputs": [],
   "source": []
  },
  {
   "cell_type": "code",
   "execution_count": null,
   "id": "d89902af",
   "metadata": {},
   "outputs": [],
   "source": []
  },
  {
   "cell_type": "markdown",
   "id": "ddc18cb1",
   "metadata": {},
   "source": [
    "# Bonus Reading Material\n",
    "- Strings in Python - https://www.scaler.com/topics/python/strings-in-python/\n",
    "- What is String in Python? - https://www.scaler.com/topics/what-is-string-in-python/\n",
    "- Python Multiline String - https://www.scaler.com/topics/python-multiline-string/\n",
    "- str() in Python - https://www.scaler.com/topics/str-in-python/\n",
    "- String Concatenation in Python - https://www.scaler.com/topics/string-concatenation-in-python/\n",
    "- String Slicing in Python - https://www.scaler.com/topics/python/string-slicing-in-python/\n",
    "- What are Mutable Data Types in Python? - https://www.scaler.com/topics/mutable-data-typesg-in-python/\n",
    "- Mutable and Immutable in Python - https://www.scaler.com/topics/mutable-and-immutable-in-python/\n",
    "- String Comparison in Python - https://www.scaler.com/topics/string-comparison-in-python/\n",
    "- chr() in Python - https://www.scaler.com/topics/chr-in-python/\n",
    "- ord in Python - https://www.scaler.com/topics/ord-in-python/\n",
    "- Difference Between UNICODE and ASCII - https://www.scaler.com/topics/cpp/difference-between-unicode-and-ascii/\n",
    "- Join in Python - https://www.scaler.com/topics/join-in-python/\n",
    "- Convert List to String in Python - https://www.scaler.com/topics/convert-list-to-string-in-python/\n",
    "- String Methods Python - https://www.scaler.com/topics/python/string-methods-python/\n",
    "- upper() in Python - https://www.scaler.com/topics/upper-in-python/\n",
    "- https://www.scaler.com/topics/title-in-python/\n",
    "- isupper() in Python - https://www.scaler.com/topics/python-string-isupper-method/\n",
    "- isalnum() in Python - https://www.scaler.com/topics/isalnum-in-python/\n",
    "- isnumeric() Python Method - https://www.scaler.com/topics/isnumeric-python/\n",
    "- String reverse in Python - https://www.scaler.com/topics/reverse-string-in-python/\n",
    "- String Formatting in Python - https://www.scaler.com/topics/python/string-formatting-in-python/\n",
    "- F String in Python - https://www.scaler.com/topics/f-string-in-python/"
   ]
  },
  {
   "cell_type": "code",
   "execution_count": null,
   "id": "9b2c466b",
   "metadata": {},
   "outputs": [],
   "source": []
  }
 ],
 "metadata": {
  "kernelspec": {
   "display_name": "Python 3 (ipykernel)",
   "language": "python",
   "name": "python3"
  },
  "language_info": {
   "codemirror_mode": {
    "name": "ipython",
    "version": 3
   },
   "file_extension": ".py",
   "mimetype": "text/x-python",
   "name": "python",
   "nbconvert_exporter": "python",
   "pygments_lexer": "ipython3",
   "version": "3.9.12"
  }
 },
 "nbformat": 4,
 "nbformat_minor": 5
}
