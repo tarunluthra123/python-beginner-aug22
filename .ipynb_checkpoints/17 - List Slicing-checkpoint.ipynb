{
 "cells": [
  {
   "cell_type": "markdown",
   "id": "67443413",
   "metadata": {},
   "source": [
    "# List Slicing\n",
    "![](https://scaler.com/topics/images/list-slicing-in-python.webp)"
   ]
  },
  {
   "cell_type": "code",
   "execution_count": null,
   "id": "c398c197",
   "metadata": {},
   "outputs": [],
   "source": []
  },
  {
   "cell_type": "code",
   "execution_count": null,
   "id": "a71d055b",
   "metadata": {},
   "outputs": [],
   "source": []
  },
  {
   "cell_type": "code",
   "execution_count": null,
   "id": "1500cb37",
   "metadata": {},
   "outputs": [],
   "source": []
  },
  {
   "cell_type": "code",
   "execution_count": null,
   "id": "29181b22",
   "metadata": {},
   "outputs": [],
   "source": []
  },
  {
   "cell_type": "markdown",
   "id": "61d20b6e",
   "metadata": {},
   "source": [
    "Given the runs made by Sachin in a list, find the runs made in:\n",
    "- odd indexed matches (1st, 3rd, 5th, 7th, ...)\n",
    "- even indexed matches (2nd, 4th, 6th ...)\n",
    "- first 5 matches\n",
    "- last 5 matches"
   ]
  },
  {
   "cell_type": "code",
   "execution_count": 7,
   "id": "bfc3408d",
   "metadata": {},
   "outputs": [],
   "source": [
    "runs = [100, 89, 0, 70, 23, 56, 121, 43, 58, 90]"
   ]
  },
  {
   "cell_type": "code",
   "execution_count": 8,
   "id": "4f918016",
   "metadata": {},
   "outputs": [
    {
     "name": "stdout",
     "output_type": "stream",
     "text": [
      "[89, 70, 56, 43, 90]\n"
     ]
    }
   ],
   "source": [
    "# Odd matches\n",
    "odd_runs = []\n",
    "for i in range(1, len(runs), 2):\n",
    "    odd_runs.append(runs[i])\n",
    "\n",
    "print(odd_runs)"
   ]
  },
  {
   "cell_type": "code",
   "execution_count": null,
   "id": "e512acfd",
   "metadata": {},
   "outputs": [],
   "source": []
  },
  {
   "cell_type": "code",
   "execution_count": 10,
   "id": "fe7e85c6",
   "metadata": {},
   "outputs": [],
   "source": [
    "runs = [100, 89, 0, 70, 23, 56, 121, 43, 58, 90]"
   ]
  },
  {
   "cell_type": "code",
   "execution_count": 12,
   "id": "e82e9202",
   "metadata": {},
   "outputs": [
    {
     "name": "stdout",
     "output_type": "stream",
     "text": [
      "[100, 0, 23, 121, 58]\n"
     ]
    }
   ],
   "source": [
    "# Even indexed matches\n",
    "even_runs = []\n",
    "\n",
    "for i in range(0, len(runs), 2):\n",
    "    even_runs.append(runs[i])\n",
    "\n",
    "print(even_runs)"
   ]
  },
  {
   "cell_type": "code",
   "execution_count": null,
   "id": "51ff7b2f",
   "metadata": {},
   "outputs": [],
   "source": []
  },
  {
   "cell_type": "code",
   "execution_count": null,
   "id": "babf358a",
   "metadata": {},
   "outputs": [],
   "source": []
  },
  {
   "cell_type": "code",
   "execution_count": null,
   "id": "8d5280ca",
   "metadata": {},
   "outputs": [],
   "source": [
    "runs = [100, 89, 0, 70, 23, 56, 121, 43, 58, 90]"
   ]
  },
  {
   "cell_type": "code",
   "execution_count": 13,
   "id": "68477635",
   "metadata": {},
   "outputs": [
    {
     "name": "stdout",
     "output_type": "stream",
     "text": [
      "[89, 70, 56, 43, 90]\n"
     ]
    }
   ],
   "source": [
    "# Odd indexed scores\n",
    "odd_runs = runs[1:len(runs):2]\n",
    "print(odd_runs)"
   ]
  },
  {
   "cell_type": "code",
   "execution_count": null,
   "id": "acf4999d",
   "metadata": {},
   "outputs": [],
   "source": []
  },
  {
   "cell_type": "code",
   "execution_count": null,
   "id": "1483ada6",
   "metadata": {},
   "outputs": [],
   "source": [
    "runs = [100, 89, 0, 70, 23, 56, 121, 43, 58, 90]"
   ]
  },
  {
   "cell_type": "code",
   "execution_count": 14,
   "id": "6d26436e",
   "metadata": {},
   "outputs": [
    {
     "name": "stdout",
     "output_type": "stream",
     "text": [
      "[100, 89, 0, 70, 23]\n"
     ]
    }
   ],
   "source": [
    "# First 5 matches\n",
    "first_5 = runs[0:5:1]\n",
    "print(first_5)"
   ]
  },
  {
   "cell_type": "code",
   "execution_count": 15,
   "id": "d114c6fa",
   "metadata": {},
   "outputs": [
    {
     "name": "stdout",
     "output_type": "stream",
     "text": [
      "[100, 89, 0, 70, 23]\n"
     ]
    }
   ],
   "source": [
    "# First 5 matches\n",
    "first_5 = runs[0:5]   # default value of step=1\n",
    "print(first_5)"
   ]
  },
  {
   "cell_type": "code",
   "execution_count": 16,
   "id": "9fd30780",
   "metadata": {},
   "outputs": [
    {
     "name": "stdout",
     "output_type": "stream",
     "text": [
      "[100, 89, 0, 70, 23]\n"
     ]
    }
   ],
   "source": [
    "# First 5 matches\n",
    "first_5 = runs[:5]   # default value of step=1, default value of start=0\n",
    "print(first_5)"
   ]
  },
  {
   "cell_type": "code",
   "execution_count": null,
   "id": "a4ded961",
   "metadata": {},
   "outputs": [],
   "source": []
  },
  {
   "cell_type": "code",
   "execution_count": 17,
   "id": "839b6bad",
   "metadata": {},
   "outputs": [
    {
     "name": "stdout",
     "output_type": "stream",
     "text": [
      "[1, 1, 2, 3, 5]\n"
     ]
    }
   ],
   "source": [
    "# Quiz 3\n",
    "nums = [1, 1, 2, 3, 5, 8, 13]\n",
    "\n",
    "print(nums[:5])\n",
    "# default start=0\n",
    "# default step=1"
   ]
  },
  {
   "cell_type": "code",
   "execution_count": null,
   "id": "361275a3",
   "metadata": {},
   "outputs": [],
   "source": []
  },
  {
   "cell_type": "code",
   "execution_count": 18,
   "id": "0e84737e",
   "metadata": {},
   "outputs": [
    {
     "name": "stdout",
     "output_type": "stream",
     "text": [
      "[50, 60, 70]\n"
     ]
    }
   ],
   "source": [
    "a = [10, 20, 30, 40, 50, 60, 70]\n",
    "print(a[4:])\n",
    "# end = end of the list"
   ]
  },
  {
   "cell_type": "code",
   "execution_count": 20,
   "id": "eb98c095",
   "metadata": {},
   "outputs": [
    {
     "name": "stdout",
     "output_type": "stream",
     "text": [
      "[10, 20, 30, 40]\n"
     ]
    }
   ],
   "source": [
    "print(a[:4])\n",
    "# start = start of the list"
   ]
  },
  {
   "cell_type": "code",
   "execution_count": 21,
   "id": "422c0a59",
   "metadata": {},
   "outputs": [
    {
     "name": "stdout",
     "output_type": "stream",
     "text": [
      "[10, 30, 50, 70]\n"
     ]
    }
   ],
   "source": [
    "a = [10, 20, 30, 40, 50, 60, 70]\n",
    "print(a[::2])"
   ]
  },
  {
   "cell_type": "code",
   "execution_count": 22,
   "id": "9595b03f",
   "metadata": {},
   "outputs": [
    {
     "name": "stdout",
     "output_type": "stream",
     "text": [
      "[10, 40, 70]\n"
     ]
    }
   ],
   "source": [
    "print(a[::3])"
   ]
  },
  {
   "cell_type": "code",
   "execution_count": 23,
   "id": "109591c2",
   "metadata": {},
   "outputs": [
    {
     "name": "stdout",
     "output_type": "stream",
     "text": [
      "[10, 50]\n"
     ]
    }
   ],
   "source": [
    "print(a[::4])"
   ]
  },
  {
   "cell_type": "code",
   "execution_count": 24,
   "id": "4c9101c3",
   "metadata": {},
   "outputs": [
    {
     "name": "stdout",
     "output_type": "stream",
     "text": [
      "[30, 70]\n"
     ]
    }
   ],
   "source": [
    "print(a[2::4])"
   ]
  },
  {
   "cell_type": "code",
   "execution_count": null,
   "id": "f2555110",
   "metadata": {},
   "outputs": [],
   "source": []
  },
  {
   "cell_type": "code",
   "execution_count": 25,
   "id": "788febab",
   "metadata": {},
   "outputs": [
    {
     "name": "stdout",
     "output_type": "stream",
     "text": [
      "[]\n"
     ]
    }
   ],
   "source": [
    "l = [2, 4, 5, 7, 8]\n",
    "print(l[5:0])"
   ]
  },
  {
   "cell_type": "code",
   "execution_count": null,
   "id": "43c8bd40",
   "metadata": {},
   "outputs": [],
   "source": []
  },
  {
   "cell_type": "code",
   "execution_count": 27,
   "id": "ba215f48",
   "metadata": {},
   "outputs": [
    {
     "name": "stdout",
     "output_type": "stream",
     "text": [
      "[5, 7, 8]\n"
     ]
    }
   ],
   "source": [
    "l = [2, 4, 5, 7, 8]\n",
    "print(l[-3:])"
   ]
  },
  {
   "cell_type": "code",
   "execution_count": null,
   "id": "cf549c80",
   "metadata": {},
   "outputs": [],
   "source": []
  },
  {
   "cell_type": "code",
   "execution_count": 28,
   "id": "65f44c8f",
   "metadata": {},
   "outputs": [
    {
     "name": "stdout",
     "output_type": "stream",
     "text": [
      "[9, 2, 8]\n",
      "[9, 2, 8]\n"
     ]
    }
   ],
   "source": [
    "a = [5, 9, 2, 8, 6, 4]\n",
    "print(a[1:4])\n",
    "print(a[-5:-2])"
   ]
  },
  {
   "cell_type": "code",
   "execution_count": 29,
   "id": "06d30299",
   "metadata": {},
   "outputs": [
    {
     "name": "stdout",
     "output_type": "stream",
     "text": [
      "[9, 2, 8]\n"
     ]
    }
   ],
   "source": [
    "print(a[1:-2])"
   ]
  },
  {
   "cell_type": "code",
   "execution_count": null,
   "id": "94377169",
   "metadata": {},
   "outputs": [],
   "source": []
  },
  {
   "cell_type": "markdown",
   "id": "65187080",
   "metadata": {},
   "source": [
    "### Negative steps"
   ]
  },
  {
   "cell_type": "code",
   "execution_count": 30,
   "id": "93831c8d",
   "metadata": {},
   "outputs": [
    {
     "name": "stdout",
     "output_type": "stream",
     "text": [
      "[6, 8, 2]\n"
     ]
    }
   ],
   "source": [
    "a = [5, 9, 2, 8, 6, 4]\n",
    "print(a[4:1:-1])\n",
    "# start=4, end=1, step= -1"
   ]
  },
  {
   "cell_type": "code",
   "execution_count": 31,
   "id": "897e30a2",
   "metadata": {},
   "outputs": [
    {
     "name": "stdout",
     "output_type": "stream",
     "text": [
      "[4, 6, 8, 2]\n",
      "[4, 6, 8, 2]\n"
     ]
    }
   ],
   "source": [
    "a = [5, 9, 2, 8, 6, 4]\n",
    "print(a[5:1:-1])\n",
    "print(a[-1:-5:-1])"
   ]
  },
  {
   "cell_type": "code",
   "execution_count": 32,
   "id": "235a3751",
   "metadata": {},
   "outputs": [
    {
     "name": "stdout",
     "output_type": "stream",
     "text": [
      "[4, 6, 8, 2]\n",
      "[4, 6, 8, 2]\n"
     ]
    }
   ],
   "source": [
    "print(a[-1:1:-1])\n",
    "print(a[5:-5:-1])"
   ]
  },
  {
   "cell_type": "code",
   "execution_count": null,
   "id": "5bd0638e",
   "metadata": {},
   "outputs": [],
   "source": []
  },
  {
   "cell_type": "code",
   "execution_count": 35,
   "id": "bc5e9ac9",
   "metadata": {},
   "outputs": [],
   "source": [
    "a = [0, 10, 20, 30, 40, 50, 60]"
   ]
  },
  {
   "cell_type": "code",
   "execution_count": 37,
   "id": "c90e2c86",
   "metadata": {},
   "outputs": [
    {
     "data": {
      "text/plain": [
       "[40, 30, 20, 10, 0]"
      ]
     },
     "execution_count": 37,
     "metadata": {},
     "output_type": "execute_result"
    }
   ],
   "source": [
    "a[4::-1]\n",
    "# Start = 4, value at index=4 is 40\n",
    "# Default end (when -ve step) = Starting of the array\n",
    "# Step = -1 => Reverse direction (right to left)"
   ]
  },
  {
   "cell_type": "code",
   "execution_count": null,
   "id": "d86e96c0",
   "metadata": {},
   "outputs": [],
   "source": []
  },
  {
   "cell_type": "code",
   "execution_count": null,
   "id": "88dba95e",
   "metadata": {},
   "outputs": [],
   "source": []
  },
  {
   "cell_type": "code",
   "execution_count": null,
   "id": "ba6c9555",
   "metadata": {},
   "outputs": [],
   "source": []
  },
  {
   "cell_type": "code",
   "execution_count": null,
   "id": "15c1e1b2",
   "metadata": {},
   "outputs": [],
   "source": []
  },
  {
   "cell_type": "code",
   "execution_count": null,
   "id": "da8a4249",
   "metadata": {},
   "outputs": [],
   "source": []
  },
  {
   "cell_type": "code",
   "execution_count": null,
   "id": "383ab2aa",
   "metadata": {},
   "outputs": [],
   "source": []
  },
  {
   "cell_type": "markdown",
   "id": "0dcc2faa",
   "metadata": {},
   "source": [
    "## Rotated Array\n",
    "![](https://scaler.com/topics/images/rotate-array.webp)"
   ]
  },
  {
   "cell_type": "code",
   "execution_count": null,
   "id": "cb70f0a3",
   "metadata": {},
   "outputs": [],
   "source": []
  },
  {
   "cell_type": "code",
   "execution_count": null,
   "id": "adeba8df",
   "metadata": {},
   "outputs": [],
   "source": []
  },
  {
   "cell_type": "code",
   "execution_count": null,
   "id": "373378e0",
   "metadata": {},
   "outputs": [],
   "source": []
  },
  {
   "cell_type": "code",
   "execution_count": null,
   "id": "30f4aa93",
   "metadata": {},
   "outputs": [],
   "source": []
  },
  {
   "cell_type": "markdown",
   "id": "75a7b4c0",
   "metadata": {},
   "source": [
    "## Reverse of a list\n",
    "![](https://scaler.com/topics/images/reversed-in-python.webp)"
   ]
  },
  {
   "cell_type": "code",
   "execution_count": null,
   "id": "759c6bb2",
   "metadata": {},
   "outputs": [],
   "source": []
  },
  {
   "cell_type": "code",
   "execution_count": null,
   "id": "80e8e9c4",
   "metadata": {},
   "outputs": [],
   "source": []
  },
  {
   "cell_type": "code",
   "execution_count": null,
   "id": "aca688f4",
   "metadata": {},
   "outputs": [],
   "source": []
  },
  {
   "cell_type": "code",
   "execution_count": null,
   "id": "b0506411",
   "metadata": {},
   "outputs": [],
   "source": []
  },
  {
   "cell_type": "code",
   "execution_count": null,
   "id": "8ec17382",
   "metadata": {},
   "outputs": [],
   "source": []
  },
  {
   "cell_type": "code",
   "execution_count": null,
   "id": "be428879",
   "metadata": {},
   "outputs": [],
   "source": []
  },
  {
   "cell_type": "code",
   "execution_count": null,
   "id": "f31db821",
   "metadata": {},
   "outputs": [],
   "source": []
  },
  {
   "cell_type": "code",
   "execution_count": null,
   "id": "47baec5a",
   "metadata": {},
   "outputs": [],
   "source": []
  },
  {
   "cell_type": "code",
   "execution_count": null,
   "id": "eb30b258",
   "metadata": {},
   "outputs": [],
   "source": []
  },
  {
   "cell_type": "code",
   "execution_count": null,
   "id": "804ad3fb",
   "metadata": {},
   "outputs": [],
   "source": []
  },
  {
   "cell_type": "markdown",
   "id": "e91a6b91",
   "metadata": {},
   "source": [
    "# Bonus Reading Material\n",
    "- What is List Slicing in Python? - https://www.scaler.com/topics/list-slicing-in-python/\n",
    "- Python List Comparison - https://www.scaler.com/topics/python-list-comparison/\n",
    "- Python reversed() Function - https://www.scaler.com/topics/reversed-in-python/\n",
    "- How to Reverse a List in Python? - https://www.scaler.com/topics/how-to-reverse-a-list-in-python/"
   ]
  },
  {
   "cell_type": "code",
   "execution_count": null,
   "id": "0cc6e767",
   "metadata": {},
   "outputs": [],
   "source": []
  }
 ],
 "metadata": {
  "kernelspec": {
   "display_name": "Python 3 (ipykernel)",
   "language": "python",
   "name": "python3"
  },
  "language_info": {
   "codemirror_mode": {
    "name": "ipython",
    "version": 3
   },
   "file_extension": ".py",
   "mimetype": "text/x-python",
   "name": "python",
   "nbconvert_exporter": "python",
   "pygments_lexer": "ipython3",
   "version": "3.9.12"
  }
 },
 "nbformat": 4,
 "nbformat_minor": 5
}
