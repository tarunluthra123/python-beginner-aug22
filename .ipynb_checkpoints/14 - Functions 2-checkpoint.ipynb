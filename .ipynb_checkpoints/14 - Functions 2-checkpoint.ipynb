{
 "cells": [
  {
   "cell_type": "markdown",
   "id": "347fb487",
   "metadata": {},
   "source": [
    "# Functions 2"
   ]
  },
  {
   "cell_type": "code",
   "execution_count": null,
   "id": "6c9d96c6",
   "metadata": {},
   "outputs": [],
   "source": []
  },
  {
   "cell_type": "markdown",
   "id": "8ad67bce",
   "metadata": {},
   "source": [
    "#### Quiz 1\n",
    "```\n",
    "function random():\n",
    "    return True\n",
    "\n",
    "random()\n",
    "```"
   ]
  },
  {
   "cell_type": "code",
   "execution_count": 1,
   "id": "57941d50",
   "metadata": {},
   "outputs": [
    {
     "ename": "SyntaxError",
     "evalue": "invalid syntax (992644156.py, line 1)",
     "output_type": "error",
     "traceback": [
      "\u001b[0;36m  File \u001b[0;32m\"/var/folders/jn/1bsrct314hv5xmfm7vrcdrzc0000gn/T/ipykernel_1803/992644156.py\"\u001b[0;36m, line \u001b[0;32m1\u001b[0m\n\u001b[0;31m    function random():\u001b[0m\n\u001b[0m             ^\u001b[0m\n\u001b[0;31mSyntaxError\u001b[0m\u001b[0;31m:\u001b[0m invalid syntax\n"
     ]
    }
   ],
   "source": [
    "function random():\n",
    "    return True\n",
    "\n",
    "random()"
   ]
  },
  {
   "cell_type": "code",
   "execution_count": null,
   "id": "4451f6fd",
   "metadata": {},
   "outputs": [],
   "source": []
  },
  {
   "cell_type": "markdown",
   "id": "bfcaa266",
   "metadata": {},
   "source": [
    "#### Quiz 2\n",
    "```\n",
    "def abc:\n",
    "    return \"I am a function!\"\n",
    "\n",
    "abc()\n",
    "```"
   ]
  },
  {
   "cell_type": "code",
   "execution_count": 2,
   "id": "c17efa13",
   "metadata": {},
   "outputs": [
    {
     "ename": "SyntaxError",
     "evalue": "invalid syntax (2677837596.py, line 1)",
     "output_type": "error",
     "traceback": [
      "\u001b[0;36m  File \u001b[0;32m\"/var/folders/jn/1bsrct314hv5xmfm7vrcdrzc0000gn/T/ipykernel_1803/2677837596.py\"\u001b[0;36m, line \u001b[0;32m1\u001b[0m\n\u001b[0;31m    def abc:\u001b[0m\n\u001b[0m           ^\u001b[0m\n\u001b[0;31mSyntaxError\u001b[0m\u001b[0;31m:\u001b[0m invalid syntax\n"
     ]
    }
   ],
   "source": [
    "def abc:\n",
    "    return \"I am a function!\"\n",
    "\n",
    "abc()"
   ]
  },
  {
   "cell_type": "code",
   "execution_count": null,
   "id": "02f20cdd",
   "metadata": {},
   "outputs": [],
   "source": []
  },
  {
   "cell_type": "markdown",
   "id": "29249b43",
   "metadata": {},
   "source": [
    "#### Quiz 3\n",
    "```py\n",
    "a = 10\n",
    "\n",
    "def calculator(number):\n",
    "    print(number * 10)\n",
    "\n",
    "calculator(a)\n",
    "print(number)\n",
    "print(a)\n",
    "\n",
    "```"
   ]
  },
  {
   "cell_type": "code",
   "execution_count": 3,
   "id": "6c788e7c",
   "metadata": {},
   "outputs": [
    {
     "name": "stdout",
     "output_type": "stream",
     "text": [
      "100\n"
     ]
    },
    {
     "ename": "NameError",
     "evalue": "name 'number' is not defined",
     "output_type": "error",
     "traceback": [
      "\u001b[0;31m---------------------------------------------------------------------------\u001b[0m",
      "\u001b[0;31mNameError\u001b[0m                                 Traceback (most recent call last)",
      "\u001b[0;32m/var/folders/jn/1bsrct314hv5xmfm7vrcdrzc0000gn/T/ipykernel_1803/3598147760.py\u001b[0m in \u001b[0;36m<module>\u001b[0;34m\u001b[0m\n\u001b[1;32m      5\u001b[0m \u001b[0;34m\u001b[0m\u001b[0m\n\u001b[1;32m      6\u001b[0m \u001b[0mcalculator\u001b[0m\u001b[0;34m(\u001b[0m\u001b[0ma\u001b[0m\u001b[0;34m)\u001b[0m\u001b[0;34m\u001b[0m\u001b[0;34m\u001b[0m\u001b[0m\n\u001b[0;32m----> 7\u001b[0;31m \u001b[0mprint\u001b[0m\u001b[0;34m(\u001b[0m\u001b[0mnumber\u001b[0m\u001b[0;34m)\u001b[0m\u001b[0;34m\u001b[0m\u001b[0;34m\u001b[0m\u001b[0m\n\u001b[0m\u001b[1;32m      8\u001b[0m \u001b[0mprint\u001b[0m\u001b[0;34m(\u001b[0m\u001b[0ma\u001b[0m\u001b[0;34m)\u001b[0m\u001b[0;34m\u001b[0m\u001b[0;34m\u001b[0m\u001b[0m\n",
      "\u001b[0;31mNameError\u001b[0m: name 'number' is not defined"
     ]
    }
   ],
   "source": [
    "a = 10\n",
    "\n",
    "def calculator(number):\n",
    "    print(number * 10)\n",
    "\n",
    "calculator(a)\n",
    "print(number)\n",
    "print(a)"
   ]
  },
  {
   "cell_type": "code",
   "execution_count": null,
   "id": "e577f4ce",
   "metadata": {},
   "outputs": [],
   "source": []
  },
  {
   "cell_type": "markdown",
   "id": "7dafe9f3",
   "metadata": {},
   "source": [
    "#### Quiz 4\n",
    "```py\n",
    "a = 10\n",
    "\n",
    "def calculator(number):\n",
    "    print(number * 10)\n",
    "\n",
    "calculator(a)\n",
    "print(a)\n",
    "```"
   ]
  },
  {
   "cell_type": "code",
   "execution_count": 4,
   "id": "07794183",
   "metadata": {},
   "outputs": [
    {
     "name": "stdout",
     "output_type": "stream",
     "text": [
      "100\n",
      "10\n"
     ]
    }
   ],
   "source": [
    "a = 10\n",
    "\n",
    "def calculator(number):\n",
    "    print(number * 10)\n",
    "\n",
    "calculator(a)\n",
    "print(a)"
   ]
  },
  {
   "cell_type": "code",
   "execution_count": null,
   "id": "ed172878",
   "metadata": {},
   "outputs": [],
   "source": []
  },
  {
   "cell_type": "code",
   "execution_count": null,
   "id": "9546c8a5",
   "metadata": {},
   "outputs": [],
   "source": []
  },
  {
   "cell_type": "code",
   "execution_count": null,
   "id": "1cd4f792",
   "metadata": {},
   "outputs": [],
   "source": []
  },
  {
   "cell_type": "markdown",
   "id": "8b11c293",
   "metadata": {},
   "source": [
    "#### Quiz 5\n",
    "```py\n",
    "def f(a, b, c):\n",
    "    print((a + b + c)/3)\n",
    "f(3, 5, 7)\n",
    "```"
   ]
  },
  {
   "cell_type": "code",
   "execution_count": 5,
   "id": "c914971c",
   "metadata": {},
   "outputs": [
    {
     "name": "stdout",
     "output_type": "stream",
     "text": [
      "5.0\n"
     ]
    }
   ],
   "source": [
    "def f(a, b, c):\n",
    "    print((a + b + c)/3)\n",
    "f(3, 5, 7)"
   ]
  },
  {
   "cell_type": "code",
   "execution_count": 9,
   "id": "64cc99a3",
   "metadata": {},
   "outputs": [
    {
     "name": "stdout",
     "output_type": "stream",
     "text": [
      "5\n"
     ]
    }
   ],
   "source": [
    "def f(a, b, c):\n",
    "    print((a + b + c) // 3)\n",
    "f(3, 5, 7)"
   ]
  },
  {
   "cell_type": "code",
   "execution_count": null,
   "id": "2b102346",
   "metadata": {},
   "outputs": [],
   "source": []
  },
  {
   "cell_type": "markdown",
   "id": "41fc4986",
   "metadata": {},
   "source": [
    "#### Quiz 6\n",
    "```py\n",
    "def power(number,exponent):\n",
    "    return number**exponent\n",
    "\n",
    "print(power(3, 2))\n",
    "```"
   ]
  },
  {
   "cell_type": "code",
   "execution_count": 7,
   "id": "79d1a4e0",
   "metadata": {},
   "outputs": [
    {
     "name": "stdout",
     "output_type": "stream",
     "text": [
      "9\n"
     ]
    }
   ],
   "source": [
    "def power(number,exponent):\n",
    "    return number**exponent\n",
    "\n",
    "print(power(3, 2))"
   ]
  },
  {
   "cell_type": "code",
   "execution_count": 8,
   "id": "77ecaa37",
   "metadata": {},
   "outputs": [
    {
     "name": "stdout",
     "output_type": "stream",
     "text": [
      "8\n"
     ]
    }
   ],
   "source": [
    "print(power(2, 3))"
   ]
  },
  {
   "cell_type": "code",
   "execution_count": null,
   "id": "cde888d7",
   "metadata": {},
   "outputs": [],
   "source": []
  },
  {
   "cell_type": "markdown",
   "id": "1a508650",
   "metadata": {},
   "source": [
    "### Keyword Arguments"
   ]
  },
  {
   "cell_type": "code",
   "execution_count": null,
   "id": "9f7a41ae",
   "metadata": {},
   "outputs": [],
   "source": []
  },
  {
   "cell_type": "code",
   "execution_count": 10,
   "id": "0805fe6f",
   "metadata": {},
   "outputs": [],
   "source": [
    "def introduce_family(me, father, mother, sibling):\n",
    "    print(\"Me = \", me)\n",
    "    print(\"Father =\", father)\n",
    "    print(\"Mother =\", mother)\n",
    "    print(\"Sibling =\", sibling)"
   ]
  },
  {
   "cell_type": "code",
   "execution_count": 16,
   "id": "6516f994",
   "metadata": {},
   "outputs": [
    {
     "name": "stdout",
     "output_type": "stream",
     "text": [
      "Me =  Ron\n",
      "Father = Arthur\n",
      "Mother = Molly\n",
      "Sibling = Ginny\n"
     ]
    }
   ],
   "source": [
    "introduce_family(father=\"Arthur\", sibling=\"Ginny\", mother=\"Molly\", me=\"Ron\")"
   ]
  },
  {
   "cell_type": "code",
   "execution_count": null,
   "id": "488e9b08",
   "metadata": {},
   "outputs": [],
   "source": []
  },
  {
   "cell_type": "code",
   "execution_count": null,
   "id": "b8644354",
   "metadata": {},
   "outputs": [],
   "source": []
  },
  {
   "cell_type": "code",
   "execution_count": 17,
   "id": "4633e92d",
   "metadata": {},
   "outputs": [],
   "source": [
    "def random(a, b, c, d):\n",
    "    print(a, b, c, d)"
   ]
  },
  {
   "cell_type": "code",
   "execution_count": 19,
   "id": "bbb9b0db",
   "metadata": {},
   "outputs": [
    {
     "name": "stdout",
     "output_type": "stream",
     "text": [
      "2 1 5 3\n"
     ]
    }
   ],
   "source": [
    "# Only keywords\n",
    "random(b=1, c=5, d=3, a=2)"
   ]
  },
  {
   "cell_type": "code",
   "execution_count": 20,
   "id": "ca8a6d2d",
   "metadata": {},
   "outputs": [
    {
     "name": "stdout",
     "output_type": "stream",
     "text": [
      "2 1 5 3\n"
     ]
    }
   ],
   "source": [
    "# Only positional\n",
    "random(2, 1, 5, 3)"
   ]
  },
  {
   "cell_type": "code",
   "execution_count": 21,
   "id": "bf163ce4",
   "metadata": {},
   "outputs": [
    {
     "name": "stdout",
     "output_type": "stream",
     "text": [
      "7 2 3 5\n"
     ]
    }
   ],
   "source": [
    "# Positional -> Keyword\n",
    "random(7, 2, d=5, c=3)"
   ]
  },
  {
   "cell_type": "code",
   "execution_count": 22,
   "id": "ec79f0c2",
   "metadata": {},
   "outputs": [
    {
     "ename": "TypeError",
     "evalue": "random() got multiple values for argument 'a'",
     "output_type": "error",
     "traceback": [
      "\u001b[0;31m---------------------------------------------------------------------------\u001b[0m",
      "\u001b[0;31mTypeError\u001b[0m                                 Traceback (most recent call last)",
      "\u001b[0;32m/var/folders/jn/1bsrct314hv5xmfm7vrcdrzc0000gn/T/ipykernel_1803/4284933265.py\u001b[0m in \u001b[0;36m<module>\u001b[0;34m\u001b[0m\n\u001b[0;32m----> 1\u001b[0;31m \u001b[0mrandom\u001b[0m\u001b[0;34m(\u001b[0m\u001b[0;36m7\u001b[0m\u001b[0;34m,\u001b[0m \u001b[0;36m2\u001b[0m\u001b[0;34m,\u001b[0m \u001b[0ma\u001b[0m\u001b[0;34m=\u001b[0m\u001b[0;36m8\u001b[0m\u001b[0;34m,\u001b[0m \u001b[0mb\u001b[0m\u001b[0;34m=\u001b[0m\u001b[0;36m6\u001b[0m\u001b[0;34m)\u001b[0m\u001b[0;34m\u001b[0m\u001b[0;34m\u001b[0m\u001b[0m\n\u001b[0m",
      "\u001b[0;31mTypeError\u001b[0m: random() got multiple values for argument 'a'"
     ]
    }
   ],
   "source": [
    "# Positional -> Keyword\n",
    "random(7, 2, a=8, b=6)\n",
    "# a got 2 values"
   ]
  },
  {
   "cell_type": "code",
   "execution_count": 23,
   "id": "f8ab62d6",
   "metadata": {},
   "outputs": [
    {
     "ename": "SyntaxError",
     "evalue": "positional argument follows keyword argument (2319815839.py, line 1)",
     "output_type": "error",
     "traceback": [
      "\u001b[0;36m  File \u001b[0;32m\"/var/folders/jn/1bsrct314hv5xmfm7vrcdrzc0000gn/T/ipykernel_1803/2319815839.py\"\u001b[0;36m, line \u001b[0;32m1\u001b[0m\n\u001b[0;31m    random(a=7, c=2, 8, 6)\u001b[0m\n\u001b[0m                         ^\u001b[0m\n\u001b[0;31mSyntaxError\u001b[0m\u001b[0;31m:\u001b[0m positional argument follows keyword argument\n"
     ]
    }
   ],
   "source": [
    "random(a=7, c=2, 8, 6)"
   ]
  },
  {
   "cell_type": "code",
   "execution_count": 24,
   "id": "85950cbe",
   "metadata": {},
   "outputs": [
    {
     "ename": "SyntaxError",
     "evalue": "positional argument follows keyword argument (4010754132.py, line 1)",
     "output_type": "error",
     "traceback": [
      "\u001b[0;36m  File \u001b[0;32m\"/var/folders/jn/1bsrct314hv5xmfm7vrcdrzc0000gn/T/ipykernel_1803/4010754132.py\"\u001b[0;36m, line \u001b[0;32m1\u001b[0m\n\u001b[0;31m    random(a=7, b=2, 8, 6)\u001b[0m\n\u001b[0m                         ^\u001b[0m\n\u001b[0;31mSyntaxError\u001b[0m\u001b[0;31m:\u001b[0m positional argument follows keyword argument\n"
     ]
    }
   ],
   "source": [
    "random(a=7, b=2, 8, 6)"
   ]
  },
  {
   "cell_type": "code",
   "execution_count": null,
   "id": "93ef5f14",
   "metadata": {},
   "outputs": [],
   "source": []
  },
  {
   "cell_type": "markdown",
   "id": "e3781123",
   "metadata": {},
   "source": [
    "#### Quiz 7\n",
    "```py\n",
    "def power(number,exponent):\n",
    "    return number**exponent\n",
    "\n",
    "power(exponent=2,number=3)\n",
    "```"
   ]
  },
  {
   "cell_type": "code",
   "execution_count": 25,
   "id": "c6181070",
   "metadata": {},
   "outputs": [
    {
     "data": {
      "text/plain": [
       "9"
      ]
     },
     "execution_count": 25,
     "metadata": {},
     "output_type": "execute_result"
    }
   ],
   "source": [
    "def power(number,exponent):\n",
    "    return number**exponent\n",
    "\n",
    "power(exponent=2,number=3)"
   ]
  },
  {
   "cell_type": "code",
   "execution_count": null,
   "id": "3c2662c6",
   "metadata": {},
   "outputs": [],
   "source": []
  },
  {
   "cell_type": "code",
   "execution_count": null,
   "id": "958f1560",
   "metadata": {},
   "outputs": [],
   "source": []
  },
  {
   "cell_type": "markdown",
   "id": "fb08e63f",
   "metadata": {},
   "source": [
    "## Default Arguments"
   ]
  },
  {
   "cell_type": "code",
   "execution_count": 26,
   "id": "f2d9bccd",
   "metadata": {},
   "outputs": [],
   "source": [
    "def simple_interest(p, t, r):\n",
    "    return (p * t * r) / 100"
   ]
  },
  {
   "cell_type": "code",
   "execution_count": null,
   "id": "d3203b7c",
   "metadata": {},
   "outputs": [],
   "source": [
    "# By default, we want rate of interest as 10%\n",
    "# However we can get other values as well"
   ]
  },
  {
   "cell_type": "code",
   "execution_count": 27,
   "id": "44f3878b",
   "metadata": {},
   "outputs": [],
   "source": [
    "def simple_interest(p, t, r=10):\n",
    "    return (p * t * r) / 100"
   ]
  },
  {
   "cell_type": "code",
   "execution_count": 28,
   "id": "30fd05c5",
   "metadata": {},
   "outputs": [
    {
     "data": {
      "text/plain": [
       "50.0"
      ]
     },
     "execution_count": 28,
     "metadata": {},
     "output_type": "execute_result"
    }
   ],
   "source": [
    "simple_interest(100, 5)"
   ]
  },
  {
   "cell_type": "code",
   "execution_count": 29,
   "id": "866358a5",
   "metadata": {},
   "outputs": [
    {
     "data": {
      "text/plain": [
       "75.0"
      ]
     },
     "execution_count": 29,
     "metadata": {},
     "output_type": "execute_result"
    }
   ],
   "source": [
    "simple_interest(100, 5, 15)"
   ]
  },
  {
   "cell_type": "code",
   "execution_count": null,
   "id": "fbea4ab8",
   "metadata": {},
   "outputs": [],
   "source": []
  },
  {
   "cell_type": "code",
   "execution_count": 33,
   "id": "07f1549d",
   "metadata": {},
   "outputs": [],
   "source": [
    "def simple_interest(p=50, t=1, r=10):\n",
    "    return (p * t * r) / 100"
   ]
  },
  {
   "cell_type": "code",
   "execution_count": 34,
   "id": "b8479608",
   "metadata": {},
   "outputs": [
    {
     "data": {
      "text/plain": [
       "50.0"
      ]
     },
     "execution_count": 34,
     "metadata": {},
     "output_type": "execute_result"
    }
   ],
   "source": [
    "simple_interest(100, 5)"
   ]
  },
  {
   "cell_type": "code",
   "execution_count": 35,
   "id": "e39ec253",
   "metadata": {},
   "outputs": [
    {
     "data": {
      "text/plain": [
       "10.0"
      ]
     },
     "execution_count": 35,
     "metadata": {},
     "output_type": "execute_result"
    }
   ],
   "source": [
    "simple_interest(100)"
   ]
  },
  {
   "cell_type": "code",
   "execution_count": 36,
   "id": "8073c1f8",
   "metadata": {},
   "outputs": [
    {
     "data": {
      "text/plain": [
       "5.0"
      ]
     },
     "execution_count": 36,
     "metadata": {},
     "output_type": "execute_result"
    }
   ],
   "source": [
    "simple_interest()"
   ]
  },
  {
   "cell_type": "code",
   "execution_count": null,
   "id": "1f4637f0",
   "metadata": {},
   "outputs": [],
   "source": []
  },
  {
   "cell_type": "code",
   "execution_count": 37,
   "id": "e82dca62",
   "metadata": {},
   "outputs": [
    {
     "ename": "SyntaxError",
     "evalue": "non-default argument follows default argument (2822739173.py, line 1)",
     "output_type": "error",
     "traceback": [
      "\u001b[0;36m  File \u001b[0;32m\"/var/folders/jn/1bsrct314hv5xmfm7vrcdrzc0000gn/T/ipykernel_1803/2822739173.py\"\u001b[0;36m, line \u001b[0;32m1\u001b[0m\n\u001b[0;31m    def simple_interest(p=50, t, r=10):\u001b[0m\n\u001b[0m                                 ^\u001b[0m\n\u001b[0;31mSyntaxError\u001b[0m\u001b[0;31m:\u001b[0m non-default argument follows default argument\n"
     ]
    }
   ],
   "source": [
    "def simple_interest(p=50, t, r=10):\n",
    "    return (p * t * r) / 100"
   ]
  },
  {
   "cell_type": "code",
   "execution_count": 49,
   "id": "133e272d",
   "metadata": {},
   "outputs": [],
   "source": [
    "def simple_interest(p=50, t=1, r=10):\n",
    "    return (p * t * r) / 100"
   ]
  },
  {
   "cell_type": "code",
   "execution_count": 50,
   "id": "6bc2d538",
   "metadata": {},
   "outputs": [
    {
     "data": {
      "text/plain": [
       "0.12"
      ]
     },
     "execution_count": 50,
     "metadata": {},
     "output_type": "execute_result"
    }
   ],
   "source": [
    "simple_interest(r=2, p=6)"
   ]
  },
  {
   "cell_type": "code",
   "execution_count": 46,
   "id": "bba981b5",
   "metadata": {},
   "outputs": [
    {
     "data": {
      "text/plain": [
       "6.0"
      ]
     },
     "execution_count": 46,
     "metadata": {},
     "output_type": "execute_result"
    }
   ],
   "source": [
    "simple_interest(t=2, r=6)"
   ]
  },
  {
   "cell_type": "code",
   "execution_count": 51,
   "id": "2b78490f",
   "metadata": {},
   "outputs": [
    {
     "data": {
      "text/plain": [
       "28.0"
      ]
     },
     "execution_count": 51,
     "metadata": {},
     "output_type": "execute_result"
    }
   ],
   "source": [
    "simple_interest(40, t=7)"
   ]
  },
  {
   "cell_type": "code",
   "execution_count": null,
   "id": "0ac948b9",
   "metadata": {},
   "outputs": [],
   "source": []
  },
  {
   "cell_type": "code",
   "execution_count": null,
   "id": "548c103d",
   "metadata": {},
   "outputs": [],
   "source": []
  },
  {
   "cell_type": "code",
   "execution_count": null,
   "id": "b49ba8ce",
   "metadata": {},
   "outputs": [],
   "source": []
  },
  {
   "cell_type": "code",
   "execution_count": null,
   "id": "bb20d19a",
   "metadata": {},
   "outputs": [],
   "source": []
  },
  {
   "cell_type": "code",
   "execution_count": 48,
   "id": "a9dfe853",
   "metadata": {},
   "outputs": [],
   "source": [
    "def simple_interest(t, r, p=50):\n",
    "    return (p * t * r) / 100"
   ]
  },
  {
   "cell_type": "code",
   "execution_count": null,
   "id": "bca41292",
   "metadata": {},
   "outputs": [],
   "source": []
  },
  {
   "cell_type": "code",
   "execution_count": null,
   "id": "05601092",
   "metadata": {},
   "outputs": [],
   "source": []
  },
  {
   "cell_type": "code",
   "execution_count": null,
   "id": "6f6eb786",
   "metadata": {},
   "outputs": [],
   "source": []
  },
  {
   "cell_type": "code",
   "execution_count": null,
   "id": "792e456e",
   "metadata": {},
   "outputs": [],
   "source": []
  },
  {
   "cell_type": "code",
   "execution_count": null,
   "id": "4fd89b2e",
   "metadata": {},
   "outputs": [],
   "source": []
  },
  {
   "cell_type": "markdown",
   "id": "86cac066",
   "metadata": {},
   "source": [
    "#### Quiz 8\n",
    "```py\n",
    "def power(x,e=1):\n",
    "    return x**e\n",
    "\n",
    "power(3, 3)\n",
    "\n",
    "```"
   ]
  },
  {
   "cell_type": "code",
   "execution_count": 1,
   "id": "3e411744",
   "metadata": {},
   "outputs": [
    {
     "data": {
      "text/plain": [
       "27"
      ]
     },
     "execution_count": 1,
     "metadata": {},
     "output_type": "execute_result"
    }
   ],
   "source": [
    "def power(x,e=1):\n",
    "    return x**e\n",
    "\n",
    "power(3, 3)"
   ]
  },
  {
   "cell_type": "code",
   "execution_count": 2,
   "id": "f6b861de",
   "metadata": {},
   "outputs": [
    {
     "data": {
      "text/plain": [
       "5"
      ]
     },
     "execution_count": 2,
     "metadata": {},
     "output_type": "execute_result"
    }
   ],
   "source": [
    "power(5)"
   ]
  },
  {
   "cell_type": "code",
   "execution_count": null,
   "id": "a87c93fa",
   "metadata": {},
   "outputs": [],
   "source": []
  },
  {
   "cell_type": "code",
   "execution_count": null,
   "id": "12c3b57c",
   "metadata": {},
   "outputs": [],
   "source": []
  },
  {
   "cell_type": "markdown",
   "id": "235da975",
   "metadata": {},
   "source": [
    "## Question - Date Printing\n",
    "Create a date printing function which takes in 4 arguments \\\n",
    "date, month, year, style\n",
    "\n",
    "- Style 0 -> d/m/y\n",
    "- Style 1 -> m/d/y\n",
    "\n",
    "Default style is 0"
   ]
  },
  {
   "cell_type": "code",
   "execution_count": 5,
   "id": "9bf12fa6",
   "metadata": {},
   "outputs": [],
   "source": [
    "def print_date(day, month, year, style=0):\n",
    "    if style == 0:\n",
    "        print(day, month, year, sep='/')\n",
    "    elif style == 1:\n",
    "        print(month, day, year, sep='/')\n",
    "    else:\n",
    "        print(\"Invalid style\")"
   ]
  },
  {
   "cell_type": "code",
   "execution_count": 6,
   "id": "7fa13e34",
   "metadata": {},
   "outputs": [
    {
     "name": "stdout",
     "output_type": "stream",
     "text": [
      "5/2/2022\n"
     ]
    }
   ],
   "source": [
    "print_date(5, 2, 2022)"
   ]
  },
  {
   "cell_type": "code",
   "execution_count": 7,
   "id": "1ec2de99",
   "metadata": {},
   "outputs": [
    {
     "name": "stdout",
     "output_type": "stream",
     "text": [
      "4/7/2020\n"
     ]
    }
   ],
   "source": [
    "print_date(7, 4, 2020, 1)"
   ]
  },
  {
   "cell_type": "code",
   "execution_count": 8,
   "id": "f59ba56f",
   "metadata": {},
   "outputs": [
    {
     "name": "stdout",
     "output_type": "stream",
     "text": [
      "Invalid style\n"
     ]
    }
   ],
   "source": [
    "print_date(7, 4, 2020, 50)"
   ]
  },
  {
   "cell_type": "code",
   "execution_count": null,
   "id": "fcc8e516",
   "metadata": {},
   "outputs": [],
   "source": []
  },
  {
   "cell_type": "markdown",
   "id": "a6cf1832",
   "metadata": {},
   "source": [
    "print function \\\n",
    "sep=' ' \\\n",
    "end='\\n'"
   ]
  },
  {
   "cell_type": "code",
   "execution_count": 9,
   "id": "b28e0c57",
   "metadata": {},
   "outputs": [
    {
     "name": "stdout",
     "output_type": "stream",
     "text": [
      "Help on built-in function print in module builtins:\n",
      "\n",
      "print(...)\n",
      "    print(value, ..., sep=' ', end='\\n', file=sys.stdout, flush=False)\n",
      "    \n",
      "    Prints the values to a stream, or to sys.stdout by default.\n",
      "    Optional keyword arguments:\n",
      "    file:  a file-like object (stream); defaults to the current sys.stdout.\n",
      "    sep:   string inserted between values, default a space.\n",
      "    end:   string appended after the last value, default a newline.\n",
      "    flush: whether to forcibly flush the stream.\n",
      "\n"
     ]
    }
   ],
   "source": [
    "help(print)"
   ]
  },
  {
   "cell_type": "code",
   "execution_count": null,
   "id": "1d56f0ff",
   "metadata": {},
   "outputs": [],
   "source": []
  },
  {
   "cell_type": "markdown",
   "id": "0d6a1224",
   "metadata": {},
   "source": [
    "## Scope"
   ]
  },
  {
   "cell_type": "code",
   "execution_count": 11,
   "id": "7a1b380a",
   "metadata": {},
   "outputs": [
    {
     "name": "stdout",
     "output_type": "stream",
     "text": [
      "Inside the function - father\n",
      "Outside the function - mother\n"
     ]
    }
   ],
   "source": [
    "chief_of_house = \"mother\"\n",
    "\n",
    "def change_chief():\n",
    "    chief_of_house = \"father\"\n",
    "    print(\"Inside the function -\", chief_of_house)\n",
    "    \n",
    "    \n",
    "change_chief()\n",
    "print(\"Outside the function -\", chief_of_house)"
   ]
  },
  {
   "cell_type": "code",
   "execution_count": null,
   "id": "33dcccc0",
   "metadata": {},
   "outputs": [],
   "source": []
  },
  {
   "cell_type": "code",
   "execution_count": null,
   "id": "a29fd4bd",
   "metadata": {},
   "outputs": [],
   "source": []
  },
  {
   "cell_type": "code",
   "execution_count": 15,
   "id": "e446f20a",
   "metadata": {},
   "outputs": [
    {
     "name": "stdout",
     "output_type": "stream",
     "text": [
      "Inside the function - 5\n",
      "Outside the function - 10\n"
     ]
    }
   ],
   "source": [
    "a = 10 # global variable\n",
    "\n",
    "def random():\n",
    "    a = 5 # new variable - local variable\n",
    "    print(\"Inside the function -\", a)\n",
    "    \n",
    "random()\n",
    "print(\"Outside the function -\", a)"
   ]
  },
  {
   "cell_type": "markdown",
   "id": "455efbcb",
   "metadata": {},
   "source": [
    "### Only accessible inside the block in which they are defined. This block of region where you can access a variable is said to be its scope"
   ]
  },
  {
   "cell_type": "code",
   "execution_count": null,
   "id": "a6cf28f2",
   "metadata": {},
   "outputs": [],
   "source": []
  },
  {
   "cell_type": "code",
   "execution_count": null,
   "id": "fd5f178b",
   "metadata": {},
   "outputs": [],
   "source": []
  },
  {
   "cell_type": "code",
   "execution_count": 20,
   "id": "006232e8",
   "metadata": {},
   "outputs": [
    {
     "name": "stdout",
     "output_type": "stream",
     "text": [
      "Inside the function - 10\n",
      "Outside the function - 10\n"
     ]
    }
   ],
   "source": [
    "a = 10 # global variable\n",
    "\n",
    "def random2():\n",
    "    print(\"Inside the function -\", a)\n",
    "    \n",
    "random2()\n",
    "print(\"Outside the function -\", a)"
   ]
  },
  {
   "cell_type": "code",
   "execution_count": null,
   "id": "bf7a7b52",
   "metadata": {},
   "outputs": [],
   "source": []
  },
  {
   "cell_type": "code",
   "execution_count": null,
   "id": "99ca2d9d",
   "metadata": {},
   "outputs": [],
   "source": []
  },
  {
   "cell_type": "code",
   "execution_count": null,
   "id": "eb2b29fa",
   "metadata": {},
   "outputs": [],
   "source": []
  },
  {
   "cell_type": "code",
   "execution_count": 25,
   "id": "16a76354",
   "metadata": {},
   "outputs": [
    {
     "name": "stdout",
     "output_type": "stream",
     "text": [
      "Inside the function - 5\n",
      "Inside the function - 20\n",
      "Outside the function - 5\n"
     ]
    }
   ],
   "source": [
    "a = 10 # global variable\n",
    "\n",
    "\n",
    "# Somehow change the value of global a\n",
    "def random3():\n",
    "    global a\n",
    "    # the above statement tells python that use the global 'a' only.\n",
    "    # Do not define a local 'a'\n",
    "    \n",
    "    a = 5\n",
    "    b = 10 # Local variable\n",
    "    print(\"Inside the function -\", a)\n",
    "    b = 20\n",
    "    print('Inside the function -', b)\n",
    "    \n",
    "random3()\n",
    "print(\"Outside the function -\", a)"
   ]
  },
  {
   "cell_type": "code",
   "execution_count": null,
   "id": "9302e921",
   "metadata": {},
   "outputs": [],
   "source": []
  },
  {
   "cell_type": "code",
   "execution_count": null,
   "id": "a9a192c4",
   "metadata": {},
   "outputs": [],
   "source": []
  },
  {
   "cell_type": "markdown",
   "id": "cf71b59e",
   "metadata": {},
   "source": [
    "# Doubts"
   ]
  },
  {
   "cell_type": "code",
   "execution_count": 24,
   "id": "7b22c9cb",
   "metadata": {},
   "outputs": [
    {
     "ename": "SyntaxError",
     "evalue": "name 'a' is parameter and global (1951573160.py, line 4)",
     "output_type": "error",
     "traceback": [
      "\u001b[0;36m  File \u001b[0;32m\"/var/folders/jn/1bsrct314hv5xmfm7vrcdrzc0000gn/T/ipykernel_2145/1951573160.py\"\u001b[0;36m, line \u001b[0;32m4\u001b[0m\n\u001b[0;31m    global a, b\u001b[0m\n\u001b[0m    ^\u001b[0m\n\u001b[0;31mSyntaxError\u001b[0m\u001b[0;31m:\u001b[0m name 'a' is parameter and global\n"
     ]
    }
   ],
   "source": [
    "a = 5\n",
    "b = 5\n",
    "def din(a, b):\n",
    "    global a, b\n",
    "    print(\"first\",a,b)\n",
    "    \n",
    "din(3,4)\n"
   ]
  },
  {
   "cell_type": "code",
   "execution_count": 29,
   "id": "a4eb7795",
   "metadata": {},
   "outputs": [
    {
     "name": "stdout",
     "output_type": "stream",
     "text": [
      "Inside the function - 5\n",
      "Inside the function - 20\n",
      "Outside the function - 5\n",
      "Outside the function -  40\n",
      "Outside the function - 60\n"
     ]
    }
   ],
   "source": [
    "a = 10 # global variable\n",
    "\n",
    "# Somehow change the value of global a\n",
    "def random3():\n",
    "    global a\n",
    "    # the above statement tells python that use the global 'a' only.\n",
    "    # Do not define a local 'a'\n",
    "    \n",
    "    a = 5\n",
    "    b = 10 # Local variable\n",
    "    print(\"Inside the function -\", a)\n",
    "    b = 20\n",
    "    print('Inside the function -', b)\n",
    "    \n",
    "random3()\n",
    "print(\"Outside the function -\", a)\n",
    "b = 40 # Global\n",
    "print('Outside the function - ', b)\n",
    "a = 60\n",
    "print(\"Outside the function -\", a)"
   ]
  },
  {
   "cell_type": "code",
   "execution_count": 30,
   "id": "450bcfab",
   "metadata": {},
   "outputs": [
    {
     "name": "stdout",
     "output_type": "stream",
     "text": [
      "Help on class range in module builtins:\n",
      "\n",
      "class range(object)\n",
      " |  range(stop) -> range object\n",
      " |  range(start, stop[, step]) -> range object\n",
      " |  \n",
      " |  Return an object that produces a sequence of integers from start (inclusive)\n",
      " |  to stop (exclusive) by step.  range(i, j) produces i, i+1, i+2, ..., j-1.\n",
      " |  start defaults to 0, and stop is omitted!  range(4) produces 0, 1, 2, 3.\n",
      " |  These are exactly the valid indices for a list of 4 elements.\n",
      " |  When step is given, it specifies the increment (or decrement).\n",
      " |  \n",
      " |  Methods defined here:\n",
      " |  \n",
      " |  __bool__(self, /)\n",
      " |      True if self else False\n",
      " |  \n",
      " |  __contains__(self, key, /)\n",
      " |      Return key in self.\n",
      " |  \n",
      " |  __eq__(self, value, /)\n",
      " |      Return self==value.\n",
      " |  \n",
      " |  __ge__(self, value, /)\n",
      " |      Return self>=value.\n",
      " |  \n",
      " |  __getattribute__(self, name, /)\n",
      " |      Return getattr(self, name).\n",
      " |  \n",
      " |  __getitem__(self, key, /)\n",
      " |      Return self[key].\n",
      " |  \n",
      " |  __gt__(self, value, /)\n",
      " |      Return self>value.\n",
      " |  \n",
      " |  __hash__(self, /)\n",
      " |      Return hash(self).\n",
      " |  \n",
      " |  __iter__(self, /)\n",
      " |      Implement iter(self).\n",
      " |  \n",
      " |  __le__(self, value, /)\n",
      " |      Return self<=value.\n",
      " |  \n",
      " |  __len__(self, /)\n",
      " |      Return len(self).\n",
      " |  \n",
      " |  __lt__(self, value, /)\n",
      " |      Return self<value.\n",
      " |  \n",
      " |  __ne__(self, value, /)\n",
      " |      Return self!=value.\n",
      " |  \n",
      " |  __reduce__(...)\n",
      " |      Helper for pickle.\n",
      " |  \n",
      " |  __repr__(self, /)\n",
      " |      Return repr(self).\n",
      " |  \n",
      " |  __reversed__(...)\n",
      " |      Return a reverse iterator.\n",
      " |  \n",
      " |  count(...)\n",
      " |      rangeobject.count(value) -> integer -- return number of occurrences of value\n",
      " |  \n",
      " |  index(...)\n",
      " |      rangeobject.index(value) -> integer -- return index of value.\n",
      " |      Raise ValueError if the value is not present.\n",
      " |  \n",
      " |  ----------------------------------------------------------------------\n",
      " |  Static methods defined here:\n",
      " |  \n",
      " |  __new__(*args, **kwargs) from builtins.type\n",
      " |      Create and return a new object.  See help(type) for accurate signature.\n",
      " |  \n",
      " |  ----------------------------------------------------------------------\n",
      " |  Data descriptors defined here:\n",
      " |  \n",
      " |  start\n",
      " |  \n",
      " |  step\n",
      " |  \n",
      " |  stop\n",
      "\n"
     ]
    }
   ],
   "source": [
    "help(range)"
   ]
  },
  {
   "cell_type": "code",
   "execution_count": null,
   "id": "58217d48",
   "metadata": {},
   "outputs": [],
   "source": [
    "# Use of global variable"
   ]
  },
  {
   "cell_type": "code",
   "execution_count": null,
   "id": "9004218c",
   "metadata": {},
   "outputs": [],
   "source": []
  },
  {
   "cell_type": "code",
   "execution_count": null,
   "id": "bc45209b",
   "metadata": {},
   "outputs": [],
   "source": []
  },
  {
   "cell_type": "code",
   "execution_count": 32,
   "id": "0fa0e10a",
   "metadata": {},
   "outputs": [
    {
     "data": {
      "text/plain": [
       "[5, 4, 3, 2, 1]"
      ]
     },
     "execution_count": 32,
     "metadata": {},
     "output_type": "execute_result"
    }
   ],
   "source": [
    "list(range(5, 0, -1))"
   ]
  },
  {
   "cell_type": "code",
   "execution_count": 33,
   "id": "fe59c180",
   "metadata": {},
   "outputs": [],
   "source": [
    "def reverse_range(start):\n",
    "    return range(start, 0, -1)"
   ]
  },
  {
   "cell_type": "code",
   "execution_count": 34,
   "id": "a9835b27",
   "metadata": {},
   "outputs": [],
   "source": [
    "r = reverse_range(5)"
   ]
  },
  {
   "cell_type": "code",
   "execution_count": 35,
   "id": "2942f671",
   "metadata": {},
   "outputs": [
    {
     "data": {
      "text/plain": [
       "[5, 4, 3, 2, 1]"
      ]
     },
     "execution_count": 35,
     "metadata": {},
     "output_type": "execute_result"
    }
   ],
   "source": [
    "list(r)"
   ]
  },
  {
   "cell_type": "code",
   "execution_count": null,
   "id": "677735e8",
   "metadata": {},
   "outputs": [],
   "source": [
    "for i in range(5, 0, -1):"
   ]
  },
  {
   "cell_type": "code",
   "execution_count": null,
   "id": "0068937b",
   "metadata": {},
   "outputs": [],
   "source": []
  },
  {
   "cell_type": "code",
   "execution_count": null,
   "id": "bda8a7e8",
   "metadata": {},
   "outputs": [],
   "source": []
  },
  {
   "cell_type": "code",
   "execution_count": 36,
   "id": "b1e687a6",
   "metadata": {},
   "outputs": [
    {
     "name": "stdout",
     "output_type": "stream",
     "text": [
      "10\n"
     ]
    }
   ],
   "source": [
    "def abc():\n",
    "    global x\n",
    "    x = 10\n",
    "    \n",
    "    \n",
    "abc()\n",
    "print(x)"
   ]
  },
  {
   "cell_type": "code",
   "execution_count": 42,
   "id": "99c9ae08",
   "metadata": {},
   "outputs": [
    {
     "name": "stdout",
     "output_type": "stream",
     "text": [
      "0 1 2 3 4 5 6 7 8 9\n"
     ]
    }
   ],
   "source": [
    "N = 10\n",
    "for i in range(N):\n",
    "    if i < N-1:\n",
    "        print(i,end=' ')\n",
    "    else:\n",
    "        print(i)"
   ]
  },
  {
   "cell_type": "code",
   "execution_count": null,
   "id": "7291f9b0",
   "metadata": {},
   "outputs": [],
   "source": []
  },
  {
   "cell_type": "code",
   "execution_count": null,
   "id": "da9a66c7",
   "metadata": {},
   "outputs": [],
   "source": []
  },
  {
   "cell_type": "code",
   "execution_count": 41,
   "id": "9a721005",
   "metadata": {},
   "outputs": [
    {
     "ename": "UnboundLocalError",
     "evalue": "local variable 'a' referenced before assignment",
     "output_type": "error",
     "traceback": [
      "\u001b[0;31m---------------------------------------------------------------------------\u001b[0m",
      "\u001b[0;31mUnboundLocalError\u001b[0m                         Traceback (most recent call last)",
      "\u001b[0;32m/var/folders/jn/1bsrct314hv5xmfm7vrcdrzc0000gn/T/ipykernel_2145/1645304145.py\u001b[0m in \u001b[0;36m<module>\u001b[0;34m\u001b[0m\n\u001b[1;32m      3\u001b[0m     \u001b[0ma\u001b[0m\u001b[0;34m=\u001b[0m\u001b[0ma\u001b[0m\u001b[0;34m+\u001b[0m\u001b[0;36m5\u001b[0m\u001b[0;34m\u001b[0m\u001b[0;34m\u001b[0m\u001b[0m\n\u001b[1;32m      4\u001b[0m     \u001b[0mprint\u001b[0m\u001b[0;34m(\u001b[0m\u001b[0ma\u001b[0m\u001b[0;34m)\u001b[0m\u001b[0;34m\u001b[0m\u001b[0;34m\u001b[0m\u001b[0m\n\u001b[0;32m----> 5\u001b[0;31m \u001b[0mab\u001b[0m\u001b[0;34m(\u001b[0m\u001b[0;34m)\u001b[0m\u001b[0;34m\u001b[0m\u001b[0;34m\u001b[0m\u001b[0m\n\u001b[0m",
      "\u001b[0;32m/var/folders/jn/1bsrct314hv5xmfm7vrcdrzc0000gn/T/ipykernel_2145/1645304145.py\u001b[0m in \u001b[0;36mab\u001b[0;34m()\u001b[0m\n\u001b[1;32m      1\u001b[0m \u001b[0ma\u001b[0m\u001b[0;34m=\u001b[0m\u001b[0;36m10\u001b[0m\u001b[0;34m\u001b[0m\u001b[0;34m\u001b[0m\u001b[0m\n\u001b[1;32m      2\u001b[0m \u001b[0;32mdef\u001b[0m \u001b[0mab\u001b[0m\u001b[0;34m(\u001b[0m\u001b[0;34m)\u001b[0m\u001b[0;34m:\u001b[0m\u001b[0;34m\u001b[0m\u001b[0;34m\u001b[0m\u001b[0m\n\u001b[0;32m----> 3\u001b[0;31m     \u001b[0ma\u001b[0m\u001b[0;34m=\u001b[0m\u001b[0ma\u001b[0m\u001b[0;34m+\u001b[0m\u001b[0;36m5\u001b[0m\u001b[0;34m\u001b[0m\u001b[0;34m\u001b[0m\u001b[0m\n\u001b[0m\u001b[1;32m      4\u001b[0m     \u001b[0mprint\u001b[0m\u001b[0;34m(\u001b[0m\u001b[0ma\u001b[0m\u001b[0;34m)\u001b[0m\u001b[0;34m\u001b[0m\u001b[0;34m\u001b[0m\u001b[0m\n\u001b[1;32m      5\u001b[0m \u001b[0mab\u001b[0m\u001b[0;34m(\u001b[0m\u001b[0;34m)\u001b[0m\u001b[0;34m\u001b[0m\u001b[0;34m\u001b[0m\u001b[0m\n",
      "\u001b[0;31mUnboundLocalError\u001b[0m: local variable 'a' referenced before assignment"
     ]
    }
   ],
   "source": [
    "a=10\n",
    "def ab():\n",
    "    a=a+5\n",
    "    print(a)\n",
    "ab()"
   ]
  },
  {
   "cell_type": "code",
   "execution_count": null,
   "id": "b1fc01f6",
   "metadata": {},
   "outputs": [],
   "source": []
  }
 ],
 "metadata": {
  "kernelspec": {
   "display_name": "Python 3 (ipykernel)",
   "language": "python",
   "name": "python3"
  },
  "language_info": {
   "codemirror_mode": {
    "name": "ipython",
    "version": 3
   },
   "file_extension": ".py",
   "mimetype": "text/x-python",
   "name": "python",
   "nbconvert_exporter": "python",
   "pygments_lexer": "ipython3",
   "version": "3.9.12"
  }
 },
 "nbformat": 4,
 "nbformat_minor": 5
}
