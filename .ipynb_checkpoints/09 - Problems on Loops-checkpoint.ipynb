{
 "cells": [
  {
   "cell_type": "markdown",
   "id": "e1dce45b",
   "metadata": {},
   "source": [
    "# Problems on Loops"
   ]
  },
  {
   "cell_type": "code",
   "execution_count": null,
   "id": "96dd046b",
   "metadata": {},
   "outputs": [],
   "source": []
  },
  {
   "cell_type": "code",
   "execution_count": null,
   "id": "276aceb8",
   "metadata": {},
   "outputs": [],
   "source": []
  },
  {
   "cell_type": "code",
   "execution_count": null,
   "id": "6923b950",
   "metadata": {},
   "outputs": [],
   "source": []
  },
  {
   "cell_type": "markdown",
   "id": "d7cf8ae2",
   "metadata": {},
   "source": [
    "### pass statement\n",
    "pass in Python is a null statement which the interpreter simply 'moves over' while executing the code. It can be used in a variety of scenarios where you want to leave parts of your code undefined (such as if-else, loops, classes or methods) but the Python syntax doesn't allow it.\n",
    "\n",
    "https://www.scaler.com/topics/pass-in-python/"
   ]
  },
  {
   "cell_type": "markdown",
   "id": "95e708c6",
   "metadata": {},
   "source": [
    "<img src=\"https://media.giphy.com/media/um5zgB7txzYeBPZnPZ/giphy.gif\" width=\"200px\" />"
   ]
  },
  {
   "cell_type": "code",
   "execution_count": 10,
   "id": "4dd6e7c7",
   "metadata": {},
   "outputs": [
    {
     "name": "stdout",
     "output_type": "stream",
     "text": [
      "22500\n"
     ]
    }
   ],
   "source": [
    "n = 150\n",
    "if n % 10 == 0:\n",
    "    pass\n",
    "    \n",
    "print(n ** 2)"
   ]
  },
  {
   "cell_type": "code",
   "execution_count": null,
   "id": "0192e171",
   "metadata": {},
   "outputs": [],
   "source": []
  },
  {
   "cell_type": "code",
   "execution_count": null,
   "id": "c98f3e6f",
   "metadata": {},
   "outputs": [],
   "source": []
  },
  {
   "cell_type": "code",
   "execution_count": null,
   "id": "1c8e7d61",
   "metadata": {},
   "outputs": [],
   "source": []
  },
  {
   "cell_type": "code",
   "execution_count": null,
   "id": "708eaade",
   "metadata": {},
   "outputs": [],
   "source": []
  },
  {
   "cell_type": "code",
   "execution_count": null,
   "id": "9ea1f405",
   "metadata": {},
   "outputs": [],
   "source": []
  },
  {
   "cell_type": "markdown",
   "id": "fe906afd",
   "metadata": {},
   "source": [
    "#### Quiz 1:\n",
    "```py\n",
    "x = 5\n",
    "if x % 2 == 0:\n",
    "    print(x ** 3)\n",
    "    pass\n",
    "else:\n",
    "    print(x ** 2)\n",
    "    pass\n",
    "```"
   ]
  },
  {
   "cell_type": "code",
   "execution_count": 8,
   "id": "9b80e3dd",
   "metadata": {},
   "outputs": [
    {
     "name": "stdout",
     "output_type": "stream",
     "text": [
      "25\n"
     ]
    }
   ],
   "source": [
    "x = 5\n",
    "if x % 2 == 0:\n",
    "    print(x ** 3)\n",
    "    pass\n",
    "else:\n",
    "    print(x ** 2)\n",
    "    pass"
   ]
  },
  {
   "cell_type": "code",
   "execution_count": null,
   "id": "894177bb",
   "metadata": {},
   "outputs": [],
   "source": []
  },
  {
   "cell_type": "code",
   "execution_count": null,
   "id": "34f7f227",
   "metadata": {},
   "outputs": [],
   "source": []
  },
  {
   "cell_type": "code",
   "execution_count": null,
   "id": "9f314b49",
   "metadata": {},
   "outputs": [],
   "source": []
  },
  {
   "cell_type": "markdown",
   "id": "ac243894",
   "metadata": {},
   "source": [
    "## print sep"
   ]
  },
  {
   "cell_type": "code",
   "execution_count": 11,
   "id": "b11cc5c3",
   "metadata": {},
   "outputs": [
    {
     "name": "stdout",
     "output_type": "stream",
     "text": [
      "Hello World How are you 8 9.3456 None True\n"
     ]
    }
   ],
   "source": [
    "print(\"Hello\", \"World\", \"How\", \"are\", \"you\", 8, 9.3456, None, True)"
   ]
  },
  {
   "cell_type": "code",
   "execution_count": 14,
   "id": "c8a95e39",
   "metadata": {},
   "outputs": [
    {
     "name": "stdout",
     "output_type": "stream",
     "text": [
      "Hello_()_89...,World_()_89...,Good_()_89...,evening\n"
     ]
    }
   ],
   "source": [
    "# By default separation is taken as a space\n",
    "print(\"Hello\", \"World\", \"Good\", \"evening\", sep='_()_89...,')"
   ]
  },
  {
   "cell_type": "code",
   "execution_count": null,
   "id": "2615a035",
   "metadata": {},
   "outputs": [],
   "source": []
  },
  {
   "cell_type": "code",
   "execution_count": null,
   "id": "9532991b",
   "metadata": {},
   "outputs": [],
   "source": []
  },
  {
   "cell_type": "code",
   "execution_count": null,
   "id": "3070421e",
   "metadata": {},
   "outputs": [],
   "source": []
  },
  {
   "cell_type": "code",
   "execution_count": null,
   "id": "d50ad94f",
   "metadata": {},
   "outputs": [],
   "source": []
  },
  {
   "cell_type": "markdown",
   "id": "3f8ecafe",
   "metadata": {},
   "source": [
    "#### Quiz 2\n",
    "```py\n",
    "for i in range(3):\n",
    "    print(\"i\", i, sep='=')\n",
    "```"
   ]
  },
  {
   "cell_type": "code",
   "execution_count": 16,
   "id": "1d84d4f1",
   "metadata": {},
   "outputs": [
    {
     "name": "stdout",
     "output_type": "stream",
     "text": [
      "i=0\n",
      "i=1\n",
      "i=2\n"
     ]
    }
   ],
   "source": [
    "for i in range(3):\n",
    "    print(\"i\", i, sep='=')"
   ]
  },
  {
   "cell_type": "markdown",
   "id": "f01fae9b",
   "metadata": {},
   "source": [
    "Correct Answer - A"
   ]
  },
  {
   "cell_type": "code",
   "execution_count": null,
   "id": "067c166f",
   "metadata": {},
   "outputs": [],
   "source": []
  },
  {
   "cell_type": "markdown",
   "id": "e5f7b9cf",
   "metadata": {},
   "source": [
    "#### Quiz 3\n",
    "```py\n",
    "print(\"Hello\", \"World\", sep=',', end='+')\n",
    "print(\"Foo\", sep='./')\n",
    "print(\"Bar\", end=' 123')\n",
    "```"
   ]
  },
  {
   "cell_type": "code",
   "execution_count": 17,
   "id": "189d95e3",
   "metadata": {},
   "outputs": [
    {
     "name": "stdout",
     "output_type": "stream",
     "text": [
      "Hello,World+Foo\n",
      "Bar 123"
     ]
    }
   ],
   "source": [
    "print(\"Hello\", \"World\", sep=',', end='+')\n",
    "print(\"Foo\", sep='./')\n",
    "print(\"Bar\", end=' 123')"
   ]
  },
  {
   "cell_type": "markdown",
   "id": "dc86d207",
   "metadata": {},
   "source": [
    "Correct Option - A"
   ]
  },
  {
   "cell_type": "code",
   "execution_count": null,
   "id": "d67d216c",
   "metadata": {},
   "outputs": [],
   "source": []
  },
  {
   "cell_type": "code",
   "execution_count": 21,
   "id": "bf115791",
   "metadata": {},
   "outputs": [
    {
     "name": "stdout",
     "output_type": "stream",
     "text": [
      "Foo\n"
     ]
    }
   ],
   "source": [
    "print(\"Foo\", sep='./')"
   ]
  },
  {
   "cell_type": "code",
   "execution_count": null,
   "id": "b3b60a12",
   "metadata": {},
   "outputs": [],
   "source": []
  },
  {
   "cell_type": "code",
   "execution_count": null,
   "id": "4dfbbb9e",
   "metadata": {},
   "outputs": [],
   "source": []
  },
  {
   "cell_type": "code",
   "execution_count": null,
   "id": "5a27376b",
   "metadata": {},
   "outputs": [],
   "source": []
  },
  {
   "cell_type": "code",
   "execution_count": null,
   "id": "e6bdbb4b",
   "metadata": {},
   "outputs": [],
   "source": []
  },
  {
   "cell_type": "markdown",
   "id": "bdc6a7a0",
   "metadata": {},
   "source": [
    "#### Quiz 4\n",
    "```py\n",
    "for i in range(2, 5):\n",
    "    print(\"i\", i, end=' ', sep='=')\n",
    "```"
   ]
  },
  {
   "cell_type": "code",
   "execution_count": 23,
   "id": "8ddc6ee4",
   "metadata": {},
   "outputs": [
    {
     "name": "stdout",
     "output_type": "stream",
     "text": [
      "i=2 i=3 i=4 "
     ]
    }
   ],
   "source": [
    "for i in range(2, 5):\n",
    "    print(\"i\", i, end=' ', sep='=')"
   ]
  },
  {
   "cell_type": "markdown",
   "id": "6ce31dc1",
   "metadata": {},
   "source": [
    "Correct Option - D"
   ]
  },
  {
   "cell_type": "code",
   "execution_count": null,
   "id": "dfcc0c00",
   "metadata": {},
   "outputs": [],
   "source": []
  },
  {
   "cell_type": "code",
   "execution_count": null,
   "id": "70c1181c",
   "metadata": {},
   "outputs": [],
   "source": []
  },
  {
   "cell_type": "code",
   "execution_count": null,
   "id": "7478f266",
   "metadata": {},
   "outputs": [],
   "source": []
  },
  {
   "cell_type": "code",
   "execution_count": null,
   "id": "9edb300c",
   "metadata": {},
   "outputs": [],
   "source": []
  },
  {
   "cell_type": "markdown",
   "id": "e8dc58fb",
   "metadata": {},
   "source": [
    "#### Quiz 5\n",
    "Factors of 48"
   ]
  },
  {
   "cell_type": "code",
   "execution_count": null,
   "id": "0803aabb",
   "metadata": {},
   "outputs": [],
   "source": []
  },
  {
   "cell_type": "markdown",
   "id": "39962b1b",
   "metadata": {},
   "source": [
    "## Print all factors\n",
    "Given a number N, print all of its factors/divisors. \n",
    "\n",
    "**Sample Input:** \\\n",
    "N = 10\n",
    "\n",
    "**Sample Output:** \\\n",
    "1 2 5 10"
   ]
  },
  {
   "cell_type": "code",
   "execution_count": null,
   "id": "776938a6",
   "metadata": {},
   "outputs": [],
   "source": []
  },
  {
   "cell_type": "code",
   "execution_count": null,
   "id": "e82096db",
   "metadata": {},
   "outputs": [],
   "source": []
  },
  {
   "cell_type": "code",
   "execution_count": null,
   "id": "12684feb",
   "metadata": {},
   "outputs": [],
   "source": []
  },
  {
   "cell_type": "code",
   "execution_count": null,
   "id": "cd939fa8",
   "metadata": {},
   "outputs": [],
   "source": []
  },
  {
   "cell_type": "code",
   "execution_count": null,
   "id": "123dea7a",
   "metadata": {},
   "outputs": [],
   "source": []
  },
  {
   "cell_type": "markdown",
   "id": "bb0b28a0",
   "metadata": {},
   "source": [
    "## Count of factors\n",
    "Given a number N, print count of its factors/divisors. \n",
    "\n",
    "**Sample Input:** \\\n",
    "N = 10\n",
    "\n",
    "**Sample Output:** \\\n",
    "4"
   ]
  },
  {
   "cell_type": "code",
   "execution_count": null,
   "id": "89fe808f",
   "metadata": {},
   "outputs": [],
   "source": []
  },
  {
   "cell_type": "code",
   "execution_count": null,
   "id": "18d27371",
   "metadata": {},
   "outputs": [],
   "source": []
  },
  {
   "cell_type": "code",
   "execution_count": null,
   "id": "6c34cbb2",
   "metadata": {},
   "outputs": [],
   "source": []
  },
  {
   "cell_type": "markdown",
   "id": "bda1c350",
   "metadata": {},
   "source": [
    "## Prime Check\n",
    "Given a number N, check if it is Prime or Not Prime\n",
    "\n",
    "**Sample Input:** \\\n",
    "N = 10\n",
    "\n",
    "**Sample Output:** \\\n",
    "Not Prime"
   ]
  },
  {
   "cell_type": "code",
   "execution_count": null,
   "id": "475d6ac0",
   "metadata": {},
   "outputs": [],
   "source": []
  },
  {
   "cell_type": "markdown",
   "id": "7cc0a7e0",
   "metadata": {},
   "source": [
    "### Quiz 6\n",
    "Which of the following is not a prime number?\n",
    "13, 39, 17, 23"
   ]
  },
  {
   "cell_type": "code",
   "execution_count": null,
   "id": "57a8bc76",
   "metadata": {},
   "outputs": [],
   "source": []
  },
  {
   "cell_type": "code",
   "execution_count": null,
   "id": "51d8515a",
   "metadata": {},
   "outputs": [],
   "source": []
  },
  {
   "cell_type": "code",
   "execution_count": null,
   "id": "01980e3c",
   "metadata": {},
   "outputs": [],
   "source": []
  },
  {
   "cell_type": "markdown",
   "id": "b3250a5c",
   "metadata": {},
   "source": [
    "## Sum of factors\n",
    "Given a number N, print sum of its factors/divisors. \n",
    "\n",
    "**Sample Input:** \\\n",
    "N = 10\n",
    "\n",
    "**Sample Output:** \\\n",
    "18\n",
    "\n",
    "**Explanation:** \\\n",
    "1 + 2 + 5 + 10"
   ]
  },
  {
   "cell_type": "code",
   "execution_count": null,
   "id": "ccac4800",
   "metadata": {},
   "outputs": [],
   "source": []
  },
  {
   "cell_type": "code",
   "execution_count": null,
   "id": "23e9340c",
   "metadata": {},
   "outputs": [],
   "source": []
  },
  {
   "cell_type": "code",
   "execution_count": null,
   "id": "985a94ff",
   "metadata": {},
   "outputs": [],
   "source": []
  },
  {
   "cell_type": "code",
   "execution_count": null,
   "id": "e80931bb",
   "metadata": {},
   "outputs": [],
   "source": []
  },
  {
   "cell_type": "code",
   "execution_count": null,
   "id": "0dc32a82",
   "metadata": {},
   "outputs": [],
   "source": []
  },
  {
   "cell_type": "markdown",
   "id": "b8f4cfc4",
   "metadata": {},
   "source": [
    "# Break statement"
   ]
  },
  {
   "cell_type": "code",
   "execution_count": null,
   "id": "792694e3",
   "metadata": {},
   "outputs": [],
   "source": []
  },
  {
   "cell_type": "code",
   "execution_count": null,
   "id": "96ae3fe4",
   "metadata": {},
   "outputs": [],
   "source": []
  },
  {
   "cell_type": "code",
   "execution_count": null,
   "id": "aca99512",
   "metadata": {},
   "outputs": [],
   "source": []
  },
  {
   "cell_type": "markdown",
   "id": "fb7f4c55",
   "metadata": {},
   "source": [
    "#### Quiz 7\n",
    "```py\n",
    "for i in range(1, 10):\n",
    "    if i == 5:\n",
    "        break\n",
    "    print(i, end=' ')\n",
    "```"
   ]
  },
  {
   "cell_type": "code",
   "execution_count": null,
   "id": "43858e9f",
   "metadata": {},
   "outputs": [],
   "source": []
  },
  {
   "cell_type": "markdown",
   "id": "dff74499",
   "metadata": {},
   "source": [
    "<img src=\"https://media.giphy.com/media/dYsYG3shlTDO1S38Vg/giphy.gif\" width=\"300px\" />"
   ]
  },
  {
   "cell_type": "code",
   "execution_count": null,
   "id": "84f321a5",
   "metadata": {},
   "outputs": [],
   "source": []
  },
  {
   "cell_type": "code",
   "execution_count": null,
   "id": "7b0bdd72",
   "metadata": {},
   "outputs": [],
   "source": []
  },
  {
   "cell_type": "markdown",
   "id": "c4c42ca3",
   "metadata": {},
   "source": [
    "# Continue statement\n",
    "<img src=\"https://media.giphy.com/media/l2YWxte7sJB2XuE8M/giphy.gif\" width=\"300px\" />"
   ]
  },
  {
   "cell_type": "code",
   "execution_count": null,
   "id": "91ef43a9",
   "metadata": {},
   "outputs": [],
   "source": []
  },
  {
   "cell_type": "code",
   "execution_count": null,
   "id": "95311c08",
   "metadata": {},
   "outputs": [],
   "source": []
  },
  {
   "cell_type": "code",
   "execution_count": null,
   "id": "3710a063",
   "metadata": {},
   "outputs": [],
   "source": []
  },
  {
   "cell_type": "markdown",
   "id": "0fa79137",
   "metadata": {},
   "source": [
    "#### Quiz 8\n",
    "What is the output of the following?\n",
    "```py\n",
    "for i in range(0,10):\n",
    "     if(i%3==0):\n",
    "        continue\n",
    "    print(i, end=' ')\n",
    "```\n"
   ]
  },
  {
   "cell_type": "code",
   "execution_count": null,
   "id": "9ca94e71",
   "metadata": {},
   "outputs": [],
   "source": []
  },
  {
   "cell_type": "code",
   "execution_count": null,
   "id": "a5ad7335",
   "metadata": {},
   "outputs": [],
   "source": []
  },
  {
   "cell_type": "code",
   "execution_count": null,
   "id": "11b4348d",
   "metadata": {},
   "outputs": [],
   "source": []
  },
  {
   "cell_type": "code",
   "execution_count": null,
   "id": "c0e47f1c",
   "metadata": {},
   "outputs": [],
   "source": []
  },
  {
   "cell_type": "code",
   "execution_count": null,
   "id": "53812636",
   "metadata": {},
   "outputs": [],
   "source": []
  },
  {
   "cell_type": "markdown",
   "id": "d06f84eb",
   "metadata": {},
   "source": [
    "## Random Game\n",
    "Design a game to generate and print random numbers from 1 to 10.\n",
    "- You need to keep on printing till you get a 5\n",
    "- Skip printing multiples of 4"
   ]
  },
  {
   "cell_type": "code",
   "execution_count": null,
   "id": "3c25d089",
   "metadata": {},
   "outputs": [],
   "source": []
  },
  {
   "cell_type": "code",
   "execution_count": null,
   "id": "3b37fe7d",
   "metadata": {},
   "outputs": [],
   "source": []
  },
  {
   "cell_type": "code",
   "execution_count": null,
   "id": "3feefd67",
   "metadata": {},
   "outputs": [],
   "source": []
  },
  {
   "cell_type": "code",
   "execution_count": null,
   "id": "08ad982d",
   "metadata": {},
   "outputs": [],
   "source": []
  },
  {
   "cell_type": "markdown",
   "id": "c953d2bd",
   "metadata": {},
   "source": [
    "#### Quiz 9\n",
    "Which of the following is `NOT` a valid output for this code snippet ? \n",
    "\n",
    "```py\n",
    "import random\n",
    "\n",
    "while True:\n",
    "    r = random.randint(5, 15)\n",
    "    \n",
    "    if r % 3 == 0:\n",
    "        continue\n",
    "\n",
    "    print(r, end=' ')\n",
    "    \n",
    "    if r == 10 or r == 15:\n",
    "        break\n",
    "```"
   ]
  },
  {
   "cell_type": "markdown",
   "id": "dd454d33",
   "metadata": {},
   "source": [
    "**A.** 13 7 7 13 8 10 \\\n",
    "**B.** 5 14 7 7 13 14 10 \\\n",
    "**C.** 7 11 7 5 15 \\\n",
    "**D.** 14 5 8 11 7 14 13 10 "
   ]
  },
  {
   "cell_type": "code",
   "execution_count": null,
   "id": "807051d0",
   "metadata": {},
   "outputs": [],
   "source": []
  },
  {
   "cell_type": "code",
   "execution_count": null,
   "id": "ca71a179",
   "metadata": {},
   "outputs": [],
   "source": []
  },
  {
   "cell_type": "code",
   "execution_count": null,
   "id": "40f46587",
   "metadata": {},
   "outputs": [],
   "source": []
  },
  {
   "cell_type": "code",
   "execution_count": null,
   "id": "22781974",
   "metadata": {},
   "outputs": [],
   "source": []
  },
  {
   "cell_type": "markdown",
   "id": "49093131",
   "metadata": {},
   "source": [
    "# Bonus Reading Material\n",
    "https://www.scaler.com/topics/python/break-pass-and-continue-statement-in-python/\n",
    "\n",
    "<img src=\"https://media.giphy.com/media/VbnUQpnihPSIgIXuZv/giphy.gif\" width=\"300px\" />"
   ]
  },
  {
   "cell_type": "code",
   "execution_count": null,
   "id": "8feb2af8",
   "metadata": {},
   "outputs": [],
   "source": []
  }
 ],
 "metadata": {
  "kernelspec": {
   "display_name": "Python 3 (ipykernel)",
   "language": "python",
   "name": "python3"
  },
  "language_info": {
   "codemirror_mode": {
    "name": "ipython",
    "version": 3
   },
   "file_extension": ".py",
   "mimetype": "text/x-python",
   "name": "python",
   "nbconvert_exporter": "python",
   "pygments_lexer": "ipython3",
   "version": "3.9.12"
  }
 },
 "nbformat": 4,
 "nbformat_minor": 5
}
