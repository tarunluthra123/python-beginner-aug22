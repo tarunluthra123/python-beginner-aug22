{
 "cells": [
  {
   "cell_type": "markdown",
   "id": "3c590041",
   "metadata": {},
   "source": [
    "# Recap"
   ]
  },
  {
   "cell_type": "code",
   "execution_count": null,
   "id": "723b12df",
   "metadata": {},
   "outputs": [],
   "source": []
  },
  {
   "cell_type": "markdown",
   "id": "bdca53ab",
   "metadata": {},
   "source": [
    "#### Quiz 1\n",
    "```py\n",
    "i = 0\n",
    "j = 0\n",
    "while i <= 2:\n",
    "    if j%2:\n",
    "        j += 1\n",
    "    print(i, \":\", j, end=\" \")\n",
    "    i+=1\n",
    "    j+=1\n",
    "```"
   ]
  },
  {
   "cell_type": "code",
   "execution_count": null,
   "id": "ee2eb784",
   "metadata": {},
   "outputs": [],
   "source": [
    "i = 0\n",
    "j = 0\n",
    "while i <= 2:\n",
    "    if j%2:\n",
    "        j += 1\n",
    "    print(i, \":\", j, end=\" \")\n",
    "    i+=1\n",
    "    j+=1"
   ]
  },
  {
   "cell_type": "code",
   "execution_count": null,
   "id": "f5a1f2ad",
   "metadata": {},
   "outputs": [],
   "source": []
  },
  {
   "cell_type": "markdown",
   "id": "05fa1acf",
   "metadata": {},
   "source": [
    "## Ranges"
   ]
  },
  {
   "cell_type": "code",
   "execution_count": null,
   "id": "b69ab4ab",
   "metadata": {},
   "outputs": [],
   "source": []
  },
  {
   "cell_type": "markdown",
   "id": "5cd74765",
   "metadata": {},
   "source": [
    "#### Quiz 2\n",
    "How many numbers are included in the below range?  \n",
    "`range(11)`"
   ]
  },
  {
   "cell_type": "code",
   "execution_count": null,
   "id": "cc133439",
   "metadata": {},
   "outputs": [],
   "source": [
    "print(list(range(11)))"
   ]
  },
  {
   "cell_type": "code",
   "execution_count": null,
   "id": "056e019f",
   "metadata": {},
   "outputs": [],
   "source": []
  },
  {
   "cell_type": "code",
   "execution_count": null,
   "id": "06cd7c31",
   "metadata": {},
   "outputs": [],
   "source": []
  },
  {
   "cell_type": "markdown",
   "id": "21b06894",
   "metadata": {},
   "source": [
    "#### Quiz 3\n",
    "```py\n",
    "print(list(range(7, 8)))\n",
    "```"
   ]
  },
  {
   "cell_type": "code",
   "execution_count": null,
   "id": "1039ba56",
   "metadata": {},
   "outputs": [],
   "source": [
    "print(list(range(7, 8)))"
   ]
  },
  {
   "cell_type": "code",
   "execution_count": null,
   "id": "ab3f3048",
   "metadata": {},
   "outputs": [],
   "source": []
  },
  {
   "cell_type": "code",
   "execution_count": null,
   "id": "06273534",
   "metadata": {},
   "outputs": [],
   "source": []
  },
  {
   "cell_type": "markdown",
   "id": "9994972c",
   "metadata": {},
   "source": [
    "#### Quiz 4\n",
    "```py\n",
    "print(list(range(8, 8)))\n",
    "```"
   ]
  },
  {
   "cell_type": "code",
   "execution_count": null,
   "id": "a335798e",
   "metadata": {},
   "outputs": [],
   "source": [
    "print(list(range(8, 8)))"
   ]
  },
  {
   "cell_type": "code",
   "execution_count": null,
   "id": "11b88aa5",
   "metadata": {},
   "outputs": [],
   "source": [
    "print(range(8,8))"
   ]
  },
  {
   "cell_type": "code",
   "execution_count": null,
   "id": "94fb281e",
   "metadata": {},
   "outputs": [],
   "source": []
  },
  {
   "cell_type": "code",
   "execution_count": null,
   "id": "d8f9b218",
   "metadata": {},
   "outputs": [],
   "source": []
  },
  {
   "cell_type": "markdown",
   "id": "98ff328b",
   "metadata": {},
   "source": [
    "## Third parameter in range()"
   ]
  },
  {
   "cell_type": "code",
   "execution_count": null,
   "id": "d3b02dfb",
   "metadata": {},
   "outputs": [],
   "source": [
    "print(list(range(1, 10, 2)))"
   ]
  },
  {
   "cell_type": "code",
   "execution_count": null,
   "id": "144ee6ea",
   "metadata": {},
   "outputs": [],
   "source": []
  },
  {
   "cell_type": "code",
   "execution_count": null,
   "id": "1161e911",
   "metadata": {},
   "outputs": [],
   "source": []
  },
  {
   "cell_type": "markdown",
   "id": "54550d47",
   "metadata": {},
   "source": [
    "#### Quiz 5\n",
    "How many numbers are included in the below range?  \n",
    "```py\n",
    "range(1, 11, 2)\n",
    "```"
   ]
  },
  {
   "cell_type": "code",
   "execution_count": null,
   "id": "190d3c06",
   "metadata": {},
   "outputs": [],
   "source": [
    "print(list(range(1, 11, 2)))"
   ]
  },
  {
   "cell_type": "code",
   "execution_count": null,
   "id": "4f79f9b0",
   "metadata": {},
   "outputs": [],
   "source": []
  },
  {
   "cell_type": "code",
   "execution_count": null,
   "id": "a688e851",
   "metadata": {},
   "outputs": [],
   "source": [
    "range(11.5)"
   ]
  },
  {
   "cell_type": "code",
   "execution_count": null,
   "id": "45d86a6a",
   "metadata": {},
   "outputs": [],
   "source": []
  },
  {
   "cell_type": "markdown",
   "id": "a69c6b10",
   "metadata": {},
   "source": [
    "#### Quiz 6\n",
    "What range can NOT be used to generate these numbers: `[1, 2, 3, 4, 5, 6, 7, 8, 9, 10]`?"
   ]
  },
  {
   "cell_type": "code",
   "execution_count": null,
   "id": "1082b55d",
   "metadata": {},
   "outputs": [],
   "source": [
    "# Option 1\n",
    "print(list(range(1, 11)))"
   ]
  },
  {
   "cell_type": "code",
   "execution_count": null,
   "id": "1037bce5",
   "metadata": {},
   "outputs": [],
   "source": [
    "# Option 2\n",
    "print(list(range(1, 10)))"
   ]
  },
  {
   "cell_type": "code",
   "execution_count": null,
   "id": "00f997b3",
   "metadata": {},
   "outputs": [],
   "source": [
    "# Option 3\n",
    "print(list(range(1, 11, 1)))"
   ]
  },
  {
   "cell_type": "code",
   "execution_count": null,
   "id": "23d4ba35",
   "metadata": {},
   "outputs": [],
   "source": []
  },
  {
   "cell_type": "markdown",
   "id": "9fd8ba95",
   "metadata": {},
   "source": [
    "#### Quiz 7\n",
    "Which of the options is NOT correct for the range:\n",
    "```py\n",
    "range(5, 1)\n",
    "```"
   ]
  },
  {
   "cell_type": "code",
   "execution_count": null,
   "id": "c976de2b",
   "metadata": {},
   "outputs": [],
   "source": [
    "range(5, 1)"
   ]
  },
  {
   "cell_type": "code",
   "execution_count": null,
   "id": "eba354ed",
   "metadata": {},
   "outputs": [],
   "source": [
    "list(range(5, 1))"
   ]
  },
  {
   "cell_type": "code",
   "execution_count": null,
   "id": "5c9ab7af",
   "metadata": {},
   "outputs": [],
   "source": []
  },
  {
   "cell_type": "code",
   "execution_count": null,
   "id": "d84481f8",
   "metadata": {},
   "outputs": [],
   "source": []
  },
  {
   "cell_type": "code",
   "execution_count": null,
   "id": "7e28ca07",
   "metadata": {},
   "outputs": [],
   "source": []
  },
  {
   "cell_type": "markdown",
   "id": "5b7fa5c9",
   "metadata": {},
   "source": [
    "# For loops"
   ]
  },
  {
   "cell_type": "code",
   "execution_count": null,
   "id": "0848c17d",
   "metadata": {},
   "outputs": [],
   "source": [
    "print(list(range(5)))"
   ]
  },
  {
   "cell_type": "code",
   "execution_count": null,
   "id": "d67634c1",
   "metadata": {},
   "outputs": [],
   "source": [
    "for i in range(5):\n",
    "    print(i, end=' ')"
   ]
  },
  {
   "cell_type": "code",
   "execution_count": null,
   "id": "4a05d113",
   "metadata": {},
   "outputs": [],
   "source": []
  },
  {
   "cell_type": "code",
   "execution_count": null,
   "id": "54675053",
   "metadata": {},
   "outputs": [],
   "source": []
  },
  {
   "cell_type": "code",
   "execution_count": null,
   "id": "240a9786",
   "metadata": {},
   "outputs": [],
   "source": []
  },
  {
   "cell_type": "markdown",
   "id": "ea4ec78a",
   "metadata": {},
   "source": [
    "#### Quiz 8\n",
    "Predict the output given input N = 5.\n",
    "```py\n",
    "N = int(input())\n",
    "\n",
    "for i in range(2, N):\n",
    "    print(i, end=' ')\n",
    "```"
   ]
  },
  {
   "cell_type": "code",
   "execution_count": null,
   "id": "b54c1adb",
   "metadata": {},
   "outputs": [],
   "source": [
    "N = int(input())\n",
    "\n",
    "for i in range(2, N):\n",
    "    print(i, end=' ')\n",
    "    \n",
    "# start = 2\n",
    "# end = 5\n",
    "# step = 1 (by default)"
   ]
  },
  {
   "cell_type": "code",
   "execution_count": null,
   "id": "e8179d16",
   "metadata": {},
   "outputs": [],
   "source": []
  },
  {
   "cell_type": "markdown",
   "id": "1990ad13",
   "metadata": {},
   "source": [
    "### Print numbers 1 to 10"
   ]
  },
  {
   "cell_type": "code",
   "execution_count": null,
   "id": "7443ace1",
   "metadata": {},
   "outputs": [],
   "source": [
    "for i in range(1, 11):\n",
    "    print(i, end=' ')"
   ]
  },
  {
   "cell_type": "code",
   "execution_count": null,
   "id": "a16a11fd",
   "metadata": {},
   "outputs": [],
   "source": []
  },
  {
   "cell_type": "markdown",
   "id": "d3932064",
   "metadata": {},
   "source": [
    "### Print numbers 1 to N"
   ]
  },
  {
   "cell_type": "code",
   "execution_count": null,
   "id": "d395e247",
   "metadata": {},
   "outputs": [],
   "source": [
    "N = int(input())\n",
    "\n",
    "for i in range(1, N):\n",
    "    print(i, end=' ')\n",
    "    \n",
    "# range(1,  5)\n",
    "# start = 1\n",
    "# end = 5 (not included)"
   ]
  },
  {
   "cell_type": "code",
   "execution_count": null,
   "id": "db43d6cb",
   "metadata": {},
   "outputs": [],
   "source": [
    "N = int(input())\n",
    "\n",
    "for i in range(1, N+1, 1):\n",
    "    print(i, end=' ')\n",
    "    \n",
    "# range(1,  6)\n",
    "# start = 1\n",
    "# end = 6 (not included)"
   ]
  },
  {
   "cell_type": "code",
   "execution_count": null,
   "id": "cfe6f96c",
   "metadata": {},
   "outputs": [],
   "source": []
  },
  {
   "cell_type": "markdown",
   "id": "b1122001",
   "metadata": {},
   "source": [
    "### Print perfect squares of numbers from 1 to N"
   ]
  },
  {
   "cell_type": "code",
   "execution_count": null,
   "id": "7a7e09c5",
   "metadata": {},
   "outputs": [],
   "source": [
    "N = int(input())\n",
    "\n",
    "for i in range(1, N+1):\n",
    "    print(i*i, end=' ')\n",
    "    \n",
    "# end = 6+1 = \n"
   ]
  },
  {
   "cell_type": "code",
   "execution_count": null,
   "id": "7a4d2acc",
   "metadata": {},
   "outputs": [],
   "source": []
  },
  {
   "cell_type": "code",
   "execution_count": null,
   "id": "76aced56",
   "metadata": {},
   "outputs": [],
   "source": []
  },
  {
   "cell_type": "markdown",
   "id": "cac27bb4",
   "metadata": {},
   "source": [
    "#### Quiz 9\n",
    "Predict the output.\n",
    "```py\n",
    "for i in range(-1, 10, 2):\n",
    "    print(i, end=' ')\n",
    "```"
   ]
  },
  {
   "cell_type": "code",
   "execution_count": null,
   "id": "3e21e3a0",
   "metadata": {},
   "outputs": [],
   "source": [
    "for i in range(-1, 10, 2):\n",
    "    print(i, end=' ')"
   ]
  },
  {
   "cell_type": "code",
   "execution_count": null,
   "id": "784281de",
   "metadata": {},
   "outputs": [],
   "source": []
  },
  {
   "cell_type": "code",
   "execution_count": null,
   "id": "34bc6296",
   "metadata": {},
   "outputs": [],
   "source": []
  },
  {
   "cell_type": "code",
   "execution_count": null,
   "id": "0c03d873",
   "metadata": {},
   "outputs": [],
   "source": []
  },
  {
   "cell_type": "markdown",
   "id": "cc6cdac6",
   "metadata": {},
   "source": [
    "### Print multiples of 4 till N\n",
    "\n",
    "N = 20 -> 4, 8, 12, 16, 20"
   ]
  },
  {
   "cell_type": "code",
   "execution_count": null,
   "id": "4fc2599b",
   "metadata": {},
   "outputs": [],
   "source": [
    "N = 80\n",
    "\n",
    "for i in range(4, N+1, 4):\n",
    "    print(i, end=' ')"
   ]
  },
  {
   "cell_type": "code",
   "execution_count": null,
   "id": "debaa6fb",
   "metadata": {},
   "outputs": [],
   "source": []
  },
  {
   "cell_type": "code",
   "execution_count": null,
   "id": "6e334ca7",
   "metadata": {},
   "outputs": [],
   "source": []
  },
  {
   "cell_type": "markdown",
   "id": "c553d908",
   "metadata": {},
   "source": [
    "### Print 6 to 1"
   ]
  },
  {
   "cell_type": "code",
   "execution_count": null,
   "id": "21e9e8db",
   "metadata": {},
   "outputs": [],
   "source": [
    "# 6 to 1\n",
    "for i in range(6, 0, -1):\n",
    "    print(i, end=' ')"
   ]
  },
  {
   "cell_type": "code",
   "execution_count": null,
   "id": "2e867839",
   "metadata": {},
   "outputs": [],
   "source": []
  },
  {
   "cell_type": "code",
   "execution_count": null,
   "id": "66bd51f5",
   "metadata": {},
   "outputs": [],
   "source": []
  },
  {
   "cell_type": "markdown",
   "id": "b2c1878c",
   "metadata": {},
   "source": [
    "#### Quiz 10\n",
    "Predict the output given input N = 7.\n",
    "\n",
    "```py\n",
    "N = int(input())\n",
    "\n",
    "for i in range(N, 1, -1):\n",
    "    print(i, end=' ')\n",
    "```"
   ]
  },
  {
   "cell_type": "code",
   "execution_count": null,
   "id": "3af7365e",
   "metadata": {},
   "outputs": [],
   "source": [
    "N = 7\n",
    "\n",
    "for i in range(N, 1, -1):\n",
    "    print(i, end=' ')"
   ]
  },
  {
   "cell_type": "code",
   "execution_count": null,
   "id": "4591b7cb",
   "metadata": {},
   "outputs": [],
   "source": []
  },
  {
   "cell_type": "markdown",
   "id": "7dd0a5f9",
   "metadata": {},
   "source": [
    "### Print N to 1"
   ]
  },
  {
   "cell_type": "code",
   "execution_count": null,
   "id": "35a532d8",
   "metadata": {},
   "outputs": [],
   "source": [
    "N = int(input())\n",
    "\n",
    "for i in range(N, 0, -1):\n",
    "    print(i, end=' ')"
   ]
  },
  {
   "cell_type": "code",
   "execution_count": null,
   "id": "24890490",
   "metadata": {},
   "outputs": [],
   "source": []
  },
  {
   "cell_type": "code",
   "execution_count": null,
   "id": "c35c38a1",
   "metadata": {},
   "outputs": [],
   "source": []
  },
  {
   "cell_type": "markdown",
   "id": "9e57e925",
   "metadata": {},
   "source": [
    "### Print perfect squares of numbers from N to 1\n",
    "\n",
    "N = 5 \\\n",
    "25 16 9 4 1"
   ]
  },
  {
   "cell_type": "code",
   "execution_count": null,
   "id": "0f579e6a",
   "metadata": {},
   "outputs": [],
   "source": [
    "N = int(input())\n",
    "\n",
    "for i in range(N, 0, -1):\n",
    "    print(i*i, end=' ')"
   ]
  },
  {
   "cell_type": "code",
   "execution_count": null,
   "id": "03d92bfd",
   "metadata": {},
   "outputs": [],
   "source": []
  },
  {
   "cell_type": "code",
   "execution_count": null,
   "id": "55d46d21",
   "metadata": {},
   "outputs": [],
   "source": []
  },
  {
   "cell_type": "code",
   "execution_count": null,
   "id": "b4452686",
   "metadata": {},
   "outputs": [],
   "source": []
  },
  {
   "cell_type": "markdown",
   "id": "aef1d045",
   "metadata": {},
   "source": [
    "#### Quiz 11\n",
    "For the values of `i` below print the values of `N - i + 1` given `N = 6`.\n",
    "\\\n",
    "`i: ` 1, 2, 3, 4, 5, 6"
   ]
  },
  {
   "cell_type": "code",
   "execution_count": null,
   "id": "b0c867f3",
   "metadata": {},
   "outputs": [],
   "source": []
  },
  {
   "cell_type": "markdown",
   "id": "32870ddb",
   "metadata": {},
   "source": [
    "**Challenge**\\\n",
    "Try using the result from above quiz to print numbers from N to 1 but using a increasing loop"
   ]
  },
  {
   "cell_type": "code",
   "execution_count": null,
   "id": "ed4ff7ef",
   "metadata": {},
   "outputs": [],
   "source": []
  },
  {
   "cell_type": "code",
   "execution_count": null,
   "id": "6b961aba",
   "metadata": {},
   "outputs": [],
   "source": []
  },
  {
   "cell_type": "markdown",
   "id": "50ed4b01",
   "metadata": {},
   "source": [
    "### Quiz 12\n",
    "```py\n",
    "N = 7\n",
    "s = 0\n",
    "for i in range(2, N):\n",
    "    s += i\n",
    "print(s)\n",
    "```"
   ]
  },
  {
   "cell_type": "code",
   "execution_count": null,
   "id": "47d97f6a",
   "metadata": {},
   "outputs": [],
   "source": [
    "N = 7\n",
    "s = 0\n",
    "for i in range(2, N):\n",
    "    s += i\n",
    "print(s)"
   ]
  },
  {
   "cell_type": "code",
   "execution_count": null,
   "id": "c3aa3358",
   "metadata": {},
   "outputs": [],
   "source": []
  },
  {
   "cell_type": "code",
   "execution_count": null,
   "id": "e8aca89d",
   "metadata": {},
   "outputs": [],
   "source": []
  },
  {
   "cell_type": "code",
   "execution_count": null,
   "id": "7a1d0186",
   "metadata": {},
   "outputs": [],
   "source": []
  },
  {
   "cell_type": "markdown",
   "id": "6e4d7652",
   "metadata": {},
   "source": [
    "### Sum of even numbers from 1 to N"
   ]
  },
  {
   "cell_type": "code",
   "execution_count": null,
   "id": "e659d4b5",
   "metadata": {},
   "outputs": [],
   "source": [
    "N = 10\n",
    "s = 0\n",
    "\n",
    "for i in range(2, N+1, 2):\n",
    "    s = s + i\n",
    "    \n",
    "print(s)"
   ]
  },
  {
   "cell_type": "code",
   "execution_count": null,
   "id": "5fdfc886",
   "metadata": {},
   "outputs": [],
   "source": []
  },
  {
   "cell_type": "code",
   "execution_count": null,
   "id": "1642d354",
   "metadata": {},
   "outputs": [],
   "source": []
  },
  {
   "cell_type": "code",
   "execution_count": null,
   "id": "5a01e459",
   "metadata": {},
   "outputs": [],
   "source": []
  },
  {
   "cell_type": "markdown",
   "id": "053d2de9",
   "metadata": {},
   "source": [
    "### Sum of odd numbers from 1 to N"
   ]
  },
  {
   "cell_type": "code",
   "execution_count": null,
   "id": "f10ba8bd",
   "metadata": {},
   "outputs": [],
   "source": [
    "N = 5\n",
    "s = 0\n",
    "\n",
    "for i in range(1, N+1, 2):\n",
    "    s = s + i\n",
    "    \n",
    "print(s)"
   ]
  },
  {
   "cell_type": "code",
   "execution_count": null,
   "id": "ecfaef7a",
   "metadata": {},
   "outputs": [],
   "source": [
    "1 + 3 + 5"
   ]
  },
  {
   "cell_type": "code",
   "execution_count": null,
   "id": "48e47cf0",
   "metadata": {},
   "outputs": [],
   "source": []
  },
  {
   "cell_type": "code",
   "execution_count": null,
   "id": "395ec0f7",
   "metadata": {},
   "outputs": [],
   "source": []
  },
  {
   "cell_type": "code",
   "execution_count": null,
   "id": "19bfd822",
   "metadata": {},
   "outputs": [],
   "source": []
  },
  {
   "cell_type": "code",
   "execution_count": null,
   "id": "5482348b",
   "metadata": {},
   "outputs": [],
   "source": []
  },
  {
   "cell_type": "markdown",
   "id": "276bf9a2",
   "metadata": {},
   "source": [
    "# Doubts"
   ]
  },
  {
   "cell_type": "code",
   "execution_count": null,
   "id": "70beaac1",
   "metadata": {},
   "outputs": [],
   "source": [
    "N = 523\n",
    "\n",
    "while N > 0:\n",
    "    print(N % 10)\n",
    "    N = N // 10"
   ]
  },
  {
   "cell_type": "code",
   "execution_count": null,
   "id": "741958cd",
   "metadata": {},
   "outputs": [],
   "source": []
  },
  {
   "cell_type": "markdown",
   "id": "d6d6aeb9",
   "metadata": {},
   "source": [
    "### Avoiding the last comma"
   ]
  },
  {
   "cell_type": "code",
   "execution_count": null,
   "id": "2b022872",
   "metadata": {},
   "outputs": [],
   "source": [
    "for i in range(10):\n",
    "    print(i, end=', ')"
   ]
  },
  {
   "cell_type": "code",
   "execution_count": null,
   "id": "0d3963fa",
   "metadata": {},
   "outputs": [],
   "source": [
    "N = 20\n",
    "\n",
    "for i in range(N):\n",
    "    if i == N-1:\n",
    "        print(i)\n",
    "    else:\n",
    "        print(i, end=', ')"
   ]
  },
  {
   "cell_type": "code",
   "execution_count": null,
   "id": "7295282b",
   "metadata": {},
   "outputs": [],
   "source": []
  },
  {
   "cell_type": "code",
   "execution_count": null,
   "id": "2455c746",
   "metadata": {},
   "outputs": [],
   "source": []
  },
  {
   "cell_type": "code",
   "execution_count": null,
   "id": "e09a8982",
   "metadata": {},
   "outputs": [],
   "source": []
  },
  {
   "cell_type": "code",
   "execution_count": 6,
   "id": "059fe421",
   "metadata": {},
   "outputs": [
    {
     "name": "stdout",
     "output_type": "stream",
     "text": [
      "1, 4, 9, 16, 25, 36, 49, 64, 81, 100, "
     ]
    }
   ],
   "source": [
    "N = 110\n",
    "i = 1\n",
    "while i*i <= N:\n",
    "    print(i*i, end=', ')\n",
    "    i += 1"
   ]
  },
  {
   "cell_type": "code",
   "execution_count": 9,
   "id": "cb38581f",
   "metadata": {},
   "outputs": [
    {
     "name": "stdout",
     "output_type": "stream",
     "text": [
      "1 ,4 ,9 ,16 ,25 ,36 ,49 ,64 ,81 ,100 "
     ]
    }
   ],
   "source": [
    "N = 110\n",
    "i = 1\n",
    "flag = True\n",
    "while i*i <= N:\n",
    "    if not flag:\n",
    "        print(',',end='')\n",
    "    print(i*i, end=' ')\n",
    "    i += 1\n",
    "    flag = False"
   ]
  },
  {
   "cell_type": "code",
   "execution_count": null,
   "id": "0121e0ee",
   "metadata": {},
   "outputs": [],
   "source": []
  }
 ],
 "metadata": {
  "kernelspec": {
   "display_name": "Python 3 (ipykernel)",
   "language": "python",
   "name": "python3"
  },
  "language_info": {
   "codemirror_mode": {
    "name": "ipython",
    "version": 3
   },
   "file_extension": ".py",
   "mimetype": "text/x-python",
   "name": "python",
   "nbconvert_exporter": "python",
   "pygments_lexer": "ipython3",
   "version": "3.9.12"
  }
 },
 "nbformat": 4,
 "nbformat_minor": 5
}
