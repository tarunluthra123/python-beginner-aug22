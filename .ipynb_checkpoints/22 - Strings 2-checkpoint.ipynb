{
 "cells": [
  {
   "cell_type": "markdown",
   "id": "4d8cd4f5",
   "metadata": {},
   "source": [
    "# Strings 2"
   ]
  },
  {
   "cell_type": "code",
   "execution_count": null,
   "id": "8431e82e",
   "metadata": {},
   "outputs": [],
   "source": []
  },
  {
   "cell_type": "markdown",
   "id": "51193148",
   "metadata": {},
   "source": [
    "## find()\n",
    "![](https://scaler.com/topics/images/find-in-python.webp)"
   ]
  },
  {
   "cell_type": "code",
   "execution_count": 1,
   "id": "4e697d0c",
   "metadata": {},
   "outputs": [
    {
     "name": "stdout",
     "output_type": "stream",
     "text": [
      "13\n"
     ]
    }
   ],
   "source": [
    "s = \"Harry Potter and the Deathly Hallows\"\n",
    "# Find the index of 'and'\n",
    "\n",
    "idx = s.find('and')\n",
    "print(idx)"
   ]
  },
  {
   "cell_type": "code",
   "execution_count": 4,
   "id": "60a18fad",
   "metadata": {},
   "outputs": [
    {
     "name": "stdout",
     "output_type": "stream",
     "text": [
      "-1\n"
     ]
    }
   ],
   "source": [
    "# In case the substring is not present, it returns -1\n",
    "idx2 = s.find('goblet')\n",
    "print(idx2)"
   ]
  },
  {
   "cell_type": "code",
   "execution_count": 5,
   "id": "c7c03429",
   "metadata": {},
   "outputs": [
    {
     "name": "stdout",
     "output_type": "stream",
     "text": [
      "0\n"
     ]
    }
   ],
   "source": [
    "s = \"Harry Potter and the Deathly Hallows\"\n",
    "\n",
    "idx3 = s.find('H')\n",
    "print(idx3)"
   ]
  },
  {
   "cell_type": "code",
   "execution_count": 6,
   "id": "e244ed18",
   "metadata": {},
   "outputs": [
    {
     "name": "stdout",
     "output_type": "stream",
     "text": [
      "18\n"
     ]
    }
   ],
   "source": [
    "idx4 = s.find('h')\n",
    "print(idx4)\n",
    "# first occurence by default"
   ]
  },
  {
   "cell_type": "markdown",
   "id": "eec8dcaf",
   "metadata": {},
   "source": [
    "If you want 2nd or the third occurence - Try it out on your own.\n",
    "Hint - Refer to the articles"
   ]
  },
  {
   "cell_type": "code",
   "execution_count": 7,
   "id": "9f6dff2b",
   "metadata": {},
   "outputs": [
    {
     "name": "stdout",
     "output_type": "stream",
     "text": [
      "2\n"
     ]
    }
   ],
   "source": []
  },
  {
   "cell_type": "code",
   "execution_count": 8,
   "id": "c5ea9b3b",
   "metadata": {},
   "outputs": [
    {
     "name": "stdout",
     "output_type": "stream",
     "text": [
      "3\n"
     ]
    }
   ],
   "source": []
  },
  {
   "cell_type": "code",
   "execution_count": 9,
   "id": "e1cb1c91",
   "metadata": {},
   "outputs": [
    {
     "name": "stdout",
     "output_type": "stream",
     "text": [
      "0\n"
     ]
    }
   ],
   "source": []
  },
  {
   "cell_type": "code",
   "execution_count": 10,
   "id": "c8d65330",
   "metadata": {},
   "outputs": [
    {
     "name": "stdout",
     "output_type": "stream",
     "text": [
      "1\n"
     ]
    }
   ],
   "source": []
  },
  {
   "cell_type": "code",
   "execution_count": null,
   "id": "0efdf946",
   "metadata": {},
   "outputs": [],
   "source": []
  },
  {
   "cell_type": "code",
   "execution_count": null,
   "id": "0f19ec6e",
   "metadata": {},
   "outputs": [],
   "source": []
  },
  {
   "cell_type": "markdown",
   "id": "f9080d2a",
   "metadata": {},
   "source": [
    "## count()\n",
    "![](https://scaler.com/topics/images/count-in-python.webp)"
   ]
  },
  {
   "cell_type": "code",
   "execution_count": null,
   "id": "230ef08a",
   "metadata": {},
   "outputs": [],
   "source": [
    "s = \"Harry Potter and the Deathly Hallows\"\n",
    "c = s.count('H')\n",
    "print(c)"
   ]
  },
  {
   "cell_type": "code",
   "execution_count": null,
   "id": "8fce67f5",
   "metadata": {},
   "outputs": [],
   "source": [
    "c2 = s.count('l')\n",
    "print(c2)"
   ]
  },
  {
   "cell_type": "code",
   "execution_count": null,
   "id": "be39b256",
   "metadata": {},
   "outputs": [],
   "source": [
    "c3 = s.count('Chamber')\n",
    "print(c3)"
   ]
  },
  {
   "cell_type": "code",
   "execution_count": null,
   "id": "a456f69a",
   "metadata": {},
   "outputs": [],
   "source": [
    "c4 = s.count('and')\n",
    "print(c4)"
   ]
  },
  {
   "cell_type": "code",
   "execution_count": null,
   "id": "fdd7ab24",
   "metadata": {},
   "outputs": [],
   "source": []
  },
  {
   "cell_type": "code",
   "execution_count": null,
   "id": "837c0e6b",
   "metadata": {},
   "outputs": [],
   "source": []
  },
  {
   "cell_type": "markdown",
   "id": "f2c94f37",
   "metadata": {},
   "source": [
    "### in operator"
   ]
  },
  {
   "cell_type": "code",
   "execution_count": 11,
   "id": "332a8c19",
   "metadata": {},
   "outputs": [],
   "source": [
    "s = \"Harry Potter and the Deathly Hallows\""
   ]
  },
  {
   "cell_type": "code",
   "execution_count": 12,
   "id": "b072ae39",
   "metadata": {},
   "outputs": [
    {
     "data": {
      "text/plain": [
       "True"
      ]
     },
     "execution_count": 12,
     "metadata": {},
     "output_type": "execute_result"
    }
   ],
   "source": [
    "'and' in s"
   ]
  },
  {
   "cell_type": "code",
   "execution_count": 13,
   "id": "f353e412",
   "metadata": {},
   "outputs": [
    {
     "data": {
      "text/plain": [
       "False"
      ]
     },
     "execution_count": 13,
     "metadata": {},
     "output_type": "execute_result"
    }
   ],
   "source": [
    "'Prisoner' in s"
   ]
  },
  {
   "cell_type": "code",
   "execution_count": 14,
   "id": "6f9b013f",
   "metadata": {},
   "outputs": [
    {
     "data": {
      "text/plain": [
       "True"
      ]
     },
     "execution_count": 14,
     "metadata": {},
     "output_type": "execute_result"
    }
   ],
   "source": [
    "\"Harry Potter\" in s"
   ]
  },
  {
   "cell_type": "code",
   "execution_count": null,
   "id": "6396d73f",
   "metadata": {},
   "outputs": [],
   "source": []
  },
  {
   "cell_type": "markdown",
   "id": "62d26e88",
   "metadata": {},
   "source": [
    "#### Quiz\n",
    "```py\n",
    "print(\"Ra\" in \"rahul\")\n",
    "```"
   ]
  },
  {
   "cell_type": "code",
   "execution_count": 15,
   "id": "e842c5b2",
   "metadata": {},
   "outputs": [
    {
     "name": "stdout",
     "output_type": "stream",
     "text": [
      "False\n"
     ]
    }
   ],
   "source": [
    "print(\"Ra\" in \"rahul\")"
   ]
  },
  {
   "cell_type": "code",
   "execution_count": 16,
   "id": "75d3c1fa",
   "metadata": {},
   "outputs": [
    {
     "name": "stdout",
     "output_type": "stream",
     "text": [
      "True\n"
     ]
    }
   ],
   "source": [
    "print(\"Ra\" in \"Rahul\")"
   ]
  },
  {
   "cell_type": "code",
   "execution_count": null,
   "id": "c899519a",
   "metadata": {},
   "outputs": [],
   "source": []
  },
  {
   "cell_type": "code",
   "execution_count": null,
   "id": "3008686a",
   "metadata": {},
   "outputs": [],
   "source": []
  },
  {
   "cell_type": "code",
   "execution_count": null,
   "id": "52ed3691",
   "metadata": {},
   "outputs": [],
   "source": []
  },
  {
   "cell_type": "markdown",
   "id": "98379677",
   "metadata": {},
   "source": [
    "## Immutable Nature\n",
    "![](https://scaler.com/topics/images/python-datatypes.webp)"
   ]
  },
  {
   "cell_type": "code",
   "execution_count": 17,
   "id": "4dafc139",
   "metadata": {},
   "outputs": [
    {
     "ename": "TypeError",
     "evalue": "'str' object does not support item assignment",
     "output_type": "error",
     "traceback": [
      "\u001b[0;31m---------------------------------------------------------------------------\u001b[0m",
      "\u001b[0;31mTypeError\u001b[0m                                 Traceback (most recent call last)",
      "\u001b[0;32m/var/folders/jn/1bsrct314hv5xmfm7vrcdrzc0000gn/T/ipykernel_2567/2077499534.py\u001b[0m in \u001b[0;36m<module>\u001b[0;34m\u001b[0m\n\u001b[1;32m      1\u001b[0m \u001b[0ms\u001b[0m \u001b[0;34m=\u001b[0m \u001b[0;34m\"hello\"\u001b[0m\u001b[0;34m\u001b[0m\u001b[0;34m\u001b[0m\u001b[0m\n\u001b[0;32m----> 2\u001b[0;31m \u001b[0ms\u001b[0m\u001b[0;34m[\u001b[0m\u001b[0;36m1\u001b[0m\u001b[0;34m]\u001b[0m \u001b[0;34m=\u001b[0m \u001b[0;34m'm'\u001b[0m\u001b[0;34m\u001b[0m\u001b[0;34m\u001b[0m\u001b[0m\n\u001b[0m",
      "\u001b[0;31mTypeError\u001b[0m: 'str' object does not support item assignment"
     ]
    }
   ],
   "source": [
    "s = \"hello\"\n",
    "s[1] = 'm'"
   ]
  },
  {
   "cell_type": "code",
   "execution_count": null,
   "id": "bf8c235f",
   "metadata": {},
   "outputs": [],
   "source": []
  },
  {
   "cell_type": "code",
   "execution_count": 18,
   "id": "c4925902",
   "metadata": {},
   "outputs": [
    {
     "name": "stdout",
     "output_type": "stream",
     "text": [
      "4335053232\n"
     ]
    }
   ],
   "source": [
    "a = 5\n",
    "print(id(5))\n",
    "# Address of the memory location where 5 is being stored"
   ]
  },
  {
   "cell_type": "code",
   "execution_count": 19,
   "id": "6df8da6e",
   "metadata": {},
   "outputs": [
    {
     "name": "stdout",
     "output_type": "stream",
     "text": [
      "4335053264\n"
     ]
    }
   ],
   "source": [
    "a = a + 1\n",
    "print(id(a))"
   ]
  },
  {
   "cell_type": "code",
   "execution_count": 20,
   "id": "6b4aab31",
   "metadata": {},
   "outputs": [
    {
     "name": "stdout",
     "output_type": "stream",
     "text": [
      "4335243472\n"
     ]
    }
   ],
   "source": [
    "a = a * 10\n",
    "print(id(a))"
   ]
  },
  {
   "cell_type": "code",
   "execution_count": null,
   "id": "78bb3eec",
   "metadata": {},
   "outputs": [],
   "source": []
  },
  {
   "cell_type": "code",
   "execution_count": null,
   "id": "9bf18beb",
   "metadata": {},
   "outputs": [],
   "source": []
  },
  {
   "cell_type": "code",
   "execution_count": null,
   "id": "4c1356e2",
   "metadata": {},
   "outputs": [],
   "source": []
  },
  {
   "cell_type": "markdown",
   "id": "d43829ba",
   "metadata": {},
   "source": [
    "## replace()\n",
    "![](https://scaler.com/topics/images/replace-a-character-in-a-string-python.webp)"
   ]
  },
  {
   "cell_type": "code",
   "execution_count": 21,
   "id": "671c0e7d",
   "metadata": {},
   "outputs": [
    {
     "name": "stdout",
     "output_type": "stream",
     "text": [
      "hello world\n",
      "hello everyone\n"
     ]
    }
   ],
   "source": [
    "s = \"hello world\"\n",
    "\n",
    "# Change to \"hello everyone\"\n",
    "t = s.replace(\"world\", \"everyone\")\n",
    "print(s)\n",
    "print(t)\n",
    "# Original string remains intact\n",
    "# You get a new string with the changes"
   ]
  },
  {
   "cell_type": "code",
   "execution_count": null,
   "id": "52bb5b59",
   "metadata": {},
   "outputs": [],
   "source": []
  },
  {
   "cell_type": "code",
   "execution_count": 22,
   "id": "e10b3dad",
   "metadata": {},
   "outputs": [
    {
     "name": "stdout",
     "output_type": "stream",
     "text": [
      "Hello how are you doing?\n"
     ]
    }
   ],
   "source": [
    "s = \"Hey how are you doing?\"\n",
    "s = s.replace(\"Hey\", \"Hello\")\n",
    "print(s)"
   ]
  },
  {
   "cell_type": "code",
   "execution_count": null,
   "id": "34b16d49",
   "metadata": {},
   "outputs": [],
   "source": []
  },
  {
   "cell_type": "markdown",
   "id": "08b9ed2f",
   "metadata": {},
   "source": [
    "#### Quiz 2\n",
    "```py\n",
    "a = \"Hello\"  \n",
    "b = a  \n",
    "a = \"Yello\"  \n",
    "```\n",
    "What is the value of `b` now?"
   ]
  },
  {
   "cell_type": "code",
   "execution_count": 23,
   "id": "c5d12711",
   "metadata": {},
   "outputs": [
    {
     "name": "stdout",
     "output_type": "stream",
     "text": [
      "Hello\n"
     ]
    }
   ],
   "source": [
    "a = \"Hello\"  \n",
    "b = a  \n",
    "a = \"Yello\"  \n",
    "\n",
    "print(b)"
   ]
  },
  {
   "cell_type": "code",
   "execution_count": null,
   "id": "fa14df73",
   "metadata": {},
   "outputs": [],
   "source": []
  },
  {
   "cell_type": "code",
   "execution_count": null,
   "id": "0606b274",
   "metadata": {},
   "outputs": [],
   "source": []
  },
  {
   "cell_type": "markdown",
   "id": "91591f72",
   "metadata": {},
   "source": [
    "#### Quiz 3\n",
    "Python - String Nature\n",
    "Predict the output\n",
    "```py\n",
    "a = \"batman\"\n",
    "b = a\n",
    "b.replace(\"b\", \"c\")\n",
    "print(a) \n",
    "```"
   ]
  },
  {
   "cell_type": "code",
   "execution_count": 28,
   "id": "d10d459a",
   "metadata": {},
   "outputs": [
    {
     "name": "stdout",
     "output_type": "stream",
     "text": [
      "batman\n",
      "batman\n",
      "catman\n"
     ]
    }
   ],
   "source": [
    "a = \"batman\"\n",
    "b = a\n",
    "c = b.replace(\"b\", \"c\")\n",
    "print(a)\n",
    "print(b)\n",
    "print(c)"
   ]
  },
  {
   "cell_type": "code",
   "execution_count": null,
   "id": "775031c8",
   "metadata": {},
   "outputs": [],
   "source": []
  },
  {
   "cell_type": "code",
   "execution_count": 30,
   "id": "ba37c357",
   "metadata": {},
   "outputs": [
    {
     "name": "stdout",
     "output_type": "stream",
     "text": [
      "hello\n"
     ]
    }
   ],
   "source": [
    "s = \"hello\"\n",
    "t = s.replace('h', 'm')\n",
    "print(s)"
   ]
  },
  {
   "cell_type": "code",
   "execution_count": 31,
   "id": "26a98486",
   "metadata": {},
   "outputs": [
    {
     "name": "stdout",
     "output_type": "stream",
     "text": [
      "mello\n"
     ]
    }
   ],
   "source": [
    "print(t)"
   ]
  },
  {
   "cell_type": "code",
   "execution_count": null,
   "id": "6bf85d2b",
   "metadata": {},
   "outputs": [],
   "source": []
  },
  {
   "cell_type": "code",
   "execution_count": 1,
   "id": "2e41b92e",
   "metadata": {},
   "outputs": [
    {
     "name": "stdout",
     "output_type": "stream",
     "text": [
      "Garry Potter and the Deathly Gallows\n"
     ]
    }
   ],
   "source": [
    "s = \"Harry Potter and the Deathly Hallows\"\n",
    "t = s.replace('H', 'G')\n",
    "print(t)"
   ]
  },
  {
   "cell_type": "code",
   "execution_count": 3,
   "id": "201f483a",
   "metadata": {},
   "outputs": [
    {
     "name": "stdout",
     "output_type": "stream",
     "text": [
      "Garry Potter and the Deathly Hallows\n"
     ]
    }
   ],
   "source": [
    "s = \"Harry Potter and the Deathly Hallows\"\n",
    "t = s.replace('H', 'G', 1)\n",
    "print(t)\n",
    "# replace() takes a third argument i.e. count\n",
    "# Only one H was replaced with G"
   ]
  },
  {
   "cell_type": "code",
   "execution_count": null,
   "id": "4dc3b56d",
   "metadata": {},
   "outputs": [],
   "source": []
  },
  {
   "cell_type": "code",
   "execution_count": 2,
   "id": "64222618",
   "metadata": {},
   "outputs": [
    {
     "name": "stdout",
     "output_type": "stream",
     "text": [
      "Harry Potter and the Deathly Hallows\n"
     ]
    }
   ],
   "source": [
    "s = \"Harry Potter and the Deathly Hallows\"\n",
    "t = s.replace('M', 'G')\n",
    "print(t)"
   ]
  },
  {
   "cell_type": "code",
   "execution_count": null,
   "id": "d802f642",
   "metadata": {},
   "outputs": [],
   "source": []
  },
  {
   "cell_type": "code",
   "execution_count": null,
   "id": "279a7409",
   "metadata": {},
   "outputs": [],
   "source": []
  },
  {
   "cell_type": "markdown",
   "id": "d2295e73",
   "metadata": {},
   "source": [
    "## String to list"
   ]
  },
  {
   "cell_type": "code",
   "execution_count": 7,
   "id": "b8b005be",
   "metadata": {},
   "outputs": [],
   "source": [
    "s = 'hello'\n",
    "# l = ['h', 'e', 'l', 'l', 'o']"
   ]
  },
  {
   "cell_type": "code",
   "execution_count": 8,
   "id": "370c45fe",
   "metadata": {},
   "outputs": [],
   "source": [
    "l = split()\n",
    "# not working\n",
    "# ['hello']"
   ]
  },
  {
   "cell_type": "code",
   "execution_count": 10,
   "id": "eb43d349",
   "metadata": {},
   "outputs": [
    {
     "name": "stdout",
     "output_type": "stream",
     "text": [
      "['h', 'e', 'l', 'l', 'o']\n"
     ]
    }
   ],
   "source": [
    "l = list(s)\n",
    "print(l)"
   ]
  },
  {
   "cell_type": "code",
   "execution_count": null,
   "id": "335d838b",
   "metadata": {},
   "outputs": [],
   "source": []
  },
  {
   "cell_type": "code",
   "execution_count": 11,
   "id": "4e37e7d1",
   "metadata": {},
   "outputs": [
    {
     "name": "stdout",
     "output_type": "stream",
     "text": [
      "['hello', 'how', 'are', 'you']\n"
     ]
    }
   ],
   "source": [
    "s = \"hello how are you\"\n",
    "l = s.split()\n",
    "print(l)"
   ]
  },
  {
   "cell_type": "code",
   "execution_count": null,
   "id": "f57301e0",
   "metadata": {},
   "outputs": [],
   "source": []
  },
  {
   "cell_type": "markdown",
   "id": "4ad89fb2",
   "metadata": {},
   "source": [
    "## List to String\n",
    "![](https://scaler.com/topics/images/convert-list-to-string-in-python.webp)"
   ]
  },
  {
   "cell_type": "code",
   "execution_count": 12,
   "id": "ccc6c345",
   "metadata": {},
   "outputs": [],
   "source": [
    "# Given a string, return a new string containing all characters separated by _\n",
    "s = \"hello\"\n",
    "# \"h_e_l_l_o\""
   ]
  },
  {
   "cell_type": "code",
   "execution_count": 18,
   "id": "c698461f",
   "metadata": {},
   "outputs": [
    {
     "name": "stdout",
     "output_type": "stream",
     "text": [
      "h_e_l_l_o_\n",
      "h_e_l_l_o\n"
     ]
    }
   ],
   "source": [
    "res = \"\"\n",
    "for ch in s:\n",
    "    res += ch + '_'\n",
    "print(res)\n",
    "print(res[:-1])"
   ]
  },
  {
   "cell_type": "code",
   "execution_count": null,
   "id": "bd487886",
   "metadata": {},
   "outputs": [],
   "source": []
  },
  {
   "cell_type": "code",
   "execution_count": 19,
   "id": "092d5da9",
   "metadata": {},
   "outputs": [],
   "source": [
    "s = \"hello\"\n",
    "l = list(s)"
   ]
  },
  {
   "cell_type": "code",
   "execution_count": 20,
   "id": "4b0b425b",
   "metadata": {},
   "outputs": [
    {
     "data": {
      "text/plain": [
       "['h', 'e', 'l', 'l', 'o']"
      ]
     },
     "execution_count": 20,
     "metadata": {},
     "output_type": "execute_result"
    }
   ],
   "source": [
    "l"
   ]
  },
  {
   "cell_type": "code",
   "execution_count": 21,
   "id": "c0db4b98",
   "metadata": {},
   "outputs": [
    {
     "name": "stdout",
     "output_type": "stream",
     "text": [
      "h_e_l_l_o\n"
     ]
    }
   ],
   "source": [
    "# Join all chars in the list with an underscore\n",
    "ans = \"_\".join(l)\n",
    "print(ans)\n",
    "\n",
    "# .join() takes one argument = iterable (list, string, range)\n",
    "# This iterable must be an iterable of strings only\n",
    "# Lists -> List of strings"
   ]
  },
  {
   "cell_type": "code",
   "execution_count": null,
   "id": "901ba7f8",
   "metadata": {},
   "outputs": [],
   "source": []
  },
  {
   "cell_type": "code",
   "execution_count": 22,
   "id": "2e3a128c",
   "metadata": {},
   "outputs": [
    {
     "name": "stdout",
     "output_type": "stream",
     "text": [
      "['hello', 'how', 'are', 'you', 'doing']\n"
     ]
    }
   ],
   "source": [
    "s = \"hello how are you doing\"\n",
    "l = s.split()\n",
    "print(l)"
   ]
  },
  {
   "cell_type": "code",
   "execution_count": 24,
   "id": "bf4fc3be",
   "metadata": {},
   "outputs": [
    {
     "name": "stdout",
     "output_type": "stream",
     "text": [
      "hello_-_=123=_.   how_-_=123=_.   are_-_=123=_.   you_-_=123=_.   doing\n"
     ]
    }
   ],
   "source": [
    "# Join all words by a +\n",
    "ans = \"_-_=123=_.   \".join(l)\n",
    "print(ans)"
   ]
  },
  {
   "cell_type": "code",
   "execution_count": 25,
   "id": "56671fc9",
   "metadata": {},
   "outputs": [
    {
     "data": {
      "text/plain": [
       "'hello how are you doing'"
      ]
     },
     "execution_count": 25,
     "metadata": {},
     "output_type": "execute_result"
    }
   ],
   "source": [
    "\" \".join(l)"
   ]
  },
  {
   "cell_type": "code",
   "execution_count": 26,
   "id": "8d0ed3d8",
   "metadata": {},
   "outputs": [
    {
     "data": {
      "text/plain": [
       "'hellohowareyoudoing'"
      ]
     },
     "execution_count": 26,
     "metadata": {},
     "output_type": "execute_result"
    }
   ],
   "source": [
    "\"\".join(l)"
   ]
  },
  {
   "cell_type": "code",
   "execution_count": null,
   "id": "9849b8ce",
   "metadata": {},
   "outputs": [],
   "source": []
  },
  {
   "cell_type": "code",
   "execution_count": 29,
   "id": "aa538d88",
   "metadata": {},
   "outputs": [
    {
     "data": {
      "text/plain": [
       "'h_e_l_l_o_ _h_o_w_ _a_r_e_ _y_o_u_ _d_o_i_n_g'"
      ]
     },
     "execution_count": 29,
     "metadata": {},
     "output_type": "execute_result"
    }
   ],
   "source": [
    "s = \"hello how are you doing\"\n",
    "\"_\".join(s)"
   ]
  },
  {
   "cell_type": "code",
   "execution_count": null,
   "id": "5a17347a",
   "metadata": {},
   "outputs": [],
   "source": []
  },
  {
   "cell_type": "code",
   "execution_count": null,
   "id": "cc61d97e",
   "metadata": {},
   "outputs": [],
   "source": []
  },
  {
   "cell_type": "markdown",
   "id": "095066a7",
   "metadata": {},
   "source": [
    "#### Quiz 4\n",
    "```py\n",
    "n = ['string1', 'string2']  \n",
    "print(\"Rahul\".join(n))\n",
    "```"
   ]
  },
  {
   "cell_type": "code",
   "execution_count": 30,
   "id": "5baa08fa",
   "metadata": {},
   "outputs": [
    {
     "name": "stdout",
     "output_type": "stream",
     "text": [
      "string1Rahulstring2\n"
     ]
    }
   ],
   "source": [
    "n = ['string1', 'string2']  \n",
    "print(\"Rahul\".join(n))"
   ]
  },
  {
   "cell_type": "code",
   "execution_count": null,
   "id": "74b5246d",
   "metadata": {},
   "outputs": [],
   "source": []
  },
  {
   "cell_type": "code",
   "execution_count": null,
   "id": "2eaa63ed",
   "metadata": {},
   "outputs": [],
   "source": []
  },
  {
   "cell_type": "code",
   "execution_count": null,
   "id": "3ba2786e",
   "metadata": {},
   "outputs": [],
   "source": []
  },
  {
   "cell_type": "code",
   "execution_count": null,
   "id": "639538a9",
   "metadata": {},
   "outputs": [],
   "source": []
  },
  {
   "cell_type": "markdown",
   "id": "7e183b45",
   "metadata": {},
   "source": [
    "## Reverse words in a string\n",
    "![](https://scaler.com/topics/images/reverse-words-in-a-string-python.webp)"
   ]
  },
  {
   "cell_type": "markdown",
   "id": "98ffdd2c",
   "metadata": {},
   "source": [
    "#### Quiz\n",
    "What is the word-by-word reverse of the sentence   \\\n",
    "\"Are you as clever as I am\"\n",
    "\n",
    "Answer: \\\n",
    "am I as clever as you Are\n",
    "\n",
    "Correct answer = d"
   ]
  },
  {
   "cell_type": "code",
   "execution_count": 31,
   "id": "ea7c86ff",
   "metadata": {},
   "outputs": [
    {
     "name": "stdout",
     "output_type": "stream",
     "text": [
      "['Python', 'is', 'awesome']\n"
     ]
    }
   ],
   "source": [
    "s = \"Python is awesome\"\n",
    "words = s.split()\n",
    "print(words)"
   ]
  },
  {
   "cell_type": "code",
   "execution_count": 32,
   "id": "2b8ca44f",
   "metadata": {},
   "outputs": [
    {
     "name": "stdout",
     "output_type": "stream",
     "text": [
      "['awesome', 'is', 'Python']\n"
     ]
    }
   ],
   "source": [
    "# Reverse the order of words\n",
    "# words = words[::-1]\n",
    "# words = list(reversed(words))\n",
    "words.reverse()\n",
    "print(words)"
   ]
  },
  {
   "cell_type": "code",
   "execution_count": 35,
   "id": "3f775ebd",
   "metadata": {},
   "outputs": [
    {
     "name": "stdout",
     "output_type": "stream",
     "text": [
      "awesome is Python\n"
     ]
    }
   ],
   "source": [
    "ans = \" \".join(words)\n",
    "print(ans)"
   ]
  },
  {
   "cell_type": "code",
   "execution_count": null,
   "id": "7f6a9b58",
   "metadata": {},
   "outputs": [],
   "source": []
  },
  {
   "cell_type": "code",
   "execution_count": null,
   "id": "30198a32",
   "metadata": {},
   "outputs": [],
   "source": []
  },
  {
   "cell_type": "markdown",
   "id": "fb5fd551",
   "metadata": {},
   "source": [
    "### Convert a string to all uppercase characters without using any inbuilt functions\n",
    "\n",
    "Input:\n",
    "```\n",
    "s = \"hELLo\"\n",
    "```\n",
    "\n",
    "Output:\n",
    "```\n",
    "s = \"HELLO\"\n",
    "```"
   ]
  },
  {
   "cell_type": "code",
   "execution_count": 40,
   "id": "66b3d434",
   "metadata": {},
   "outputs": [],
   "source": [
    "def convertToUppercase(s):\n",
    "    l = list(s)\n",
    "    for i in range(len(l)):\n",
    "        # If lowercase then subtract 32\n",
    "        if 97 <= ord(l[i]) <= 122:\n",
    "            l[i] = chr(ord(l[i]) - 32)\n",
    "        \n",
    "    return \"\".join(l)"
   ]
  },
  {
   "cell_type": "code",
   "execution_count": 41,
   "id": "74abbadf",
   "metadata": {},
   "outputs": [
    {
     "name": "stdout",
     "output_type": "stream",
     "text": [
      "HELLO\n"
     ]
    }
   ],
   "source": [
    "ans = convertToUppercase(\"hello\")\n",
    "print(ans)"
   ]
  },
  {
   "cell_type": "code",
   "execution_count": 42,
   "id": "4f8f901f",
   "metadata": {},
   "outputs": [
    {
     "name": "stdout",
     "output_type": "stream",
     "text": [
      "ABC\n"
     ]
    }
   ],
   "source": [
    "ans = convertToUppercase(\"abc\")\n",
    "print(ans)"
   ]
  },
  {
   "cell_type": "code",
   "execution_count": 43,
   "id": "295e327a",
   "metadata": {},
   "outputs": [
    {
     "name": "stdout",
     "output_type": "stream",
     "text": [
      "HELLO\n"
     ]
    }
   ],
   "source": [
    "ans = convertToUppercase(\"hELlo\")\n",
    "print(ans)"
   ]
  },
  {
   "cell_type": "code",
   "execution_count": 44,
   "id": "89cfe795",
   "metadata": {},
   "outputs": [
    {
     "name": "stdout",
     "output_type": "stream",
     "text": [
      "HELLO WORLD 789245 ^(#*^(#&*)) HSD\n"
     ]
    }
   ],
   "source": [
    "ans = convertToUppercase(\"hELlo world 789245 ^(#*^(#&*)) HSD\")\n",
    "print(ans)"
   ]
  },
  {
   "cell_type": "code",
   "execution_count": null,
   "id": "d765cc5b",
   "metadata": {},
   "outputs": [],
   "source": []
  },
  {
   "cell_type": "code",
   "execution_count": null,
   "id": "ceb93104",
   "metadata": {},
   "outputs": [],
   "source": []
  },
  {
   "cell_type": "markdown",
   "id": "2463ce14",
   "metadata": {},
   "source": [
    "# Bonus Reading Material\n",
    "- What are Mutable Data Types in Python? - https://www.scaler.com/topics/mutable-data-typesg-in-python/\n",
    "- Mutable and Immutable in Python - https://www.scaler.com/topics/mutable-and-immutable-in-python/\n",
    "- Replace in Python - https://www.scaler.com/topics/replace-in-python/\n",
    "- Replace a Character in a String Python - https://www.scaler.com/topics/replace-a-character-in-a-string-python/\n",
    "- Join in Python - https://www.scaler.com/topics/join-in-python/\n",
    "- Convert List to String in Python - https://www.scaler.com/topics/convert-list-to-string-in-python/\n",
    "- Convert List to String in Python - https://www.scaler.com/topics/convert-list-to-string-python/\n",
    "- Python String find() Method - https://www.scaler.com/topics/find-function-in-python/\n",
    "- Find in Python - https://www.scaler.com/topics/find-in-python/\n",
    "- Count in Python - https://www.scaler.com/topics/count-in-python/\n",
    "- startswith() in Python - https://www.scaler.com/topics/startswith-in-python/\n",
    "- capitalize() in Python - https://www.scaler.com/topics/capitalize-in-python/\n",
    "- swapcase() in Python - https://www.scaler.com/topics/swapcase-in-python/\n",
    "- partition() in Python - https://www.scaler.com/topics/partition-in-python/\n",
    "- Strip Function in Python - https://www.scaler.com/topics/strip-function-in-python/\n",
    "- Lexicographical order in Python - https://www.scaler.com/topics/lexicographical-order-in-python/\n",
    "- Sort a String in Python - https://www.scaler.com/topics/sort-a-string-in-python/\n",
    "- Remove Whitespace From String - https://www.scaler.com/topics/remove-whitespace-from-string/\n",
    "- Reverse Words in a String Python - https://www.scaler.com/topics/reverse-words-in-a-string-python/\n",
    "- Reverse Words in a String - https://www.scaler.com/topics/reverse-words-in-a-string/\n",
    "- Substring in Python - https://www.scaler.com/topics/substring-in-python/\n",
    "- Remove Punctuation from String Python - https://www.scaler.com/topics/remove-punctuation-from-string-python/"
   ]
  },
  {
   "cell_type": "code",
   "execution_count": null,
   "id": "d5ad2311",
   "metadata": {},
   "outputs": [],
   "source": []
  },
  {
   "cell_type": "code",
   "execution_count": null,
   "id": "0148d59f",
   "metadata": {},
   "outputs": [],
   "source": []
  },
  {
   "cell_type": "code",
   "execution_count": null,
   "id": "24d2a43f",
   "metadata": {},
   "outputs": [],
   "source": []
  },
  {
   "cell_type": "markdown",
   "id": "51df4500",
   "metadata": {},
   "source": [
    "# Doubts"
   ]
  },
  {
   "cell_type": "code",
   "execution_count": 47,
   "id": "d337134f",
   "metadata": {},
   "outputs": [
    {
     "name": "stdout",
     "output_type": "stream",
     "text": [
      "sara//swmnk <class 'str'>\n",
      "11\n"
     ]
    }
   ],
   "source": [
    "s=\"sara\"\"//swmnk\" # sara//swmnk -> Auto concatenation\n",
    "print(s, type(s))\n",
    "print(len(s))"
   ]
  },
  {
   "cell_type": "code",
   "execution_count": 48,
   "id": "e5bef9ad",
   "metadata": {},
   "outputs": [
    {
     "name": "stdout",
     "output_type": "stream",
     "text": [
      "4383611328\n",
      "4383611328\n"
     ]
    }
   ],
   "source": [
    "l = [1,2,3,4]\n",
    "print(id(l))\n",
    "\n",
    "l.append(5)\n",
    "print(id(l))"
   ]
  },
  {
   "cell_type": "code",
   "execution_count": null,
   "id": "b3425db3",
   "metadata": {},
   "outputs": [],
   "source": []
  }
 ],
 "metadata": {
  "kernelspec": {
   "display_name": "Python 3 (ipykernel)",
   "language": "python",
   "name": "python3"
  },
  "language_info": {
   "codemirror_mode": {
    "name": "ipython",
    "version": 3
   },
   "file_extension": ".py",
   "mimetype": "text/x-python",
   "name": "python",
   "nbconvert_exporter": "python",
   "pygments_lexer": "ipython3",
   "version": "3.9.12"
  }
 },
 "nbformat": 4,
 "nbformat_minor": 5
}
