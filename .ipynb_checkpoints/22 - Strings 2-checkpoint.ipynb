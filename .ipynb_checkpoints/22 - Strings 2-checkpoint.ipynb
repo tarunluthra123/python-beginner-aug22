{
 "cells": [
  {
   "cell_type": "markdown",
   "id": "4d8cd4f5",
   "metadata": {},
   "source": [
    "# Strings 2"
   ]
  },
  {
   "cell_type": "code",
   "execution_count": null,
   "id": "8431e82e",
   "metadata": {},
   "outputs": [],
   "source": []
  },
  {
   "cell_type": "markdown",
   "id": "51193148",
   "metadata": {},
   "source": [
    "## find()\n",
    "![](https://scaler.com/topics/images/find-in-python.webp)"
   ]
  },
  {
   "cell_type": "code",
   "execution_count": 1,
   "id": "4e697d0c",
   "metadata": {},
   "outputs": [
    {
     "name": "stdout",
     "output_type": "stream",
     "text": [
      "13\n"
     ]
    }
   ],
   "source": [
    "s = \"Harry Potter and the Deathly Hallows\"\n",
    "# Find the index of 'and'\n",
    "\n",
    "idx = s.find('and')\n",
    "print(idx)"
   ]
  },
  {
   "cell_type": "code",
   "execution_count": 4,
   "id": "60a18fad",
   "metadata": {},
   "outputs": [
    {
     "name": "stdout",
     "output_type": "stream",
     "text": [
      "-1\n"
     ]
    }
   ],
   "source": [
    "# In case the substring is not present, it returns -1\n",
    "idx2 = s.find('goblet')\n",
    "print(idx2)"
   ]
  },
  {
   "cell_type": "code",
   "execution_count": 5,
   "id": "c7c03429",
   "metadata": {},
   "outputs": [
    {
     "name": "stdout",
     "output_type": "stream",
     "text": [
      "0\n"
     ]
    }
   ],
   "source": [
    "s = \"Harry Potter and the Deathly Hallows\"\n",
    "\n",
    "idx3 = s.find('H')\n",
    "print(idx3)"
   ]
  },
  {
   "cell_type": "code",
   "execution_count": 6,
   "id": "1b7df550",
   "metadata": {},
   "outputs": [
    {
     "name": "stdout",
     "output_type": "stream",
     "text": [
      "18\n"
     ]
    }
   ],
   "source": [
    "idx4 = s.find('h')\n",
    "print(idx4)\n",
    "# first occurence by default"
   ]
  },
  {
   "cell_type": "markdown",
   "id": "f44ee570",
   "metadata": {},
   "source": [
    "If you want 2nd or the third occurence - Try it out on your own.\n",
    "Hint - Refer to the articles"
   ]
  },
  {
   "cell_type": "code",
   "execution_count": 7,
   "id": "35d997ce",
   "metadata": {},
   "outputs": [
    {
     "name": "stdout",
     "output_type": "stream",
     "text": [
      "2\n"
     ]
    }
   ],
   "source": []
  },
  {
   "cell_type": "code",
   "execution_count": 8,
   "id": "f205d0e0",
   "metadata": {},
   "outputs": [
    {
     "name": "stdout",
     "output_type": "stream",
     "text": [
      "3\n"
     ]
    }
   ],
   "source": []
  },
  {
   "cell_type": "code",
   "execution_count": 9,
   "id": "2a5e43b9",
   "metadata": {},
   "outputs": [
    {
     "name": "stdout",
     "output_type": "stream",
     "text": [
      "0\n"
     ]
    }
   ],
   "source": []
  },
  {
   "cell_type": "code",
   "execution_count": 10,
   "id": "687ee15c",
   "metadata": {},
   "outputs": [
    {
     "name": "stdout",
     "output_type": "stream",
     "text": [
      "1\n"
     ]
    }
   ],
   "source": []
  },
  {
   "cell_type": "code",
   "execution_count": null,
   "id": "53179442",
   "metadata": {},
   "outputs": [],
   "source": []
  },
  {
   "cell_type": "code",
   "execution_count": null,
   "id": "0f19ec6e",
   "metadata": {},
   "outputs": [],
   "source": []
  },
  {
   "cell_type": "markdown",
   "id": "f9080d2a",
   "metadata": {},
   "source": [
    "## count()\n",
    "![](https://scaler.com/topics/images/count-in-python.webp)"
   ]
  },
  {
   "cell_type": "code",
   "execution_count": null,
   "id": "230ef08a",
   "metadata": {},
   "outputs": [],
   "source": [
    "s = \"Harry Potter and the Deathly Hallows\"\n",
    "c = s.count('H')\n",
    "print(c)"
   ]
  },
  {
   "cell_type": "code",
   "execution_count": null,
   "id": "1609df8e",
   "metadata": {},
   "outputs": [],
   "source": [
    "c2 = s.count('l')\n",
    "print(c2)"
   ]
  },
  {
   "cell_type": "code",
   "execution_count": null,
   "id": "5835df98",
   "metadata": {},
   "outputs": [],
   "source": [
    "c3 = s.count('Chamber')\n",
    "print(c3)"
   ]
  },
  {
   "cell_type": "code",
   "execution_count": null,
   "id": "e807ba1b",
   "metadata": {},
   "outputs": [],
   "source": [
    "c4 = s.count('and')\n",
    "print(c4)"
   ]
  },
  {
   "cell_type": "code",
   "execution_count": null,
   "id": "4bd3efe9",
   "metadata": {},
   "outputs": [],
   "source": []
  },
  {
   "cell_type": "code",
   "execution_count": null,
   "id": "84c1d738",
   "metadata": {},
   "outputs": [],
   "source": []
  },
  {
   "cell_type": "markdown",
   "id": "fc2fd295",
   "metadata": {},
   "source": [
    "### in operator"
   ]
  },
  {
   "cell_type": "code",
   "execution_count": 11,
   "id": "b91e5794",
   "metadata": {},
   "outputs": [],
   "source": [
    "s = \"Harry Potter and the Deathly Hallows\""
   ]
  },
  {
   "cell_type": "code",
   "execution_count": 12,
   "id": "525ccbd8",
   "metadata": {},
   "outputs": [
    {
     "data": {
      "text/plain": [
       "True"
      ]
     },
     "execution_count": 12,
     "metadata": {},
     "output_type": "execute_result"
    }
   ],
   "source": [
    "'and' in s"
   ]
  },
  {
   "cell_type": "code",
   "execution_count": 13,
   "id": "2d7379d2",
   "metadata": {},
   "outputs": [
    {
     "data": {
      "text/plain": [
       "False"
      ]
     },
     "execution_count": 13,
     "metadata": {},
     "output_type": "execute_result"
    }
   ],
   "source": [
    "'Prisoner' in s"
   ]
  },
  {
   "cell_type": "code",
   "execution_count": 14,
   "id": "882b83a9",
   "metadata": {},
   "outputs": [
    {
     "data": {
      "text/plain": [
       "True"
      ]
     },
     "execution_count": 14,
     "metadata": {},
     "output_type": "execute_result"
    }
   ],
   "source": [
    "\"Harry Potter\" in s"
   ]
  },
  {
   "cell_type": "code",
   "execution_count": null,
   "id": "6396d73f",
   "metadata": {},
   "outputs": [],
   "source": []
  },
  {
   "cell_type": "markdown",
   "id": "4d12e3f8",
   "metadata": {},
   "source": [
    "#### Quiz\n",
    "```py\n",
    "print(\"Ra\" in \"rahul\")\n",
    "```"
   ]
  },
  {
   "cell_type": "code",
   "execution_count": 15,
   "id": "bea81f2b",
   "metadata": {},
   "outputs": [
    {
     "name": "stdout",
     "output_type": "stream",
     "text": [
      "False\n"
     ]
    }
   ],
   "source": [
    "print(\"Ra\" in \"rahul\")"
   ]
  },
  {
   "cell_type": "code",
   "execution_count": 16,
   "id": "fb05912b",
   "metadata": {},
   "outputs": [
    {
     "name": "stdout",
     "output_type": "stream",
     "text": [
      "True\n"
     ]
    }
   ],
   "source": [
    "print(\"Ra\" in \"Rahul\")"
   ]
  },
  {
   "cell_type": "code",
   "execution_count": null,
   "id": "ce1f1af9",
   "metadata": {},
   "outputs": [],
   "source": []
  },
  {
   "cell_type": "code",
   "execution_count": null,
   "id": "237a8acf",
   "metadata": {},
   "outputs": [],
   "source": []
  },
  {
   "cell_type": "code",
   "execution_count": null,
   "id": "f842ce22",
   "metadata": {},
   "outputs": [],
   "source": []
  },
  {
   "cell_type": "markdown",
   "id": "98379677",
   "metadata": {},
   "source": [
    "## Immutable Nature\n",
    "![](https://scaler.com/topics/images/python-datatypes.webp)"
   ]
  },
  {
   "cell_type": "code",
   "execution_count": 17,
   "id": "4dafc139",
   "metadata": {},
   "outputs": [
    {
     "ename": "TypeError",
     "evalue": "'str' object does not support item assignment",
     "output_type": "error",
     "traceback": [
      "\u001b[0;31m---------------------------------------------------------------------------\u001b[0m",
      "\u001b[0;31mTypeError\u001b[0m                                 Traceback (most recent call last)",
      "\u001b[0;32m/var/folders/jn/1bsrct314hv5xmfm7vrcdrzc0000gn/T/ipykernel_2567/2077499534.py\u001b[0m in \u001b[0;36m<module>\u001b[0;34m\u001b[0m\n\u001b[1;32m      1\u001b[0m \u001b[0ms\u001b[0m \u001b[0;34m=\u001b[0m \u001b[0;34m\"hello\"\u001b[0m\u001b[0;34m\u001b[0m\u001b[0;34m\u001b[0m\u001b[0m\n\u001b[0;32m----> 2\u001b[0;31m \u001b[0ms\u001b[0m\u001b[0;34m[\u001b[0m\u001b[0;36m1\u001b[0m\u001b[0;34m]\u001b[0m \u001b[0;34m=\u001b[0m \u001b[0;34m'm'\u001b[0m\u001b[0;34m\u001b[0m\u001b[0;34m\u001b[0m\u001b[0m\n\u001b[0m",
      "\u001b[0;31mTypeError\u001b[0m: 'str' object does not support item assignment"
     ]
    }
   ],
   "source": [
    "s = \"hello\"\n",
    "s[1] = 'm'"
   ]
  },
  {
   "cell_type": "code",
   "execution_count": null,
   "id": "5f508e69",
   "metadata": {},
   "outputs": [],
   "source": []
  },
  {
   "cell_type": "code",
   "execution_count": 18,
   "id": "ffd522ca",
   "metadata": {},
   "outputs": [
    {
     "name": "stdout",
     "output_type": "stream",
     "text": [
      "4335053232\n"
     ]
    }
   ],
   "source": [
    "a = 5\n",
    "print(id(5))\n",
    "# Address of the memory location where 5 is being stored"
   ]
  },
  {
   "cell_type": "code",
   "execution_count": 19,
   "id": "580c0716",
   "metadata": {},
   "outputs": [
    {
     "name": "stdout",
     "output_type": "stream",
     "text": [
      "4335053264\n"
     ]
    }
   ],
   "source": [
    "a = a + 1\n",
    "print(id(a))"
   ]
  },
  {
   "cell_type": "code",
   "execution_count": 20,
   "id": "ee46a9d3",
   "metadata": {},
   "outputs": [
    {
     "name": "stdout",
     "output_type": "stream",
     "text": [
      "4335243472\n"
     ]
    }
   ],
   "source": [
    "a = a * 10\n",
    "print(id(a))"
   ]
  },
  {
   "cell_type": "code",
   "execution_count": null,
   "id": "5ca141cc",
   "metadata": {},
   "outputs": [],
   "source": []
  },
  {
   "cell_type": "code",
   "execution_count": null,
   "id": "e61a2ccd",
   "metadata": {},
   "outputs": [],
   "source": []
  },
  {
   "cell_type": "code",
   "execution_count": null,
   "id": "4c1356e2",
   "metadata": {},
   "outputs": [],
   "source": []
  },
  {
   "cell_type": "markdown",
   "id": "d43829ba",
   "metadata": {},
   "source": [
    "## replace()\n",
    "![](https://scaler.com/topics/images/replace-a-character-in-a-string-python.webp)"
   ]
  },
  {
   "cell_type": "code",
   "execution_count": 21,
   "id": "671c0e7d",
   "metadata": {},
   "outputs": [
    {
     "name": "stdout",
     "output_type": "stream",
     "text": [
      "hello world\n",
      "hello everyone\n"
     ]
    }
   ],
   "source": [
    "s = \"hello world\"\n",
    "\n",
    "# Change to \"hello everyone\"\n",
    "t = s.replace(\"world\", \"everyone\")\n",
    "print(s)\n",
    "print(t)\n",
    "# Original string remains intact\n",
    "# You get a new string with the changes"
   ]
  },
  {
   "cell_type": "code",
   "execution_count": null,
   "id": "5ae5c679",
   "metadata": {},
   "outputs": [],
   "source": []
  },
  {
   "cell_type": "code",
   "execution_count": 22,
   "id": "abaf9b6b",
   "metadata": {},
   "outputs": [
    {
     "name": "stdout",
     "output_type": "stream",
     "text": [
      "Hello how are you doing?\n"
     ]
    }
   ],
   "source": [
    "s = \"Hey how are you doing?\"\n",
    "s = s.replace(\"Hey\", \"Hello\")\n",
    "print(s)"
   ]
  },
  {
   "cell_type": "code",
   "execution_count": null,
   "id": "9162bea8",
   "metadata": {},
   "outputs": [],
   "source": []
  },
  {
   "cell_type": "markdown",
   "id": "682624cc",
   "metadata": {},
   "source": [
    "#### Quiz 2\n",
    "```py\n",
    "a = \"Hello\"  \n",
    "b = a  \n",
    "a = \"Yello\"  \n",
    "```\n",
    "What is the value of `b` now?"
   ]
  },
  {
   "cell_type": "code",
   "execution_count": 23,
   "id": "c5d12711",
   "metadata": {},
   "outputs": [
    {
     "name": "stdout",
     "output_type": "stream",
     "text": [
      "Hello\n"
     ]
    }
   ],
   "source": [
    "a = \"Hello\"  \n",
    "b = a  \n",
    "a = \"Yello\"  \n",
    "\n",
    "print(b)"
   ]
  },
  {
   "cell_type": "code",
   "execution_count": null,
   "id": "9e62151d",
   "metadata": {},
   "outputs": [],
   "source": []
  },
  {
   "cell_type": "code",
   "execution_count": null,
   "id": "272a236a",
   "metadata": {},
   "outputs": [],
   "source": []
  },
  {
   "cell_type": "markdown",
   "id": "eeb4660a",
   "metadata": {},
   "source": [
    "#### Quiz 3\n",
    "Python - String Nature\n",
    "Predict the output\n",
    "```py\n",
    "a = \"batman\"\n",
    "b = a\n",
    "b.replace(\"b\", \"c\")\n",
    "print(a) \n",
    "```"
   ]
  },
  {
   "cell_type": "code",
   "execution_count": 28,
   "id": "05a434be",
   "metadata": {},
   "outputs": [
    {
     "name": "stdout",
     "output_type": "stream",
     "text": [
      "batman\n",
      "batman\n",
      "catman\n"
     ]
    }
   ],
   "source": [
    "a = \"batman\"\n",
    "b = a\n",
    "c = b.replace(\"b\", \"c\")\n",
    "print(a)\n",
    "print(b)\n",
    "print(c)"
   ]
  },
  {
   "cell_type": "code",
   "execution_count": null,
   "id": "2b9d2eeb",
   "metadata": {},
   "outputs": [],
   "source": []
  },
  {
   "cell_type": "code",
   "execution_count": 30,
   "id": "17115211",
   "metadata": {},
   "outputs": [
    {
     "name": "stdout",
     "output_type": "stream",
     "text": [
      "hello\n"
     ]
    }
   ],
   "source": [
    "s = \"hello\"\n",
    "t = s.replace('h', 'm')\n",
    "print(s)"
   ]
  },
  {
   "cell_type": "code",
   "execution_count": 31,
   "id": "77c7c6e6",
   "metadata": {},
   "outputs": [
    {
     "name": "stdout",
     "output_type": "stream",
     "text": [
      "mello\n"
     ]
    }
   ],
   "source": [
    "print(t)"
   ]
  },
  {
   "cell_type": "code",
   "execution_count": null,
   "id": "93297816",
   "metadata": {},
   "outputs": [],
   "source": []
  },
  {
   "cell_type": "code",
   "execution_count": null,
   "id": "0006d75a",
   "metadata": {},
   "outputs": [],
   "source": []
  },
  {
   "cell_type": "code",
   "execution_count": null,
   "id": "f57301e0",
   "metadata": {},
   "outputs": [],
   "source": []
  },
  {
   "cell_type": "markdown",
   "id": "4ad89fb2",
   "metadata": {},
   "source": [
    "## List to String\n",
    "![](https://scaler.com/topics/images/convert-list-to-string-in-python.webp)"
   ]
  },
  {
   "cell_type": "code",
   "execution_count": null,
   "id": "ccc6c345",
   "metadata": {},
   "outputs": [],
   "source": []
  },
  {
   "cell_type": "code",
   "execution_count": null,
   "id": "c954527e",
   "metadata": {},
   "outputs": [],
   "source": []
  },
  {
   "cell_type": "code",
   "execution_count": null,
   "id": "c698461f",
   "metadata": {},
   "outputs": [],
   "source": []
  },
  {
   "cell_type": "code",
   "execution_count": null,
   "id": "2e3a128c",
   "metadata": {},
   "outputs": [],
   "source": []
  },
  {
   "cell_type": "markdown",
   "id": "7e183b45",
   "metadata": {},
   "source": [
    "## Reverse words in a string\n",
    "![](https://scaler.com/topics/images/reverse-words-in-a-string-python.webp)"
   ]
  },
  {
   "cell_type": "code",
   "execution_count": null,
   "id": "ad39f007",
   "metadata": {},
   "outputs": [],
   "source": []
  },
  {
   "cell_type": "code",
   "execution_count": null,
   "id": "ceb93104",
   "metadata": {},
   "outputs": [],
   "source": []
  },
  {
   "cell_type": "markdown",
   "id": "2463ce14",
   "metadata": {},
   "source": [
    "# Bonus Reading Material\n",
    "- What are Mutable Data Types in Python? - https://www.scaler.com/topics/mutable-data-typesg-in-python/\n",
    "- Mutable and Immutable in Python - https://www.scaler.com/topics/mutable-and-immutable-in-python/\n",
    "- Replace in Python - https://www.scaler.com/topics/replace-in-python/\n",
    "- Replace a Character in a String Python - https://www.scaler.com/topics/replace-a-character-in-a-string-python/\n",
    "- Join in Python - https://www.scaler.com/topics/join-in-python/\n",
    "- Convert List to String in Python - https://www.scaler.com/topics/convert-list-to-string-in-python/\n",
    "- Convert List to String in Python - https://www.scaler.com/topics/convert-list-to-string-python/\n",
    "- Python String find() Method - https://www.scaler.com/topics/find-function-in-python/\n",
    "- Find in Python - https://www.scaler.com/topics/find-in-python/\n",
    "- Count in Python - https://www.scaler.com/topics/count-in-python/\n",
    "- startswith() in Python - https://www.scaler.com/topics/startswith-in-python/\n",
    "- capitalize() in Python - https://www.scaler.com/topics/capitalize-in-python/\n",
    "- swapcase() in Python - https://www.scaler.com/topics/swapcase-in-python/\n",
    "- partition() in Python - https://www.scaler.com/topics/partition-in-python/\n",
    "- Strip Function in Python - https://www.scaler.com/topics/strip-function-in-python/\n",
    "- Lexicographical order in Python - https://www.scaler.com/topics/lexicographical-order-in-python/\n",
    "- Sort a String in Python - https://www.scaler.com/topics/sort-a-string-in-python/\n",
    "- Remove Whitespace From String - https://www.scaler.com/topics/remove-whitespace-from-string/\n",
    "- Reverse Words in a String Python - https://www.scaler.com/topics/reverse-words-in-a-string-python/\n",
    "- Reverse Words in a String - https://www.scaler.com/topics/reverse-words-in-a-string/\n",
    "- Substring in Python - https://www.scaler.com/topics/substring-in-python/\n",
    "- Remove Punctuation from String Python - https://www.scaler.com/topics/remove-punctuation-from-string-python/"
   ]
  },
  {
   "cell_type": "code",
   "execution_count": null,
   "id": "d5ad2311",
   "metadata": {},
   "outputs": [],
   "source": []
  }
 ],
 "metadata": {
  "kernelspec": {
   "display_name": "Python 3 (ipykernel)",
   "language": "python",
   "name": "python3"
  },
  "language_info": {
   "codemirror_mode": {
    "name": "ipython",
    "version": 3
   },
   "file_extension": ".py",
   "mimetype": "text/x-python",
   "name": "python",
   "nbconvert_exporter": "python",
   "pygments_lexer": "ipython3",
   "version": "3.9.12"
  }
 },
 "nbformat": 4,
 "nbformat_minor": 5
}
