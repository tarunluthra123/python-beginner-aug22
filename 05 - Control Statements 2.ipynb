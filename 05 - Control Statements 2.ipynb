{
 "cells": [
  {
   "cell_type": "markdown",
   "id": "271b725c",
   "metadata": {},
   "source": [
    "# Control Statements 2\n",
    "<img src=\"https://scaler.com/topics/images/if-else-statement-in-python-768x947.webp\" width=\"400px\" />"
   ]
  },
  {
   "cell_type": "markdown",
   "id": "3189b2bd",
   "metadata": {},
   "source": [
    "\n",
    "### Q1. Input a number and print whether number is positive (> 0) or not."
   ]
  },
  {
   "cell_type": "code",
   "execution_count": 3,
   "id": "55960065",
   "metadata": {},
   "outputs": [
    {
     "name": "stdout",
     "output_type": "stream",
     "text": [
      "0\n",
      "Not positive\n"
     ]
    }
   ],
   "source": [
    "n = int(input())\n",
    "\n",
    "if n > 0:\n",
    "    print(\"Positive\")\n",
    "else:\n",
    "    print(\"Not positive\")"
   ]
  },
  {
   "cell_type": "code",
   "execution_count": null,
   "id": "d00c6324",
   "metadata": {},
   "outputs": [],
   "source": []
  },
  {
   "cell_type": "markdown",
   "id": "343b6dff",
   "metadata": {},
   "source": [
    "#### Quiz 1\n",
    "```py\n",
    "x = 5\n",
    "if x < 5 or x > -1:\n",
    "    x = x - 3\n",
    "else:\n",
    "    x = x - 3\n",
    "```"
   ]
  },
  {
   "cell_type": "code",
   "execution_count": 5,
   "id": "a51215c7",
   "metadata": {},
   "outputs": [
    {
     "name": "stdout",
     "output_type": "stream",
     "text": [
      "2\n"
     ]
    }
   ],
   "source": [
    "x = 5\n",
    "if x < 5 or x > -1:\n",
    "    x = x - 3\n",
    "else:\n",
    "    x = x - 3\n",
    "print(x)"
   ]
  },
  {
   "cell_type": "code",
   "execution_count": null,
   "id": "8abb3587",
   "metadata": {},
   "outputs": [],
   "source": []
  },
  {
   "cell_type": "code",
   "execution_count": null,
   "id": "0ddd9507",
   "metadata": {},
   "outputs": [],
   "source": []
  },
  {
   "cell_type": "markdown",
   "id": "cbf0794a",
   "metadata": {},
   "source": [
    "### Q2 - Odd/Even test\n",
    "Given an integer input, check if it is odd or even\n",
    "<img src=\"https://www.kidibot.com/wp-content/uploads/2018/01/odd-even-rule.jpg\" width=\"200px\" />"
   ]
  },
  {
   "cell_type": "code",
   "execution_count": 10,
   "id": "e9af21b4",
   "metadata": {},
   "outputs": [
    {
     "name": "stdout",
     "output_type": "stream",
     "text": [
      "-1\n",
      "Odd number\n"
     ]
    }
   ],
   "source": [
    "n = int(input())\n",
    "\n",
    "if n % 2 == 0:\n",
    "    print(\"Even number\")\n",
    "else:\n",
    "    print(\"Odd number\")"
   ]
  },
  {
   "cell_type": "code",
   "execution_count": null,
   "id": "e5f06de7",
   "metadata": {},
   "outputs": [],
   "source": []
  },
  {
   "cell_type": "code",
   "execution_count": null,
   "id": "bfbfc0a9",
   "metadata": {},
   "outputs": [],
   "source": []
  },
  {
   "cell_type": "code",
   "execution_count": null,
   "id": "eb864105",
   "metadata": {},
   "outputs": [],
   "source": []
  },
  {
   "cell_type": "code",
   "execution_count": null,
   "id": "a4febd26",
   "metadata": {},
   "outputs": [],
   "source": []
  },
  {
   "cell_type": "markdown",
   "id": "8dd2920e",
   "metadata": {},
   "source": [
    "### Q3 - Favourite Language\n",
    "1. If you enter Python then print \"Nice Choice!\"\n",
    "2. Else print \"I don't know that language!\""
   ]
  },
  {
   "cell_type": "code",
   "execution_count": 16,
   "id": "155b12c6",
   "metadata": {},
   "outputs": [
    {
     "name": "stdout",
     "output_type": "stream",
     "text": [
      "Python\n",
      "Nice Choice!\n"
     ]
    }
   ],
   "source": [
    "lang = input()\n",
    "\n",
    "if lang == \"Python\":\n",
    "    print(\"Nice Choice!\")\n",
    "else:\n",
    "    print(\"I don't know that language!\")"
   ]
  },
  {
   "cell_type": "code",
   "execution_count": null,
   "id": "70329aae",
   "metadata": {},
   "outputs": [],
   "source": []
  },
  {
   "cell_type": "code",
   "execution_count": null,
   "id": "ef347e3a",
   "metadata": {},
   "outputs": [],
   "source": []
  },
  {
   "cell_type": "code",
   "execution_count": null,
   "id": "f4a23ff6",
   "metadata": {},
   "outputs": [],
   "source": []
  },
  {
   "cell_type": "code",
   "execution_count": null,
   "id": "be6159ff",
   "metadata": {},
   "outputs": [],
   "source": []
  },
  {
   "cell_type": "code",
   "execution_count": null,
   "id": "66c09832",
   "metadata": {},
   "outputs": [],
   "source": []
  },
  {
   "cell_type": "code",
   "execution_count": null,
   "id": "32c15c20",
   "metadata": {},
   "outputs": [],
   "source": []
  },
  {
   "cell_type": "markdown",
   "id": "0b076d89",
   "metadata": {},
   "source": [
    "### Q4 - Favourite Language 2\n",
    "1. If you enter Python or Java then print \"Nice Choice!\"\n",
    "2. Else print \"I don't know that language!\""
   ]
  },
  {
   "cell_type": "code",
   "execution_count": 5,
   "id": "fc2d513f",
   "metadata": {},
   "outputs": [
    {
     "name": "stdout",
     "output_type": "stream",
     "text": [
      "Ruby\n",
      "I don't know that language!\n"
     ]
    }
   ],
   "source": [
    "lang = input()\n",
    "\n",
    "if (lang == \"Python\") or (lang == \"Java\"):\n",
    "    print(\"Nice Choice!\")\n",
    "else:\n",
    "    print(\"I don't know that language!\")"
   ]
  },
  {
   "cell_type": "code",
   "execution_count": null,
   "id": "64c3fa0f",
   "metadata": {},
   "outputs": [],
   "source": []
  },
  {
   "cell_type": "code",
   "execution_count": null,
   "id": "4864e9a8",
   "metadata": {},
   "outputs": [],
   "source": []
  },
  {
   "cell_type": "code",
   "execution_count": null,
   "id": "daefbca8",
   "metadata": {},
   "outputs": [],
   "source": []
  },
  {
   "cell_type": "code",
   "execution_count": null,
   "id": "5b2d8b00",
   "metadata": {},
   "outputs": [],
   "source": []
  },
  {
   "cell_type": "markdown",
   "id": "ee4372d6",
   "metadata": {},
   "source": [
    "### Q5 - Favourite Language 3\n",
    "1. If you enter Python or Java then print \"Nice Choice!\"\n",
    "2. If you enter C++, it should say \"I am speed\"\n",
    "2. Else print \"I don't know that language!\""
   ]
  },
  {
   "cell_type": "code",
   "execution_count": 10,
   "id": "167bbb38",
   "metadata": {},
   "outputs": [
    {
     "name": "stdout",
     "output_type": "stream",
     "text": [
      "C++\n",
      "I am speed\n"
     ]
    }
   ],
   "source": [
    "lang = input()\n",
    "\n",
    "if (lang == \"Python\") or (lang == \"Java\"):\n",
    "    print(\"Nice Choice!\")\n",
    "else:\n",
    "    if lang == \"C++\":\n",
    "        print(\"I am speed\")\n",
    "    else:\n",
    "        print(\"I don't know that language!\")"
   ]
  },
  {
   "cell_type": "code",
   "execution_count": null,
   "id": "d435b10c",
   "metadata": {},
   "outputs": [],
   "source": []
  },
  {
   "cell_type": "code",
   "execution_count": null,
   "id": "df814a77",
   "metadata": {},
   "outputs": [],
   "source": []
  },
  {
   "cell_type": "code",
   "execution_count": null,
   "id": "aec52928",
   "metadata": {},
   "outputs": [],
   "source": []
  },
  {
   "cell_type": "code",
   "execution_count": null,
   "id": "889e3f43",
   "metadata": {},
   "outputs": [],
   "source": []
  },
  {
   "cell_type": "code",
   "execution_count": null,
   "id": "3148f07e",
   "metadata": {},
   "outputs": [],
   "source": []
  },
  {
   "cell_type": "markdown",
   "id": "450d5e55",
   "metadata": {},
   "source": [
    "### Q6 - Favourite Language 4\n",
    "1. If you enter Python or Java then print \"Nice Choice!\"\n",
    "2. If you enter C++, it should say \"I am speed\"\n",
    "3. If you enter Javascript, it should say \"Oh. You are a web developer\"\n",
    "4. If you enter Golang, it should say \"You're a cool person, I see\"\n",
    "5. Else print \"I don't know that language!\""
   ]
  },
  {
   "cell_type": "code",
   "execution_count": 11,
   "id": "c2e16302",
   "metadata": {},
   "outputs": [
    {
     "name": "stdout",
     "output_type": "stream",
     "text": [
      "Go\n",
      "You're a cool person, I see\n"
     ]
    }
   ],
   "source": [
    "lang = input()\n",
    "\n",
    "if (lang == \"Python\") or (lang == \"Java\"):\n",
    "    print(\"Nice Choice!\")\n",
    "else:\n",
    "    if lang == \"C++\":\n",
    "        print(\"I am speed\")\n",
    "    else:\n",
    "        if lang == \"Javascript\":\n",
    "            print(\"Oh. You are a web developer\")\n",
    "        else:\n",
    "            if lang == \"Go\":\n",
    "                print(\"You're a cool person, I see\")\n",
    "            else:\n",
    "                print(\"I don't know that language!\")\n",
    "        \n",
    "        \n",
    "        \n",
    "        "
   ]
  },
  {
   "cell_type": "code",
   "execution_count": null,
   "id": "0cd3767a",
   "metadata": {},
   "outputs": [],
   "source": []
  },
  {
   "cell_type": "code",
   "execution_count": null,
   "id": "2066188c",
   "metadata": {},
   "outputs": [],
   "source": []
  },
  {
   "cell_type": "markdown",
   "id": "a79bce3d",
   "metadata": {},
   "source": [
    "![](https://media.giphy.com/media/L4AQvif7x9fS8/giphy.gif)"
   ]
  },
  {
   "cell_type": "code",
   "execution_count": null,
   "id": "f55fe6c6",
   "metadata": {},
   "outputs": [],
   "source": []
  },
  {
   "cell_type": "markdown",
   "id": "85f8b5ce",
   "metadata": {},
   "source": [
    "## Else if conditions - elif\n",
    "![](https://scaler.com/topics/images/if-elif-else-in-python-768x499.webp)"
   ]
  },
  {
   "cell_type": "code",
   "execution_count": 15,
   "id": "9fa638a4",
   "metadata": {},
   "outputs": [
    {
     "name": "stdout",
     "output_type": "stream",
     "text": [
      "Ruby\n",
      "I don't know that language\n"
     ]
    }
   ],
   "source": [
    "lang = input()\n",
    "\n",
    "if lang == \"Python\" or lang == \"Java\":\n",
    "    print(\"Nice Choice\")\n",
    "elif lang == \"C++\":\n",
    "    print(\"I am speed\")\n",
    "elif lang == \"Javascript\":\n",
    "    print(\"Oh. You are a web developer\")\n",
    "elif lang == \"Golang\":\n",
    "    print(\"You are a cool person\")\n",
    "else:\n",
    "    print(\"I don't know that language\")"
   ]
  },
  {
   "cell_type": "code",
   "execution_count": null,
   "id": "494d52ec",
   "metadata": {},
   "outputs": [],
   "source": []
  },
  {
   "cell_type": "code",
   "execution_count": null,
   "id": "2425bb4a",
   "metadata": {},
   "outputs": [],
   "source": []
  },
  {
   "cell_type": "code",
   "execution_count": null,
   "id": "3baa7796",
   "metadata": {},
   "outputs": [],
   "source": []
  },
  {
   "cell_type": "code",
   "execution_count": null,
   "id": "ea16fd92",
   "metadata": {},
   "outputs": [],
   "source": []
  },
  {
   "cell_type": "markdown",
   "id": "a3793d6d",
   "metadata": {},
   "source": [
    "### Check sign"
   ]
  },
  {
   "cell_type": "code",
   "execution_count": null,
   "id": "858094de",
   "metadata": {},
   "outputs": [],
   "source": []
  },
  {
   "cell_type": "markdown",
   "id": "e612589a",
   "metadata": {},
   "source": [
    "#### Quiz 2\n",
    "```py\n",
    "x = 0\n",
    "\n",
    "if x > 0:\n",
    "  print('positive')\n",
    "elif _____:\n",
    "  print('zero')\n",
    "else:\n",
    "  print('negative')\n",
    "```\n",
    "Fill the condition"
   ]
  },
  {
   "cell_type": "code",
   "execution_count": 18,
   "id": "1ef7a7ea",
   "metadata": {},
   "outputs": [
    {
     "name": "stdout",
     "output_type": "stream",
     "text": [
      "positive\n"
     ]
    }
   ],
   "source": [
    "x = 5\n",
    "\n",
    "if x > 0:\n",
    "    print('positive')\n",
    "elif x == 0:\n",
    "    print('zero')\n",
    "else:\n",
    "    print('negative')"
   ]
  },
  {
   "cell_type": "code",
   "execution_count": null,
   "id": "89ad3290",
   "metadata": {},
   "outputs": [],
   "source": []
  },
  {
   "cell_type": "code",
   "execution_count": null,
   "id": "a86fe458",
   "metadata": {},
   "outputs": [],
   "source": []
  },
  {
   "cell_type": "markdown",
   "id": "fe4b970f",
   "metadata": {},
   "source": [
    "### Check odd/even without else"
   ]
  },
  {
   "cell_type": "code",
   "execution_count": 21,
   "id": "50b8b43f",
   "metadata": {},
   "outputs": [
    {
     "name": "stdout",
     "output_type": "stream",
     "text": [
      "Odd\n"
     ]
    }
   ],
   "source": [
    "n = 11\n",
    "\n",
    "if n % 2 == 0:\n",
    "    print(\"Even\")\n",
    "elif n % 2 != 0:\n",
    "    print(\"Odd\")"
   ]
  },
  {
   "cell_type": "code",
   "execution_count": null,
   "id": "df21263f",
   "metadata": {},
   "outputs": [],
   "source": []
  },
  {
   "cell_type": "code",
   "execution_count": null,
   "id": "4dec0e54",
   "metadata": {},
   "outputs": [],
   "source": []
  },
  {
   "cell_type": "code",
   "execution_count": null,
   "id": "9fb40d3a",
   "metadata": {},
   "outputs": [],
   "source": []
  },
  {
   "cell_type": "code",
   "execution_count": null,
   "id": "1d229615",
   "metadata": {},
   "outputs": [],
   "source": []
  },
  {
   "cell_type": "code",
   "execution_count": null,
   "id": "68c4662c",
   "metadata": {},
   "outputs": [],
   "source": []
  },
  {
   "cell_type": "markdown",
   "id": "dde6ffa6",
   "metadata": {},
   "source": [
    "#### Quiz 3\n",
    "```py\n",
    "if False:\n",
    "    print(\"Artificial Intelligence\")\n",
    "elif True:\n",
    "    print(\"Machine Learning\")\n",
    "elif True:\n",
    "    print(\"Data Science\")\n",
    "else:\n",
    "    print(\"Deep Learning\") \n",
    "```"
   ]
  },
  {
   "cell_type": "code",
   "execution_count": 22,
   "id": "cd9c1304",
   "metadata": {},
   "outputs": [
    {
     "name": "stdout",
     "output_type": "stream",
     "text": [
      "Machine Learning\n"
     ]
    }
   ],
   "source": [
    "if False:\n",
    "    print(\"Artificial Intelligence\")\n",
    "elif True:\n",
    "    print(\"Machine Learning\")\n",
    "elif True:\n",
    "    print(\"Data Science\")\n",
    "else:\n",
    "    print(\"Deep Learning\") "
   ]
  },
  {
   "cell_type": "code",
   "execution_count": null,
   "id": "cbca4fcd",
   "metadata": {},
   "outputs": [],
   "source": []
  },
  {
   "cell_type": "code",
   "execution_count": null,
   "id": "02dcc1ec",
   "metadata": {},
   "outputs": [],
   "source": []
  },
  {
   "cell_type": "code",
   "execution_count": null,
   "id": "0cf1bb28",
   "metadata": {},
   "outputs": [],
   "source": []
  },
  {
   "cell_type": "markdown",
   "id": "fda7f6aa",
   "metadata": {},
   "source": [
    "Markdown\n",
    "```py\n",
    "a = 1\n",
    "b = 0\n",
    "c = 1\n",
    "if (a and b):\n",
    "    print(\"Scaler is awesome\")\n",
    "elif (a and c):\n",
    "    print(\"ML is fun\")\n",
    "if (a and b and c):\n",
    "    print(\"Python is amazing\")\n",
    "if (a or b or c):\n",
    "    print(\"I love DS\")\n",
    "```"
   ]
  },
  {
   "cell_type": "markdown",
   "id": "05a4e86b",
   "metadata": {},
   "source": [
    "#### Quiz 4\n",
    "```py\n",
    "a = 1\n",
    "b = 0\n",
    "c = 1\n",
    "if (a and b):\n",
    "    print(\"Scaler is awesome\")\n",
    "elif (a and c):\n",
    "    print(\"ML is fun\")\n",
    "if (a and b and c):\n",
    "    print(\"Python is amazing\")\n",
    "if (a or b or c):\n",
    "    print(\"I love DS\")\n",
    "```"
   ]
  },
  {
   "cell_type": "code",
   "execution_count": 23,
   "id": "ad0b79cb",
   "metadata": {},
   "outputs": [
    {
     "name": "stdout",
     "output_type": "stream",
     "text": [
      "ML is fun\n",
      "I love DS\n"
     ]
    }
   ],
   "source": [
    "a = 1\n",
    "b = 0\n",
    "c = 1\n",
    "if (a and b):\n",
    "    print(\"Scaler is awesome\")\n",
    "elif (a and c):\n",
    "    print(\"ML is fun\")\n",
    "    \n",
    "if (a and b and c):\n",
    "    print(\"Python is amazing\")\n",
    "    \n",
    "if (a or b or c):\n",
    "    print(\"I love DS\")"
   ]
  },
  {
   "cell_type": "markdown",
   "id": "6b1c7d07",
   "metadata": {},
   "source": [
    "### Given an integer, check if it is odd or even and then also check if it is divisible by 3 or not. Then also check if it is divisible by 5."
   ]
  },
  {
   "cell_type": "code",
   "execution_count": 24,
   "id": "cb8433c8",
   "metadata": {},
   "outputs": [
    {
     "name": "stdout",
     "output_type": "stream",
     "text": [
      "Odd\n",
      "Divisible by 3\n",
      "Divisible by 5\n"
     ]
    }
   ],
   "source": [
    "n = 15\n",
    "\n",
    "if n % 2 == 0:\n",
    "    print(\"Even\")\n",
    "else:\n",
    "    print(\"Odd\")\n",
    "    \n",
    "if n % 3 == 0:\n",
    "    print(\"Divisible by 3\")\n",
    "else:\n",
    "    print(\"Not divisible by 3\")\n",
    "    \n",
    "if n % 5 == 0:\n",
    "    print(\"Divisible by 5\")\n",
    "else:\n",
    "    print(\"Not divisible by 5\")"
   ]
  },
  {
   "cell_type": "code",
   "execution_count": null,
   "id": "9fbc19cc",
   "metadata": {},
   "outputs": [],
   "source": []
  },
  {
   "cell_type": "code",
   "execution_count": null,
   "id": "612426fb",
   "metadata": {},
   "outputs": [],
   "source": []
  },
  {
   "cell_type": "code",
   "execution_count": null,
   "id": "7f13ee8b",
   "metadata": {},
   "outputs": [],
   "source": []
  },
  {
   "cell_type": "code",
   "execution_count": null,
   "id": "82d2e8b3",
   "metadata": {},
   "outputs": [],
   "source": []
  },
  {
   "cell_type": "code",
   "execution_count": null,
   "id": "45129b16",
   "metadata": {},
   "outputs": [],
   "source": []
  },
  {
   "cell_type": "code",
   "execution_count": null,
   "id": "1321273b",
   "metadata": {},
   "outputs": [],
   "source": []
  },
  {
   "cell_type": "markdown",
   "id": "f53652de",
   "metadata": {},
   "source": [
    "### FizzBuzz\n",
    "Write a program that takes in a number N as input and does the following:\n",
    "- if N is a multiple of only 3, print Fizz\n",
    "- if N is a multiple of only 5 (not 3), print Buzz\n",
    "- if N is a multiple of both 3 and 5, print FizzBuzz"
   ]
  },
  {
   "cell_type": "code",
   "execution_count": 30,
   "id": "b9dd479c",
   "metadata": {},
   "outputs": [
    {
     "name": "stdout",
     "output_type": "stream",
     "text": [
      "60\n",
      "FizzBuzz\n"
     ]
    }
   ],
   "source": [
    "N = int(input())\n",
    "\n",
    "# N % 15 == 0 can be used here as well\n",
    "if N % 3 == 0 and N % 5 == 0:\n",
    "    print(\"FizzBuzz\")\n",
    "elif N % 3 == 0:\n",
    "    print(\"Fizz\")\n",
    "elif N % 5 == 0:\n",
    "    print(\"Buzz\")"
   ]
  },
  {
   "cell_type": "code",
   "execution_count": null,
   "id": "69bc4848",
   "metadata": {},
   "outputs": [],
   "source": []
  },
  {
   "cell_type": "code",
   "execution_count": null,
   "id": "48b6308a",
   "metadata": {},
   "outputs": [],
   "source": []
  },
  {
   "cell_type": "code",
   "execution_count": null,
   "id": "d3644525",
   "metadata": {},
   "outputs": [],
   "source": []
  },
  {
   "cell_type": "code",
   "execution_count": null,
   "id": "6b88d74c",
   "metadata": {},
   "outputs": [],
   "source": []
  },
  {
   "cell_type": "code",
   "execution_count": null,
   "id": "e2c0becc",
   "metadata": {},
   "outputs": [],
   "source": []
  },
  {
   "cell_type": "markdown",
   "id": "ff0e5335",
   "metadata": {},
   "source": [
    "# Bonus Reading Material\n",
    "https://www.scaler.com/topics/python/python-if-else-statement/"
   ]
  },
  {
   "cell_type": "code",
   "execution_count": null,
   "id": "f8b17056",
   "metadata": {},
   "outputs": [],
   "source": []
  },
  {
   "cell_type": "code",
   "execution_count": null,
   "id": "7565d587",
   "metadata": {},
   "outputs": [],
   "source": []
  },
  {
   "cell_type": "markdown",
   "id": "4f90ac37",
   "metadata": {},
   "source": [
    "# Doubts"
   ]
  },
  {
   "cell_type": "code",
   "execution_count": null,
   "id": "ef7c9cbb",
   "metadata": {},
   "outputs": [],
   "source": []
  }
 ],
 "metadata": {
  "kernelspec": {
   "display_name": "Python 3 (ipykernel)",
   "language": "python",
   "name": "python3"
  },
  "language_info": {
   "codemirror_mode": {
    "name": "ipython",
    "version": 3
   },
   "file_extension": ".py",
   "mimetype": "text/x-python",
   "name": "python",
   "nbconvert_exporter": "python",
   "pygments_lexer": "ipython3",
   "version": "3.9.12"
  }
 },
 "nbformat": 4,
 "nbformat_minor": 5
}
