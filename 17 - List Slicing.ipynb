{
 "cells": [
  {
   "cell_type": "markdown",
   "id": "67443413",
   "metadata": {},
   "source": [
    "# List Slicing\n",
    "![](https://scaler.com/topics/images/list-slicing-in-python.webp)"
   ]
  },
  {
   "cell_type": "code",
   "execution_count": null,
   "id": "c398c197",
   "metadata": {},
   "outputs": [],
   "source": []
  },
  {
   "cell_type": "code",
   "execution_count": null,
   "id": "ab18f873",
   "metadata": {},
   "outputs": [],
   "source": []
  },
  {
   "cell_type": "code",
   "execution_count": null,
   "id": "f817ca36",
   "metadata": {},
   "outputs": [],
   "source": []
  },
  {
   "cell_type": "code",
   "execution_count": null,
   "id": "b7bed013",
   "metadata": {},
   "outputs": [],
   "source": []
  },
  {
   "cell_type": "markdown",
   "id": "d6a031ea",
   "metadata": {},
   "source": [
    "Given the runs made by Sachin in a list, find the runs made in:\n",
    "- odd indexed matches (1st, 3rd, 5th, 7th, ...)\n",
    "- even indexed matches (2nd, 4th, 6th ...)\n",
    "- first 5 matches\n",
    "- last 5 matches"
   ]
  },
  {
   "cell_type": "code",
   "execution_count": 7,
   "id": "bfc3408d",
   "metadata": {},
   "outputs": [],
   "source": [
    "runs = [100, 89, 0, 70, 23, 56, 121, 43, 58, 90]"
   ]
  },
  {
   "cell_type": "code",
   "execution_count": 8,
   "id": "4f918016",
   "metadata": {},
   "outputs": [
    {
     "name": "stdout",
     "output_type": "stream",
     "text": [
      "[89, 70, 56, 43, 90]\n"
     ]
    }
   ],
   "source": [
    "# Odd matches\n",
    "odd_runs = []\n",
    "for i in range(1, len(runs), 2):\n",
    "    odd_runs.append(runs[i])\n",
    "\n",
    "print(odd_runs)"
   ]
  },
  {
   "cell_type": "code",
   "execution_count": null,
   "id": "e512acfd",
   "metadata": {},
   "outputs": [],
   "source": []
  },
  {
   "cell_type": "code",
   "execution_count": 10,
   "id": "fe7e85c6",
   "metadata": {},
   "outputs": [],
   "source": [
    "runs = [100, 89, 0, 70, 23, 56, 121, 43, 58, 90]"
   ]
  },
  {
   "cell_type": "code",
   "execution_count": 12,
   "id": "e82e9202",
   "metadata": {},
   "outputs": [
    {
     "name": "stdout",
     "output_type": "stream",
     "text": [
      "[100, 0, 23, 121, 58]\n"
     ]
    }
   ],
   "source": [
    "# Even indexed matches\n",
    "even_runs = []\n",
    "\n",
    "for i in range(0, len(runs), 2):\n",
    "    even_runs.append(runs[i])\n",
    "\n",
    "print(even_runs)"
   ]
  },
  {
   "cell_type": "code",
   "execution_count": null,
   "id": "51ff7b2f",
   "metadata": {},
   "outputs": [],
   "source": []
  },
  {
   "cell_type": "code",
   "execution_count": null,
   "id": "babf358a",
   "metadata": {},
   "outputs": [],
   "source": []
  },
  {
   "cell_type": "code",
   "execution_count": null,
   "id": "8d5280ca",
   "metadata": {},
   "outputs": [],
   "source": [
    "runs = [100, 89, 0, 70, 23, 56, 121, 43, 58, 90]"
   ]
  },
  {
   "cell_type": "code",
   "execution_count": 13,
   "id": "68477635",
   "metadata": {},
   "outputs": [
    {
     "name": "stdout",
     "output_type": "stream",
     "text": [
      "[89, 70, 56, 43, 90]\n"
     ]
    }
   ],
   "source": [
    "# Odd indexed scores\n",
    "odd_runs = runs[1:len(runs):2]\n",
    "print(odd_runs)"
   ]
  },
  {
   "cell_type": "code",
   "execution_count": null,
   "id": "acf4999d",
   "metadata": {},
   "outputs": [],
   "source": []
  },
  {
   "cell_type": "code",
   "execution_count": null,
   "id": "1483ada6",
   "metadata": {},
   "outputs": [],
   "source": [
    "runs = [100, 89, 0, 70, 23, 56, 121, 43, 58, 90]"
   ]
  },
  {
   "cell_type": "code",
   "execution_count": 14,
   "id": "6d26436e",
   "metadata": {},
   "outputs": [
    {
     "name": "stdout",
     "output_type": "stream",
     "text": [
      "[100, 89, 0, 70, 23]\n"
     ]
    }
   ],
   "source": [
    "# First 5 matches\n",
    "first_5 = runs[0:5:1]\n",
    "print(first_5)"
   ]
  },
  {
   "cell_type": "code",
   "execution_count": 15,
   "id": "d114c6fa",
   "metadata": {},
   "outputs": [
    {
     "name": "stdout",
     "output_type": "stream",
     "text": [
      "[100, 89, 0, 70, 23]\n"
     ]
    }
   ],
   "source": [
    "# First 5 matches\n",
    "first_5 = runs[0:5]   # default value of step=1\n",
    "print(first_5)"
   ]
  },
  {
   "cell_type": "code",
   "execution_count": 16,
   "id": "9fd30780",
   "metadata": {},
   "outputs": [
    {
     "name": "stdout",
     "output_type": "stream",
     "text": [
      "[100, 89, 0, 70, 23]\n"
     ]
    }
   ],
   "source": [
    "# First 5 matches\n",
    "first_5 = runs[:5]   # default value of step=1, default value of start=0\n",
    "print(first_5)"
   ]
  },
  {
   "cell_type": "code",
   "execution_count": null,
   "id": "a4ded961",
   "metadata": {},
   "outputs": [],
   "source": []
  },
  {
   "cell_type": "code",
   "execution_count": 17,
   "id": "839b6bad",
   "metadata": {},
   "outputs": [
    {
     "name": "stdout",
     "output_type": "stream",
     "text": [
      "[1, 1, 2, 3, 5]\n"
     ]
    }
   ],
   "source": [
    "# Quiz 3\n",
    "nums = [1, 1, 2, 3, 5, 8, 13]\n",
    "\n",
    "print(nums[:5])\n",
    "# default start=0\n",
    "# default step=1"
   ]
  },
  {
   "cell_type": "code",
   "execution_count": null,
   "id": "361275a3",
   "metadata": {},
   "outputs": [],
   "source": []
  },
  {
   "cell_type": "code",
   "execution_count": 18,
   "id": "0e84737e",
   "metadata": {},
   "outputs": [
    {
     "name": "stdout",
     "output_type": "stream",
     "text": [
      "[50, 60, 70]\n"
     ]
    }
   ],
   "source": [
    "a = [10, 20, 30, 40, 50, 60, 70]\n",
    "print(a[4:])\n",
    "# end = end of the list"
   ]
  },
  {
   "cell_type": "code",
   "execution_count": 20,
   "id": "eb98c095",
   "metadata": {},
   "outputs": [
    {
     "name": "stdout",
     "output_type": "stream",
     "text": [
      "[10, 20, 30, 40]\n"
     ]
    }
   ],
   "source": [
    "print(a[:4])\n",
    "# start = start of the list"
   ]
  },
  {
   "cell_type": "code",
   "execution_count": 21,
   "id": "422c0a59",
   "metadata": {},
   "outputs": [
    {
     "name": "stdout",
     "output_type": "stream",
     "text": [
      "[10, 30, 50, 70]\n"
     ]
    }
   ],
   "source": [
    "a = [10, 20, 30, 40, 50, 60, 70]\n",
    "print(a[::2])"
   ]
  },
  {
   "cell_type": "code",
   "execution_count": 22,
   "id": "9595b03f",
   "metadata": {},
   "outputs": [
    {
     "name": "stdout",
     "output_type": "stream",
     "text": [
      "[10, 40, 70]\n"
     ]
    }
   ],
   "source": [
    "print(a[::3])"
   ]
  },
  {
   "cell_type": "code",
   "execution_count": 23,
   "id": "109591c2",
   "metadata": {},
   "outputs": [
    {
     "name": "stdout",
     "output_type": "stream",
     "text": [
      "[10, 50]\n"
     ]
    }
   ],
   "source": [
    "print(a[::4])"
   ]
  },
  {
   "cell_type": "code",
   "execution_count": 24,
   "id": "4c9101c3",
   "metadata": {},
   "outputs": [
    {
     "name": "stdout",
     "output_type": "stream",
     "text": [
      "[30, 70]\n"
     ]
    }
   ],
   "source": [
    "print(a[2::4])"
   ]
  },
  {
   "cell_type": "code",
   "execution_count": null,
   "id": "f2555110",
   "metadata": {},
   "outputs": [],
   "source": []
  },
  {
   "cell_type": "code",
   "execution_count": 25,
   "id": "788febab",
   "metadata": {},
   "outputs": [
    {
     "name": "stdout",
     "output_type": "stream",
     "text": [
      "[]\n"
     ]
    }
   ],
   "source": [
    "l = [2, 4, 5, 7, 8]\n",
    "print(l[5:0])"
   ]
  },
  {
   "cell_type": "code",
   "execution_count": null,
   "id": "b39bd58a",
   "metadata": {},
   "outputs": [],
   "source": []
  },
  {
   "cell_type": "code",
   "execution_count": 27,
   "id": "a529490e",
   "metadata": {},
   "outputs": [
    {
     "name": "stdout",
     "output_type": "stream",
     "text": [
      "[5, 7, 8]\n"
     ]
    }
   ],
   "source": [
    "l = [2, 4, 5, 7, 8]\n",
    "print(l[-3:])"
   ]
  },
  {
   "cell_type": "code",
   "execution_count": null,
   "id": "35d4153e",
   "metadata": {},
   "outputs": [],
   "source": []
  },
  {
   "cell_type": "code",
   "execution_count": 28,
   "id": "93180c46",
   "metadata": {},
   "outputs": [
    {
     "name": "stdout",
     "output_type": "stream",
     "text": [
      "[9, 2, 8]\n",
      "[9, 2, 8]\n"
     ]
    }
   ],
   "source": [
    "a = [5, 9, 2, 8, 6, 4]\n",
    "print(a[1:4])\n",
    "print(a[-5:-2])"
   ]
  },
  {
   "cell_type": "code",
   "execution_count": 29,
   "id": "d64d54b6",
   "metadata": {},
   "outputs": [
    {
     "name": "stdout",
     "output_type": "stream",
     "text": [
      "[9, 2, 8]\n"
     ]
    }
   ],
   "source": [
    "print(a[1:-2])"
   ]
  },
  {
   "cell_type": "code",
   "execution_count": null,
   "id": "8b635ce0",
   "metadata": {},
   "outputs": [],
   "source": []
  },
  {
   "cell_type": "markdown",
   "id": "4a896b71",
   "metadata": {},
   "source": [
    "### Negative steps"
   ]
  },
  {
   "cell_type": "code",
   "execution_count": 30,
   "id": "ac353aa8",
   "metadata": {},
   "outputs": [
    {
     "name": "stdout",
     "output_type": "stream",
     "text": [
      "[6, 8, 2]\n"
     ]
    }
   ],
   "source": [
    "a = [5, 9, 2, 8, 6, 4]\n",
    "print(a[4:1:-1])\n",
    "# start=4, end=1, step= -1"
   ]
  },
  {
   "cell_type": "code",
   "execution_count": 31,
   "id": "1858c20a",
   "metadata": {},
   "outputs": [
    {
     "name": "stdout",
     "output_type": "stream",
     "text": [
      "[4, 6, 8, 2]\n",
      "[4, 6, 8, 2]\n"
     ]
    }
   ],
   "source": [
    "a = [5, 9, 2, 8, 6, 4]\n",
    "print(a[5:1:-1])\n",
    "print(a[-1:-5:-1])"
   ]
  },
  {
   "cell_type": "code",
   "execution_count": 32,
   "id": "ef7871d1",
   "metadata": {},
   "outputs": [
    {
     "name": "stdout",
     "output_type": "stream",
     "text": [
      "[4, 6, 8, 2]\n",
      "[4, 6, 8, 2]\n"
     ]
    }
   ],
   "source": [
    "print(a[-1:1:-1])\n",
    "print(a[5:-5:-1])"
   ]
  },
  {
   "cell_type": "code",
   "execution_count": null,
   "id": "2566b02a",
   "metadata": {},
   "outputs": [],
   "source": []
  },
  {
   "cell_type": "code",
   "execution_count": 35,
   "id": "798e0627",
   "metadata": {},
   "outputs": [],
   "source": [
    "a = [0, 10, 20, 30, 40, 50, 60]"
   ]
  },
  {
   "cell_type": "code",
   "execution_count": 37,
   "id": "125d34d7",
   "metadata": {},
   "outputs": [
    {
     "data": {
      "text/plain": [
       "[40, 30, 20, 10, 0]"
      ]
     },
     "execution_count": 37,
     "metadata": {},
     "output_type": "execute_result"
    }
   ],
   "source": [
    "a[4::-1]\n",
    "# Start = 4, value at index=4 is 40\n",
    "# Default end (when -ve step) = Starting of the array\n",
    "# Step = -1 => Reverse direction (right to left)"
   ]
  },
  {
   "cell_type": "code",
   "execution_count": null,
   "id": "f093e163",
   "metadata": {},
   "outputs": [],
   "source": []
  },
  {
   "cell_type": "code",
   "execution_count": 38,
   "id": "e1295e81",
   "metadata": {},
   "outputs": [],
   "source": [
    "a = [0, 10, 20, 30, 40, 50, 60]"
   ]
  },
  {
   "cell_type": "code",
   "execution_count": 39,
   "id": "e383365c",
   "metadata": {},
   "outputs": [
    {
     "data": {
      "text/plain": [
       "[60, 50, 40, 30]"
      ]
     },
     "execution_count": 39,
     "metadata": {},
     "output_type": "execute_result"
    }
   ],
   "source": [
    "a[:2:-1]"
   ]
  },
  {
   "cell_type": "code",
   "execution_count": null,
   "id": "691d62b0",
   "metadata": {},
   "outputs": [],
   "source": []
  },
  {
   "cell_type": "code",
   "execution_count": null,
   "id": "1f45b920",
   "metadata": {},
   "outputs": [],
   "source": []
  },
  {
   "cell_type": "code",
   "execution_count": null,
   "id": "73588891",
   "metadata": {},
   "outputs": [],
   "source": []
  },
  {
   "cell_type": "markdown",
   "id": "0dcc2faa",
   "metadata": {},
   "source": [
    "## Rotated Array\n",
    "![](https://scaler.com/topics/images/rotate-array.webp)"
   ]
  },
  {
   "cell_type": "code",
   "execution_count": 50,
   "id": "cb70f0a3",
   "metadata": {},
   "outputs": [],
   "source": [
    "a = [7, 0, 6, 1, 3]\n",
    "\n",
    "# 1 rotation -> [0, 6, 1, 3, 7]\n",
    "# 2 rotations -> [6, 1, 3, 7, 0]\n",
    "# 3 rotations -> [1, 3, 7, 0, 6]\n",
    "\n",
    "# I want the array after 3 rotations"
   ]
  },
  {
   "cell_type": "code",
   "execution_count": 51,
   "id": "adeba8df",
   "metadata": {},
   "outputs": [
    {
     "name": "stdout",
     "output_type": "stream",
     "text": [
      "[0, 6, 1, 3, 7]\n"
     ]
    }
   ],
   "source": [
    "b = a.copy()\n",
    "x = b.pop(0)\n",
    "b.append(x)\n",
    "\n",
    "# Array after 1 rotation\n",
    "print(b)"
   ]
  },
  {
   "cell_type": "code",
   "execution_count": null,
   "id": "373378e0",
   "metadata": {},
   "outputs": [],
   "source": []
  },
  {
   "cell_type": "code",
   "execution_count": null,
   "id": "cc53a242",
   "metadata": {},
   "outputs": [],
   "source": []
  },
  {
   "cell_type": "code",
   "execution_count": 53,
   "id": "f3e428fe",
   "metadata": {},
   "outputs": [
    {
     "name": "stdout",
     "output_type": "stream",
     "text": [
      "[1, 3, 7, 0, 6]\n"
     ]
    }
   ],
   "source": [
    "a = [7, 0, 6, 1, 3]\n",
    "\n",
    "# 1 rotation -> [0, 6, 1, 3, 7]\n",
    "# 2 rotations -> [6, 1, 3, 7, 0]\n",
    "# 3 rotations -> [1, 3, 7, 0, 6]\n",
    "\n",
    "# I want the array after 3 rotations\n",
    "b = a[3:] + a[0:3]\n",
    "print(b)"
   ]
  },
  {
   "cell_type": "code",
   "execution_count": null,
   "id": "30f4aa93",
   "metadata": {},
   "outputs": [],
   "source": []
  },
  {
   "cell_type": "code",
   "execution_count": 52,
   "id": "e35c5e92",
   "metadata": {},
   "outputs": [
    {
     "name": "stdout",
     "output_type": "stream",
     "text": [
      "[7, 0, 6]\n",
      "[1, 3]\n"
     ]
    }
   ],
   "source": [
    "a = [7, 0, 6, 1, 3]\n",
    "print(a[0:3])\n",
    "print(a[3:])"
   ]
  },
  {
   "cell_type": "code",
   "execution_count": null,
   "id": "0ca4b107",
   "metadata": {},
   "outputs": [],
   "source": []
  },
  {
   "cell_type": "code",
   "execution_count": null,
   "id": "0b7c8572",
   "metadata": {},
   "outputs": [],
   "source": [
    "# Try to generalize this\n",
    "# Try to do it for k rotations. k - user input"
   ]
  },
  {
   "cell_type": "code",
   "execution_count": null,
   "id": "b8bc799f",
   "metadata": {},
   "outputs": [],
   "source": []
  },
  {
   "cell_type": "markdown",
   "id": "75a7b4c0",
   "metadata": {},
   "source": [
    "## Reverse of a list\n",
    "![](https://scaler.com/topics/images/reversed-in-python.webp)"
   ]
  },
  {
   "cell_type": "code",
   "execution_count": 40,
   "id": "759c6bb2",
   "metadata": {},
   "outputs": [],
   "source": [
    "a = [0, 10, 20, 30, 40, 50, 60]\n",
    "b = a[::-1]"
   ]
  },
  {
   "cell_type": "code",
   "execution_count": 41,
   "id": "80e8e9c4",
   "metadata": {},
   "outputs": [
    {
     "data": {
      "text/plain": [
       "[60, 50, 40, 30, 20, 10, 0]"
      ]
     },
     "execution_count": 41,
     "metadata": {},
     "output_type": "execute_result"
    }
   ],
   "source": [
    "b"
   ]
  },
  {
   "cell_type": "code",
   "execution_count": 42,
   "id": "aca688f4",
   "metadata": {},
   "outputs": [
    {
     "data": {
      "text/plain": [
       "[0, 10, 20, 30, 40, 50, 60]"
      ]
     },
     "execution_count": 42,
     "metadata": {},
     "output_type": "execute_result"
    }
   ],
   "source": [
    "a"
   ]
  },
  {
   "cell_type": "code",
   "execution_count": 43,
   "id": "b0506411",
   "metadata": {},
   "outputs": [
    {
     "data": {
      "text/plain": [
       "4351230912"
      ]
     },
     "execution_count": 43,
     "metadata": {},
     "output_type": "execute_result"
    }
   ],
   "source": [
    "id(a)\n",
    "# Location in memory where list 'a' is stored"
   ]
  },
  {
   "cell_type": "code",
   "execution_count": 45,
   "id": "8ec17382",
   "metadata": {},
   "outputs": [
    {
     "data": {
      "text/plain": [
       "4350480768"
      ]
     },
     "execution_count": 45,
     "metadata": {},
     "output_type": "execute_result"
    }
   ],
   "source": [
    "id(b)\n",
    "# Location in memory where list 'b' is stored"
   ]
  },
  {
   "cell_type": "code",
   "execution_count": null,
   "id": "33d5bd77",
   "metadata": {},
   "outputs": [],
   "source": []
  },
  {
   "cell_type": "code",
   "execution_count": 46,
   "id": "f31db821",
   "metadata": {},
   "outputs": [
    {
     "data": {
      "text/plain": [
       "[6, 5, 10]"
      ]
     },
     "execution_count": 46,
     "metadata": {},
     "output_type": "execute_result"
    }
   ],
   "source": [
    "l = [10, 2, 5, 3, 6]  \n",
    "l[::-2]"
   ]
  },
  {
   "cell_type": "code",
   "execution_count": null,
   "id": "47baec5a",
   "metadata": {},
   "outputs": [],
   "source": []
  },
  {
   "cell_type": "code",
   "execution_count": null,
   "id": "eb30b258",
   "metadata": {},
   "outputs": [],
   "source": []
  },
  {
   "cell_type": "code",
   "execution_count": null,
   "id": "804ad3fb",
   "metadata": {},
   "outputs": [],
   "source": []
  },
  {
   "cell_type": "markdown",
   "id": "e91a6b91",
   "metadata": {},
   "source": [
    "# Bonus Reading Material\n",
    "- What is List Slicing in Python? - https://www.scaler.com/topics/list-slicing-in-python/\n",
    "- Python List Comparison - https://www.scaler.com/topics/python-list-comparison/\n",
    "- Python reversed() Function - https://www.scaler.com/topics/reversed-in-python/\n",
    "- How to Reverse a List in Python? - https://www.scaler.com/topics/how-to-reverse-a-list-in-python/"
   ]
  },
  {
   "cell_type": "code",
   "execution_count": null,
   "id": "0cc6e767",
   "metadata": {},
   "outputs": [],
   "source": []
  },
  {
   "cell_type": "code",
   "execution_count": null,
   "id": "c48710c1",
   "metadata": {},
   "outputs": [],
   "source": []
  },
  {
   "cell_type": "code",
   "execution_count": null,
   "id": "4fcded90",
   "metadata": {},
   "outputs": [],
   "source": []
  },
  {
   "cell_type": "markdown",
   "id": "c655fd17",
   "metadata": {},
   "source": [
    "\n",
    "# Doubts"
   ]
  },
  {
   "cell_type": "code",
   "execution_count": 54,
   "id": "2ee58600",
   "metadata": {},
   "outputs": [],
   "source": [
    "a = [1,2,3,[4,5,6],7]"
   ]
  },
  {
   "cell_type": "code",
   "execution_count": 55,
   "id": "746e69ac",
   "metadata": {},
   "outputs": [
    {
     "name": "stdout",
     "output_type": "stream",
     "text": [
      "[4, 5, 6]\n"
     ]
    }
   ],
   "source": [
    "print(a[3])"
   ]
  },
  {
   "cell_type": "code",
   "execution_count": 56,
   "id": "9b286df5",
   "metadata": {},
   "outputs": [
    {
     "data": {
      "text/plain": [
       "[6, 5, 4]"
      ]
     },
     "execution_count": 56,
     "metadata": {},
     "output_type": "execute_result"
    }
   ],
   "source": [
    "a[3][::-1]"
   ]
  },
  {
   "cell_type": "code",
   "execution_count": null,
   "id": "9f47b232",
   "metadata": {},
   "outputs": [],
   "source": []
  },
  {
   "cell_type": "code",
   "execution_count": null,
   "id": "731d4e6b",
   "metadata": {},
   "outputs": [],
   "source": []
  },
  {
   "cell_type": "code",
   "execution_count": 57,
   "id": "f4a8e561",
   "metadata": {},
   "outputs": [
    {
     "name": "stdout",
     "output_type": "stream",
     "text": [
      "hello world \n",
      " how are you\n"
     ]
    }
   ],
   "source": [
    "s = \"hello world \\n how are you\"\n",
    "print(s)"
   ]
  },
  {
   "cell_type": "code",
   "execution_count": 58,
   "id": "45edb850",
   "metadata": {},
   "outputs": [
    {
     "data": {
      "text/plain": [
       "['hello', 'world', 'how', 'are', 'you']"
      ]
     },
     "execution_count": 58,
     "metadata": {},
     "output_type": "execute_result"
    }
   ],
   "source": [
    "s.split()\n",
    "# splits on all whitespaces = space, \\n, tabspace"
   ]
  },
  {
   "cell_type": "code",
   "execution_count": 59,
   "id": "4ab9bda0",
   "metadata": {},
   "outputs": [
    {
     "ename": "ValueError",
     "evalue": "empty separator",
     "output_type": "error",
     "traceback": [
      "\u001b[0;31m---------------------------------------------------------------------------\u001b[0m",
      "\u001b[0;31mValueError\u001b[0m                                Traceback (most recent call last)",
      "\u001b[0;32m/var/folders/jn/1bsrct314hv5xmfm7vrcdrzc0000gn/T/ipykernel_38415/2475935892.py\u001b[0m in \u001b[0;36m<module>\u001b[0;34m\u001b[0m\n\u001b[0;32m----> 1\u001b[0;31m \u001b[0ms\u001b[0m\u001b[0;34m.\u001b[0m\u001b[0msplit\u001b[0m\u001b[0;34m(\u001b[0m\u001b[0;34m\"\"\u001b[0m\u001b[0;34m)\u001b[0m\u001b[0;34m\u001b[0m\u001b[0;34m\u001b[0m\u001b[0m\n\u001b[0m",
      "\u001b[0;31mValueError\u001b[0m: empty separator"
     ]
    }
   ],
   "source": [
    "s.split(\"\") # error"
   ]
  },
  {
   "cell_type": "code",
   "execution_count": 61,
   "id": "09be7846",
   "metadata": {},
   "outputs": [
    {
     "data": {
      "text/plain": [
       "['hello', 'world', '\\n', 'how', 'are', 'you']"
      ]
     },
     "execution_count": 61,
     "metadata": {},
     "output_type": "execute_result"
    }
   ],
   "source": [
    "s.split(\" \")"
   ]
  },
  {
   "cell_type": "code",
   "execution_count": null,
   "id": "32de2567",
   "metadata": {},
   "outputs": [],
   "source": []
  },
  {
   "cell_type": "code",
   "execution_count": null,
   "id": "a5e2ff57",
   "metadata": {},
   "outputs": [],
   "source": []
  },
  {
   "cell_type": "code",
   "execution_count": null,
   "id": "a426f409",
   "metadata": {},
   "outputs": [],
   "source": []
  },
  {
   "cell_type": "code",
   "execution_count": 63,
   "id": "ab62a9ed",
   "metadata": {},
   "outputs": [
    {
     "name": "stdout",
     "output_type": "stream",
     "text": [
      "[0, 2, 6, 10]\n"
     ]
    }
   ],
   "source": [
    "a = [5, 1, 5, 7, 8, 9, 5, 0, 2, 4, 5]\n",
    "x = 5\n",
    "\n",
    "ans = []\n",
    "\n",
    "for i in range(len(a)):\n",
    "    if a[i] == x:\n",
    "        ans.append(i)\n",
    "        \n",
    "print(ans)"
   ]
  },
  {
   "cell_type": "code",
   "execution_count": null,
   "id": "311771d8",
   "metadata": {},
   "outputs": [],
   "source": []
  },
  {
   "cell_type": "code",
   "execution_count": null,
   "id": "074232aa",
   "metadata": {},
   "outputs": [],
   "source": []
  },
  {
   "cell_type": "code",
   "execution_count": null,
   "id": "f7966c66",
   "metadata": {},
   "outputs": [],
   "source": []
  },
  {
   "cell_type": "code",
   "execution_count": null,
   "id": "eae6d99b",
   "metadata": {},
   "outputs": [],
   "source": []
  },
  {
   "cell_type": "code",
   "execution_count": 64,
   "id": "77212637",
   "metadata": {},
   "outputs": [
    {
     "name": "stdout",
     "output_type": "stream",
     "text": [
      "[30, 40, 50]\n"
     ]
    }
   ],
   "source": [
    "a = [10, 20, 30, 40, 50]\n",
    "\n",
    "b = a[2:]\n",
    "\n",
    "# a[2:] = [30, 40, 50]"
   ]
  },
  {
   "cell_type": "code",
   "execution_count": 65,
   "id": "ac133e1b",
   "metadata": {},
   "outputs": [
    {
     "name": "stdout",
     "output_type": "stream",
     "text": [
      "30\n"
     ]
    }
   ],
   "source": [
    "print(a[2:][0])"
   ]
  },
  {
   "cell_type": "code",
   "execution_count": 66,
   "id": "f6644292",
   "metadata": {},
   "outputs": [
    {
     "name": "stdout",
     "output_type": "stream",
     "text": [
      "40\n"
     ]
    }
   ],
   "source": [
    "print(a[2:][1])"
   ]
  },
  {
   "cell_type": "code",
   "execution_count": null,
   "id": "87180f97",
   "metadata": {},
   "outputs": [],
   "source": []
  },
  {
   "cell_type": "code",
   "execution_count": 67,
   "id": "1e13e9e5",
   "metadata": {},
   "outputs": [],
   "source": [
    "a = [10, 20, 30, 40, 50]\n",
    "\n",
    "b = a[2:][1:]\n",
    "# a[2:] = [30, 40, 50]\n",
    "# a[2:][1:] = [30, 40, 50][1:] = [40, 50]"
   ]
  },
  {
   "cell_type": "code",
   "execution_count": 68,
   "id": "42cdcca4",
   "metadata": {},
   "outputs": [
    {
     "name": "stdout",
     "output_type": "stream",
     "text": [
      "[40, 50]\n"
     ]
    }
   ],
   "source": [
    "print(b)"
   ]
  },
  {
   "cell_type": "code",
   "execution_count": null,
   "id": "433971b7",
   "metadata": {},
   "outputs": [],
   "source": []
  },
  {
   "cell_type": "code",
   "execution_count": 72,
   "id": "d1fdd813",
   "metadata": {},
   "outputs": [
    {
     "name": "stdout",
     "output_type": "stream",
     "text": [
      "Apple\n"
     ]
    }
   ],
   "source": [
    "s = input()"
   ]
  },
  {
   "cell_type": "code",
   "execution_count": 70,
   "id": "65a1fdfb",
   "metadata": {},
   "outputs": [
    {
     "data": {
      "text/plain": [
       "'Apple \\\\n Mango'"
      ]
     },
     "execution_count": 70,
     "metadata": {},
     "output_type": "execute_result"
    }
   ],
   "source": [
    "s"
   ]
  },
  {
   "cell_type": "code",
   "execution_count": 71,
   "id": "3244f768",
   "metadata": {},
   "outputs": [
    {
     "name": "stdout",
     "output_type": "stream",
     "text": [
      "Apple \\n Mango\n"
     ]
    }
   ],
   "source": [
    "print(s)\n",
    "\n",
    "Apple\n",
    "Mango\n",
    "Guava\n",
    "end"
   ]
  },
  {
   "cell_type": "code",
   "execution_count": 74,
   "id": "fecc80ca",
   "metadata": {},
   "outputs": [
    {
     "name": "stdout",
     "output_type": "stream",
     "text": [
      "apple\n",
      "orange\n",
      "guava\n",
      "end\n",
      "['apple', 'orange', 'guava']\n"
     ]
    }
   ],
   "source": [
    "l = []\n",
    "while True:\n",
    "    s = input()\n",
    "    if s == \"end\":\n",
    "        break\n",
    "    \n",
    "    l.append(s)\n",
    "    \n",
    "print(l)"
   ]
  },
  {
   "cell_type": "code",
   "execution_count": null,
   "id": "dc843480",
   "metadata": {},
   "outputs": [],
   "source": []
  }
 ],
 "metadata": {
  "kernelspec": {
   "display_name": "Python 3 (ipykernel)",
   "language": "python",
   "name": "python3"
  },
  "language_info": {
   "codemirror_mode": {
    "name": "ipython",
    "version": 3
   },
   "file_extension": ".py",
   "mimetype": "text/x-python",
   "name": "python",
   "nbconvert_exporter": "python",
   "pygments_lexer": "ipython3",
   "version": "3.9.12"
  }
 },
 "nbformat": 4,
 "nbformat_minor": 5
}
