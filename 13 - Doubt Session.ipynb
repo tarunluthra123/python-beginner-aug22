{
  "nbformat": 4,
  "nbformat_minor": 0,
  "metadata": {
    "colab": {
      "provenance": []
    },
    "kernelspec": {
      "name": "python3",
      "display_name": "Python 3"
    },
    "language_info": {
      "name": "python"
    }
  },
  "cells": [
    {
      "cell_type": "markdown",
      "source": [
        "## Problem#1: Sum of digits ?\n",
        "\n",
        "<img src='https://www.w3resource.com/w3r_images/python-basic-image-exercise-68.png' height=300>"
      ],
      "metadata": {
        "id": "znTOVk-MQyGM"
      }
    },
    {
      "cell_type": "code",
      "source": [
        "A = int(input('enter a no.'))\n",
        "sum = 0\n",
        "while  A>0:\n",
        "  rem = A%10\n",
        "  sum += rem\n",
        "  A = A//10\n",
        "print(sum)"
      ],
      "metadata": {
        "colab": {
          "base_uri": "https://localhost:8080/"
        },
        "id": "Zo6bPzMo_L3o",
        "outputId": "c6486620-e77f-458e-acba-1c2f854df204"
      },
      "execution_count": 3,
      "outputs": [
        {
          "output_type": "stream",
          "name": "stdout",
          "text": [
            "enter a no.2022\n",
            "6\n"
          ]
        }
      ]
    },
    {
      "cell_type": "code",
      "source": [],
      "metadata": {
        "id": "j7bMMVMn_L0c"
      },
      "execution_count": null,
      "outputs": []
    },
    {
      "cell_type": "code",
      "source": [],
      "metadata": {
        "id": "2sy4wSFw_LxR"
      },
      "execution_count": null,
      "outputs": []
    },
    {
      "cell_type": "code",
      "source": [],
      "metadata": {
        "id": "r5v_0bXw_LuR"
      },
      "execution_count": null,
      "outputs": []
    },
    {
      "cell_type": "code",
      "source": [],
      "metadata": {
        "id": "cS7unjtL_LrN"
      },
      "execution_count": null,
      "outputs": []
    },
    {
      "cell_type": "code",
      "source": [],
      "metadata": {
        "id": "ZSpvVtUy_LoC"
      },
      "execution_count": null,
      "outputs": []
    },
    {
      "cell_type": "markdown",
      "source": [
        "##Problem#2: Is It Perfect?\n",
        "\n",
        "<img src='https://encrypted-tbn0.gstatic.com/images?q=tbn:ANd9GcTLAlqi6fpJfHJovb6HVTxdHXSri3OwzKVYYQ&usqp=CAU'>\n",
        "\n",
        "Problem Description\n",
        "\n",
        "You are given N positive integers.\n",
        "\n",
        "For each given integer A, you have to tell whether it is a perfect number or not.\n",
        "\n",
        "A perfect number is a positive integer which is equal to the sum of its proper positive divisors.\n",
        "\n",
        "Problem Constraints\n",
        "\n",
        "1 <= N <= 10\n",
        "\n",
        "1 <= A <= 10^6\n",
        "\n",
        "\n",
        "\n",
        "**Input Format**\n",
        "\n",
        "The first line of the input contains a single integer N.\n",
        "\n",
        "Each of the next N lines contains a single integer A.\n",
        "\n",
        "\n",
        "**Output Format**\n",
        "\n",
        "In a separate line, print YES if a given integer is perfect, else print NO.\n",
        "\n",
        "Example:\n",
        "\n",
        "Input : <br>\n",
        " 4\n",
        " 6\n",
        " 3 \n",
        "\n",
        "\n",
        "Output:\n",
        "\n",
        " NO\n",
        " YES \n",
        " NO \n",
        "\n",
        "Example Explanation\n",
        "\n",
        "Explanation 1:\n",
        "\n",
        " - For A = 4, the answer is \"NO\" as sum of its proper divisors = 1 + 2 = 3, is not equal to 4. \n",
        " - For A = 6, the answer is \"YES\" as sum of its proper divisors = 1 + 2 + 3 = 6, is equal to 6. \n",
        " - For A = 3, the answer is \"NO\" as sum of its proper divisors = 1, is not equal to 3.\n",
        "\n",
        "\n"
      ],
      "metadata": {
        "id": "NankA4SQxpP0"
      }
    },
    {
      "cell_type": "code",
      "source": [
        "N = int(input())\n",
        "    \n",
        "while N > 0:\n",
        "  A = int(input())\n",
        "  sum = 0\n",
        "  for i in range(1, A):\n",
        "      if A % i == 0:\n",
        "          sum += i\n",
        "          \n",
        "  if sum == A:\n",
        "      print(\"YES\")\n",
        "  else:\n",
        "      print(\"NO\")\n",
        "  N -= 1\n",
        "    \n"
      ],
      "metadata": {
        "colab": {
          "base_uri": "https://localhost:8080/"
        },
        "id": "xsOp-XgP_lW4",
        "outputId": "0f0a106a-599f-42ab-fed9-3cb4a7abe77e"
      },
      "execution_count": 11,
      "outputs": [
        {
          "output_type": "stream",
          "name": "stdout",
          "text": [
            "2\n",
            "3\n",
            "NO\n",
            "2176\n",
            "NO\n"
          ]
        }
      ]
    },
    {
      "cell_type": "code",
      "source": [],
      "metadata": {
        "id": "ZfNpJF0M_lUN"
      },
      "execution_count": null,
      "outputs": []
    },
    {
      "cell_type": "code",
      "source": [],
      "metadata": {
        "id": "ES5LOuVl_lRg"
      },
      "execution_count": null,
      "outputs": []
    },
    {
      "cell_type": "code",
      "source": [],
      "metadata": {
        "id": "xY29IZ-p_lOt"
      },
      "execution_count": null,
      "outputs": []
    },
    {
      "cell_type": "code",
      "source": [],
      "metadata": {
        "id": "ZBph_WT9_lL3"
      },
      "execution_count": null,
      "outputs": []
    },
    {
      "cell_type": "code",
      "source": [],
      "metadata": {
        "id": "_w2YOFsQ_lI7"
      },
      "execution_count": null,
      "outputs": []
    },
    {
      "cell_type": "code",
      "source": [],
      "metadata": {
        "id": "mqnMSlsR_lF_"
      },
      "execution_count": null,
      "outputs": []
    },
    {
      "cell_type": "markdown",
      "source": [
        "## Problem#3: Perfect Numbers - II<br>\n",
        "\n",
        "\n",
        "<img src='https://i.kym-cdn.com/entries/icons/mobile/000/022/900/704.jpg' width=300 height=200>\n",
        "\n",
        "Problem Description\n",
        "You are given an integer A.\n",
        "\n",
        "You have to print all the perfect numbers which lie in the range [1, A] in ascending order.\n",
        "\n",
        "Perfect number is a positive integer which is equal to the sum of its proper positive divisors.\n",
        "\n",
        "A proper divisor of a natural number is the divisor that is strictly less than the number.\n",
        "\n",
        "\n",
        "\n",
        "Problem Constraints<br>\n",
        "1 <= A <= 1000\n",
        "\n",
        "\n",
        "\n",
        "Input Format<br>\n",
        "First and only line of the input contains a single positive integer A.\n",
        "\n",
        "\n",
        "\n",
        "Output Format<br>\n",
        "Print the perfect numbers in ascending order on separate lines.\n",
        "\n",
        "\n",
        "Input 1: 8 <br>\n",
        "Output 1: 6 \n",
        "\n",
        "\n",
        "Input 2: 35 <br>\n",
        "Output 2: <br>\n",
        "6 <br>\n",
        "28 \n",
        "\n",
        "Example Explanation<br>\n",
        "Explanation 1:\n",
        "\n",
        " - For A = 8,<br>\n",
        "    - In the range [1, 8], only 6 can be written as sum of its proper divisors, i.e. 6 = 1 + 2 + 3. \n",
        "Explanation 2:\n",
        "\n",
        " - For A = 35,\n",
        "    - Perfect numbers 6 and 28, lie in the range [1, 35]."
      ],
      "metadata": {
        "id": "gKyJwjMlW_B4"
      }
    },
    {
      "cell_type": "code",
      "source": [],
      "metadata": {
        "id": "2yirTYqu_pWa"
      },
      "execution_count": null,
      "outputs": []
    },
    {
      "cell_type": "code",
      "source": [],
      "metadata": {
        "id": "pAzzyx4d_pTt"
      },
      "execution_count": null,
      "outputs": []
    },
    {
      "cell_type": "code",
      "source": [],
      "metadata": {
        "id": "GFFkROsl_pQo"
      },
      "execution_count": null,
      "outputs": []
    },
    {
      "cell_type": "code",
      "source": [],
      "metadata": {
        "id": "EsXxR_kp_pNj"
      },
      "execution_count": null,
      "outputs": []
    },
    {
      "cell_type": "markdown",
      "source": [
        "##Problem#4: Integer in Words\n",
        "\n",
        "Problem Description\n",
        "\n",
        "You are given an integer A. You have to print A in word form.\n",
        "\n",
        "Following are the words which should be replaced in place of a digit:\n",
        "\n",
        "For digit = 0, word = zero<br>\n",
        "For digit = 1, word = one<br>\n",
        "For digit = 2, word = two<br>\n",
        "For digit = 3, word = three<br>\n",
        "For digit = 4, word = four<br>\n",
        "For digit = 5, word = five<br>\n",
        "For digit = 6, word = six<br>\n",
        "For digit = 7, word = seven<br>\n",
        "For digit = 8, word = eight<br>\n",
        "For digit = 9, word = nine<br>\n",
        "For eg., If A = 2634, you should print two six three four.\n",
        "\n",
        "NOTE: Words should be seperated by a single space. Also, the output is case sensitive.\n",
        "\n",
        "Problem Constraints\n",
        "1 <= A <= 10^6\n",
        "\n",
        "Input Format<br>\n",
        "First and the only line consists of a single integer A.\n",
        "\n",
        "\n",
        "\n",
        "Output Format<br>\n",
        "Print the integer in word form on a single line.\n",
        "\n",
        "Example Input<br>\n",
        "Input 1:\n",
        "\n",
        " 1234 <br>\n",
        "Input 2:\n",
        "\n",
        " 3 \n",
        "\n",
        "\n",
        "Example Output<br>\n",
        "Output 1:\n",
        "\n",
        " one two three four <br>\n",
        "Output 2:\n",
        "\n",
        " three \n",
        "\n",
        "\n",
        "Example Explanation<br>\n",
        "Explanation 1:\n",
        "\n",
        " A = 1234 can be written as \"one two three four\" in words.<br>\n",
        "Explanation 2:<br>\n",
        "\n",
        " A = 3 can be written as \"three\" in words."
      ],
      "metadata": {
        "id": "UVntyVKC7GTE"
      }
    },
    {
      "cell_type": "code",
      "source": [
        "A=int(input())\n",
        "temp=A\n",
        "digits=0\n",
        "while temp > 0:\n",
        "   rem = temp%10\n",
        "   digits+=1\n",
        "   temp=temp//10\n",
        "print(digits)"
      ],
      "metadata": {
        "colab": {
          "base_uri": "https://localhost:8080/"
        },
        "id": "n4wK2LlB_r-j",
        "outputId": "6f6f654e-445d-4f77-ffcf-fa754bc5cb00"
      },
      "execution_count": 13,
      "outputs": [
        {
          "output_type": "stream",
          "name": "stdout",
          "text": [
            "001234\n",
            "4\n"
          ]
        }
      ]
    },
    {
      "cell_type": "code",
      "source": [
        "A=int(input())\n",
        "temp=A\n",
        "digits=0\n",
        "while temp > 0:\n",
        "   rem = temp%10\n",
        "   digits+=1\n",
        "   temp=temp//10\n",
        "\n",
        "\n",
        "for i in range(1,digits+1):\n",
        "\n",
        "  num = A // (10**(digits-i))\n",
        "  \n",
        "  if  num == 0:\n",
        "      print(\"zero\", end = ' ')\n",
        "  elif num == 1:\n",
        "      print(\"one\", end = ' ')\n",
        "  elif  num == 2:\n",
        "      print(\"two\", end = ' ')\n",
        "  elif  num == 3:\n",
        "      print(\"three\", end = ' ')\n",
        "  elif  num == 4:\n",
        "      print(\"four\", end = ' ')\n",
        "  elif  num == 5:\n",
        "      print(\"five\", end = ' ')\n",
        "  elif  num == 6:\n",
        "      print(\"six\", end = ' ')\n",
        "  elif  num == 7:\n",
        "      print(\"seven\", end = ' ')\n",
        "  elif  num == 8:\n",
        "      print(\"eight\", end = ' ')\n",
        "  elif  num == 9:\n",
        "      print(\"nine\", end = ' ')\n",
        "  A = A%(10**(digits-i))\n",
        " "
      ],
      "metadata": {
        "id": "5cHgNY51_r7n"
      },
      "execution_count": null,
      "outputs": []
    },
    {
      "cell_type": "code",
      "source": [],
      "metadata": {
        "id": "B2aTQp3f_r4h"
      },
      "execution_count": null,
      "outputs": []
    },
    {
      "cell_type": "code",
      "source": [],
      "metadata": {
        "id": "inS68O2h_r1o"
      },
      "execution_count": null,
      "outputs": []
    },
    {
      "cell_type": "markdown",
      "source": [
        "## Problem#5: "
      ],
      "metadata": {
        "id": "E5ZuGyw-UDyY"
      }
    },
    {
      "cell_type": "markdown",
      "source": [
        "Problem Description\n",
        "\n",
        "Given an integer N, print the corresponding Full Numeric Pyramid pattern for N.\n",
        "\n",
        "For example if N = 5 then pattern will be like:\n",
        "\n",
        "0 0 0 0 1 0 0 0 0 <br>\n",
        "0 0 0 2 3 2 0 0 0 <br>\n",
        "0 0 3 4 5 4 3 0 0 <br>\n",
        "0 4 5 6 7 6 5 4 0 <br>\n",
        "5 6 7 8 9 8 7 6 5 <br>\n",
        "\n",
        "\n",
        "NOTE: There should be exactly one extra space after each number for each row.\n",
        "\n",
        "\n",
        "\n",
        "Problem Constraints\n",
        "2 <= N <= 100\n",
        "\n",
        "\n",
        "\n",
        "Input Format:<br>\n",
        "First and only line of input contains a single integer N.\n",
        "\n",
        "\n",
        "\n",
        "Output Format<br>\n",
        "Output the Full Pyramid pattern corresponding to the given N.\n",
        "\n",
        "NOTE:\n",
        "\n",
        "-There is no extra space before the first integer of any row.\n",
        "-There is an extra space after the last integer of any row.\n",
        "-All the integers in any row are space separated.\n",
        "\n",
        "\n",
        "Example Input <br>\n",
        "Input 1:2<br>\n",
        "Input 2:3\n",
        "\n",
        "\n",
        "Example Output<br>\n",
        "Output 1:\n",
        "\n",
        "0 1 0<br>\n",
        "2 3 2<br>\n",
        "Output 2:\n",
        "\n",
        "0 0 1 0 0<br>\n",
        "0 2 3 2 0<br>\n",
        "3 4 5 4 3<br>"
      ],
      "metadata": {
        "id": "xaV9BEcxjbGl"
      }
    },
    {
      "cell_type": "code",
      "source": [
        "n=int(input())\n",
        "for i in range(1,n+1):\n",
        "  #zeros in starting\n",
        "  zeros=n-i\n",
        "  for j in range(1,zeros+1):\n",
        "      print(\"0 \",end=\"\")\n",
        "  #increment \n",
        "  lim=2*i - 1\n",
        "  for j in range(i,lim+1):\n",
        "      print(j,end=\"\")\n",
        "      print(\" \",end=\"\")\n",
        "  #decrement\n",
        "  for j in range(lim-1,i-1,-1):\n",
        "      print(j,end=\"\")\n",
        "      print(\" \",end=\"\")\n",
        "  #same number of zeros in end\n",
        "  for j in range(1,zeros+1):\n",
        "      print(\"0 \",end=\"\")\n",
        "  print()"
      ],
      "metadata": {
        "id": "DlX5bsYYZC-u",
        "colab": {
          "base_uri": "https://localhost:8080/"
        },
        "outputId": "03d27bb4-6308-4c1c-cb65-a076656bdfcb"
      },
      "execution_count": 14,
      "outputs": [
        {
          "output_type": "stream",
          "name": "stdout",
          "text": [
            "5\n",
            "0 0 0 0 1 0 0 0 0 \n",
            "0 0 0 2 3 2 0 0 0 \n",
            "0 0 3 4 5 4 3 0 0 \n",
            "0 4 5 6 7 6 5 4 0 \n",
            "5 6 7 8 9 8 7 6 5 \n"
          ]
        }
      ]
    },
    {
      "cell_type": "code",
      "source": [],
      "metadata": {
        "id": "lQnAvSjh_tL0"
      },
      "execution_count": null,
      "outputs": []
    },
    {
      "cell_type": "code",
      "source": [],
      "metadata": {
        "id": "AsRKKGco_tI1"
      },
      "execution_count": null,
      "outputs": []
    },
    {
      "cell_type": "code",
      "source": [],
      "metadata": {
        "id": "GRJqP1IpEsdM"
      },
      "execution_count": null,
      "outputs": []
    },
    {
      "cell_type": "code",
      "source": [
        "x = 55\n",
        "def hi():\n",
        "  return x\n",
        "x +=10\n",
        "print(hi())"
      ],
      "metadata": {
        "colab": {
          "base_uri": "https://localhost:8080/"
        },
        "id": "7gk4znKREsYt",
        "outputId": "1705e35b-1221-4d3f-a5ca-2f17f607eacd"
      },
      "execution_count": 15,
      "outputs": [
        {
          "output_type": "stream",
          "name": "stdout",
          "text": [
            "65\n"
          ]
        }
      ]
    },
    {
      "cell_type": "code",
      "source": [
        "# print no between 1 to N.\n",
        "n=int(input())\n",
        "countOfFactors=0\n",
        "for j in range (1,n+1):\n",
        "    for i in range (1,j+1):\n",
        "        if j%i==0:\n",
        "            countOfFactors += 1\n",
        "        if(countOfFactors==2):\n",
        "            print(j)\n",
        "print()"
      ],
      "metadata": {
        "colab": {
          "base_uri": "https://localhost:8080/"
        },
        "id": "Jnk-uj4Kx6-I",
        "outputId": "4d83b83c-54e6-4deb-c592-58ef2cab815d"
      },
      "execution_count": 16,
      "outputs": [
        {
          "output_type": "stream",
          "name": "stdout",
          "text": [
            "4\n",
            "2\n",
            "\n"
          ]
        }
      ]
    }
  ]
}