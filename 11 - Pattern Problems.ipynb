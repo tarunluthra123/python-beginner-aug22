{
 "cells": [
  {
   "cell_type": "markdown",
   "id": "858b97cf",
   "metadata": {},
   "source": [
    "# Pattern Problems"
   ]
  },
  {
   "cell_type": "code",
   "execution_count": null,
   "id": "b8212b3c",
   "metadata": {},
   "outputs": [],
   "source": []
  },
  {
   "cell_type": "markdown",
   "id": "98dbcfc5",
   "metadata": {},
   "source": [
    "#### Quiz 1:\n",
    "Outer loop = ? \\\n",
    "Inner loop = ?"
   ]
  },
  {
   "cell_type": "markdown",
   "id": "4d851102",
   "metadata": {},
   "source": [
    "Outer Loop - i-loop - Rows \\\n",
    "Inner Loop - j-loop - Cols"
   ]
  },
  {
   "cell_type": "code",
   "execution_count": null,
   "id": "17cfae3c",
   "metadata": {},
   "outputs": [],
   "source": []
  },
  {
   "cell_type": "markdown",
   "id": "27dce7d6",
   "metadata": {},
   "source": [
    "### Stair Pattern\n",
    "Given N = 5, print the following pattern\n",
    "```\n",
    "*\n",
    "**\n",
    "***\n",
    "****\n",
    "*****\n",
    "```"
   ]
  },
  {
   "cell_type": "code",
   "execution_count": 5,
   "id": "7393236a",
   "metadata": {},
   "outputs": [
    {
     "name": "stdout",
     "output_type": "stream",
     "text": [
      "*\n",
      "**\n",
      "***\n",
      "****\n",
      "*****\n",
      "******\n"
     ]
    }
   ],
   "source": [
    "N = 6\n",
    "\n",
    "for i in range(1, N+1):\n",
    "#     In each row, we have to print exactly i-stars\n",
    "    for j in range(i):\n",
    "        print(\"*\", end='')\n",
    "#   After printing the stars, we print a new line\n",
    "    print()"
   ]
  },
  {
   "cell_type": "code",
   "execution_count": null,
   "id": "cdee6ebc",
   "metadata": {},
   "outputs": [],
   "source": []
  },
  {
   "cell_type": "code",
   "execution_count": null,
   "id": "0beea5b8",
   "metadata": {},
   "outputs": [],
   "source": []
  },
  {
   "cell_type": "code",
   "execution_count": null,
   "id": "6d14a439",
   "metadata": {},
   "outputs": [],
   "source": []
  },
  {
   "cell_type": "markdown",
   "id": "e72057cc",
   "metadata": {},
   "source": [
    "### Inverted Stair Pattern\n",
    "Given N = 5, print the following pattern\n",
    "```\n",
    "*****\n",
    "****\n",
    "***\n",
    "**\n",
    "*\n",
    "```"
   ]
  },
  {
   "cell_type": "code",
   "execution_count": 10,
   "id": "b7ed4335",
   "metadata": {},
   "outputs": [
    {
     "name": "stdout",
     "output_type": "stream",
     "text": [
      "****\n",
      "***\n",
      "**\n",
      "*\n"
     ]
    }
   ],
   "source": [
    "N = 4\n",
    "for i in range(1, N+1):\n",
    "#     stars = N - i + 1\n",
    "    for j in range(N - i + 1):\n",
    "        print(\"*\", end='')\n",
    "    print()"
   ]
  },
  {
   "cell_type": "code",
   "execution_count": null,
   "id": "3d21e6dc",
   "metadata": {},
   "outputs": [],
   "source": []
  },
  {
   "cell_type": "code",
   "execution_count": null,
   "id": "61cfab19",
   "metadata": {},
   "outputs": [],
   "source": []
  },
  {
   "cell_type": "markdown",
   "id": "6125ff81",
   "metadata": {},
   "source": [
    "#### Quiz 2:\n",
    "**Inverted Stair Pattern:** \\\n",
    "What is the number of stars in each row ? \\\n",
    "Take row numbers as i = 1, 2, 3 ... \\\n",
    "Given N = 5, print the following pattern\n",
    "```\n",
    "*****\n",
    "****\n",
    "***\n",
    "**\n",
    "*\n",
    "```"
   ]
  },
  {
   "cell_type": "code",
   "execution_count": null,
   "id": "d27a10f7",
   "metadata": {},
   "outputs": [],
   "source": []
  },
  {
   "cell_type": "code",
   "execution_count": null,
   "id": "7f324c5a",
   "metadata": {},
   "outputs": [],
   "source": []
  },
  {
   "cell_type": "code",
   "execution_count": null,
   "id": "0e2b4dfd",
   "metadata": {},
   "outputs": [],
   "source": []
  },
  {
   "cell_type": "markdown",
   "id": "2a964d19",
   "metadata": {},
   "source": [
    "### Pattern with Spaces\n",
    "Given N = 5, print the following pattern\n",
    "```\n",
    "*___*\n",
    "*___*\n",
    "*___*\n",
    "*___*\n",
    "*___*\n",
    "```"
   ]
  },
  {
   "cell_type": "code",
   "execution_count": null,
   "id": "e6ba67f9",
   "metadata": {},
   "outputs": [],
   "source": []
  },
  {
   "cell_type": "code",
   "execution_count": null,
   "id": "41cee058",
   "metadata": {},
   "outputs": [],
   "source": []
  },
  {
   "cell_type": "code",
   "execution_count": null,
   "id": "f51efc4e",
   "metadata": {},
   "outputs": [],
   "source": []
  },
  {
   "cell_type": "code",
   "execution_count": null,
   "id": "c5d79044",
   "metadata": {},
   "outputs": [],
   "source": []
  },
  {
   "cell_type": "markdown",
   "id": "1a9bd293",
   "metadata": {},
   "source": [
    "### Mirror Stair Pattern\n",
    "Given N = 5, print the following pattern\n",
    "```\n",
    "    *\n",
    "   **\n",
    "  ***\n",
    " ****\n",
    "*****\n",
    "```"
   ]
  },
  {
   "cell_type": "code",
   "execution_count": 20,
   "id": "99da674f",
   "metadata": {},
   "outputs": [
    {
     "name": "stdout",
     "output_type": "stream",
     "text": [
      "  *\n",
      " **\n",
      "***\n"
     ]
    }
   ],
   "source": [
    "N = 3\n",
    "\n",
    "for i in range(1, N+1):\n",
    "    # Print (N-i) spaces\n",
    "    for j in range(N-i):\n",
    "        print(\" \",end='')\n",
    "    # Print i stars\n",
    "    for j in range(i):\n",
    "        print(\"*\", end='')\n",
    "    # Print a new line after each row\n",
    "    print('')"
   ]
  },
  {
   "cell_type": "code",
   "execution_count": null,
   "id": "1273890c",
   "metadata": {},
   "outputs": [],
   "source": []
  },
  {
   "cell_type": "markdown",
   "id": "9c679b3d",
   "metadata": {},
   "source": [
    "#### Quiz 3\n",
    "**Mirror Stair Pattern:** \\\n",
    "What is the number of spaces at the starting of each row ? \\\n",
    "Take row numbers as i = 1, 2, 3 ... \\\n",
    "Example: N = 5 \n",
    "```\n",
    "    *\n",
    "   **\n",
    "  ***\n",
    " ****\n",
    "*****\n",
    "```"
   ]
  },
  {
   "cell_type": "code",
   "execution_count": null,
   "id": "3b4991ec",
   "metadata": {},
   "outputs": [],
   "source": []
  },
  {
   "cell_type": "code",
   "execution_count": null,
   "id": "bf6f32b6",
   "metadata": {},
   "outputs": [],
   "source": []
  },
  {
   "cell_type": "code",
   "execution_count": null,
   "id": "df2a28b3",
   "metadata": {},
   "outputs": [],
   "source": []
  },
  {
   "cell_type": "code",
   "execution_count": null,
   "id": "f681018a",
   "metadata": {},
   "outputs": [],
   "source": []
  },
  {
   "cell_type": "markdown",
   "id": "2ab8d97b",
   "metadata": {},
   "source": [
    "### Pyramid Pattern\n",
    "For N = 5, print the following pyramid pattern\n",
    "```\n",
    "     *\n",
    "    ***\n",
    "   *****\n",
    "  *******\n",
    " *********\n",
    "```"
   ]
  },
  {
   "cell_type": "code",
   "execution_count": 22,
   "id": "539a992e",
   "metadata": {},
   "outputs": [
    {
     "name": "stdout",
     "output_type": "stream",
     "text": [
      "    *\n",
      "   ***\n",
      "  *****\n",
      " *******\n",
      "*********\n"
     ]
    }
   ],
   "source": [
    "N = 5\n",
    "\n",
    "for i in range(1, N + 1):\n",
    "    # Print (N - i) spaces\n",
    "    for j in range(N - i):\n",
    "        print(\" \", end='')\n",
    "        \n",
    "    # Print (2i - 1) stars\n",
    "    for j in range(2*i - 1):\n",
    "        print(\"*\", end='')\n",
    "        \n",
    "    # Print a new line\n",
    "    print()"
   ]
  },
  {
   "cell_type": "code",
   "execution_count": null,
   "id": "825e3340",
   "metadata": {},
   "outputs": [],
   "source": []
  },
  {
   "cell_type": "markdown",
   "id": "0ffbffc9",
   "metadata": {},
   "source": [
    "#### Quiz 4\n",
    "**Pyramid Pattern:** \\\n",
    "What is the number of stars printing in each row ? \\\n",
    "Take row numbers as i = 1, 2, 3 ... \\\n",
    "Example: N = 5\n",
    "```\n",
    "     *\n",
    "    ***\n",
    "   *****\n",
    "  *******\n",
    " *********\n",
    "```\n"
   ]
  },
  {
   "cell_type": "code",
   "execution_count": null,
   "id": "998df23d",
   "metadata": {},
   "outputs": [],
   "source": []
  },
  {
   "cell_type": "code",
   "execution_count": null,
   "id": "7fef8ef5",
   "metadata": {},
   "outputs": [],
   "source": []
  },
  {
   "cell_type": "code",
   "execution_count": null,
   "id": "533658d7",
   "metadata": {},
   "outputs": [],
   "source": []
  },
  {
   "cell_type": "markdown",
   "id": "6fea9078",
   "metadata": {},
   "source": [
    "### Upper Diamond\n",
    "Given N = 5, print the following pattern\n",
    "```\n",
    "********** // 0 spaces\n",
    "****__**** // 2 spaces\n",
    "***____*** // 4 spaces\n",
    "**______** // 6 spaces\n",
    "*________* // 8 spaces\n",
    "```"
   ]
  },
  {
   "cell_type": "code",
   "execution_count": 25,
   "id": "1a64f077",
   "metadata": {},
   "outputs": [
    {
     "name": "stdout",
     "output_type": "stream",
     "text": [
      "********************\n",
      "*********  *********\n",
      "********    ********\n",
      "*******      *******\n",
      "******        ******\n",
      "*****          *****\n",
      "****            ****\n",
      "***              ***\n",
      "**                **\n",
      "*                  *\n"
     ]
    }
   ],
   "source": [
    "N = 10\n",
    "\n",
    "for i in range(1, N+1):\n",
    "    # 1. Stars : N - i + 1\n",
    "    for j in range(N - i + 1):\n",
    "        print(\"*\", end='')\n",
    "    \n",
    "    # 2. Spaces : 2*i - 2\n",
    "    for j in range(2 * i - 2):\n",
    "        print(\" \", end='')\n",
    "        \n",
    "    # 3. Stars : N - i + 1\n",
    "    for j in range(N - i + 1):\n",
    "        print(\"*\", end='')\n",
    "        \n",
    "    # 4. New line\n",
    "    print()"
   ]
  },
  {
   "cell_type": "code",
   "execution_count": null,
   "id": "9bdffa75",
   "metadata": {},
   "outputs": [],
   "source": []
  },
  {
   "cell_type": "markdown",
   "id": "a31166c6",
   "metadata": {},
   "source": [
    "#### Quiz 5\n",
    "**Upper Diamond Pattern** \\\n",
    "What is the no of spaces in between for each row ?  \\\n",
    "Take row numbers as i = 1, 2, 3 ... \\\n",
    "Example: N = 5\n",
    "```\n",
    "********** // 0 spaces\n",
    "****__**** // 2 spaces\n",
    "***____*** // 4 spaces\n",
    "**______** // 6 spaces\n",
    "*________* // 8 spaces\n",
    "```"
   ]
  },
  {
   "cell_type": "code",
   "execution_count": null,
   "id": "8fb64483",
   "metadata": {},
   "outputs": [],
   "source": []
  },
  {
   "cell_type": "code",
   "execution_count": null,
   "id": "71506563",
   "metadata": {},
   "outputs": [],
   "source": []
  },
  {
   "cell_type": "code",
   "execution_count": null,
   "id": "c7064493",
   "metadata": {},
   "outputs": [],
   "source": []
  },
  {
   "cell_type": "code",
   "execution_count": null,
   "id": "eca54bd0",
   "metadata": {},
   "outputs": [],
   "source": []
  },
  {
   "cell_type": "code",
   "execution_count": null,
   "id": "234bd766",
   "metadata": {},
   "outputs": [],
   "source": []
  },
  {
   "cell_type": "markdown",
   "id": "296a485a",
   "metadata": {},
   "source": [
    "### Lower diamond\n",
    "Given N = 5, print the following pattern\n",
    "```\n",
    "*________* // 8 spaces\n",
    "**______** // 6 spaces\n",
    "***____*** // 4 spaces\n",
    "****__**** // 2 spaces\n",
    "********** // 0 spaces\n",
    "```"
   ]
  },
  {
   "cell_type": "code",
   "execution_count": 31,
   "id": "cb0e6953",
   "metadata": {},
   "outputs": [
    {
     "name": "stdout",
     "output_type": "stream",
     "text": [
      "*                  *\n",
      "**                **\n",
      "***              ***\n",
      "****            ****\n",
      "*****          *****\n",
      "******        ******\n",
      "*******      *******\n",
      "********    ********\n",
      "*********  *********\n",
      "********************\n"
     ]
    }
   ],
   "source": [
    "N = 10\n",
    "\n",
    "\n",
    "for i in range(1, N + 1):\n",
    "    # 1. Stars - i\n",
    "    for j in range(i):\n",
    "        print(\"*\", end='')\n",
    "    \n",
    "    # 2. Spaces - 2N - 2i = 2(N - i)\n",
    "    for j in range(2*N - 2*i):\n",
    "        print(\" \", end='')\n",
    "    \n",
    "    # 3. Stars - i\n",
    "    for j in range(i):\n",
    "        print(\"*\", end='')\n",
    "\n",
    "    # 4. New line\n",
    "    print()"
   ]
  },
  {
   "cell_type": "code",
   "execution_count": null,
   "id": "40081ba9",
   "metadata": {},
   "outputs": [],
   "source": []
  },
  {
   "cell_type": "code",
   "execution_count": null,
   "id": "c714b509",
   "metadata": {},
   "outputs": [],
   "source": []
  },
  {
   "cell_type": "markdown",
   "id": "ebb3f3e0",
   "metadata": {},
   "source": [
    "### Hollow Triangle\n",
    "**N = 6**\n",
    "```\n",
    "******\n",
    "*___*\n",
    "*__*\n",
    "*_*\n",
    "**\n",
    "*\n",
    "```"
   ]
  },
  {
   "cell_type": "code",
   "execution_count": 43,
   "id": "77b8db52",
   "metadata": {},
   "outputs": [
    {
     "name": "stdout",
     "output_type": "stream",
     "text": [
      "********************\n",
      "*                 *\n",
      "*                *\n",
      "*               *\n",
      "*              *\n",
      "*             *\n",
      "*            *\n",
      "*           *\n",
      "*          *\n",
      "*         *\n",
      "*        *\n",
      "*       *\n",
      "*      *\n",
      "*     *\n",
      "*    *\n",
      "*   *\n",
      "*  *\n",
      "* *\n",
      "**\n",
      "*\n"
     ]
    }
   ],
   "source": [
    "N = 20\n",
    "\n",
    "# Pattern 1\n",
    "# range(1, N + 1) is also correct\n",
    "for i in range(N):\n",
    "    print(\"*\", end='')\n",
    "print()\n",
    "\n",
    "# Pattern 2\n",
    "for i in range(1, N - 1):\n",
    "    print(\"*\", end='')\n",
    "    \n",
    "    for j in range(N - i - 2):\n",
    "        print(\" \", end='')\n",
    "        \n",
    "    print(\"*\")\n",
    "    \n",
    "# Pattern 3\n",
    "print(\"*\")"
   ]
  },
  {
   "cell_type": "code",
   "execution_count": null,
   "id": "93bd0758",
   "metadata": {},
   "outputs": [],
   "source": []
  },
  {
   "cell_type": "code",
   "execution_count": null,
   "id": "661123b7",
   "metadata": {},
   "outputs": [],
   "source": []
  },
  {
   "cell_type": "markdown",
   "id": "c37ccbd6",
   "metadata": {},
   "source": [
    "### Pattern 2"
   ]
  },
  {
   "cell_type": "code",
   "execution_count": 38,
   "id": "2cd5abec",
   "metadata": {},
   "outputs": [
    {
     "name": "stdout",
     "output_type": "stream",
     "text": [
      "*   *\n",
      "*  *\n",
      "* *\n",
      "**\n"
     ]
    }
   ],
   "source": [
    "N = 6\n",
    "\n",
    "for i in range(1, N - 1):\n",
    "    print(\"*\", end='')\n",
    "    \n",
    "    for j in range(N - i - 2):\n",
    "        print(\" \", end='')\n",
    "        \n",
    "    print(\"*\")"
   ]
  },
  {
   "cell_type": "code",
   "execution_count": 46,
   "id": "596d290f",
   "metadata": {},
   "outputs": [
    {
     "name": "stdout",
     "output_type": "stream",
     "text": [
      "1\n",
      "1 2\n",
      "1 2 3\n"
     ]
    }
   ],
   "source": [
    "N = 3\n",
    "for i in range(1,N+1):\n",
    "    for j in range(1,i+1):\n",
    "        if j < i: \n",
    "            print(j, end=' ')\n",
    "        else:\n",
    "            print(j, end='')\n",
    "    print()"
   ]
  },
  {
   "cell_type": "code",
   "execution_count": null,
   "id": "2e09f23b",
   "metadata": {},
   "outputs": [],
   "source": []
  },
  {
   "cell_type": "code",
   "execution_count": 58,
   "id": "3de92469",
   "metadata": {},
   "outputs": [
    {
     "name": "stdout",
     "output_type": "stream",
     "text": [
      "1\n",
      "1_2\n",
      "1_2_3\n",
      "1_2_3_4\n",
      "1_2_3_4_5\n"
     ]
    }
   ],
   "source": [
    "N = 5\n",
    "for i in range(1,N+1):\n",
    "    print(1, end='')\n",
    "    for j in range(2,i+1):\n",
    "        print(\"_\", j, sep='', end='')\n",
    "    print()"
   ]
  },
  {
   "cell_type": "code",
   "execution_count": null,
   "id": "ad940aa9",
   "metadata": {},
   "outputs": [],
   "source": []
  }
 ],
 "metadata": {
  "kernelspec": {
   "display_name": "Python 3 (ipykernel)",
   "language": "python",
   "name": "python3"
  },
  "language_info": {
   "codemirror_mode": {
    "name": "ipython",
    "version": 3
   },
   "file_extension": ".py",
   "mimetype": "text/x-python",
   "name": "python",
   "nbconvert_exporter": "python",
   "pygments_lexer": "ipython3",
   "version": "3.9.12"
  }
 },
 "nbformat": 4,
 "nbformat_minor": 5
}
