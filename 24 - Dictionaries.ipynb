{
 "cells": [
  {
   "cell_type": "markdown",
   "id": "380f0204",
   "metadata": {},
   "source": [
    "# Dictionaries\n",
    "![](https://scaler.com/topics/images/dict-in-python.webp)"
   ]
  },
  {
   "cell_type": "markdown",
   "id": "1f7701d0",
   "metadata": {},
   "source": [
    "- They are used to store data in key-value pair format\n",
    "- The keys are always unique\n",
    "- The values may or may not be unique\n",
    "- Dictionaries use **hashing** to store the data"
   ]
  },
  {
   "cell_type": "code",
   "execution_count": 2,
   "id": "ee8a4dbc",
   "metadata": {},
   "outputs": [
    {
     "name": "stdout",
     "output_type": "stream",
     "text": [
      "{} <class 'dict'>\n"
     ]
    }
   ],
   "source": [
    "# d = {}\n",
    "d = dict()\n",
    "print(d, type(d))"
   ]
  },
  {
   "cell_type": "code",
   "execution_count": 3,
   "id": "6d995a2d",
   "metadata": {},
   "outputs": [
    {
     "name": "stdout",
     "output_type": "stream",
     "text": [
      "{'Dal Makhani': 400, 'Dosa': 300, 'Pizza': 500} <class 'dict'>\n"
     ]
    }
   ],
   "source": [
    "menu = {\n",
    "    \"Dal Makhani\": 400,\n",
    "    \"Dosa\": 300,\n",
    "    \"Pizza\": 500,\n",
    "}\n",
    "print(menu, type(menu))"
   ]
  },
  {
   "cell_type": "code",
   "execution_count": null,
   "id": "ffb2cd44",
   "metadata": {},
   "outputs": [],
   "source": []
  },
  {
   "cell_type": "code",
   "execution_count": null,
   "id": "650a7893",
   "metadata": {},
   "outputs": [],
   "source": []
  },
  {
   "cell_type": "code",
   "execution_count": null,
   "id": "38e86aed",
   "metadata": {},
   "outputs": [],
   "source": []
  },
  {
   "cell_type": "code",
   "execution_count": null,
   "id": "6f35aa61",
   "metadata": {},
   "outputs": [],
   "source": []
  },
  {
   "cell_type": "code",
   "execution_count": null,
   "id": "15e572e5",
   "metadata": {},
   "outputs": [],
   "source": []
  },
  {
   "cell_type": "code",
   "execution_count": 4,
   "id": "f3a72a90",
   "metadata": {},
   "outputs": [
    {
     "name": "stdout",
     "output_type": "stream",
     "text": [
      "{5: 'hello', 'ok': 'bye', 8.2: 'random'}\n"
     ]
    }
   ],
   "source": [
    "d = {\n",
    "    5: 'hello',\n",
    "    'ok': 'bye',\n",
    "    8.2: 'random'\n",
    "}\n",
    "print(d)"
   ]
  },
  {
   "cell_type": "code",
   "execution_count": null,
   "id": "6d746970",
   "metadata": {},
   "outputs": [],
   "source": []
  },
  {
   "cell_type": "code",
   "execution_count": null,
   "id": "3a2d5e8d",
   "metadata": {},
   "outputs": [],
   "source": []
  },
  {
   "cell_type": "code",
   "execution_count": null,
   "id": "31a40683",
   "metadata": {},
   "outputs": [],
   "source": []
  },
  {
   "cell_type": "code",
   "execution_count": 7,
   "id": "d927a4ea",
   "metadata": {},
   "outputs": [
    {
     "name": "stdout",
     "output_type": "stream",
     "text": [
      "{'Dal Makhani': 400, 'Dosa': 300, 'Pizza': 500, 90: 5.2} <class 'dict'>\n"
     ]
    }
   ],
   "source": [
    "menu = {\n",
    "    \"Dal Makhani\": 400,\n",
    "    \"Dosa\": 300,\n",
    "    \"Pizza\": 500,\n",
    "    90: 5.2\n",
    "}\n",
    "print(menu, type(menu))"
   ]
  },
  {
   "cell_type": "markdown",
   "id": "021a17d2",
   "metadata": {},
   "source": [
    "### Reading values\n",
    "- square brackets\n",
    "- get()"
   ]
  },
  {
   "cell_type": "code",
   "execution_count": 8,
   "id": "84c27d95",
   "metadata": {},
   "outputs": [
    {
     "data": {
      "text/plain": [
       "500"
      ]
     },
     "execution_count": 8,
     "metadata": {},
     "output_type": "execute_result"
    }
   ],
   "source": [
    "menu[\"Pizza\"]"
   ]
  },
  {
   "cell_type": "code",
   "execution_count": 9,
   "id": "95f5e20d",
   "metadata": {},
   "outputs": [
    {
     "data": {
      "text/plain": [
       "5.2"
      ]
     },
     "execution_count": 9,
     "metadata": {},
     "output_type": "execute_result"
    }
   ],
   "source": [
    "menu[90]"
   ]
  },
  {
   "cell_type": "code",
   "execution_count": 10,
   "id": "0094792a",
   "metadata": {},
   "outputs": [
    {
     "ename": "KeyError",
     "evalue": "'pizza'",
     "output_type": "error",
     "traceback": [
      "\u001b[0;31m---------------------------------------------------------------------------\u001b[0m",
      "\u001b[0;31mKeyError\u001b[0m                                  Traceback (most recent call last)",
      "\u001b[0;32m/var/folders/jn/1bsrct314hv5xmfm7vrcdrzc0000gn/T/ipykernel_16181/3119200081.py\u001b[0m in \u001b[0;36m<module>\u001b[0;34m\u001b[0m\n\u001b[1;32m      5\u001b[0m }\n\u001b[1;32m      6\u001b[0m \u001b[0;31m# If the key is not present\u001b[0m\u001b[0;34m\u001b[0m\u001b[0;34m\u001b[0m\u001b[0m\n\u001b[0;32m----> 7\u001b[0;31m \u001b[0mmenu\u001b[0m\u001b[0;34m[\u001b[0m\u001b[0;34m\"pizza\"\u001b[0m\u001b[0;34m]\u001b[0m\u001b[0;34m\u001b[0m\u001b[0;34m\u001b[0m\u001b[0m\n\u001b[0m",
      "\u001b[0;31mKeyError\u001b[0m: 'pizza'"
     ]
    }
   ],
   "source": [
    "menu = {\n",
    "    \"Dal Makhani\": 400,\n",
    "    \"Dosa\": 300,\n",
    "    \"Pizza\": 500,\n",
    "}\n",
    "# If the key is not present -> Error\n",
    "menu[\"pizza\"]"
   ]
  },
  {
   "cell_type": "code",
   "execution_count": null,
   "id": "273c5123",
   "metadata": {},
   "outputs": [],
   "source": []
  },
  {
   "cell_type": "code",
   "execution_count": 13,
   "id": "a1aa20b6",
   "metadata": {},
   "outputs": [
    {
     "name": "stdout",
     "output_type": "stream",
     "text": [
      "None\n"
     ]
    }
   ],
   "source": [
    "menu = {\n",
    "    \"Dal Makhani\": 400,\n",
    "    \"Dosa\": 300,\n",
    "    \"Pizza\": 500,\n",
    "}\n",
    "# If key is present, it will return its value\n",
    "# If key is not present, it will return the default value = None\n",
    "print(menu.get(\"paneer\"))"
   ]
  },
  {
   "cell_type": "code",
   "execution_count": 14,
   "id": "0bc825d2",
   "metadata": {},
   "outputs": [
    {
     "name": "stdout",
     "output_type": "stream",
     "text": [
      "300\n"
     ]
    }
   ],
   "source": [
    "print(menu.get(\"Dosa\"))"
   ]
  },
  {
   "cell_type": "code",
   "execution_count": null,
   "id": "539d30de",
   "metadata": {},
   "outputs": [],
   "source": [
    "# Get function takes a second argument, the default value\n",
    "print(menu.get(\"paneer\"))"
   ]
  },
  {
   "cell_type": "code",
   "execution_count": null,
   "id": "1a4efbea",
   "metadata": {},
   "outputs": [],
   "source": []
  },
  {
   "cell_type": "markdown",
   "id": "daa774a8",
   "metadata": {},
   "source": [
    "### Challenge\n",
    "If a dish is in the menu, show its price. Otherwise, chef will charge extra for it. Show the price as 5000."
   ]
  },
  {
   "cell_type": "code",
   "execution_count": null,
   "id": "150b2063",
   "metadata": {},
   "outputs": [],
   "source": [
    "menu = {\n",
    "    \"Dal Makhani\": 400,\n",
    "    \"Dosa\": 300,\n",
    "    \"Pizza\": 500,\n",
    "}"
   ]
  },
  {
   "cell_type": "code",
   "execution_count": 19,
   "id": "136ce53a",
   "metadata": {},
   "outputs": [
    {
     "name": "stdout",
     "output_type": "stream",
     "text": [
      "abcd\n",
      "5000\n"
     ]
    }
   ],
   "source": [
    "dish = input()\n",
    "print(menu.get(dish, 5000))\n",
    "# Default value = 5000"
   ]
  },
  {
   "cell_type": "code",
   "execution_count": 20,
   "id": "f69ef68c",
   "metadata": {},
   "outputs": [
    {
     "ename": "KeyError",
     "evalue": "0",
     "output_type": "error",
     "traceback": [
      "\u001b[0;31m---------------------------------------------------------------------------\u001b[0m",
      "\u001b[0;31mKeyError\u001b[0m                                  Traceback (most recent call last)",
      "\u001b[0;32m/var/folders/jn/1bsrct314hv5xmfm7vrcdrzc0000gn/T/ipykernel_16181/2856130819.py\u001b[0m in \u001b[0;36m<module>\u001b[0;34m\u001b[0m\n\u001b[0;32m----> 1\u001b[0;31m \u001b[0mmenu\u001b[0m\u001b[0;34m[\u001b[0m\u001b[0;36m0\u001b[0m\u001b[0;34m]\u001b[0m\u001b[0;34m\u001b[0m\u001b[0;34m\u001b[0m\u001b[0m\n\u001b[0m",
      "\u001b[0;31mKeyError\u001b[0m: 0"
     ]
    }
   ],
   "source": [
    "menu[0]"
   ]
  },
  {
   "cell_type": "code",
   "execution_count": null,
   "id": "9b0d37ab",
   "metadata": {},
   "outputs": [],
   "source": []
  },
  {
   "cell_type": "code",
   "execution_count": null,
   "id": "a7bc9255",
   "metadata": {},
   "outputs": [],
   "source": []
  },
  {
   "cell_type": "markdown",
   "id": "a33270bf",
   "metadata": {},
   "source": [
    "## Updation and Addition\n",
    "- Updating/Adding one entry - using square brackets\n",
    "- Updating/Adding multiple entries - update()"
   ]
  },
  {
   "cell_type": "code",
   "execution_count": 21,
   "id": "137e20c9",
   "metadata": {},
   "outputs": [],
   "source": [
    "avenger = {\n",
    "    \"name\": \"Thor\",\n",
    "    \"age\": 1000,\n",
    "    \"weapons\": ['Mjolnir', 'Stormbreaker']\n",
    "}"
   ]
  },
  {
   "cell_type": "code",
   "execution_count": 23,
   "id": "c4c6bc66",
   "metadata": {},
   "outputs": [],
   "source": [
    "# Update the name to \"Thor Odinson\"\n",
    "avenger['name'] = 'Thor Odinson'"
   ]
  },
  {
   "cell_type": "code",
   "execution_count": 24,
   "id": "d6b24217",
   "metadata": {},
   "outputs": [
    {
     "data": {
      "text/plain": [
       "{'name': 'Thor Odinson', 'age': 1000, 'weapons': ['Mjolnir', 'Stormbreaker']}"
      ]
     },
     "execution_count": 24,
     "metadata": {},
     "output_type": "execute_result"
    }
   ],
   "source": [
    "avenger"
   ]
  },
  {
   "cell_type": "code",
   "execution_count": 25,
   "id": "8ca81f23",
   "metadata": {},
   "outputs": [],
   "source": [
    "# Add a new entry\n",
    "# girlfriend -> Jane Foster\n",
    "avenger[\"girlfriend\"] = \"Jane Foster\""
   ]
  },
  {
   "cell_type": "code",
   "execution_count": 26,
   "id": "72fe650c",
   "metadata": {},
   "outputs": [
    {
     "data": {
      "text/plain": [
       "{'name': 'Thor Odinson',\n",
       " 'age': 1000,\n",
       " 'weapons': ['Mjolnir', 'Stormbreaker'],\n",
       " 'girlfriend': 'Jane Foster'}"
      ]
     },
     "execution_count": 26,
     "metadata": {},
     "output_type": "execute_result"
    }
   ],
   "source": [
    "avenger"
   ]
  },
  {
   "cell_type": "code",
   "execution_count": 28,
   "id": "e42ee576",
   "metadata": {},
   "outputs": [],
   "source": [
    "avenger[\"weapons\"].append(\"Thunder\")"
   ]
  },
  {
   "cell_type": "code",
   "execution_count": 29,
   "id": "e97f220d",
   "metadata": {},
   "outputs": [
    {
     "data": {
      "text/plain": [
       "{'name': 'Thor Odinson',\n",
       " 'age': 1000,\n",
       " 'weapons': ['Mjolnir', 'Stormbreaker', 'Thunder'],\n",
       " 'girlfriend': 'Jane Foster'}"
      ]
     },
     "execution_count": 29,
     "metadata": {},
     "output_type": "execute_result"
    }
   ],
   "source": [
    "avenger"
   ]
  },
  {
   "cell_type": "code",
   "execution_count": null,
   "id": "92281f39",
   "metadata": {},
   "outputs": [],
   "source": []
  },
  {
   "cell_type": "code",
   "execution_count": 32,
   "id": "10eb00df",
   "metadata": {},
   "outputs": [],
   "source": [
    "avenger = {\n",
    "    \"name\": \"Thor\",\n",
    "    \"age\": 1000\n",
    "}"
   ]
  },
  {
   "cell_type": "code",
   "execution_count": 34,
   "id": "59537338",
   "metadata": {},
   "outputs": [],
   "source": [
    "avenger.update({\n",
    "    \"age\": 1100,\n",
    "    \"weapon\": \"Mjolnir\",\n",
    "    \"gf\": \"Jane Foster\",\n",
    "    \"best friend\": \"Heimdall\"\n",
    "})"
   ]
  },
  {
   "cell_type": "code",
   "execution_count": 35,
   "id": "557cd679",
   "metadata": {},
   "outputs": [
    {
     "data": {
      "text/plain": [
       "{'name': 'Thor',\n",
       " 'age': 1100,\n",
       " 'weapon': 'Mjolnir',\n",
       " 'gf': 'Jane Foster',\n",
       " 'best friend': 'Heimdall'}"
      ]
     },
     "execution_count": 35,
     "metadata": {},
     "output_type": "execute_result"
    }
   ],
   "source": [
    "avenger"
   ]
  },
  {
   "cell_type": "code",
   "execution_count": null,
   "id": "8bd86dbd",
   "metadata": {},
   "outputs": [],
   "source": []
  },
  {
   "cell_type": "code",
   "execution_count": 30,
   "id": "fb349b03",
   "metadata": {},
   "outputs": [],
   "source": [
    "person = {\n",
    "    \"name\": \"tarun\",\n",
    "    \"name\": \"luthra\"\n",
    "}"
   ]
  },
  {
   "cell_type": "code",
   "execution_count": 31,
   "id": "0eecac39",
   "metadata": {},
   "outputs": [
    {
     "data": {
      "text/plain": [
       "'luthra'"
      ]
     },
     "execution_count": 31,
     "metadata": {},
     "output_type": "execute_result"
    }
   ],
   "source": [
    "person['name']"
   ]
  },
  {
   "cell_type": "code",
   "execution_count": null,
   "id": "ce980893",
   "metadata": {},
   "outputs": [],
   "source": []
  },
  {
   "cell_type": "code",
   "execution_count": null,
   "id": "8574e84c",
   "metadata": {},
   "outputs": [],
   "source": []
  },
  {
   "cell_type": "markdown",
   "id": "fb5317f9",
   "metadata": {},
   "source": [
    "#### Quiz 1\n",
    "What does the following Python code output?\n",
    "```py\n",
    "words = {\n",
    "\"is\": 2,\n",
    "\"hello\": 3,\n",
    "\"the\": 4\n",
    "}\n",
    "this_count = words[\"this\"]\n",
    "\n",
    "print(this_count)\n",
    "```"
   ]
  },
  {
   "cell_type": "code",
   "execution_count": 36,
   "id": "b35bc310",
   "metadata": {},
   "outputs": [
    {
     "ename": "KeyError",
     "evalue": "'this'",
     "output_type": "error",
     "traceback": [
      "\u001b[0;31m---------------------------------------------------------------------------\u001b[0m",
      "\u001b[0;31mKeyError\u001b[0m                                  Traceback (most recent call last)",
      "\u001b[0;32m/var/folders/jn/1bsrct314hv5xmfm7vrcdrzc0000gn/T/ipykernel_16181/136639288.py\u001b[0m in \u001b[0;36m<module>\u001b[0;34m\u001b[0m\n\u001b[1;32m      4\u001b[0m \u001b[0;34m\"the\"\u001b[0m\u001b[0;34m:\u001b[0m \u001b[0;36m4\u001b[0m\u001b[0;34m\u001b[0m\u001b[0;34m\u001b[0m\u001b[0m\n\u001b[1;32m      5\u001b[0m }\n\u001b[0;32m----> 6\u001b[0;31m \u001b[0mthis_count\u001b[0m \u001b[0;34m=\u001b[0m \u001b[0mwords\u001b[0m\u001b[0;34m[\u001b[0m\u001b[0;34m\"this\"\u001b[0m\u001b[0;34m]\u001b[0m\u001b[0;34m\u001b[0m\u001b[0;34m\u001b[0m\u001b[0m\n\u001b[0m\u001b[1;32m      7\u001b[0m \u001b[0;34m\u001b[0m\u001b[0m\n\u001b[1;32m      8\u001b[0m \u001b[0mprint\u001b[0m\u001b[0;34m(\u001b[0m\u001b[0mthis_count\u001b[0m\u001b[0;34m)\u001b[0m\u001b[0;34m\u001b[0m\u001b[0;34m\u001b[0m\u001b[0m\n",
      "\u001b[0;31mKeyError\u001b[0m: 'this'"
     ]
    }
   ],
   "source": [
    "words = {\n",
    "\"is\": 2,\n",
    "\"hello\": 3,\n",
    "\"the\": 4\n",
    "}\n",
    "this_count = words[\"this\"]\n",
    "\n",
    "print(this_count)"
   ]
  },
  {
   "cell_type": "code",
   "execution_count": null,
   "id": "b45fa922",
   "metadata": {},
   "outputs": [],
   "source": []
  },
  {
   "cell_type": "code",
   "execution_count": null,
   "id": "4a5d10fa",
   "metadata": {},
   "outputs": [],
   "source": []
  },
  {
   "cell_type": "markdown",
   "id": "dafa7cc7",
   "metadata": {},
   "source": [
    "#### Quiz 2\n",
    "What is the output of the following code?\n",
    "```py\n",
    "d = {\"a\": 1, \"b\": 2, \"c\": 3}\n",
    "d['d'] = 55\n",
    "\n",
    "print(d['d'])\n",
    "```"
   ]
  },
  {
   "cell_type": "code",
   "execution_count": 37,
   "id": "51efd294",
   "metadata": {},
   "outputs": [
    {
     "name": "stdout",
     "output_type": "stream",
     "text": [
      "55\n"
     ]
    }
   ],
   "source": [
    "d = {\"a\": 1, \"b\": 2, \"c\": 3}\n",
    "d['d'] = 55\n",
    "\n",
    "print(d['d'])"
   ]
  },
  {
   "cell_type": "code",
   "execution_count": 38,
   "id": "4ceadc6d",
   "metadata": {},
   "outputs": [
    {
     "data": {
      "text/plain": [
       "{'a': 1, 'b': 2, 'c': 3, 'd': 55}"
      ]
     },
     "execution_count": 38,
     "metadata": {},
     "output_type": "execute_result"
    }
   ],
   "source": [
    "d"
   ]
  },
  {
   "cell_type": "code",
   "execution_count": null,
   "id": "713b1190",
   "metadata": {},
   "outputs": [],
   "source": []
  },
  {
   "cell_type": "code",
   "execution_count": null,
   "id": "908f0a14",
   "metadata": {},
   "outputs": [],
   "source": []
  },
  {
   "cell_type": "markdown",
   "id": "274813bf",
   "metadata": {},
   "source": [
    "### Are Dictionaries ordered ? \n",
    "Yes and No.\n",
    "- In Python 3.7 and above -> Ordered Dictionaries (It will remember the order of insertion)\n",
    "- In Python 3.6 or below -> Unordered Dictionaries"
   ]
  },
  {
   "cell_type": "code",
   "execution_count": 41,
   "id": "10f255e1",
   "metadata": {},
   "outputs": [
    {
     "name": "stdout",
     "output_type": "stream",
     "text": [
      "{1: 'A', 2: 'B', 3: 'C', 6: 'F', 4: 'D', 5: 'E'}\n"
     ]
    }
   ],
   "source": [
    "d = {\n",
    "    1: \"A\",\n",
    "    2: \"B\",\n",
    "    3: \"C\",\n",
    "    6: \"F\",\n",
    "    4: \"D\",\n",
    "    5: \"E\"\n",
    "}\n",
    "print(d)"
   ]
  },
  {
   "cell_type": "code",
   "execution_count": null,
   "id": "05406caf",
   "metadata": {},
   "outputs": [],
   "source": []
  },
  {
   "cell_type": "code",
   "execution_count": null,
   "id": "3293c4c5",
   "metadata": {},
   "outputs": [],
   "source": []
  },
  {
   "cell_type": "code",
   "execution_count": null,
   "id": "c3625034",
   "metadata": {},
   "outputs": [],
   "source": []
  },
  {
   "cell_type": "markdown",
   "id": "36b0ce44",
   "metadata": {},
   "source": [
    "#### Quiz 3\n",
    "What is the output of the following code?\n",
    "```py\n",
    "d = {\"a\": 1, \"b\": 2, \"c\": 3}\n",
    "print(d.get(\"a\", 0))\n",
    "print(d.get(\"b\", 0))\n",
    "print(d.get(\"c\", 0))\n",
    "print(d.get(\"d\", 0))\n",
    "```"
   ]
  },
  {
   "cell_type": "code",
   "execution_count": 1,
   "id": "dc30ff41",
   "metadata": {},
   "outputs": [
    {
     "name": "stdout",
     "output_type": "stream",
     "text": [
      "1\n",
      "2\n",
      "3\n",
      "0\n"
     ]
    }
   ],
   "source": [
    "d = {\"a\": 1, \"b\": 2, \"c\": 3}\n",
    "print(d.get(\"a\", 0)) # 1\n",
    "print(d.get(\"b\", 0)) # 2\n",
    "print(d.get(\"c\", 0)) # 3\n",
    "print(d.get(\"d\", 0)) # default value  = 0"
   ]
  },
  {
   "cell_type": "code",
   "execution_count": null,
   "id": "da92951c",
   "metadata": {},
   "outputs": [],
   "source": []
  },
  {
   "cell_type": "code",
   "execution_count": null,
   "id": "956aeb3d",
   "metadata": {},
   "outputs": [],
   "source": []
  },
  {
   "cell_type": "code",
   "execution_count": 2,
   "id": "bbb4b802",
   "metadata": {},
   "outputs": [
    {
     "ename": "SyntaxError",
     "evalue": "invalid syntax (3377523793.py, line 1)",
     "output_type": "error",
     "traceback": [
      "\u001b[0;36m  File \u001b[0;32m\"/var/folders/jn/1bsrct314hv5xmfm7vrcdrzc0000gn/T/ipykernel_16461/3377523793.py\"\u001b[0;36m, line \u001b[0;32m1\u001b[0m\n\u001b[0;31m    You don't have to remember.\u001b[0m\n\u001b[0m        ^\u001b[0m\n\u001b[0;31mSyntaxError\u001b[0m\u001b[0;31m:\u001b[0m invalid syntax\n"
     ]
    }
   ],
   "source": [
    "You don't have to remember.\n",
    "- dir()\n",
    "- help()\n",
    "- Google"
   ]
  },
  {
   "cell_type": "code",
   "execution_count": 3,
   "id": "257d695d",
   "metadata": {},
   "outputs": [
    {
     "name": "stdout",
     "output_type": "stream",
     "text": [
      "Help on built-in function print in module builtins:\n",
      "\n",
      "print(...)\n",
      "    print(value, ..., sep=' ', end='\\n', file=sys.stdout, flush=False)\n",
      "    \n",
      "    Prints the values to a stream, or to sys.stdout by default.\n",
      "    Optional keyword arguments:\n",
      "    file:  a file-like object (stream); defaults to the current sys.stdout.\n",
      "    sep:   string inserted between values, default a space.\n",
      "    end:   string appended after the last value, default a newline.\n",
      "    flush: whether to forcibly flush the stream.\n",
      "\n"
     ]
    }
   ],
   "source": [
    "help(print)"
   ]
  },
  {
   "cell_type": "code",
   "execution_count": 4,
   "id": "c4c9fc9f",
   "metadata": {},
   "outputs": [
    {
     "data": {
      "text/plain": [
       "['__class__',\n",
       " '__class_getitem__',\n",
       " '__contains__',\n",
       " '__delattr__',\n",
       " '__delitem__',\n",
       " '__dir__',\n",
       " '__doc__',\n",
       " '__eq__',\n",
       " '__format__',\n",
       " '__ge__',\n",
       " '__getattribute__',\n",
       " '__getitem__',\n",
       " '__gt__',\n",
       " '__hash__',\n",
       " '__init__',\n",
       " '__init_subclass__',\n",
       " '__ior__',\n",
       " '__iter__',\n",
       " '__le__',\n",
       " '__len__',\n",
       " '__lt__',\n",
       " '__ne__',\n",
       " '__new__',\n",
       " '__or__',\n",
       " '__reduce__',\n",
       " '__reduce_ex__',\n",
       " '__repr__',\n",
       " '__reversed__',\n",
       " '__ror__',\n",
       " '__setattr__',\n",
       " '__setitem__',\n",
       " '__sizeof__',\n",
       " '__str__',\n",
       " '__subclasshook__',\n",
       " 'clear',\n",
       " 'copy',\n",
       " 'fromkeys',\n",
       " 'get',\n",
       " 'items',\n",
       " 'keys',\n",
       " 'pop',\n",
       " 'popitem',\n",
       " 'setdefault',\n",
       " 'update',\n",
       " 'values']"
      ]
     },
     "execution_count": 4,
     "metadata": {},
     "output_type": "execute_result"
    }
   ],
   "source": [
    "dir(dict)"
   ]
  },
  {
   "cell_type": "code",
   "execution_count": null,
   "id": "b9a31aa7",
   "metadata": {},
   "outputs": [],
   "source": []
  },
  {
   "cell_type": "code",
   "execution_count": null,
   "id": "bdc754bf",
   "metadata": {},
   "outputs": [],
   "source": []
  },
  {
   "cell_type": "code",
   "execution_count": null,
   "id": "d3d74ef6",
   "metadata": {},
   "outputs": [],
   "source": []
  },
  {
   "cell_type": "code",
   "execution_count": null,
   "id": "d60348d0",
   "metadata": {},
   "outputs": [],
   "source": []
  },
  {
   "cell_type": "markdown",
   "id": "6919262f",
   "metadata": {},
   "source": [
    "## Removing entries\n",
    "- pop()\n",
    "- del"
   ]
  },
  {
   "cell_type": "code",
   "execution_count": 16,
   "id": "6e811714",
   "metadata": {},
   "outputs": [],
   "source": [
    "menu = {\n",
    "    \"Dal Makhani\": 400,\n",
    "    \"Dosa\": 300,\n",
    "    \"Pizza\": 200,\n",
    "}"
   ]
  },
  {
   "cell_type": "code",
   "execution_count": 6,
   "id": "faa64321",
   "metadata": {},
   "outputs": [],
   "source": [
    "# Your Italian Chef is leaving the restaurant. How to remove Pizza from your menu ? "
   ]
  },
  {
   "cell_type": "code",
   "execution_count": 12,
   "id": "0924d3b4",
   "metadata": {},
   "outputs": [
    {
     "name": "stdout",
     "output_type": "stream",
     "text": [
      "Price of pizza was 200\n"
     ]
    }
   ],
   "source": [
    "pizzaPrice = menu.pop(\"Pizza\")\n",
    "print(\"Price of pizza was\", pizzaPrice)"
   ]
  },
  {
   "cell_type": "code",
   "execution_count": 8,
   "id": "eda608a2",
   "metadata": {},
   "outputs": [
    {
     "data": {
      "text/plain": [
       "{'Dal Makhani': 400, 'Dosa': 300}"
      ]
     },
     "execution_count": 8,
     "metadata": {},
     "output_type": "execute_result"
    }
   ],
   "source": [
    "menu"
   ]
  },
  {
   "cell_type": "code",
   "execution_count": 17,
   "id": "d9833003",
   "metadata": {},
   "outputs": [
    {
     "ename": "KeyError",
     "evalue": "'Pasta'",
     "output_type": "error",
     "traceback": [
      "\u001b[0;31m---------------------------------------------------------------------------\u001b[0m",
      "\u001b[0;31mKeyError\u001b[0m                                  Traceback (most recent call last)",
      "\u001b[0;32m/var/folders/jn/1bsrct314hv5xmfm7vrcdrzc0000gn/T/ipykernel_16461/894221343.py\u001b[0m in \u001b[0;36m<module>\u001b[0;34m\u001b[0m\n\u001b[0;32m----> 1\u001b[0;31m \u001b[0mmenu\u001b[0m\u001b[0;34m.\u001b[0m\u001b[0mpop\u001b[0m\u001b[0;34m(\u001b[0m\u001b[0;34m\"Pasta\"\u001b[0m\u001b[0;34m)\u001b[0m\u001b[0;34m\u001b[0m\u001b[0;34m\u001b[0m\u001b[0m\n\u001b[0m",
      "\u001b[0;31mKeyError\u001b[0m: 'Pasta'"
     ]
    }
   ],
   "source": [
    "menu.pop(\"Pasta\")"
   ]
  },
  {
   "cell_type": "code",
   "execution_count": null,
   "id": "42af5d47",
   "metadata": {},
   "outputs": [],
   "source": []
  },
  {
   "cell_type": "code",
   "execution_count": null,
   "id": "1e528026",
   "metadata": {},
   "outputs": [],
   "source": []
  },
  {
   "cell_type": "code",
   "execution_count": null,
   "id": "b336a5a2",
   "metadata": {},
   "outputs": [],
   "source": []
  },
  {
   "cell_type": "code",
   "execution_count": 13,
   "id": "67d1cc32",
   "metadata": {},
   "outputs": [],
   "source": [
    "menu = {\n",
    "    \"Dal Makhani\": 400,\n",
    "    \"Dosa\": 300,\n",
    "    \"Pizza\": 200,\n",
    "}\n",
    "del menu['Pizza']"
   ]
  },
  {
   "cell_type": "code",
   "execution_count": 14,
   "id": "f117b925",
   "metadata": {},
   "outputs": [
    {
     "data": {
      "text/plain": [
       "{'Dal Makhani': 400, 'Dosa': 300}"
      ]
     },
     "execution_count": 14,
     "metadata": {},
     "output_type": "execute_result"
    }
   ],
   "source": [
    "menu"
   ]
  },
  {
   "cell_type": "code",
   "execution_count": null,
   "id": "84bed6b7",
   "metadata": {},
   "outputs": [],
   "source": []
  },
  {
   "cell_type": "code",
   "execution_count": 15,
   "id": "ab2360c2",
   "metadata": {},
   "outputs": [
    {
     "ename": "KeyError",
     "evalue": "'Pasta'",
     "output_type": "error",
     "traceback": [
      "\u001b[0;31m---------------------------------------------------------------------------\u001b[0m",
      "\u001b[0;31mKeyError\u001b[0m                                  Traceback (most recent call last)",
      "\u001b[0;32m/var/folders/jn/1bsrct314hv5xmfm7vrcdrzc0000gn/T/ipykernel_16461/3195564208.py\u001b[0m in \u001b[0;36m<module>\u001b[0;34m\u001b[0m\n\u001b[0;32m----> 1\u001b[0;31m \u001b[0;32mdel\u001b[0m \u001b[0mmenu\u001b[0m\u001b[0;34m[\u001b[0m\u001b[0;34m'Pasta'\u001b[0m\u001b[0;34m]\u001b[0m\u001b[0;34m\u001b[0m\u001b[0;34m\u001b[0m\u001b[0m\n\u001b[0m",
      "\u001b[0;31mKeyError\u001b[0m: 'Pasta'"
     ]
    }
   ],
   "source": [
    "del menu['Pasta']"
   ]
  },
  {
   "cell_type": "code",
   "execution_count": null,
   "id": "5656b7ef",
   "metadata": {},
   "outputs": [],
   "source": []
  },
  {
   "cell_type": "code",
   "execution_count": null,
   "id": "ac65da43",
   "metadata": {},
   "outputs": [],
   "source": []
  },
  {
   "cell_type": "code",
   "execution_count": null,
   "id": "6c13dc0a",
   "metadata": {},
   "outputs": [],
   "source": []
  },
  {
   "cell_type": "code",
   "execution_count": null,
   "id": "98d98091",
   "metadata": {},
   "outputs": [],
   "source": []
  },
  {
   "cell_type": "markdown",
   "id": "df68466e",
   "metadata": {},
   "source": [
    "## keys() and values()"
   ]
  },
  {
   "cell_type": "code",
   "execution_count": 18,
   "id": "0dd3f08a",
   "metadata": {},
   "outputs": [],
   "source": [
    "avenger = {\n",
    "    'name': 'Thor',\n",
    "    'age': 1100,\n",
    "    'weapon': 'Mjolnir',\n",
    "    'gf': 'Jane Foster',\n",
    "    'best friend': 'Heimdall'\n",
    "}"
   ]
  },
  {
   "cell_type": "code",
   "execution_count": 21,
   "id": "2ac5d168",
   "metadata": {},
   "outputs": [
    {
     "name": "stdout",
     "output_type": "stream",
     "text": [
      "dict_keys(['name', 'age', 'weapon', 'gf', 'best friend']) <class 'dict_keys'>\n"
     ]
    }
   ],
   "source": [
    "k = avenger.keys()\n",
    "print(k, type(k))"
   ]
  },
  {
   "cell_type": "code",
   "execution_count": 20,
   "id": "565ac146",
   "metadata": {},
   "outputs": [
    {
     "name": "stdout",
     "output_type": "stream",
     "text": [
      "name age weapon gf best friend "
     ]
    }
   ],
   "source": [
    "for x in k:\n",
    "    print(x, end=' ')"
   ]
  },
  {
   "cell_type": "code",
   "execution_count": null,
   "id": "8ca24ef2",
   "metadata": {},
   "outputs": [],
   "source": []
  },
  {
   "cell_type": "code",
   "execution_count": null,
   "id": "fc6b2bee",
   "metadata": {},
   "outputs": [],
   "source": []
  },
  {
   "cell_type": "code",
   "execution_count": 22,
   "id": "006995c8",
   "metadata": {},
   "outputs": [
    {
     "name": "stdout",
     "output_type": "stream",
     "text": [
      "dict_values(['Thor', 1100, 'Mjolnir', 'Jane Foster', 'Heimdall']) <class 'dict_values'>\n"
     ]
    }
   ],
   "source": [
    "v = avenger.values()\n",
    "print(v, type(v))"
   ]
  },
  {
   "cell_type": "code",
   "execution_count": 23,
   "id": "c17e5fee",
   "metadata": {},
   "outputs": [
    {
     "name": "stdout",
     "output_type": "stream",
     "text": [
      "Thor 1100 Mjolnir Jane Foster Heimdall "
     ]
    }
   ],
   "source": [
    "for x in v:\n",
    "    print(x, end=' ')"
   ]
  },
  {
   "cell_type": "code",
   "execution_count": null,
   "id": "17a80562",
   "metadata": {},
   "outputs": [],
   "source": []
  },
  {
   "cell_type": "code",
   "execution_count": null,
   "id": "f1d8748f",
   "metadata": {},
   "outputs": [],
   "source": []
  },
  {
   "cell_type": "code",
   "execution_count": 25,
   "id": "94813409",
   "metadata": {},
   "outputs": [
    {
     "name": "stdout",
     "output_type": "stream",
     "text": [
      "name\n",
      "age\n",
      "weapon\n",
      "gf\n",
      "best friend\n"
     ]
    }
   ],
   "source": [
    "avenger = {\n",
    "    'name': 'Thor',\n",
    "    'age': 1100,\n",
    "    'weapon': 'Mjolnir',\n",
    "    'gf': 'Jane Foster',\n",
    "    'best friend': 'Heimdall'\n",
    "}\n",
    "\n",
    "# By default, when you try to iterate over a dictionary, you get the keys\n",
    "for k in avenger:\n",
    "    print(k)"
   ]
  },
  {
   "cell_type": "code",
   "execution_count": null,
   "id": "8fac8532",
   "metadata": {},
   "outputs": [],
   "source": []
  },
  {
   "cell_type": "code",
   "execution_count": 26,
   "id": "f5448b3b",
   "metadata": {},
   "outputs": [
    {
     "name": "stdout",
     "output_type": "stream",
     "text": [
      "name -> Thor\n",
      "age -> 1100\n",
      "weapon -> Mjolnir\n",
      "gf -> Jane Foster\n",
      "best friend -> Heimdall\n"
     ]
    }
   ],
   "source": [
    "for k in avenger:\n",
    "    print(k, \"->\", avenger[k])"
   ]
  },
  {
   "cell_type": "code",
   "execution_count": null,
   "id": "da353e44",
   "metadata": {},
   "outputs": [],
   "source": []
  },
  {
   "cell_type": "code",
   "execution_count": null,
   "id": "bf0190ea",
   "metadata": {},
   "outputs": [],
   "source": []
  },
  {
   "cell_type": "code",
   "execution_count": null,
   "id": "ad7979ed",
   "metadata": {},
   "outputs": [],
   "source": []
  },
  {
   "cell_type": "markdown",
   "id": "0a92a43f",
   "metadata": {},
   "source": [
    "#### Quiz 4\n",
    "```py\n",
    "a = {1: 1, 2: 4, 3: 9}\n",
    "\n",
    "for x in a:\n",
    "  print(a[x], end=' ')\n",
    "```"
   ]
  },
  {
   "cell_type": "code",
   "execution_count": 28,
   "id": "cfea449d",
   "metadata": {},
   "outputs": [
    {
     "name": "stdout",
     "output_type": "stream",
     "text": [
      "1 4 9 "
     ]
    }
   ],
   "source": [
    "a = {1: 1, 2: 4, 3: 9}\n",
    "\n",
    "for x in a:\n",
    "    print(a[x], end=' ')\n",
    "    \n",
    "# x -> 1, 2, 3\n",
    "# print(a[x]) -> a[1], a[2], a[3] -> 1, 4, 9"
   ]
  },
  {
   "cell_type": "code",
   "execution_count": null,
   "id": "59d5bc53",
   "metadata": {},
   "outputs": [],
   "source": []
  },
  {
   "cell_type": "code",
   "execution_count": null,
   "id": "4ff6dd06",
   "metadata": {},
   "outputs": [],
   "source": []
  },
  {
   "cell_type": "code",
   "execution_count": null,
   "id": "065027ec",
   "metadata": {},
   "outputs": [],
   "source": []
  },
  {
   "cell_type": "code",
   "execution_count": 29,
   "id": "82a5cc78",
   "metadata": {},
   "outputs": [],
   "source": [
    "avenger = {\n",
    "    'name': 'Thor',\n",
    "    'age': 1100,\n",
    "    'weapon': 'Mjolnir',\n",
    "    'gf': 'Jane Foster',\n",
    "    'best friend': 'Heimdall'\n",
    "}"
   ]
  },
  {
   "cell_type": "code",
   "execution_count": 30,
   "id": "89db0568",
   "metadata": {},
   "outputs": [
    {
     "data": {
      "text/plain": [
       "dict_items([('name', 'Thor'), ('age', 1100), ('weapon', 'Mjolnir'), ('gf', 'Jane Foster'), ('best friend', 'Heimdall')])"
      ]
     },
     "execution_count": 30,
     "metadata": {},
     "output_type": "execute_result"
    }
   ],
   "source": [
    "avenger.items()\n",
    "# This gives you the key-value pairs"
   ]
  },
  {
   "cell_type": "code",
   "execution_count": 31,
   "id": "43b0a084",
   "metadata": {},
   "outputs": [
    {
     "name": "stdout",
     "output_type": "stream",
     "text": [
      "Key =  name\n",
      "Value =  Thor\n",
      "\n",
      "Key =  age\n",
      "Value =  1100\n",
      "\n",
      "Key =  weapon\n",
      "Value =  Mjolnir\n",
      "\n",
      "Key =  gf\n",
      "Value =  Jane Foster\n",
      "\n",
      "Key =  best friend\n",
      "Value =  Heimdall\n",
      "\n"
     ]
    }
   ],
   "source": [
    "for k,v in avenger.items():\n",
    "    print(\"Key = \", k)\n",
    "    print(\"Value = \", v)\n",
    "    print()"
   ]
  },
  {
   "cell_type": "code",
   "execution_count": null,
   "id": "da92915c",
   "metadata": {},
   "outputs": [],
   "source": []
  },
  {
   "cell_type": "code",
   "execution_count": null,
   "id": "8b4b99f4",
   "metadata": {},
   "outputs": [],
   "source": []
  },
  {
   "cell_type": "markdown",
   "id": "83c23a65",
   "metadata": {},
   "source": [
    "### How to check if a key is present in a dictionary ? "
   ]
  },
  {
   "cell_type": "code",
   "execution_count": 36,
   "id": "8197d15d",
   "metadata": {},
   "outputs": [],
   "source": [
    "menu = {\n",
    "    \"Dal Makhani\": 500,\n",
    "    \"Dosa\": 300,\n",
    "    \"Pizza\": 400,\n",
    "    \"Pasta\": 350\n",
    "}"
   ]
  },
  {
   "cell_type": "code",
   "execution_count": 33,
   "id": "9ded1f7b",
   "metadata": {},
   "outputs": [
    {
     "data": {
      "text/plain": [
       "False"
      ]
     },
     "execution_count": 33,
     "metadata": {},
     "output_type": "execute_result"
    }
   ],
   "source": [
    "\"Pasta\" in menu"
   ]
  },
  {
   "cell_type": "code",
   "execution_count": 34,
   "id": "b86b59fb",
   "metadata": {},
   "outputs": [
    {
     "data": {
      "text/plain": [
       "True"
      ]
     },
     "execution_count": 34,
     "metadata": {},
     "output_type": "execute_result"
    }
   ],
   "source": [
    "\"Dosa\" in menu"
   ]
  },
  {
   "cell_type": "code",
   "execution_count": 37,
   "id": "70fbd5c8",
   "metadata": {},
   "outputs": [
    {
     "name": "stdout",
     "output_type": "stream",
     "text": [
      "Mamamia\n"
     ]
    }
   ],
   "source": [
    "if \"Pasta\" in menu:\n",
    "    print(\"Mamamia\")"
   ]
  },
  {
   "cell_type": "code",
   "execution_count": null,
   "id": "c3604689",
   "metadata": {},
   "outputs": [],
   "source": []
  },
  {
   "cell_type": "code",
   "execution_count": null,
   "id": "b2961f8a",
   "metadata": {},
   "outputs": [],
   "source": []
  },
  {
   "cell_type": "markdown",
   "id": "e7869812",
   "metadata": {},
   "source": [
    "#### Frequency Map\n",
    "Given a list of numbers, print the frequencies of all unique values in it (in any order)\n",
    "\n",
    "\n",
    "Input:\n",
    "```\n",
    "[5, 5, 2, 5, 2, 6, 1, 3]\n",
    "```\n",
    "\n",
    "Output:\n",
    "```\n",
    "5 -> 3\n",
    "2 -> 2\n",
    "6 -> 1\n",
    "1 -> 1\n",
    "3 -> 1\n",
    "(Order does not matter)\n",
    "```"
   ]
  },
  {
   "cell_type": "code",
   "execution_count": 40,
   "id": "7f8bed3e",
   "metadata": {},
   "outputs": [
    {
     "name": "stdout",
     "output_type": "stream",
     "text": [
      "{5: 3, 2: 2, 6: 3, 1: 11, 3: 2}\n"
     ]
    }
   ],
   "source": [
    "a = [5, 5, 2, 5, 2, 6, 1, 3, 6, 6, 3, 1, 1, 1, 1, 1, 1, 1,1 ,1, 1]\n",
    "\n",
    "freq = {}\n",
    "\n",
    "for x in a:\n",
    "    if x in freq:\n",
    "        # If the key is present in my frequency map\n",
    "        # Update its frequency\n",
    "        freq[x] += 1\n",
    "    else:\n",
    "        # If the key is not present in the frequency map\n",
    "        # Add a new entry for it with initial frequency of  1\n",
    "        freq[x] = 1\n",
    "        \n",
    "print(freq)"
   ]
  },
  {
   "cell_type": "code",
   "execution_count": null,
   "id": "d119d34f",
   "metadata": {},
   "outputs": [],
   "source": []
  },
  {
   "cell_type": "code",
   "execution_count": null,
   "id": "dd48a688",
   "metadata": {},
   "outputs": [],
   "source": []
  },
  {
   "cell_type": "code",
   "execution_count": null,
   "id": "a0732b81",
   "metadata": {},
   "outputs": [],
   "source": []
  },
  {
   "cell_type": "code",
   "execution_count": null,
   "id": "f0ef58cf",
   "metadata": {},
   "outputs": [],
   "source": []
  },
  {
   "cell_type": "code",
   "execution_count": null,
   "id": "a97a1d93",
   "metadata": {},
   "outputs": [],
   "source": []
  },
  {
   "cell_type": "code",
   "execution_count": null,
   "id": "442207f3",
   "metadata": {},
   "outputs": [],
   "source": []
  },
  {
   "cell_type": "code",
   "execution_count": null,
   "id": "4f57a135",
   "metadata": {},
   "outputs": [],
   "source": []
  },
  {
   "cell_type": "code",
   "execution_count": null,
   "id": "34a0c4c4",
   "metadata": {},
   "outputs": [],
   "source": []
  },
  {
   "cell_type": "code",
   "execution_count": null,
   "id": "781749e8",
   "metadata": {},
   "outputs": [],
   "source": []
  },
  {
   "cell_type": "markdown",
   "id": "36020bd9",
   "metadata": {},
   "source": [
    "# Bonus Reading Material\n",
    "- Dictionary in Python - https://www.scaler.com/topics/python/dictionary-in-python/\n",
    "- dict() in Python - https://www.scaler.com/topics/dict-in-python/\n",
    "- What is Dictionary in Python? - https://www.scaler.com/topics/what-is-dictionary-in-python/\n",
    "- Python Dictionary values() - https://www.scaler.com/topics/python-dictionary-values/\n",
    "- Python Dictionary Keys() Method - https://www.scaler.com/topics/python-dictionary-keys/\n",
    "- What is Ordered Dictionary Python in Python? - https://www.scaler.com/topics/ordered-dictionary-python/\n",
    "- What is Nested Dictionary in Python? - https://www.scaler.com/topics/nested-dictionary-in-python/\n",
    "- Sort Dictionary by Value in Python - https://www.scaler.com/topics/sort-dictionary-by-value-in-python/\n",
    "- fromkeys() in Python - https://www.scaler.com/topics/fromkeys-in-python/\n",
    "- How to Convert a List to Dictionary in Python? - https://www.scaler.com/topics/list-to-dictionary-python/\n",
    "- List of Dictionaries in Python - https://www.scaler.com/topics/list-of-dictionaries-in-python/\n",
    "- What is the Difference Between List and Dictionary in Python? - https://www.scaler.com/topics/difference-between-list-and-dictionary-in-python/\n",
    "- Differences between List, Tuple, Set and Dictionary in Python - https://www.scaler.com/topics/python/difference-between-dictionary-list-tuple-and-set-in-python/"
   ]
  },
  {
   "cell_type": "code",
   "execution_count": null,
   "id": "d2f1de6f",
   "metadata": {},
   "outputs": [],
   "source": []
  },
  {
   "cell_type": "code",
   "execution_count": null,
   "id": "e38627ea",
   "metadata": {},
   "outputs": [],
   "source": []
  },
  {
   "cell_type": "code",
   "execution_count": null,
   "id": "3f9a3553",
   "metadata": {},
   "outputs": [],
   "source": []
  },
  {
   "cell_type": "markdown",
   "id": "801a011b",
   "metadata": {},
   "source": [
    "# Doubts"
   ]
  },
  {
   "cell_type": "code",
   "execution_count": 41,
   "id": "6ba20c4b",
   "metadata": {},
   "outputs": [
    {
     "ename": "NameError",
     "evalue": "name 'i' is not defined",
     "output_type": "error",
     "traceback": [
      "\u001b[0;31m---------------------------------------------------------------------------\u001b[0m",
      "\u001b[0;31mNameError\u001b[0m                                 Traceback (most recent call last)",
      "\u001b[0;32m/var/folders/jn/1bsrct314hv5xmfm7vrcdrzc0000gn/T/ipykernel_16461/1603766563.py\u001b[0m in \u001b[0;36m<module>\u001b[0;34m\u001b[0m\n\u001b[1;32m      1\u001b[0m \u001b[0mls\u001b[0m\u001b[0;34m=\u001b[0m\u001b[0;34m[\u001b[0m\u001b[0;36m1\u001b[0m\u001b[0;34m,\u001b[0m\u001b[0;36m2\u001b[0m\u001b[0;34m,\u001b[0m\u001b[0;36m3\u001b[0m\u001b[0;34m]\u001b[0m\u001b[0;34m\u001b[0m\u001b[0;34m\u001b[0m\u001b[0m\n\u001b[0;32m----> 2\u001b[0;31m \u001b[0mls\u001b[0m \u001b[0;34m=\u001b[0m \u001b[0;34m[\u001b[0m\u001b[0mls\u001b[0m\u001b[0;34m[\u001b[0m\u001b[0mj\u001b[0m\u001b[0;34m]\u001b[0m \u001b[0;32mfor\u001b[0m \u001b[0mj\u001b[0m \u001b[0;32min\u001b[0m \u001b[0mrange\u001b[0m\u001b[0;34m(\u001b[0m\u001b[0mlen\u001b[0m\u001b[0;34m(\u001b[0m\u001b[0mls\u001b[0m\u001b[0;34m)\u001b[0m\u001b[0;34m)\u001b[0m \u001b[0;32mif\u001b[0m \u001b[0;34m(\u001b[0m\u001b[0mj\u001b[0m\u001b[0;34m!=\u001b[0m\u001b[0mi\u001b[0m\u001b[0;34m)\u001b[0m\u001b[0;34m]\u001b[0m\u001b[0;34m\u001b[0m\u001b[0;34m\u001b[0m\u001b[0m\n\u001b[0m",
      "\u001b[0;32m/var/folders/jn/1bsrct314hv5xmfm7vrcdrzc0000gn/T/ipykernel_16461/1603766563.py\u001b[0m in \u001b[0;36m<listcomp>\u001b[0;34m(.0)\u001b[0m\n\u001b[1;32m      1\u001b[0m \u001b[0mls\u001b[0m\u001b[0;34m=\u001b[0m\u001b[0;34m[\u001b[0m\u001b[0;36m1\u001b[0m\u001b[0;34m,\u001b[0m\u001b[0;36m2\u001b[0m\u001b[0;34m,\u001b[0m\u001b[0;36m3\u001b[0m\u001b[0;34m]\u001b[0m\u001b[0;34m\u001b[0m\u001b[0;34m\u001b[0m\u001b[0m\n\u001b[0;32m----> 2\u001b[0;31m \u001b[0mls\u001b[0m \u001b[0;34m=\u001b[0m \u001b[0;34m[\u001b[0m\u001b[0mls\u001b[0m\u001b[0;34m[\u001b[0m\u001b[0mj\u001b[0m\u001b[0;34m]\u001b[0m \u001b[0;32mfor\u001b[0m \u001b[0mj\u001b[0m \u001b[0;32min\u001b[0m \u001b[0mrange\u001b[0m\u001b[0;34m(\u001b[0m\u001b[0mlen\u001b[0m\u001b[0;34m(\u001b[0m\u001b[0mls\u001b[0m\u001b[0;34m)\u001b[0m\u001b[0;34m)\u001b[0m \u001b[0;32mif\u001b[0m \u001b[0;34m(\u001b[0m\u001b[0mj\u001b[0m\u001b[0;34m!=\u001b[0m\u001b[0mi\u001b[0m\u001b[0;34m)\u001b[0m\u001b[0;34m]\u001b[0m\u001b[0;34m\u001b[0m\u001b[0;34m\u001b[0m\u001b[0m\n\u001b[0m",
      "\u001b[0;31mNameError\u001b[0m: name 'i' is not defined"
     ]
    }
   ],
   "source": [
    "ls=[1,2,3]\n",
    "ls = [ls[j] for j in range(len(ls)) if (j!=i)]\n",
    "# List comprehension\n",
    "# Article related to it in Lists 5"
   ]
  },
  {
   "cell_type": "code",
   "execution_count": null,
   "id": "6e4942c0",
   "metadata": {},
   "outputs": [],
   "source": []
  },
  {
   "cell_type": "code",
   "execution_count": null,
   "id": "ac0d3897",
   "metadata": {},
   "outputs": [],
   "source": []
  },
  {
   "cell_type": "code",
   "execution_count": null,
   "id": "0f97c13f",
   "metadata": {},
   "outputs": [],
   "source": []
  },
  {
   "cell_type": "code",
   "execution_count": 45,
   "id": "4ee57049",
   "metadata": {},
   "outputs": [],
   "source": [
    "def keysFromValue(d, value):\n",
    "    ans = []\n",
    "    for k in d:\n",
    "        if d[k] == value:\n",
    "            ans.append(k)\n",
    "    return ans"
   ]
  },
  {
   "cell_type": "code",
   "execution_count": 46,
   "id": "b67b3ad3",
   "metadata": {},
   "outputs": [
    {
     "data": {
      "text/plain": [
       "['Punjab', 'Haryana']"
      ]
     },
     "execution_count": 46,
     "metadata": {},
     "output_type": "execute_result"
    }
   ],
   "source": [
    "d = {\n",
    "    \"Punjab\": \"Chandigarh\",\n",
    "    \"Haryana\": \"Chandigarh\",\n",
    "    \"Maharashtra\": \"Mumbai\",\n",
    "    \"Goa\": \"Panaji\",\n",
    "    \"Telangana\": \"Hyderabad\",\n",
    "    \"Andhra Pradesh\": \"Hyderabad\",\n",
    "}\n",
    "\n",
    "keysFromValue(d, 'Chandigarh')"
   ]
  },
  {
   "cell_type": "code",
   "execution_count": 47,
   "id": "df93039f",
   "metadata": {},
   "outputs": [
    {
     "data": {
      "text/plain": [
       "['Telangana', 'Andhra Pradesh']"
      ]
     },
     "execution_count": 47,
     "metadata": {},
     "output_type": "execute_result"
    }
   ],
   "source": [
    "keysFromValue(d, 'Hyderabad')"
   ]
  },
  {
   "cell_type": "code",
   "execution_count": null,
   "id": "e245a9d2",
   "metadata": {},
   "outputs": [],
   "source": []
  },
  {
   "cell_type": "code",
   "execution_count": null,
   "id": "950c4c46",
   "metadata": {},
   "outputs": [],
   "source": []
  },
  {
   "cell_type": "code",
   "execution_count": null,
   "id": "3a85afa4",
   "metadata": {},
   "outputs": [],
   "source": []
  },
  {
   "cell_type": "code",
   "execution_count": 52,
   "id": "9e1dcab9",
   "metadata": {},
   "outputs": [
    {
     "name": "stdout",
     "output_type": "stream",
     "text": [
      "(2, 3, [10, 20, 30])\n"
     ]
    }
   ],
   "source": [
    "t = (2, 3, [10, 20])\n",
    "t[2].append(30)\n",
    "print(t)"
   ]
  },
  {
   "cell_type": "code",
   "execution_count": 53,
   "id": "1ddc679d",
   "metadata": {},
   "outputs": [],
   "source": [
    "t[2].extend([100, 200])"
   ]
  },
  {
   "cell_type": "code",
   "execution_count": 54,
   "id": "4ba72800",
   "metadata": {},
   "outputs": [
    {
     "data": {
      "text/plain": [
       "[10, 20, 30, 100, 200]"
      ]
     },
     "execution_count": 54,
     "metadata": {},
     "output_type": "execute_result"
    }
   ],
   "source": [
    "t[2]"
   ]
  },
  {
   "cell_type": "code",
   "execution_count": null,
   "id": "300aabbb",
   "metadata": {},
   "outputs": [],
   "source": []
  },
  {
   "cell_type": "code",
   "execution_count": 58,
   "id": "0123ace7",
   "metadata": {},
   "outputs": [
    {
     "name": "stdout",
     "output_type": "stream",
     "text": [
      "(2, 3, [10, 20, 30])\n"
     ]
    }
   ],
   "source": [
    "t = (2, 3, [10, 20])\n",
    "t[2].append(30)\n",
    "print(t)\n",
    "\n",
    "# t[2] += [100, 200]\n",
    "t[2].extend([100, 200])"
   ]
  },
  {
   "cell_type": "code",
   "execution_count": 59,
   "id": "94988606",
   "metadata": {},
   "outputs": [
    {
     "data": {
      "text/plain": [
       "(2, 3, [10, 20, 30, 100, 200])"
      ]
     },
     "execution_count": 59,
     "metadata": {},
     "output_type": "execute_result"
    }
   ],
   "source": [
    "t"
   ]
  },
  {
   "cell_type": "code",
   "execution_count": null,
   "id": "d8c5a225",
   "metadata": {},
   "outputs": [],
   "source": []
  },
  {
   "cell_type": "code",
   "execution_count": null,
   "id": "43d57558",
   "metadata": {},
   "outputs": [],
   "source": []
  },
  {
   "cell_type": "code",
   "execution_count": null,
   "id": "03beb676",
   "metadata": {},
   "outputs": [],
   "source": []
  },
  {
   "cell_type": "code",
   "execution_count": 57,
   "id": "af4044d0",
   "metadata": {},
   "outputs": [
    {
     "ename": "TypeError",
     "evalue": "'tuple' object does not support item assignment",
     "output_type": "error",
     "traceback": [
      "\u001b[0;31m---------------------------------------------------------------------------\u001b[0m",
      "\u001b[0;31mTypeError\u001b[0m                                 Traceback (most recent call last)",
      "\u001b[0;32m/var/folders/jn/1bsrct314hv5xmfm7vrcdrzc0000gn/T/ipykernel_16461/2145509464.py\u001b[0m in \u001b[0;36m<module>\u001b[0;34m\u001b[0m\n\u001b[1;32m      1\u001b[0m \u001b[0mu\u001b[0m \u001b[0;34m=\u001b[0m \u001b[0;34m(\u001b[0m\u001b[0;36m2\u001b[0m\u001b[0;34m,\u001b[0m \u001b[0;36m3\u001b[0m\u001b[0;34m)\u001b[0m\u001b[0;34m\u001b[0m\u001b[0;34m\u001b[0m\u001b[0m\n\u001b[0;32m----> 2\u001b[0;31m \u001b[0mu\u001b[0m\u001b[0;34m[\u001b[0m\u001b[0;36m2\u001b[0m\u001b[0;34m]\u001b[0m \u001b[0;34m=\u001b[0m \u001b[0;36m10\u001b[0m\u001b[0;34m\u001b[0m\u001b[0;34m\u001b[0m\u001b[0m\n\u001b[0m",
      "\u001b[0;31mTypeError\u001b[0m: 'tuple' object does not support item assignment"
     ]
    }
   ],
   "source": [
    "u = (2, 3)\n",
    "u[2] = 10"
   ]
  },
  {
   "cell_type": "code",
   "execution_count": null,
   "id": "2c834489",
   "metadata": {},
   "outputs": [],
   "source": []
  },
  {
   "cell_type": "code",
   "execution_count": null,
   "id": "ccaaff20",
   "metadata": {},
   "outputs": [],
   "source": []
  },
  {
   "cell_type": "code",
   "execution_count": 62,
   "id": "1dc62054",
   "metadata": {},
   "outputs": [
    {
     "name": "stdout",
     "output_type": "stream",
     "text": [
      "<class 'set'>\n"
     ]
    }
   ],
   "source": [
    "s = set()\n",
    "print(type(s))"
   ]
  },
  {
   "cell_type": "code",
   "execution_count": 60,
   "id": "4d25ab0d",
   "metadata": {},
   "outputs": [
    {
     "name": "stdout",
     "output_type": "stream",
     "text": [
      "<class 'dict'>\n"
     ]
    }
   ],
   "source": [
    "s = {}\n",
    "print(type(s))"
   ]
  },
  {
   "cell_type": "code",
   "execution_count": null,
   "id": "f7987f89",
   "metadata": {},
   "outputs": [],
   "source": [
    "# Round brackets - () - tuple\n",
    "# Square brackets - [] - list\n",
    "# Curly brackets = {} - dict"
   ]
  }
 ],
 "metadata": {
  "kernelspec": {
   "display_name": "Python 3 (ipykernel)",
   "language": "python",
   "name": "python3"
  },
  "language_info": {
   "codemirror_mode": {
    "name": "ipython",
    "version": 3
   },
   "file_extension": ".py",
   "mimetype": "text/x-python",
   "name": "python",
   "nbconvert_exporter": "python",
   "pygments_lexer": "ipython3",
   "version": "3.9.12"
  }
 },
 "nbformat": 4,
 "nbformat_minor": 5
}
