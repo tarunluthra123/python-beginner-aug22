{
 "cells": [
  {
   "cell_type": "markdown",
   "id": "9ce9e5fd",
   "metadata": {},
   "source": [
    "# 2D Lists\n"
   ]
  },
  {
   "cell_type": "code",
   "execution_count": null,
   "id": "90aa08f6",
   "metadata": {},
   "outputs": [],
   "source": []
  },
  {
   "cell_type": "markdown",
   "id": "64cd6bd8",
   "metadata": {},
   "source": [
    "# map function\n",
    "![](https://scaler.com/topics/images/map-in-python.webp)"
   ]
  },
  {
   "cell_type": "code",
   "execution_count": null,
   "id": "5615a37c",
   "metadata": {},
   "outputs": [],
   "source": []
  },
  {
   "cell_type": "markdown",
   "id": "bdfa2331",
   "metadata": {},
   "source": [
    "#### Given a list of integers, generate a new list containing squares of all numbers"
   ]
  },
  {
   "cell_type": "code",
   "execution_count": 1,
   "id": "5ba8bf66",
   "metadata": {},
   "outputs": [],
   "source": [
    "a = [5, 9, 1, 4, 3]\n",
    "\n",
    "# No modifications to the original list\n",
    "# Expected list is [25, 81, 1, 16, 9]"
   ]
  },
  {
   "cell_type": "code",
   "execution_count": 3,
   "id": "25281632",
   "metadata": {},
   "outputs": [
    {
     "name": "stdout",
     "output_type": "stream",
     "text": [
      "[25, 81, 1, 16, 9]\n"
     ]
    }
   ],
   "source": [
    "def square(n):\n",
    "    return n * n\n",
    "\n",
    "b = []\n",
    "\n",
    "for x in a:\n",
    "#     b.append(x * x)\n",
    "    b.append(square(x))\n",
    "    \n",
    "print(b)"
   ]
  },
  {
   "cell_type": "code",
   "execution_count": 6,
   "id": "8096b46c",
   "metadata": {},
   "outputs": [
    {
     "name": "stdout",
     "output_type": "stream",
     "text": [
      "<map object at 0x1047279a0>\n"
     ]
    }
   ],
   "source": [
    "def square(n):\n",
    "    return n * n\n",
    "\n",
    "a = [5, 9, 1, 4, 3]\n",
    "b = map(square, a)\n",
    "\n",
    "print(b)"
   ]
  },
  {
   "cell_type": "code",
   "execution_count": 7,
   "id": "34478a6d",
   "metadata": {},
   "outputs": [
    {
     "name": "stdout",
     "output_type": "stream",
     "text": [
      "[25, 81, 1, 16, 9]\n"
     ]
    }
   ],
   "source": [
    "def square(n):\n",
    "    return n * n\n",
    "\n",
    "a = [5, 9, 1, 4, 3]\n",
    "b = list(map(square, a))\n",
    "# Convert map object to list\n",
    "\n",
    "print(b)"
   ]
  },
  {
   "cell_type": "code",
   "execution_count": null,
   "id": "5f83ae9e",
   "metadata": {},
   "outputs": [],
   "source": []
  },
  {
   "cell_type": "code",
   "execution_count": 8,
   "id": "63131b78",
   "metadata": {},
   "outputs": [
    {
     "name": "stdout",
     "output_type": "stream",
     "text": [
      "[125, 729, 1, 64, 27]\n"
     ]
    }
   ],
   "source": [
    "def cube(x):\n",
    "    return x ** 3\n",
    "\n",
    "a = [5, 9, 1, 4, 3]\n",
    "b = list(map(cube, a))\n",
    "\n",
    "print(b)"
   ]
  },
  {
   "cell_type": "code",
   "execution_count": null,
   "id": "0a67f8da",
   "metadata": {},
   "outputs": [],
   "source": []
  },
  {
   "cell_type": "code",
   "execution_count": 11,
   "id": "a23402a5",
   "metadata": {},
   "outputs": [
    {
     "name": "stdout",
     "output_type": "stream",
     "text": [
      "[15, 19, 11, 14, 13]\n"
     ]
    }
   ],
   "source": [
    "def random(x):\n",
    "    return x + 10\n",
    "\n",
    "a = [5, 9, 1, 4, 3]\n",
    "b = list(map(random, a))\n",
    "\n",
    "print(b)"
   ]
  },
  {
   "cell_type": "code",
   "execution_count": null,
   "id": "586daa15",
   "metadata": {},
   "outputs": [],
   "source": []
  },
  {
   "cell_type": "code",
   "execution_count": 12,
   "id": "05881970",
   "metadata": {},
   "outputs": [
    {
     "ename": "TypeError",
     "evalue": "random() missing 1 required positional argument: 'y'",
     "output_type": "error",
     "traceback": [
      "\u001b[0;31m---------------------------------------------------------------------------\u001b[0m",
      "\u001b[0;31mTypeError\u001b[0m                                 Traceback (most recent call last)",
      "\u001b[0;32m/var/folders/jn/1bsrct314hv5xmfm7vrcdrzc0000gn/T/ipykernel_80112/790208713.py\u001b[0m in \u001b[0;36m<module>\u001b[0;34m\u001b[0m\n\u001b[1;32m      4\u001b[0m \u001b[0;34m\u001b[0m\u001b[0m\n\u001b[1;32m      5\u001b[0m \u001b[0ma\u001b[0m \u001b[0;34m=\u001b[0m \u001b[0;34m[\u001b[0m\u001b[0;36m5\u001b[0m\u001b[0;34m,\u001b[0m \u001b[0;36m9\u001b[0m\u001b[0;34m,\u001b[0m \u001b[0;36m1\u001b[0m\u001b[0;34m,\u001b[0m \u001b[0;36m4\u001b[0m\u001b[0;34m,\u001b[0m \u001b[0;36m3\u001b[0m\u001b[0;34m]\u001b[0m\u001b[0;34m\u001b[0m\u001b[0;34m\u001b[0m\u001b[0m\n\u001b[0;32m----> 6\u001b[0;31m \u001b[0mb\u001b[0m \u001b[0;34m=\u001b[0m \u001b[0mlist\u001b[0m\u001b[0;34m(\u001b[0m\u001b[0mmap\u001b[0m\u001b[0;34m(\u001b[0m\u001b[0mrandom\u001b[0m\u001b[0;34m,\u001b[0m \u001b[0ma\u001b[0m\u001b[0;34m)\u001b[0m\u001b[0;34m)\u001b[0m\u001b[0;34m\u001b[0m\u001b[0;34m\u001b[0m\u001b[0m\n\u001b[0m\u001b[1;32m      7\u001b[0m \u001b[0;34m\u001b[0m\u001b[0m\n\u001b[1;32m      8\u001b[0m \u001b[0mprint\u001b[0m\u001b[0;34m(\u001b[0m\u001b[0mb\u001b[0m\u001b[0;34m)\u001b[0m\u001b[0;34m\u001b[0m\u001b[0;34m\u001b[0m\u001b[0m\n",
      "\u001b[0;31mTypeError\u001b[0m: random() missing 1 required positional argument: 'y'"
     ]
    }
   ],
   "source": [
    "# Map function is going to call the given function with only one argument\n",
    "def random(x, y):\n",
    "    return x + y\n",
    "\n",
    "a = [5, 9, 1, 4, 3]\n",
    "b = list(map(random, a))\n",
    "\n",
    "print(b)"
   ]
  },
  {
   "cell_type": "code",
   "execution_count": null,
   "id": "174483a1",
   "metadata": {},
   "outputs": [],
   "source": []
  },
  {
   "cell_type": "code",
   "execution_count": 18,
   "id": "d90499fb",
   "metadata": {},
   "outputs": [
    {
     "name": "stdout",
     "output_type": "stream",
     "text": [
      "(15, 19, 11, 14, 13)\n"
     ]
    }
   ],
   "source": [
    "def random(x):\n",
    "    return x + 10\n",
    "\n",
    "a = [5, 9, 1, 4, 3]\n",
    "b = tuple(map(random, a))\n",
    "\n",
    "print(b)"
   ]
  },
  {
   "cell_type": "code",
   "execution_count": null,
   "id": "85821443",
   "metadata": {},
   "outputs": [],
   "source": []
  },
  {
   "cell_type": "code",
   "execution_count": null,
   "id": "35ada147",
   "metadata": {},
   "outputs": [],
   "source": []
  },
  {
   "cell_type": "markdown",
   "id": "5e488c47",
   "metadata": {},
   "source": [
    "#### Input parsing using int"
   ]
  },
  {
   "cell_type": "code",
   "execution_count": 19,
   "id": "63b163ab",
   "metadata": {},
   "outputs": [
    {
     "name": "stdout",
     "output_type": "stream",
     "text": [
      "[10, 5, 2, 6]\n"
     ]
    }
   ],
   "source": [
    "l = [\"10\", \"5\", \"2\", \"6\"]\n",
    "\n",
    "# I want l = [10, 5, 2, 6]\n",
    "\n",
    "# for i in range(len(l)):\n",
    "#     l[i] = int(l[i])\n",
    "\n",
    "b = list(map(int, l))\n",
    "print(b)"
   ]
  },
  {
   "cell_type": "code",
   "execution_count": null,
   "id": "cf0ada66",
   "metadata": {},
   "outputs": [],
   "source": []
  },
  {
   "cell_type": "code",
   "execution_count": null,
   "id": "a77f66c6",
   "metadata": {},
   "outputs": [],
   "source": [
    "10 7 2 5 1"
   ]
  },
  {
   "cell_type": "code",
   "execution_count": 20,
   "id": "1b04ba5a",
   "metadata": {},
   "outputs": [
    {
     "name": "stdout",
     "output_type": "stream",
     "text": [
      "10 7 2 5 1\n"
     ]
    }
   ],
   "source": [
    "s = input()"
   ]
  },
  {
   "cell_type": "code",
   "execution_count": 21,
   "id": "43774fa7",
   "metadata": {},
   "outputs": [
    {
     "name": "stdout",
     "output_type": "stream",
     "text": [
      "10 7 2 5 1 <class 'str'>\n"
     ]
    }
   ],
   "source": [
    "print(s, type(s))"
   ]
  },
  {
   "cell_type": "code",
   "execution_count": 23,
   "id": "1651a1ac",
   "metadata": {},
   "outputs": [
    {
     "name": "stdout",
     "output_type": "stream",
     "text": [
      "['10', '7', '2', '5', '1']\n",
      "[10, 7, 2, 5, 1]\n"
     ]
    }
   ],
   "source": [
    "s = input()\n",
    "\n",
    "l = s.split()\n",
    "print(l)\n",
    "\n",
    "b = list(map(int, l))\n",
    "print(b)"
   ]
  },
  {
   "cell_type": "code",
   "execution_count": null,
   "id": "b064cdb9",
   "metadata": {},
   "outputs": [],
   "source": [
    "l = input().split()\n",
    "\n",
    "print(l)\n",
    "\n",
    "b = list(map(int, l))\n",
    "print(b)"
   ]
  },
  {
   "cell_type": "markdown",
   "id": "be20f6b0",
   "metadata": {},
   "source": [
    "## One line code for reading and parsing list input"
   ]
  },
  {
   "cell_type": "code",
   "execution_count": 24,
   "id": "c91f8a4d",
   "metadata": {},
   "outputs": [
    {
     "name": "stdout",
     "output_type": "stream",
     "text": [
      "10 7 2 5 1\n"
     ]
    }
   ],
   "source": [
    "a = list(map(int, input().split()))"
   ]
  },
  {
   "cell_type": "code",
   "execution_count": 25,
   "id": "4e9cdc09",
   "metadata": {},
   "outputs": [
    {
     "data": {
      "text/plain": [
       "[10, 7, 2, 5, 1]"
      ]
     },
     "execution_count": 25,
     "metadata": {},
     "output_type": "execute_result"
    }
   ],
   "source": [
    "a"
   ]
  },
  {
   "cell_type": "code",
   "execution_count": null,
   "id": "29541933",
   "metadata": {},
   "outputs": [],
   "source": []
  },
  {
   "cell_type": "markdown",
   "id": "d8aee07b",
   "metadata": {},
   "source": [
    "### Quiz 1\n",
    "```py\n",
    "def find_sqr(x):\n",
    "    return x*x*2\n",
    "\n",
    "l = [1, 2, 3]\n",
    "res = list(map(find_sqr, l))\n",
    "\n",
    "print(res)\n",
    "```"
   ]
  },
  {
   "cell_type": "code",
   "execution_count": 26,
   "id": "d3e88a0d",
   "metadata": {},
   "outputs": [
    {
     "name": "stdout",
     "output_type": "stream",
     "text": [
      "[2, 8, 18]\n"
     ]
    }
   ],
   "source": [
    "def find_sqr(x):\n",
    "    # 2*(x^2)\n",
    "    return x*x*2\n",
    "\n",
    "l = [1, 2, 3]\n",
    "res = list(map(find_sqr, l))\n",
    "\n",
    "print(res)"
   ]
  },
  {
   "cell_type": "code",
   "execution_count": null,
   "id": "a00fb255",
   "metadata": {},
   "outputs": [],
   "source": []
  },
  {
   "cell_type": "markdown",
   "id": "9b62d63d",
   "metadata": {},
   "source": [
    "#### Quiz 2\n",
    "```py\n",
    "l = [1, 2]  \n",
    "l.append(0)\n",
    "\n",
    "  \n",
    "l.append(3)  \n",
    "l = l + [3]  \n",
    "print(l)\n",
    "```"
   ]
  },
  {
   "cell_type": "code",
   "execution_count": 27,
   "id": "85f72619",
   "metadata": {},
   "outputs": [
    {
     "name": "stdout",
     "output_type": "stream",
     "text": [
      "[1, 2, 0, 3, 3]\n"
     ]
    }
   ],
   "source": [
    "l = [1, 2]  \n",
    "l.append(0)\n",
    "# l = [1,2,0]\n",
    "\n",
    "l.append(3)  \n",
    "# l = [1,2,0,3]\n",
    "l = l + [3]  \n",
    "print(l)"
   ]
  },
  {
   "cell_type": "code",
   "execution_count": null,
   "id": "dc75f1bd",
   "metadata": {},
   "outputs": [],
   "source": []
  },
  {
   "cell_type": "markdown",
   "id": "f65af4c8",
   "metadata": {},
   "source": [
    "#### Quiz 3\n",
    "```py\n",
    "l = []\n",
    "odi = [120, 30, 50]\n",
    "l.extend(odi)\n",
    "print(l)\n",
    "```"
   ]
  },
  {
   "cell_type": "code",
   "execution_count": 28,
   "id": "d5011bdb",
   "metadata": {},
   "outputs": [
    {
     "name": "stdout",
     "output_type": "stream",
     "text": [
      "[120, 30, 50]\n"
     ]
    }
   ],
   "source": [
    "l = []\n",
    "odi = [120, 30, 50]\n",
    "l.extend(odi)\n",
    "print(l)"
   ]
  },
  {
   "cell_type": "code",
   "execution_count": null,
   "id": "ad666865",
   "metadata": {},
   "outputs": [],
   "source": []
  },
  {
   "cell_type": "code",
   "execution_count": 29,
   "id": "7781b84c",
   "metadata": {},
   "outputs": [
    {
     "name": "stdout",
     "output_type": "stream",
     "text": [
      "[2, 3, 9, 10]\n"
     ]
    }
   ],
   "source": [
    "a = [2, 3]\n",
    "b = [9, 10]\n",
    "\n",
    "a.extend(b)\n",
    "print(a)"
   ]
  },
  {
   "cell_type": "code",
   "execution_count": null,
   "id": "6e4dd72b",
   "metadata": {},
   "outputs": [],
   "source": []
  },
  {
   "cell_type": "markdown",
   "id": "e13cacb0",
   "metadata": {},
   "source": [
    "#### Quiz 4\n",
    "```py\n",
    "l = []\n",
    "odi = [120, 30, 50]\n",
    "l.append(odi)\n",
    "print(l)\n",
    "```"
   ]
  },
  {
   "cell_type": "code",
   "execution_count": 30,
   "id": "491c900b",
   "metadata": {},
   "outputs": [
    {
     "name": "stdout",
     "output_type": "stream",
     "text": [
      "[[120, 30, 50]]\n"
     ]
    }
   ],
   "source": [
    "l = []\n",
    "odi = [120, 30, 50]\n",
    "l.append(odi)\n",
    "print(l)"
   ]
  },
  {
   "cell_type": "code",
   "execution_count": 32,
   "id": "6e2d29b6",
   "metadata": {},
   "outputs": [
    {
     "data": {
      "text/plain": [
       "[120, 30, 50]"
      ]
     },
     "execution_count": 32,
     "metadata": {},
     "output_type": "execute_result"
    }
   ],
   "source": [
    "l[0]"
   ]
  },
  {
   "cell_type": "code",
   "execution_count": null,
   "id": "af642527",
   "metadata": {},
   "outputs": [],
   "source": []
  },
  {
   "cell_type": "code",
   "execution_count": 31,
   "id": "05aa6b22",
   "metadata": {},
   "outputs": [
    {
     "name": "stdout",
     "output_type": "stream",
     "text": [
      "[2, 3, [5, 6]]\n"
     ]
    }
   ],
   "source": [
    "a = [2,3]\n",
    "b = [5,6]\n",
    "a.append(b)\n",
    "print(a)"
   ]
  },
  {
   "cell_type": "code",
   "execution_count": null,
   "id": "a5c1f93a",
   "metadata": {},
   "outputs": [],
   "source": []
  },
  {
   "cell_type": "code",
   "execution_count": null,
   "id": "e1afd1cd",
   "metadata": {},
   "outputs": [],
   "source": []
  },
  {
   "cell_type": "code",
   "execution_count": null,
   "id": "502c932a",
   "metadata": {},
   "outputs": [],
   "source": []
  },
  {
   "cell_type": "code",
   "execution_count": null,
   "id": "94f7a4f7",
   "metadata": {},
   "outputs": [],
   "source": []
  },
  {
   "cell_type": "markdown",
   "id": "1a395098",
   "metadata": {},
   "source": [
    "## 2D Lists\n",
    "![](https://scaler.com/topics/images/2d-array-python.webp)"
   ]
  },
  {
   "cell_type": "code",
   "execution_count": 42,
   "id": "fa623061",
   "metadata": {},
   "outputs": [],
   "source": [
    "a = [\n",
    "    [10, 20], # Row 0\n",
    "    [30, 40], # Row 1\n",
    "    [50, 60], # Row 2\n",
    "    [70, 80], # Row 3\n",
    "    [90, 100], # Row 4\n",
    "    [110, 120],\n",
    "    [130, 140],\n",
    "    [150, 160]\n",
    "]\n",
    "# a is a list of lists = 2 Dimensional List\n",
    "# Each of the sublist is representing a row"
   ]
  },
  {
   "cell_type": "code",
   "execution_count": 43,
   "id": "715c6df2",
   "metadata": {},
   "outputs": [
    {
     "data": {
      "text/plain": [
       "[[10, 20],\n",
       " [30, 40],\n",
       " [50, 60],\n",
       " [70, 80],\n",
       " [90, 100],\n",
       " [110, 120],\n",
       " [130, 140],\n",
       " [150, 160]]"
      ]
     },
     "execution_count": 43,
     "metadata": {},
     "output_type": "execute_result"
    }
   ],
   "source": [
    "a"
   ]
  },
  {
   "cell_type": "code",
   "execution_count": 35,
   "id": "780b1ae7",
   "metadata": {},
   "outputs": [
    {
     "name": "stdout",
     "output_type": "stream",
     "text": [
      "[10, 20]\n"
     ]
    }
   ],
   "source": [
    "print(a[0])"
   ]
  },
  {
   "cell_type": "code",
   "execution_count": 36,
   "id": "22a7c893",
   "metadata": {},
   "outputs": [
    {
     "data": {
      "text/plain": [
       "[30, 40]"
      ]
     },
     "execution_count": 36,
     "metadata": {},
     "output_type": "execute_result"
    }
   ],
   "source": [
    "a[1]"
   ]
  },
  {
   "cell_type": "code",
   "execution_count": 37,
   "id": "91b0af91",
   "metadata": {},
   "outputs": [
    {
     "data": {
      "text/plain": [
       "[50, 60]"
      ]
     },
     "execution_count": 37,
     "metadata": {},
     "output_type": "execute_result"
    }
   ],
   "source": [
    "a[2]"
   ]
  },
  {
   "cell_type": "code",
   "execution_count": 38,
   "id": "c1d8bfdb",
   "metadata": {},
   "outputs": [
    {
     "data": {
      "text/plain": [
       "[10, 20]"
      ]
     },
     "execution_count": 38,
     "metadata": {},
     "output_type": "execute_result"
    }
   ],
   "source": [
    "a[0]"
   ]
  },
  {
   "cell_type": "code",
   "execution_count": 39,
   "id": "163e950a",
   "metadata": {},
   "outputs": [
    {
     "data": {
      "text/plain": [
       "20"
      ]
     },
     "execution_count": 39,
     "metadata": {},
     "output_type": "execute_result"
    }
   ],
   "source": [
    "a[0][1]"
   ]
  },
  {
   "cell_type": "code",
   "execution_count": null,
   "id": "cc3eec95",
   "metadata": {},
   "outputs": [],
   "source": []
  },
  {
   "cell_type": "code",
   "execution_count": 47,
   "id": "bbb8a8a9",
   "metadata": {},
   "outputs": [],
   "source": [
    "a = [\n",
    "    [10, 20], # Row 0\n",
    "    [30, 40, 67], # Row 1\n",
    "    [50, 60, 56, 345], # Row 2\n",
    "    [70, 80, 11], # Row 3\n",
    "    [90], # Row 4\n",
    "]"
   ]
  },
  {
   "cell_type": "code",
   "execution_count": 45,
   "id": "ca139381",
   "metadata": {},
   "outputs": [
    {
     "data": {
      "text/plain": [
       "5"
      ]
     },
     "execution_count": 45,
     "metadata": {},
     "output_type": "execute_result"
    }
   ],
   "source": [
    "len(a) # No of rows"
   ]
  },
  {
   "cell_type": "code",
   "execution_count": 46,
   "id": "6d49434b",
   "metadata": {},
   "outputs": [
    {
     "data": {
      "text/plain": [
       "2"
      ]
     },
     "execution_count": 46,
     "metadata": {},
     "output_type": "execute_result"
    }
   ],
   "source": [
    "len(a[0]) # No of columns in Row 0"
   ]
  },
  {
   "cell_type": "code",
   "execution_count": 48,
   "id": "2af17d92",
   "metadata": {},
   "outputs": [
    {
     "data": {
      "text/plain": [
       "3"
      ]
     },
     "execution_count": 48,
     "metadata": {},
     "output_type": "execute_result"
    }
   ],
   "source": [
    "len(a[1])"
   ]
  },
  {
   "cell_type": "code",
   "execution_count": null,
   "id": "c49e2de5",
   "metadata": {},
   "outputs": [],
   "source": []
  },
  {
   "cell_type": "code",
   "execution_count": 1,
   "id": "a478a1c6",
   "metadata": {},
   "outputs": [
    {
     "name": "stdout",
     "output_type": "stream",
     "text": [
      "10\n"
     ]
    }
   ],
   "source": [
    "nums = [[10, 20, 30], [98, 99]]\n",
    "print(nums[0][0])"
   ]
  },
  {
   "cell_type": "code",
   "execution_count": 2,
   "id": "53e9be75",
   "metadata": {},
   "outputs": [
    {
     "name": "stdout",
     "output_type": "stream",
     "text": [
      "99\n"
     ]
    }
   ],
   "source": [
    "print(nums[1][1])"
   ]
  },
  {
   "cell_type": "code",
   "execution_count": 3,
   "id": "4cab8eba",
   "metadata": {},
   "outputs": [
    {
     "data": {
      "text/plain": [
       "[98, 99]"
      ]
     },
     "execution_count": 3,
     "metadata": {},
     "output_type": "execute_result"
    }
   ],
   "source": [
    "nums[1]"
   ]
  },
  {
   "cell_type": "code",
   "execution_count": null,
   "id": "a366e257",
   "metadata": {},
   "outputs": [],
   "source": []
  },
  {
   "cell_type": "code",
   "execution_count": null,
   "id": "d2459ad1",
   "metadata": {},
   "outputs": [],
   "source": []
  },
  {
   "cell_type": "code",
   "execution_count": 7,
   "id": "9577ebe7",
   "metadata": {},
   "outputs": [
    {
     "name": "stdout",
     "output_type": "stream",
     "text": [
      "[[10, 20], [30, 40], [50, 60]]\n"
     ]
    }
   ],
   "source": [
    "# 2D array with same number of columns for all rows\n",
    "a = [\n",
    "    [10, 20],\n",
    "    [30, 40],\n",
    "    [50, 60],\n",
    "]\n",
    "print(a)"
   ]
  },
  {
   "cell_type": "code",
   "execution_count": 8,
   "id": "ce0d9a83",
   "metadata": {},
   "outputs": [],
   "source": [
    "rows = len(a) # 3\n",
    "cols = len(a[0]) # 2"
   ]
  },
  {
   "cell_type": "code",
   "execution_count": 11,
   "id": "1538094d",
   "metadata": {},
   "outputs": [
    {
     "name": "stdout",
     "output_type": "stream",
     "text": [
      "a[0] = [10, 20]\n",
      "a[1] = [30, 40]\n",
      "a[2] = [50, 60]\n"
     ]
    }
   ],
   "source": [
    "# Iterate over the rows\n",
    "for i in range(len(a)):\n",
    "    print(\"a[\", i, \"] = \", a[i], sep='')"
   ]
  },
  {
   "cell_type": "code",
   "execution_count": 12,
   "id": "4e3856b3",
   "metadata": {},
   "outputs": [
    {
     "name": "stdout",
     "output_type": "stream",
     "text": [
      "[10, 20]\n",
      "[30, 40]\n",
      "[50, 60]\n"
     ]
    }
   ],
   "source": [
    "# Iterate over the rows\n",
    "for i in range(len(a)):\n",
    "    print(a[i])"
   ]
  },
  {
   "cell_type": "code",
   "execution_count": 17,
   "id": "3d6e3c5d",
   "metadata": {},
   "outputs": [
    {
     "name": "stdout",
     "output_type": "stream",
     "text": [
      "10\n",
      "20\n",
      "30\n",
      "40\n",
      "50\n",
      "60\n"
     ]
    }
   ],
   "source": [
    "# Iterate over the rows & columns\n",
    "for i in range(len(a)):\n",
    "    # row = a[i]\n",
    "    # iterate over a[i]\n",
    "    for j in range(len(a[i])):\n",
    "        print(a[i][j])"
   ]
  },
  {
   "cell_type": "code",
   "execution_count": 20,
   "id": "21907ed7",
   "metadata": {},
   "outputs": [
    {
     "name": "stdout",
     "output_type": "stream",
     "text": [
      "10 20 \n",
      "30 40 \n",
      "50 60 \n"
     ]
    }
   ],
   "source": [
    "# Iterate over the rows & columns\n",
    "for i in range(len(a)):\n",
    "    # row = a[i]\n",
    "    # iterate over a[i]\n",
    "    for j in range(len(a[i])):\n",
    "        print(a[i][j], end=' ')\n",
    "    print()"
   ]
  },
  {
   "cell_type": "code",
   "execution_count": null,
   "id": "225be79d",
   "metadata": {},
   "outputs": [],
   "source": []
  },
  {
   "cell_type": "code",
   "execution_count": 21,
   "id": "f0f2ae97",
   "metadata": {},
   "outputs": [
    {
     "name": "stdout",
     "output_type": "stream",
     "text": [
      "100 400 \n",
      "900 1600 \n",
      "2500 3600 \n"
     ]
    }
   ],
   "source": [
    "# Iterate over the rows & columns & print the square of each element\n",
    "for i in range(len(a)):\n",
    "    # row = a[i]\n",
    "    # iterate over a[i]\n",
    "    for j in range(len(a[i])):\n",
    "        print(a[i][j] ** 2, end=' ')\n",
    "    print()"
   ]
  },
  {
   "cell_type": "code",
   "execution_count": null,
   "id": "58aaa184",
   "metadata": {},
   "outputs": [],
   "source": []
  },
  {
   "cell_type": "code",
   "execution_count": null,
   "id": "2d53fb9e",
   "metadata": {},
   "outputs": [],
   "source": []
  },
  {
   "cell_type": "code",
   "execution_count": null,
   "id": "02e6c631",
   "metadata": {},
   "outputs": [],
   "source": []
  },
  {
   "cell_type": "code",
   "execution_count": 22,
   "id": "69383691",
   "metadata": {},
   "outputs": [],
   "source": [
    "a = [\n",
    "    [10, 20],\n",
    "    [30, 40, 50],\n",
    "    [60]\n",
    "]\n",
    "# Jagged Array"
   ]
  },
  {
   "cell_type": "code",
   "execution_count": 23,
   "id": "ba70e672",
   "metadata": {},
   "outputs": [
    {
     "name": "stdout",
     "output_type": "stream",
     "text": [
      "10 20 \n",
      "30 40 50 \n",
      "60 \n"
     ]
    }
   ],
   "source": [
    "# Iterate over the rows & columns\n",
    "for i in range(len(a)):\n",
    "    # row = a[i]\n",
    "    # iterate over a[i]\n",
    "    for j in range(len(a[i])):\n",
    "        print(a[i][j], end=' ')\n",
    "    print()"
   ]
  },
  {
   "cell_type": "code",
   "execution_count": 24,
   "id": "b21059d4",
   "metadata": {},
   "outputs": [
    {
     "name": "stdout",
     "output_type": "stream",
     "text": [
      "2\n"
     ]
    }
   ],
   "source": [
    "a = [[10,20], [30, 40]] # 2 * 2\n",
    "print(len(a))"
   ]
  },
  {
   "cell_type": "code",
   "execution_count": null,
   "id": "1fd1a95b",
   "metadata": {},
   "outputs": [],
   "source": []
  },
  {
   "cell_type": "code",
   "execution_count": null,
   "id": "c8358839",
   "metadata": {},
   "outputs": [],
   "source": []
  },
  {
   "cell_type": "markdown",
   "id": "680e90ba",
   "metadata": {},
   "source": [
    "## Rowwise Sum\n",
    "![](https://scaler.com/topics/images/sum-in-python.webp)"
   ]
  },
  {
   "cell_type": "markdown",
   "id": "20596f4b",
   "metadata": {},
   "source": [
    "Given a 2D Array, print the sum of each row separately."
   ]
  },
  {
   "cell_type": "code",
   "execution_count": 26,
   "id": "29fa6da1",
   "metadata": {},
   "outputs": [],
   "source": [
    "a = [\n",
    "    [10, 20],\n",
    "    [30, 40],\n",
    "    [50, 60],\n",
    "]"
   ]
  },
  {
   "cell_type": "code",
   "execution_count": 29,
   "id": "7789d777",
   "metadata": {},
   "outputs": [
    {
     "name": "stdout",
     "output_type": "stream",
     "text": [
      "30\n",
      "70\n",
      "110\n"
     ]
    }
   ],
   "source": [
    "for i in range(len(a)):\n",
    "    # Compute the sum of a[i]\n",
    "    s = 0\n",
    "    for j in range(len(a[i])):\n",
    "        s += a[i][j]\n",
    "    print(s)"
   ]
  },
  {
   "cell_type": "code",
   "execution_count": null,
   "id": "170b5366",
   "metadata": {},
   "outputs": [],
   "source": []
  },
  {
   "cell_type": "code",
   "execution_count": 32,
   "id": "f2b3ddd9",
   "metadata": {},
   "outputs": [
    {
     "name": "stdout",
     "output_type": "stream",
     "text": [
      "30\n"
     ]
    }
   ],
   "source": [
    "b = [10, 20]\n",
    "\n",
    "s = 0\n",
    "for j in range(len(b)):\n",
    "    s += b[j]\n",
    "    \n",
    "print(s)"
   ]
  },
  {
   "cell_type": "code",
   "execution_count": null,
   "id": "98db21ca",
   "metadata": {},
   "outputs": [],
   "source": []
  },
  {
   "cell_type": "code",
   "execution_count": null,
   "id": "8c0bf46b",
   "metadata": {},
   "outputs": [],
   "source": []
  },
  {
   "cell_type": "markdown",
   "id": "ed1581f3",
   "metadata": {},
   "source": [
    "## Maximum of each row"
   ]
  },
  {
   "cell_type": "code",
   "execution_count": 33,
   "id": "80a5a53f",
   "metadata": {},
   "outputs": [],
   "source": [
    "a = [\n",
    "    [10, 20],\n",
    "    [30, 40],\n",
    "    [50, 60],\n",
    "]"
   ]
  },
  {
   "cell_type": "code",
   "execution_count": 36,
   "id": "38c6353c",
   "metadata": {},
   "outputs": [
    {
     "name": "stdout",
     "output_type": "stream",
     "text": [
      "20\n",
      "40\n",
      "60\n"
     ]
    }
   ],
   "source": [
    "for i in range(len(a)):\n",
    "    # Maximum of a[i]\n",
    "    # print(max(a[i])) -> Inbuilt method\n",
    "    maxOfRow = 0  # initialise with float(\"-inf\") if you have negative values\n",
    "    for j in range(len(a[i])):\n",
    "        if maxOfRow < a[i][j]:\n",
    "            maxOfRow = a[i][j]\n",
    "            \n",
    "    print(maxOfRow)"
   ]
  },
  {
   "cell_type": "code",
   "execution_count": null,
   "id": "01e95bda",
   "metadata": {},
   "outputs": [],
   "source": []
  },
  {
   "cell_type": "code",
   "execution_count": 39,
   "id": "e7420a68",
   "metadata": {},
   "outputs": [
    {
     "name": "stdout",
     "output_type": "stream",
     "text": [
      "20\n",
      "40\n",
      "60\n"
     ]
    }
   ],
   "source": [
    "for i in range(len(a)):\n",
    "    # Maximum of a[i]\n",
    "    maxOfRow = 0  # initialise with float(\"-inf\") if you have negative values\n",
    "    # a[i] is a row\n",
    "    row = a[i]\n",
    "    \n",
    "    for j in range(len(row)):\n",
    "        if maxOfRow < row[j]:\n",
    "            maxOfRow = row[j]\n",
    "            \n",
    "    print(maxOfRow)"
   ]
  },
  {
   "cell_type": "code",
   "execution_count": null,
   "id": "b278dd98",
   "metadata": {},
   "outputs": [],
   "source": []
  },
  {
   "cell_type": "code",
   "execution_count": null,
   "id": "672d0d00",
   "metadata": {},
   "outputs": [],
   "source": []
  },
  {
   "cell_type": "code",
   "execution_count": 38,
   "id": "02e615ae",
   "metadata": {},
   "outputs": [
    {
     "name": "stdout",
     "output_type": "stream",
     "text": [
      "20\n"
     ]
    }
   ],
   "source": [
    "b = [10, 20]\n",
    "\n",
    "\n",
    "maxOfRow = 0  # initialise with float(\"-inf\") if you have negative values\n",
    "for j in range(len(b)):\n",
    "    if maxOfRow < b[j]:\n",
    "        maxOfRow = b[j]\n",
    "\n",
    "print(maxOfRow)"
   ]
  },
  {
   "cell_type": "code",
   "execution_count": null,
   "id": "c8f3a532",
   "metadata": {},
   "outputs": [],
   "source": []
  },
  {
   "cell_type": "code",
   "execution_count": null,
   "id": "6153c45b",
   "metadata": {},
   "outputs": [],
   "source": []
  },
  {
   "cell_type": "markdown",
   "id": "86d5c41e",
   "metadata": {},
   "source": [
    "## Minimum of each row"
   ]
  },
  {
   "cell_type": "code",
   "execution_count": 40,
   "id": "81925602",
   "metadata": {},
   "outputs": [],
   "source": [
    "a = [\n",
    "    [10, 20],\n",
    "    [30, 40],\n",
    "    [50, 60],\n",
    "]"
   ]
  },
  {
   "cell_type": "code",
   "execution_count": 43,
   "id": "89e02014",
   "metadata": {},
   "outputs": [
    {
     "name": "stdout",
     "output_type": "stream",
     "text": [
      "10\n",
      "30\n",
      "50\n"
     ]
    }
   ],
   "source": [
    "for i in range(len(a)):\n",
    "    # Minimum of row = a[i]\n",
    "    row = a[i]\n",
    "    minOfRow = float('inf')\n",
    "    \n",
    "    for j in range(len(row)):\n",
    "        if row[j] < minOfRow:\n",
    "            minOfRow = row[j]\n",
    "    \n",
    "    print(minOfRow)"
   ]
  },
  {
   "cell_type": "code",
   "execution_count": null,
   "id": "362f3141",
   "metadata": {},
   "outputs": [],
   "source": []
  },
  {
   "cell_type": "code",
   "execution_count": null,
   "id": "c6d62a4e",
   "metadata": {},
   "outputs": [],
   "source": []
  },
  {
   "cell_type": "markdown",
   "id": "74fe5a4b",
   "metadata": {},
   "source": [
    "# Bonus Reading Material\n",
    "- map() in Python - https://www.scaler.com/topics/map-function-in-python/\n",
    "- What is Nested List in Python? - https://www.scaler.com/topics/nested-list-in-python/\n",
    "- 2D Array in Python- https://www.scaler.com/topics/2d-array-in-python/\n",
    "- Transpose of a Matrix in Python - https://www.scaler.com/topics/transpose-of-a-matrix-in-python/\n",
    "- Sum() in Python - https://www.scaler.com/topics/sum-in-python/"
   ]
  },
  {
   "cell_type": "code",
   "execution_count": null,
   "id": "ef29860e",
   "metadata": {},
   "outputs": [],
   "source": []
  },
  {
   "cell_type": "code",
   "execution_count": null,
   "id": "5e9693b0",
   "metadata": {},
   "outputs": [],
   "source": []
  },
  {
   "cell_type": "markdown",
   "id": "f0beac60",
   "metadata": {},
   "source": [
    "# Doubts"
   ]
  },
  {
   "cell_type": "code",
   "execution_count": 49,
   "id": "0afbb564",
   "metadata": {},
   "outputs": [
    {
     "name": "stdout",
     "output_type": "stream",
     "text": [
      "[2, 3, 10]\n",
      "[2, 3, 10]\n",
      "4424779904\n",
      "4424779904\n"
     ]
    }
   ],
   "source": [
    "a = [10,2,3]\n",
    "b = a\n",
    "\n",
    "b.sort()\n",
    "print(a)\n",
    "print(b)\n",
    "\n",
    "print(id(a))\n",
    "print(id(b))"
   ]
  },
  {
   "cell_type": "code",
   "execution_count": 46,
   "id": "061f3791",
   "metadata": {},
   "outputs": [
    {
     "name": "stdout",
     "output_type": "stream",
     "text": [
      "[10, 2, 3]\n",
      "[2, 3, 10]\n"
     ]
    }
   ],
   "source": [
    "a = [10,2,3]\n",
    "b = list(a)\n",
    "\n",
    "b.sort()\n",
    "print(a)\n",
    "print(b)"
   ]
  },
  {
   "cell_type": "code",
   "execution_count": 47,
   "id": "e1cbfb3f",
   "metadata": {},
   "outputs": [
    {
     "name": "stdout",
     "output_type": "stream",
     "text": [
      "[10, 2, 3]\n",
      "[2, 3, 10]\n"
     ]
    }
   ],
   "source": [
    "a = [10,2,3]\n",
    "b = a[::]\n",
    "\n",
    "b.sort()\n",
    "print(a)\n",
    "print(b)"
   ]
  },
  {
   "cell_type": "code",
   "execution_count": 48,
   "id": "e6517b47",
   "metadata": {},
   "outputs": [
    {
     "name": "stdout",
     "output_type": "stream",
     "text": [
      "4424763904\n",
      "4424779968\n"
     ]
    }
   ],
   "source": [
    "print(id(a))\n",
    "print(id(b))"
   ]
  },
  {
   "cell_type": "code",
   "execution_count": null,
   "id": "a4b1e527",
   "metadata": {},
   "outputs": [],
   "source": []
  },
  {
   "cell_type": "code",
   "execution_count": null,
   "id": "49423c85",
   "metadata": {},
   "outputs": [],
   "source": []
  },
  {
   "cell_type": "code",
   "execution_count": 50,
   "id": "93cd4034",
   "metadata": {},
   "outputs": [],
   "source": [
    "a = [10, 2, 3]\n",
    "\n",
    "b = [0] * 3"
   ]
  },
  {
   "cell_type": "code",
   "execution_count": 51,
   "id": "897a98fd",
   "metadata": {},
   "outputs": [
    {
     "data": {
      "text/plain": [
       "[0, 0, 0]"
      ]
     },
     "execution_count": 51,
     "metadata": {},
     "output_type": "execute_result"
    }
   ],
   "source": [
    "b"
   ]
  },
  {
   "cell_type": "code",
   "execution_count": null,
   "id": "8377f94c",
   "metadata": {},
   "outputs": [],
   "source": []
  },
  {
   "cell_type": "code",
   "execution_count": null,
   "id": "2b37fbcd",
   "metadata": {},
   "outputs": [],
   "source": [
    "a = [2,5,6,[3,5],7,(4,5,6)]\n"
   ]
  },
  {
   "cell_type": "code",
   "execution_count": null,
   "id": "7f28e580",
   "metadata": {},
   "outputs": [],
   "source": []
  },
  {
   "cell_type": "code",
   "execution_count": null,
   "id": "ae08912d",
   "metadata": {},
   "outputs": [],
   "source": []
  },
  {
   "cell_type": "code",
   "execution_count": 53,
   "id": "e86520d5",
   "metadata": {},
   "outputs": [
    {
     "ename": "TypeError",
     "evalue": "can only concatenate list (not \"str\") to list",
     "output_type": "error",
     "traceback": [
      "\u001b[0;31m---------------------------------------------------------------------------\u001b[0m",
      "\u001b[0;31mTypeError\u001b[0m                                 Traceback (most recent call last)",
      "\u001b[0;32m/var/folders/jn/1bsrct314hv5xmfm7vrcdrzc0000gn/T/ipykernel_80917/2423702667.py\u001b[0m in \u001b[0;36m<module>\u001b[0;34m\u001b[0m\n\u001b[1;32m      1\u001b[0m \u001b[0mplayers\u001b[0m\u001b[0;34m=\u001b[0m\u001b[0;34m[\u001b[0m\u001b[0;34m'A'\u001b[0m\u001b[0;34m,\u001b[0m\u001b[0;34m'B'\u001b[0m\u001b[0;34m,\u001b[0m\u001b[0;34m'C'\u001b[0m\u001b[0;34m]\u001b[0m\u001b[0;34m\u001b[0m\u001b[0;34m\u001b[0m\u001b[0m\n\u001b[0;32m----> 2\u001b[0;31m \u001b[0mplayers\u001b[0m \u001b[0;34m=\u001b[0m \u001b[0mplayers\u001b[0m \u001b[0;34m+\u001b[0m \u001b[0;34m'D'\u001b[0m\u001b[0;34m\u001b[0m\u001b[0;34m\u001b[0m\u001b[0m\n\u001b[0m\u001b[1;32m      3\u001b[0m \u001b[0mprint\u001b[0m\u001b[0;34m(\u001b[0m\u001b[0mplayers\u001b[0m\u001b[0;34m)\u001b[0m\u001b[0;34m\u001b[0m\u001b[0;34m\u001b[0m\u001b[0m\n",
      "\u001b[0;31mTypeError\u001b[0m: can only concatenate list (not \"str\") to list"
     ]
    }
   ],
   "source": [
    "players=['A','B','C']\n",
    "players = players + 'D' # list + str -> error\n",
    "print(players)"
   ]
  },
  {
   "cell_type": "code",
   "execution_count": 54,
   "id": "c8f7bf7d",
   "metadata": {},
   "outputs": [
    {
     "name": "stdout",
     "output_type": "stream",
     "text": [
      "['A', 'B', 'C', 'D']\n"
     ]
    }
   ],
   "source": [
    "players=['A','B','C']\n",
    "players += 'D'\n",
    "print(players)"
   ]
  },
  {
   "cell_type": "code",
   "execution_count": 55,
   "id": "2bc95390",
   "metadata": {},
   "outputs": [
    {
     "name": "stdout",
     "output_type": "stream",
     "text": [
      "['A', 'B', 'C', 'D']\n"
     ]
    }
   ],
   "source": [
    "# += with list behaves like the extend()\n",
    "players=['A','B','C']\n",
    "players.extend('D')\n",
    "# extend function takes an iterable\n",
    "print(players)"
   ]
  },
  {
   "cell_type": "code",
   "execution_count": 56,
   "id": "ec36fcf5",
   "metadata": {},
   "outputs": [
    {
     "name": "stdout",
     "output_type": "stream",
     "text": [
      "['A', 'B', 'C', 'D', 'E']\n"
     ]
    }
   ],
   "source": [
    "# += with list behaves like the extend()\n",
    "players=['A','B','C']\n",
    "players.extend('DE')\n",
    "# extend function takes an iterable (list, tuple, range, string, etc...)\n",
    "# string is also an iterable\n",
    "print(players)"
   ]
  },
  {
   "cell_type": "code",
   "execution_count": null,
   "id": "55d96b2e",
   "metadata": {},
   "outputs": [],
   "source": []
  },
  {
   "cell_type": "code",
   "execution_count": 59,
   "id": "b4f9c502",
   "metadata": {},
   "outputs": [
    {
     "name": "stdout",
     "output_type": "stream",
     "text": [
      "4424779840\n",
      "[10, 20, 5, 6]\n",
      "4424451648\n"
     ]
    }
   ],
   "source": [
    "a = [10, 20]\n",
    "print(id(a))\n",
    "a = a + [5, 6]\n",
    "# creating a new list\n",
    "print(a)\n",
    "print(id(a))"
   ]
  },
  {
   "cell_type": "code",
   "execution_count": 60,
   "id": "6cd6de2d",
   "metadata": {},
   "outputs": [
    {
     "name": "stdout",
     "output_type": "stream",
     "text": [
      "4424779840\n",
      "[10, 20, 5, 6]\n",
      "4424779840\n"
     ]
    }
   ],
   "source": [
    "a = [10, 20]\n",
    "print(id(a))\n",
    "a += [5, 6]\n",
    "# modifying the original list\n",
    "print(a)\n",
    "print(id(a))"
   ]
  },
  {
   "cell_type": "code",
   "execution_count": null,
   "id": "2a91726e",
   "metadata": {},
   "outputs": [],
   "source": []
  },
  {
   "cell_type": "code",
   "execution_count": 63,
   "id": "f0bf9fbf",
   "metadata": {},
   "outputs": [],
   "source": [
    "a = [[10,20], [30, 40]]\n",
    "a.extend([[50, 60]])"
   ]
  },
  {
   "cell_type": "code",
   "execution_count": 64,
   "id": "e82a9391",
   "metadata": {},
   "outputs": [
    {
     "data": {
      "text/plain": [
       "[[10, 20], [30, 40], [50, 60]]"
      ]
     },
     "execution_count": 64,
     "metadata": {},
     "output_type": "execute_result"
    }
   ],
   "source": [
    "a"
   ]
  },
  {
   "cell_type": "code",
   "execution_count": null,
   "id": "6bfef0a7",
   "metadata": {},
   "outputs": [],
   "source": []
  },
  {
   "cell_type": "code",
   "execution_count": 67,
   "id": "9b95b02a",
   "metadata": {},
   "outputs": [
    {
     "name": "stdout",
     "output_type": "stream",
     "text": [
      "2\n"
     ]
    }
   ],
   "source": [
    "a = [5, 2, 9, 10]\n",
    "minVal = float('inf') # initial value must be higher than all the array values\n",
    "\n",
    "for i in range(len(a)):\n",
    "    if a[i] < minVal:\n",
    "        minVal = a[i]\n",
    "        \n",
    "print(minVal)"
   ]
  },
  {
   "cell_type": "code",
   "execution_count": null,
   "id": "b1a17d0e",
   "metadata": {},
   "outputs": [],
   "source": []
  }
 ],
 "metadata": {
  "kernelspec": {
   "display_name": "Python 3 (ipykernel)",
   "language": "python",
   "name": "python3"
  },
  "language_info": {
   "codemirror_mode": {
    "name": "ipython",
    "version": 3
   },
   "file_extension": ".py",
   "mimetype": "text/x-python",
   "name": "python",
   "nbconvert_exporter": "python",
   "pygments_lexer": "ipython3",
   "version": "3.9.12"
  }
 },
 "nbformat": 4,
 "nbformat_minor": 5
}
